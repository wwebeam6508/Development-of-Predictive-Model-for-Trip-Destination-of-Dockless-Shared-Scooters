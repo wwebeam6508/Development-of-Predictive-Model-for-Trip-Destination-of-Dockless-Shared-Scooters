{
 "cells": [
  {
   "cell_type": "code",
   "execution_count": 126,
   "metadata": {},
   "outputs": [],
   "source": [
    "import pandas as pd\n",
    "import geopandas as gpd\n",
    "import os\n",
    "import numpy as np\n",
    "import tensorflow as tf\n",
    "from tensorflow import keras\n",
    "from tensorflow.keras import layers\n",
    "import matplotlib.pyplot as plt\n",
    "from keras.utils import to_categorical\n",
    "import datetime\n",
    "from sklearn.preprocessing import OneHotEncoder\n",
    "from sklearn.preprocessing import LabelEncoder\n",
    "from sklearn.preprocessing import LabelBinarizer\n",
    "\n",
    "lb = LabelBinarizer()\n",
    "le = LabelEncoder()\n",
    "ohe = OneHotEncoder(sparse=False)\n",
    "\n",
    "train_data = pd.read_csv('ScooterData_July15_Sept27_2019.csv')\n",
    "train_data = train_data.sample(frac=1)\n",
    "train_data['start_date'] = pd.to_datetime(train_data.start_date)\n",
    "train_data['start_day_of_week'] = train_data.start_day_of_week.str.extract(r'(\\d+[.\\d]*)')\n",
    "train_data['startx'] = (train_data['startx'] + 180)\n",
    "train_data['endx'] = (train_data['endx'] + 180)\n",
    "train_data['starty'] = (train_data['starty'])\n",
    "train_data['endy'] = (train_data['endy'])\n",
    "\n"
   ]
  },
  {
   "cell_type": "code",
   "execution_count": 145,
   "metadata": {},
   "outputs": [
    {
     "data": {
      "text/html": [
       "<div>\n",
       "<style scoped>\n",
       "    .dataframe tbody tr th:only-of-type {\n",
       "        vertical-align: middle;\n",
       "    }\n",
       "\n",
       "    .dataframe tbody tr th {\n",
       "        vertical-align: top;\n",
       "    }\n",
       "\n",
       "    .dataframe thead th {\n",
       "        text-align: right;\n",
       "    }\n",
       "</style>\n",
       "<table border=\"1\" class=\"dataframe\">\n",
       "  <thead>\n",
       "    <tr style=\"text-align: right;\">\n",
       "      <th></th>\n",
       "      <th>end_grid_c</th>\n",
       "      <th>end_int500</th>\n",
       "      <th>grid_id</th>\n",
       "      <th>start_grid</th>\n",
       "      <th>start_int5</th>\n",
       "      <th>geometry</th>\n",
       "    </tr>\n",
       "  </thead>\n",
       "  <tbody>\n",
       "    <tr>\n",
       "      <th>0</th>\n",
       "      <td>NaN</td>\n",
       "      <td>None</td>\n",
       "      <td>EH-180</td>\n",
       "      <td>1.0</td>\n",
       "      <td>1-500</td>\n",
       "      <td>POLYGON ((-114.02389 50.91933, -114.02465 50.9...</td>\n",
       "    </tr>\n",
       "    <tr>\n",
       "      <th>1</th>\n",
       "      <td>4.0</td>\n",
       "      <td>1-500</td>\n",
       "      <td>DW-180</td>\n",
       "      <td>1.0</td>\n",
       "      <td>1-500</td>\n",
       "      <td>POLYGON ((-114.04911 50.91848, -114.04987 50.9...</td>\n",
       "    </tr>\n",
       "    <tr>\n",
       "      <th>2</th>\n",
       "      <td>2.0</td>\n",
       "      <td>1-500</td>\n",
       "      <td>DV-180</td>\n",
       "      <td>5.0</td>\n",
       "      <td>1-500</td>\n",
       "      <td>POLYGON ((-114.05140 50.91932, -114.05216 50.9...</td>\n",
       "    </tr>\n",
       "    <tr>\n",
       "      <th>3</th>\n",
       "      <td>3.0</td>\n",
       "      <td>1-500</td>\n",
       "      <td>DG-180</td>\n",
       "      <td>2.0</td>\n",
       "      <td>1-500</td>\n",
       "      <td>POLYGON ((-114.08578 50.91846, -114.08655 50.9...</td>\n",
       "    </tr>\n",
       "    <tr>\n",
       "      <th>4</th>\n",
       "      <td>3.0</td>\n",
       "      <td>1-500</td>\n",
       "      <td>DF-180</td>\n",
       "      <td>4.0</td>\n",
       "      <td>1-500</td>\n",
       "      <td>POLYGON ((-114.08808 50.91929, -114.08884 50.9...</td>\n",
       "    </tr>\n",
       "    <tr>\n",
       "      <th>...</th>\n",
       "      <td>...</td>\n",
       "      <td>...</td>\n",
       "      <td>...</td>\n",
       "      <td>...</td>\n",
       "      <td>...</td>\n",
       "      <td>...</td>\n",
       "    </tr>\n",
       "    <tr>\n",
       "      <th>6135</th>\n",
       "      <td>1.0</td>\n",
       "      <td>1-500</td>\n",
       "      <td>None</td>\n",
       "      <td>NaN</td>\n",
       "      <td>None</td>\n",
       "      <td>POLYGON ((-113.97338 51.06322, -113.97414 51.0...</td>\n",
       "    </tr>\n",
       "    <tr>\n",
       "      <th>6136</th>\n",
       "      <td>1.0</td>\n",
       "      <td>1-500</td>\n",
       "      <td>None</td>\n",
       "      <td>NaN</td>\n",
       "      <td>None</td>\n",
       "      <td>POLYGON ((-113.97797 51.06322, -113.97874 51.0...</td>\n",
       "    </tr>\n",
       "    <tr>\n",
       "      <th>6137</th>\n",
       "      <td>1.0</td>\n",
       "      <td>1-500</td>\n",
       "      <td>None</td>\n",
       "      <td>NaN</td>\n",
       "      <td>None</td>\n",
       "      <td>POLYGON ((-113.98487 51.06238, -113.98564 51.0...</td>\n",
       "    </tr>\n",
       "    <tr>\n",
       "      <th>6138</th>\n",
       "      <td>1.0</td>\n",
       "      <td>1-500</td>\n",
       "      <td>None</td>\n",
       "      <td>NaN</td>\n",
       "      <td>None</td>\n",
       "      <td>POLYGON ((-114.01477 51.06322, -114.01553 51.0...</td>\n",
       "    </tr>\n",
       "    <tr>\n",
       "      <th>6139</th>\n",
       "      <td>3.0</td>\n",
       "      <td>1-500</td>\n",
       "      <td>None</td>\n",
       "      <td>NaN</td>\n",
       "      <td>None</td>\n",
       "      <td>POLYGON ((-114.15734 51.06312, -114.15810 51.0...</td>\n",
       "    </tr>\n",
       "  </tbody>\n",
       "</table>\n",
       "<p>6140 rows × 6 columns</p>\n",
       "</div>"
      ],
      "text/plain": [
       "      end_grid_c end_int500 grid_id  start_grid start_int5  \\\n",
       "0            NaN       None  EH-180         1.0      1-500   \n",
       "1            4.0      1-500  DW-180         1.0      1-500   \n",
       "2            2.0      1-500  DV-180         5.0      1-500   \n",
       "3            3.0      1-500  DG-180         2.0      1-500   \n",
       "4            3.0      1-500  DF-180         4.0      1-500   \n",
       "...          ...        ...     ...         ...        ...   \n",
       "6135         1.0      1-500    None         NaN       None   \n",
       "6136         1.0      1-500    None         NaN       None   \n",
       "6137         1.0      1-500    None         NaN       None   \n",
       "6138         1.0      1-500    None         NaN       None   \n",
       "6139         3.0      1-500    None         NaN       None   \n",
       "\n",
       "                                               geometry  \n",
       "0     POLYGON ((-114.02389 50.91933, -114.02465 50.9...  \n",
       "1     POLYGON ((-114.04911 50.91848, -114.04987 50.9...  \n",
       "2     POLYGON ((-114.05140 50.91932, -114.05216 50.9...  \n",
       "3     POLYGON ((-114.08578 50.91846, -114.08655 50.9...  \n",
       "4     POLYGON ((-114.08808 50.91929, -114.08884 50.9...  \n",
       "...                                                 ...  \n",
       "6135  POLYGON ((-113.97338 51.06322, -113.97414 51.0...  \n",
       "6136  POLYGON ((-113.97797 51.06322, -113.97874 51.0...  \n",
       "6137  POLYGON ((-113.98487 51.06238, -113.98564 51.0...  \n",
       "6138  POLYGON ((-114.01477 51.06322, -114.01553 51.0...  \n",
       "6139  POLYGON ((-114.15734 51.06312, -114.15810 51.0...  \n",
       "\n",
       "[6140 rows x 6 columns]"
      ]
     },
     "execution_count": 145,
     "metadata": {},
     "output_type": "execute_result"
    }
   ],
   "source": [
    "grid_data = gpd.read_file(\"ScooterGridId.shp\")\n",
    "Not_none_values  = filter(None, grid_data.grid_id)\n",
    "grid_id = grid_data[grid_data['grid_id'].notnull()]['grid_id']\n",
    "le.fit_transform(grid_id)\n",
    "\n",
    "train_data = train_data[train_data.ending_grid_id.isin(grid_id)]\n",
    "train_data['ending_grid_id'] = le.transform(train_data['ending_grid_id'])\n",
    "train_data['starting_grid_id'] = le.transform(train_data['starting_grid_id'])"
   ]
  },
  {
   "cell_type": "code",
   "execution_count": 193,
   "metadata": {},
   "outputs": [],
   "source": [
    "# Use for KFold classification\n",
    "train_limit = 350000\n",
    "Y_train = train_data[:train_limit][['endx','endy','ending_grid_id']]]\n",
    "X_train = train_data[:train_limit][['start_day_of_week','start_hour','trip_duration_min','trip_length_km','startx','starty','starting_grid_id']]\n",
    "# Y_train = train_data[:train_limit][['ending_grid_id']]\n",
    "# X_train = train_data[:train_limit][['start_day_of_week','start_hour','trip_duration_min','trip_length_km','starting_grid_id']]\n",
    "\n",
    "Y_test = train_data[train_limit:len(train_data)][['endx','endy','ending_grid_id']]\n",
    "X_test = train_data[train_limit:len(train_data)][['start_day_of_week','start_hour','trip_duration_min','trip_length_km','startx','starty','starting_grid_id']]\n",
    "\n",
    "# Y_grid_test = train_data[train_limit:len(train_data)][['ending_grid_id']]\n",
    "# Y_test = train_data[train_limit:len(train_data)][['ending_grid_id']]\n",
    "# X_test = train_data[train_limit:len(train_data)][['start_day_of_week','start_hour','trip_duration_min','trip_length_km','starting_grid_id']]"
   ]
  },
  {
   "cell_type": "code",
   "execution_count": 129,
   "metadata": {},
   "outputs": [
    {
     "name": "stdout",
     "output_type": "stream",
     "text": [
      "Model: \"model_7\"\n",
      "_________________________________________________________________\n",
      "Layer (type)                 Output Shape              Param #   \n",
      "=================================================================\n",
      "input_8 (InputLayer)         [(None, 6)]               0         \n",
      "_________________________________________________________________\n",
      "dense_7 (Dense)              (None, 2)                 14        \n",
      "=================================================================\n",
      "Total params: 14\n",
      "Trainable params: 14\n",
      "Non-trainable params: 0\n",
      "_________________________________________________________________\n"
     ]
    }
   ],
   "source": [
    "# kf = KFold(5, shuffle=True, random_state=42)\n",
    "\n",
    "inputs = keras.Input(shape=(len(X_train.columns),))\n",
    "dense = layers.Dense(len(Y_train.columns), activation='relu')\n",
    "outputs = dense(inputs)\n",
    "\n",
    "model = keras.Model(inputs, outputs)\n",
    "model.summary()\n",
    "model.compile(optimizer='adam', loss=keras.losses.MeanSquaredError(), metrics=[\"mae\",\"acc\"] )"
   ]
  },
  {
   "cell_type": "code",
   "execution_count": 130,
   "metadata": {},
   "outputs": [
    {
     "name": "stdout",
     "output_type": "stream",
     "text": [
      "Epoch 1/10\n",
      "350000/350000 [==============================] - 7s 21us/sample - loss: 36.9916 - mean_absolute_error: 1.5110\n",
      "Epoch 2/10\n",
      "350000/350000 [==============================] - 7s 20us/sample - loss: 2.3988e-04 - mean_absolute_error: 0.0112\n",
      "Epoch 3/10\n",
      "350000/350000 [==============================] - 7s 21us/sample - loss: 2.5945e-04 - mean_absolute_error: 0.0118\n",
      "Epoch 4/10\n",
      "350000/350000 [==============================] - 8s 22us/sample - loss: 2.6202e-04 - mean_absolute_error: 0.0119\n",
      "Epoch 5/10\n",
      "350000/350000 [==============================] - 8s 24us/sample - loss: 2.5981e-04 - mean_absolute_error: 0.01181s - loss: 2.5809e-04 - mean_ab\n",
      "Epoch 6/10\n",
      "350000/350000 [==============================] - 9s 25us/sample - loss: 2.5940e-04 - mean_absolute_error: 0.0118\n",
      "Epoch 7/10\n",
      "350000/350000 [==============================] - 8s 22us/sample - loss: 2.5377e-04 - mean_absolute_error: 0.01170s - loss: 2.5300e-04 - mean_absolute\n",
      "Epoch 8/10\n",
      "350000/350000 [==============================] - 7s 21us/sample - loss: 2.5955e-04 - mean_absolute_error: 0.01180s - loss: 2.6004e-04 - mean_absolute_erro\n",
      "Epoch 9/10\n",
      "350000/350000 [==============================] - 8s 22us/sample - loss: 2.5606e-04 - mean_absolute_error: 0.0117\n",
      "Epoch 10/10\n",
      "350000/350000 [==============================] - 8s 23us/sample - loss: 2.5645e-04 - mean_absolute_error: 0.0117\n"
     ]
    },
    {
     "data": {
      "text/plain": [
       "<tensorflow.python.keras.callbacks.History at 0x1acd79f61c8>"
      ]
     },
     "execution_count": 130,
     "metadata": {},
     "output_type": "execute_result"
    }
   ],
   "source": [
    "\n",
    "model.fit(X_train, Y_train, epochs=10)\n"
   ]
  },
  {
   "cell_type": "code",
   "execution_count": 131,
   "metadata": {},
   "outputs": [
    {
     "name": "stdout",
     "output_type": "stream",
     "text": [
      "109478/109478 [==============================] - 1s 12us/sample - loss: 1.9270e-04 - mean_absolute_error: 0.00980s - loss: 1.9239e-04 - mean_absolute_error\n"
     ]
    },
    {
     "data": {
      "text/plain": [
       "[0.00019269550604526016, 0.009755689]"
      ]
     },
     "execution_count": 131,
     "metadata": {},
     "output_type": "execute_result"
    }
   ],
   "source": [
    "model.evaluate(X_test,Y_test)"
   ]
  }
 ],
 "metadata": {
  "kernelspec": {
   "display_name": "Python 3",
   "language": "python",
   "name": "python3"
  },
  "language_info": {
   "codemirror_mode": {
    "name": "ipython",
    "version": 3
   },
   "file_extension": ".py",
   "mimetype": "text/x-python",
   "name": "python",
   "nbconvert_exporter": "python",
   "pygments_lexer": "ipython3",
   "version": "3.7.8"
  }
 },
 "nbformat": 4,
 "nbformat_minor": 4
}
