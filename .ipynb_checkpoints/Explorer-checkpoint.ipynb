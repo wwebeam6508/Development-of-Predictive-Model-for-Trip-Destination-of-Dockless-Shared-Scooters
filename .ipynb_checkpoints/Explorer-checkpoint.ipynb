{
 "cells": [
  {
   "cell_type": "code",
   "execution_count": 2,
   "metadata": {},
   "outputs": [
    {
     "name": "stderr",
     "output_type": "stream",
     "text": [
      "100% |########################################################################|\n"
     ]
    },
    {
     "name": "stdout",
     "output_type": "stream",
     "text": [
      "0\n",
      "1\n",
      "2\n",
      "3\n",
      "4\n"
     ]
    },
    {
     "data": {
      "text/plain": [
       "(array([3.55028e+05, 6.95440e+04, 2.17790e+04, 7.50000e+03, 2.83000e+03,\n",
       "        1.41400e+03, 5.48000e+02, 6.43000e+02, 1.89000e+02, 3.00000e+00]),\n",
       " array([  0.51666667,  16.33333333,  32.15      ,  47.96666667,\n",
       "         63.78333333,  79.6       ,  95.41666667, 111.23333333,\n",
       "        127.05      , 142.86666667, 158.68333333]),\n",
       " <a list of 10 Patch objects>)"
      ]
     },
     "execution_count": 2,
     "metadata": {},
     "output_type": "execute_result"
    },
    {
     "data": {
      "image/png": "[encoded data removed]",
      "text/plain": [
       "<Figure size 576x432 with 1 Axes>"
      ]
     },
     "metadata": {
      "needs_background": "light"
     },
     "output_type": "display_data"
    }
   ],
   "source": [
    "import time\n",
    "from progressbar import ProgressBar\n",
    "\n",
    "import pandas as pd\n",
    "import matplotlib.pyplot as plt\n",
    "import numpy as np\n",
    "\n",
    "pbar = ProgressBar()\n",
    "for i in pbar(range(5)):\n",
    "    print(i)\n",
    "plt.figure(figsize=(8, 6))\n",
    "df = pd.read_csv('ScooterData_July15_Sept27_2019.csv')\n",
    "plt.title('trip duration (min)')\n",
    "plt.xlabel('duration')\n",
    "plt.ylabel('trips')\n",
    "plt.hist(df['trip_duration_min'])\n"
   ]
  },
  {
   "cell_type": "code",
   "execution_count": 8,
   "metadata": {},
   "outputs": [
    {
     "name": "stderr",
     "output_type": "stream",
     "text": [
      "100% |########################################################################|\n",
      "100% |########################################################################|\n",
      "100% |########################################################################|\n",
      "100% |########################################################################|\n",
      "100% |########################################################################|\n",
      "100% |########################################################################|\n",
      "100% |########################################################################|\n"
     ]
    },
    {
     "data": {
      "image/png": "[encoded data removed]",
      "text/plain": [
       "<Figure size 576x432 with 1 Axes>"
      ]
     },
     "metadata": {
      "needs_background": "light"
     },
     "output_type": "display_data"
    }
   ],
   "source": [
    "\n",
    "days = list(set(df['start_day_of_week']))\n",
    "days.sort()\n",
    "\n",
    "\n",
    "value_duration = []\n",
    "temp = df\n",
    "for index in (range(len(days))):\n",
    "    pbar = ProgressBar()\n",
    "    value_duration.append(0)\n",
    "    count = 0\n",
    "    for i in pbar(range(len(temp['start_day_of_week']))):\n",
    "        if days[index] == temp['start_day_of_week'][i]:\n",
    "            count = count + 1\n",
    "            value_duration[index] = value_duration[index] + temp['trip_duration_min'][i]\n",
    "    value_duration[index] = value_duration[index]/count\n",
    "\n",
    "plt.figure(figsize=(8, 6))\n",
    "plt.title('trip duration (min) by days of week')\n",
    "plt.bar(days,value_duration,align='center')\n",
    "plt.xlabel('days of week')\n",
    "plt.ylabel('duration(avg)')\n",
    "plt.show()\n"
   ]
  },
  {
   "cell_type": "code",
   "execution_count": 2,
   "metadata": {},
   "outputs": [
    {
     "name": "stderr",
     "output_type": "stream",
     "text": [
      "100% |########################################################################|\n",
      "100% |########################################################################|\n",
      "100% |########################################################################|\n",
      "100% |########################################################################|\n",
      "100% |########################################################################|\n",
      "100% |########################################################################|\n",
      "100% |########################################################################|\n",
      "100% |########################################################################|\n",
      "100% |########################################################################|\n",
      "100% |########################################################################|\n",
      "100% |########################################################################|\n",
      "100% |########################################################################|\n",
      "100% |########################################################################|\n",
      "100% |########################################################################|\n",
      "100% |########################################################################|\n",
      "100% |########################################################################|\n",
      "100% |########################################################################|\n",
      "100% |########################################################################|\n",
      "100% |########################################################################|\n",
      "100% |########################################################################|\n",
      "100% |########################################################################|\n",
      "100% |########################################################################|\n",
      "100% |########################################################################|\n",
      "100% |########################################################################|\n"
     ]
    },
    {
     "data": {
      "image/png": "[encoded data removed]",
      "text/plain": [
       "<Figure size 576x432 with 1 Axes>"
      ]
     },
     "metadata": {
      "needs_background": "light"
     },
     "output_type": "display_data"
    }
   ],
   "source": [
    "\n",
    "hours = list(set(df['start_hour']))\n",
    "hours.sort()\n",
    "\n",
    "\n",
    "value_duration = []\n",
    "temp = df\n",
    "for index in (range(len(hours))):\n",
    "    pbar = ProgressBar()\n",
    "    value_duration.append(0)\n",
    "    count = 0\n",
    "    for i in pbar(range(len(temp['start_hour']))):\n",
    "        if hours[index] == temp['start_hour'][i]:\n",
    "            count = count + 1\n",
    "            value_duration[index] = value_duration[index] + temp['trip_duration_min'][i]\n",
    "    value_duration[index] = value_duration[index]/count\n",
    "\n",
    "plt.figure(figsize=(8, 6))\n",
    "plt.title('trip duration (min) by hours')\n",
    "plt.bar(hours,value_duration,align='center')\n",
    "plt.xlabel('hours')\n",
    "plt.ylabel('duration(avg)')\n",
    "plt.show()\n",
    "\n"
   ]
  },
  {
   "cell_type": "code",
   "execution_count": 3,
   "metadata": {},
   "outputs": [
    {
     "name": "stderr",
     "output_type": "stream",
     "text": [
      "100% |########################################################################|\n"
     ]
    },
    {
     "name": "stdout",
     "output_type": "stream",
     "text": [
      "0\n",
      "1\n",
      "2\n",
      "3\n",
      "4\n"
     ]
    },
    {
     "data": {
      "text/plain": [
       "(array([4.37774e+05, 2.00540e+04, 1.53200e+03, 1.10000e+02, 6.00000e+00,\n",
       "        1.00000e+00, 0.00000e+00, 0.00000e+00, 0.00000e+00, 1.00000e+00]),\n",
       " array([ 0.101 ,  5.7568, 11.4126, 17.0684, 22.7242, 28.38  , 34.0358,\n",
       "        39.6916, 45.3474, 51.0032, 56.659 ]),\n",
       " <a list of 10 Patch objects>)"
      ]
     },
     "execution_count": 3,
     "metadata": {},
     "output_type": "execute_result"
    },
    {
     "data": {
      "image/png": "[encoded data removed]",
      "text/plain": [
       "<Figure size 576x432 with 1 Axes>"
      ]
     },
     "metadata": {
      "needs_background": "light"
     },
     "output_type": "display_data"
    }
   ],
   "source": [
    "pbar = ProgressBar()\n",
    "for i in pbar(range(5)):\n",
    "    print(i)\n",
    "plt.figure(figsize=(8, 6))\n",
    "df = pd.read_csv('ScooterData_July15_Sept27_2019.csv')\n",
    "plt.title('trip distance (km)')\n",
    "plt.xlabel('distance')\n",
    "plt.ylabel('trips')\n",
    "plt.hist(df['trip_length_km'])"
   ]
  },
  {
   "cell_type": "code",
   "execution_count": 1,
   "metadata": {},
   "outputs": [
    {
     "ename": "NameError",
     "evalue": "name 'df' is not defined",
     "output_type": "error",
     "traceback": [
      "\u001b[0;31m---------------------------------------------------------------------------\u001b[0m",
      "\u001b[0;31mNameError\u001b[0m                                 Traceback (most recent call last)",
      "\u001b[0;32m<ipython-input-1-4830adf3839e>\u001b[0m in \u001b[0;36m<module>\u001b[0;34m\u001b[0m\n\u001b[0;32m----> 1\u001b[0;31m \u001b[0mdays\u001b[0m \u001b[0;34m=\u001b[0m \u001b[0mlist\u001b[0m\u001b[0;34m(\u001b[0m\u001b[0mset\u001b[0m\u001b[0;34m(\u001b[0m\u001b[0mdf\u001b[0m\u001b[0;34m[\u001b[0m\u001b[0;34m'start_day_of_week'\u001b[0m\u001b[0;34m]\u001b[0m\u001b[0;34m)\u001b[0m\u001b[0;34m)\u001b[0m\u001b[0;34m\u001b[0m\u001b[0;34m\u001b[0m\u001b[0m\n\u001b[0m\u001b[1;32m      2\u001b[0m \u001b[0mdays\u001b[0m\u001b[0;34m.\u001b[0m\u001b[0msort\u001b[0m\u001b[0;34m(\u001b[0m\u001b[0;34m)\u001b[0m\u001b[0;34m\u001b[0m\u001b[0;34m\u001b[0m\u001b[0m\n\u001b[1;32m      3\u001b[0m \u001b[0;34m\u001b[0m\u001b[0m\n\u001b[1;32m      4\u001b[0m \u001b[0;34m\u001b[0m\u001b[0m\n\u001b[1;32m      5\u001b[0m \u001b[0mvalue_distance\u001b[0m \u001b[0;34m=\u001b[0m \u001b[0;34m[\u001b[0m\u001b[0;34m]\u001b[0m\u001b[0;34m\u001b[0m\u001b[0;34m\u001b[0m\u001b[0m\n",
      "\u001b[0;31mNameError\u001b[0m: name 'df' is not defined"
     ]
    }
   ],
   "source": [
    "days = list(set(df['start_day_of_week']))\n",
    "days.sort()\n",
    "\n",
    "\n",
    "value_distance = []\n",
    "temp = df\n",
    "for index in (range(len(days))):\n",
    "    pbar = ProgressBar()\n",
    "    value_distance.append(0)\n",
    "    count = 0\n",
    "    for i in pbar(range(len(temp['start_day_of_week']))):\n",
    "        if days[index] == temp['start_day_of_week'][i]:\n",
    "            count = count + 1\n",
    "            value_distance[index] = value_distance[index] + temp['trip_length_km'][i]\n",
    "    value_distance[index] = value_distance[index]/count\n",
    "\n",
    "plt.figure(figsize=(8, 6))\n",
    "plt.title('trip distance (km) by days of week')\n",
    "plt.bar(days,value_distance,align='center')\n",
    "plt.xlabel('days of week')\n",
    "plt.ylabel('distance(avg)')\n",
    "plt.set_xticklabels(['monday, tuesday, wednesday, thursday, friday , saturday, sunday'])\n",
    "plt.show()\n",
    "\n"
   ]
  },
  {
   "cell_type": "code",
   "execution_count": null,
   "metadata": {},
   "outputs": [],
   "source": [
    "plt.figure(figsize=(8, 6))\n",
    "plt.title('trip distance (km) by days of week')\n",
    "plt.bar(days,value_distance,align='center')\n",
    "plt.xlabel('days of week')\n",
    "plt.ylabel('distance(avg)')\n",
    "ax.set_xticklabels(['monday, tuesday, wednesday, thursday, friday , saturday, sunday'])\n",
    "plt.show()"
   ]
  },
  {
   "cell_type": "code",
   "execution_count": 6,
   "metadata": {},
   "outputs": [
    {
     "name": "stderr",
     "output_type": "stream",
     "text": [
      "100% |########################################################################|\n",
      "100% |########################################################################|\n",
      "100% |########################################################################|\n",
      "100% |########################################################################|\n",
      "100% |########################################################################|\n",
      "100% |########################################################################|\n",
      "100% |########################################################################|\n",
      "100% |########################################################################|\n",
      "100% |########################################################################|\n",
      "100% |########################################################################|\n",
      "100% |########################################################################|\n",
      "100% |########################################################################|\n",
      "100% |########################################################################|\n",
      "100% |########################################################################|\n",
      "100% |########################################################################|\n",
      "100% |########################################################################|\n",
      "100% |########################################################################|\n",
      "100% |########################################################################|\n",
      "100% |########################################################################|\n",
      "100% |########################################################################|\n",
      "100% |########################################################################|\n",
      "100% |########################################################################|\n",
      "100% |########################################################################|\n",
      "100% |########################################################################|\n"
     ]
    },
    {
     "data": {
      "image/png": "[encoded data removed]",
      "text/plain": [
       "<Figure size 576x432 with 1 Axes>"
      ]
     },
     "metadata": {
      "needs_background": "light"
     },
     "output_type": "display_data"
    }
   ],
   "source": [
    "\n",
    "hours = list(set(df['start_hour']))\n",
    "hours.sort()\n",
    "\n",
    "\n",
    "value_distance = []\n",
    "temp = df\n",
    "for index in (range(len(hours))):\n",
    "    pbar = ProgressBar()\n",
    "    value_distance.append(0)\n",
    "    count = 0\n",
    "    for i in pbar(range(len(temp['start_hour']))):\n",
    "        if hours[index] == temp['start_hour'][i]:\n",
    "            count = count + 1\n",
    "            value_distance[index] = value_distance[index] + temp['trip_length_km'][i]\n",
    "    value_distance[index] = value_distance[index]/count\n",
    "\n",
    "plt.figure(figsize=(8, 6))\n",
    "plt.title('trip distance (min) by hours')\n",
    "plt.bar(hours,value_distance,align='center')\n",
    "plt.xlabel('hours')\n",
    "plt.ylabel('distance(avg)')\n",
    "plt.show()\n",
    "\n",
    "\n"
   ]
  },
  {
   "cell_type": "code",
   "execution_count": 2,
   "metadata": {},
   "outputs": [
    {
     "name": "stdout",
     "output_type": "stream",
     "text": [
      "65639.71428571429\n"
     ]
    }
   ],
   "source": [
    "days = list(set(df['start_day_of_week']))\n",
    "days.sort()\n",
    "\n",
    "\n",
    "print(len(df)/len(days))\n",
    "\n",
    "\n"
   ]
  },
  {
   "cell_type": "code",
   "execution_count": 23,
   "metadata": {},
   "outputs": [
    {
     "name": "stderr",
     "output_type": "stream",
     "text": [
      "100% |########################################################################|\r"
     ]
    },
    {
     "name": "stdout",
     "output_type": "stream",
     "text": [
      "[[3177, 5806, 4604, 5063, 6271, 5487, 8603, 6606, 7015, 7165], [2372, 2448, 5843, 5248, 4416, 6177, 6010, 6584, 3350, 7091, 5434], [2703, 3775, 6689, 4949, 6260, 6266, 7119, 6566, 4409, 6670, 6387], [2419, 4819, 7278, 7085, 7025, 7961, 6648, 6724, 6015, 7031, 6056], [2520, 4699, 6770, 6623, 7269, 5459, 7046, 7432, 7258, 7086, 5195], [2389, 6482, 7967, 6720, 5871, 8255, 7276, 8670, 9334, 8183, 3740], [3267, 5681, 7036, 6590, 7695, 7623, 5291, 8639, 9654, 10135]]\n"
     ]
    },
    {
     "name": "stderr",
     "output_type": "stream",
     "text": [
      "\n"
     ]
    }
   ],
   "source": [
    "pbar = ProgressBar()\n",
    "\n",
    "days = []\n",
    "\n",
    "start = df['start_date'][0]\n",
    "\n",
    "for i in range(7):\n",
    "    days.append([])\n",
    "days[1].append(1)\n",
    "for i in pbar(range(len(df['start_day_of_week']))):\n",
    "    if df['start_day_of_week'][i] == '0 Sunday':\n",
    "        if start == df['start_date'][i]:\n",
    "            days[0][len(days[0])-1] = days[0][len(days[0])-1] + 1\n",
    "        else:\n",
    "            start = df['start_date'][i]\n",
    "            days[0].append(1)\n",
    "    elif df['start_day_of_week'][i] == '1 Monday':\n",
    "        if start == df['start_date'][i]:\n",
    "            days[1][len(days[1])-1] = days[1][len(days[1])-1] + 1\n",
    "        else:\n",
    "            start = df['start_date'][i]\n",
    "            days[1].append(1)\n",
    "    elif df['start_day_of_week'][i] == '2 Tuesday':\n",
    "        if start == df['start_date'][i]:\n",
    "            days[2][len(days[2])-1] = days[2][len(days[2])-1] + 1\n",
    "        else:\n",
    "            start = df['start_date'][i]\n",
    "            days[2].append(1)\n",
    "    elif df['start_day_of_week'][i] == '3 Wednesday':\n",
    "        if start == df['start_date'][i]:\n",
    "            days[3][len(days[3])-1] = days[3][len(days[3])-1] + 1\n",
    "        else:\n",
    "            start = df['start_date'][i]\n",
    "            days[3].append(1)\n",
    "    elif df['start_day_of_week'][i] == '4 Thursday':\n",
    "        if start == df['start_date'][i]:\n",
    "            days[4][len(days[4])-1] = days[4][len(days[4])-1] + 1\n",
    "        else:\n",
    "            start = df['start_date'][i]\n",
    "            days[4].append(1)\n",
    "    elif df['start_day_of_week'][i] == '5 Friday':\n",
    "        if start == df['start_date'][i]:\n",
    "            days[5][len(days[5])-1] = days[5][len(days[5])-1] + 1\n",
    "        else:\n",
    "            start = df['start_date'][i]\n",
    "            days[5].append(1)\n",
    "    elif df['start_day_of_week'][i] == '6 Saturday':\n",
    "        if start == df['start_date'][i]:\n",
    "            days[6][len(days[6])-1] = days[6][len(days[6])-1] + 1\n",
    "        else:\n",
    "            start = df['start_date'][i]\n",
    "            days[6].append(1)\n",
    "            \n",
    "print(days)\n",
    "    "
   ]
  },
  {
   "cell_type": "code",
   "execution_count": 24,
   "metadata": {},
   "outputs": [
    {
     "data": {
      "image/png": "[encoded data removed]",
      "text/plain": [
       "<Figure size 432x288 with 1 Axes>"
      ]
     },
     "metadata": {
      "needs_background": "light"
     },
     "output_type": "display_data"
    }
   ],
   "source": [
    "# Creating plot \n",
    "plt.boxplot(days) \n",
    "  \n",
    "# show plot \n",
    "plt.show()"
   ]
  },
  {
   "cell_type": "code",
   "execution_count": 23,
   "metadata": {},
   "outputs": [
    {
     "name": "stderr",
     "output_type": "stream",
     "text": [
      "100% |########################################################################|\n"
     ]
    }
   ],
   "source": [
    "hours = list(set(df['start_hour']))\n",
    "hours.sort()\n",
    "trips = []\n",
    "\n",
    "\n",
    "for i in range(24):\n",
    "    trips.append([])\n",
    "pbar = ProgressBar()\n",
    "for i in pbar(range(len(df['start_hour']))):\n",
    "    for index in (range(len(hours))):\n",
    "        if df['start_hour'][i] == hours[index]:\n",
    "            if i>0 and df['start_hour'][i-1] <= df['start_hour'][i]:\n",
    "                trips[index][len(trips[index])-1] = trips[index][len(trips[index])-1] + 1\n",
    "            else:\n",
    "                for j in range(24):\n",
    "                    trips[j].append(1)\n",
    "                "
   ]
  },
  {
   "cell_type": "code",
   "execution_count": 25,
   "metadata": {},
   "outputs": [
    {
     "data": {
      "image/png": "[encoded data removed]",
      "text/plain": [
       "<Figure size 720x576 with 1 Axes>"
      ]
     },
     "metadata": {
      "needs_background": "light"
     },
     "output_type": "display_data"
    }
   ],
   "source": [
    "plt.figure(figsize=(10, 8))\n",
    "plt.title('trips std')\n",
    "plt.xlabel('hours')\n",
    "plt.ylabel('trips')\n",
    "# Creating plot \n",
    "plt.boxplot(trips) \n",
    "  \n",
    "# show plot \n",
    "plt.show()"
   ]
  },
  {
   "cell_type": "code",
   "execution_count": 26,
   "metadata": {},
   "outputs": [
    {
     "name": "stdout",
     "output_type": "stream",
     "text": [
      "[[82, 58, 87, 91, 100, 128, 114, 74, 81, 67, 129, 191, 148, 141, 81, 114, 106, 111, 125, 165, 142, 158, 82, 60, 79, 92, 117, 64, 34, 50, 62, 74, 35, 109, 41, 50, 40, 54, 63, 65, 116, 58, 54, 48, 32, 39, 67, 127, 185, 103, 60, 58, 44, 76, 82, 82, 56, 33, 38, 41, 93, 161, 161, 58, 56, 50, 46, 70, 249, 142, 59, 44, 35, 54, 35], [65, 31, 54, 72, 83, 91, 117, 56, 51, 43, 81, 108, 139, 99, 64, 79, 65, 71, 66, 134, 110, 101, 50, 36, 48, 64, 69, 51, 21, 43, 39, 57, 20, 51, 36, 27, 33, 23, 31, 46, 70, 44, 30, 36, 15, 34, 32, 106, 163, 74, 30, 40, 33, 48, 47, 63, 32, 11, 32, 24, 59, 114, 118, 37, 36, 24, 33, 64, 147, 95, 38, 39, 34, 20, 32], [45, 16, 19, 39, 45, 56, 78, 18, 36, 30, 56, 75, 88, 64, 37, 22, 54, 41, 52, 58, 48, 82, 25, 31, 15, 35, 71, 69, 30, 32, 22, 38, 22, 47, 68, 13, 15, 18, 25, 43, 40, 40, 17, 20, 20, 13, 36, 53, 75, 35, 21, 30, 21, 23, 37, 29, 13, 9, 11, 18, 48, 65, 77, 17, 24, 30, 10, 33, 97, 63, 20, 12, 14, 29, 20], [33, 15, 12, 27, 15, 31, 35, 9, 11, 16, 24, 31, 37, 47, 12, 20, 19, 15, 44, 34, 21, 38, 14, 12, 18, 21, 42, 30, 6, 13, 10, 26, 18, 25, 52, 11, 11, 14, 14, 15, 34, 18, 12, 13, 7, 5, 8, 17, 56, 26, 13, 15, 11, 18, 17, 22, 8, 4, 9, 6, 19, 25, 50, 12, 9, 10, 6, 20, 36, 39, 7, 11, 14, 7, 11], [17, 8, 5, 14, 7, 20, 15, 11, 10, 10, 11, 21, 23, 13, 15, 22, 9, 12, 17, 16, 14, 33, 10, 6, 7, 8, 11, 14, 7, 8, 9, 10, 7, 16, 23, 11, 8, 4, 12, 13, 18, 11, 8, 5, 9, 7, 8, 11, 21, 14, 10, 5, 5, 10, 11, 13, 12, 8, 6, 4, 9, 17, 29, 19, 12, 8, 8, 10, 10, 15, 8, 7, 10, 14, 5], [6, 12, 8, 16, 13, 14, 5, 17, 23, 17, 14, 17, 12, 10, 12, 26, 39, 27, 28, 12, 7, 14, 23, 40, 20, 14, 10, 13, 15, 25, 16, 24, 16, 18, 13, 26, 20, 18, 23, 21, 17, 7, 14, 22, 25, 14, 21, 17, 22, 19, 24, 20, 32, 34, 22, 9, 19, 17, 23, 21, 32, 12, 10, 33, 26, 29, 29, 39, 15, 9, 34, 37, 18, 21, 34], [28, 14, 40, 43, 41, 14, 15, 28, 47, 48, 70, 84, 20, 15, 50, 72, 108, 98, 77, 22, 15, 19, 62, 115, 91, 73, 19, 19, 64, 99, 93, 86, 55, 16, 21, 59, 72, 92, 85, 83, 16, 25, 61, 87, 68, 66, 50, 19, 21, 9, 55, 86, 89, 72, 22, 13, 76, 59, 81, 85, 81, 22, 18, 89, 110, 103, 76, 109, 20, 10, 73, 93, 85, 88, 87], [36, 20, 70, 83, 82, 14, 22, 67, 98, 135, 149, 146, 37, 26, 132, 176, 206, 216, 194, 51, 34, 31, 161, 249, 208, 178, 34, 19, 136, 214, 184, 214, 115, 35, 29, 145, 180, 236, 175, 191, 51, 38, 172, 210, 221, 203, 199, 47, 30, 23, 157, 253, 236, 237, 43, 33, 191, 168, 235, 224, 236, 36, 38, 196, 245, 243, 236, 230, 48, 38, 207, 238, 225, 217, 203], [81, 26, 108, 98, 111, 16, 47, 96, 134, 177, 183, 257, 81, 58, 168, 246, 254, 276, 222, 90, 85, 59, 209, 319, 259, 289, 65, 42, 204, 277, 281, 296, 246, 84, 55, 267, 275, 268, 253, 301, 81, 77, 237, 315, 321, 320, 273, 92, 92, 63, 247, 325, 336, 353, 107, 61, 295, 224, 342, 335, 359, 98, 54, 313, 365, 351, 378, 346, 92, 59, 322, 381, 379, 360, 280], [53, 29, 88, 73, 90, 22, 92, 74, 116, 127, 128, 151, 137, 144, 113, 134, 202, 178, 217, 163, 152, 144, 145, 191, 154, 207, 99, 83, 147, 167, 189, 213, 144, 157, 132, 185, 186, 200, 172, 230, 164, 110, 183, 195, 218, 202, 220, 187, 266, 119, 191, 216, 257, 240, 151, 126, 213, 162, 211, 258, 230, 157, 160, 205, 267, 214, 270, 257, 165, 159, 204, 209, 226, 251, 156], [77, 52, 98, 78, 105, 95, 180, 101, 135, 159, 171, 189, 207, 224, 161, 169, 247, 215, 265, 230, 227, 247, 184, 181, 189, 220, 215, 138, 118, 176, 190, 247, 61, 281, 244, 215, 192, 213, 154, 214, 230, 232, 178, 196, 223, 231, 267, 241, 488, 191, 214, 217, 224, 260, 231, 227, 156, 121, 186, 227, 314, 239, 228, 197, 219, 224, 224, 236, 232, 242, 187, 235, 203, 245, 114], [127, 82, 138, 144, 172, 141, 228, 127, 189, 289, 189, 197, 248, 339, 277, 324, 453, 369, 431, 356, 329, 391, 260, 295, 316, 408, 230, 239, 204, 349, 425, 428, 142, 345, 422, 297, 314, 397, 336, 406, 364, 394, 262, 337, 346, 405, 394, 134, 540, 263, 324, 337, 407, 458, 330, 325, 177, 175, 296, 369, 476, 350, 364, 296, 335, 341, 337, 406, 431, 363, 324, 314, 326, 338, 138], [165, 120, 193, 202, 203, 201, 270, 163, 238, 232, 284, 301, 341, 421, 371, 468, 565, 509, 650, 491, 388, 501, 371, 442, 495, 535, 319, 317, 310, 424, 455, 546, 248, 517, 456, 402, 404, 494, 392, 566, 505, 420, 420, 429, 421, 512, 490, 170, 684, 305, 390, 67, 468, 550, 456, 402, 173, 170, 401, 403, 526, 448, 414, 343, 403, 439, 423, 543, 521, 511, 396, 420, 361, 313, 170], [161, 198, 191, 160, 188, 234, 274, 151, 183, 279, 327, 322, 358, 554, 343, 469, 552, 497, 600, 601, 421, 523, 392, 396, 494, 487, 456, 409, 329, 421, 526, 515, 300, 635, 616, 462, 455, 558, 392, 570, 617, 472, 408, 505, 475, 555, 552, 300, 853, 444, 406, 167, 478, 591, 615, 483, 127, 178, 357, 462, 579, 537, 515, 398, 420, 403, 434, 550, 633, 586, 347, 396, 422, 319, 192], [145, 212, 203, 122, 129, 266, 250, 139, 204, 273, 282, 281, 401, 591, 336, 454, 509, 443, 552, 645, 430, 557, 400, 433, 404, 484, 561, 457, 330, 380, 458, 454, 327, 742, 662, 434, 403, 513, 410, 548, 680, 540, 390, 472, 468, 524, 558, 445, 723, 537, 432, 516, 434, 554, 720, 558, 164, 215, 349, 462, 564, 596, 604, 373, 383, 375, 400, 453, 654, 698, 338, 342, 398, 267, 169], [151, 218, 94, 58, 120, 291, 279, 155, 310, 299, 219, 437, 401, 606, 400, 483, 527, 500, 507, 585, 313, 548, 462, 512, 446, 519, 588, 515, 436, 463, 432, 537, 394, 739, 671, 469, 439, 577, 459, 638, 705, 638, 427, 522, 488, 569, 565, 470, 656, 636, 489, 507, 570, 617, 713, 536, 189, 295, 357, 511, 576, 677, 681, 556, 477, 510, 478, 675, 778, 717, 391, 427, 454, 347, 281], [110, 153, 152, 92, 141, 309, 202, 183, 390, 349, 291, 492, 464, 565, 456, 569, 514, 547, 481, 594, 279, 466, 382, 599, 474, 553, 617, 509, 498, 621, 605, 623, 469, 750, 697, 587, 434, 721, 513, 654, 759, 555, 579, 682, 673, 544, 638, 361, 658, 701, 623, 668, 630, 747, 823, 561, 351, 407, 517, 670, 765, 757, 654, 898, 639, 647, 685, 739, 854, 693, 500, 566, 549, 441, 378], [133, 207, 153, 70, 148, 298, 165, 152, 429, 393, 420, 467, 359, 422, 468, 584, 453, 521, 500, 452, 228, 374, 292, 584, 539, 563, 524, 539, 526, 222, 585, 564, 431, 700, 533, 527, 506, 696, 477, 539, 733, 606, 484, 612, 552, 580, 589, 308, 570, 551, 553, 677, 653, 664, 851, 612, 379, 510, 584, 655, 741, 853, 626, 809, 615, 672, 637, 601, 879, 635, 445, 595, 562, 475, 364], [147, 216, 145, 138, 146, 267, 174, 169, 278, 325, 377, 547, 414, 437, 389, 464, 410, 456, 526, 472, 262, 267, 339, 570, 537, 542, 581, 466, 257, 342, 620, 490, 471, 693, 484, 488, 540, 665, 498, 496, 730, 247, 450, 557, 504, 489, 611, 287, 536, 697, 545, 642, 585, 606, 825, 603, 243, 401, 507, 595, 742, 836, 574, 650, 537, 599, 557, 547, 1012, 604, 410, 559, 441, 349, 303], [177, 243, 132, 159, 146, 280, 153, 158, 265, 397, 322, 559, 414, 345, 478, 459, 532, 428, 618, 446, 254, 198, 284, 569, 528, 384, 574, 401, 174, 484, 569, 496, 563, 567, 399, 469, 508, 642, 483, 574, 632, 238, 467, 566, 482, 548, 498, 503, 517, 647, 602, 569, 634, 648, 901, 602, 170, 400, 524, 581, 571, 910, 535, 426, 478, 482, 569, 570, 1067, 505, 339, 412, 449, 324, 234], [198, 269, 142, 217, 110, 215, 128, 166, 208, 417, 286, 508, 500, 282, 554, 521, 548, 471, 604, 474, 271, 175, 317, 543, 517, 279, 556, 341, 198, 599, 613, 577, 612, 487, 270, 449, 487, 631, 173, 716, 518, 257, 513, 570, 423, 478, 400, 493, 512, 501, 429, 560, 492, 685, 674, 434, 110, 328, 397, 514, 627, 876, 446, 345, 430, 396, 455, 448, 787, 386, 327, 320, 349, 260, 196], [123, 231, 120, 233, 87, 100, 124, 118, 170, 407, 237, 475, 409, 199, 499, 418, 516, 390, 547, 460, 267, 131, 197, 459, 409, 311, 432, 185, 176, 484, 337, 418, 571, 380, 178, 343, 408, 544, 141, 642, 256, 210, 365, 414, 351, 356, 396, 278, 433, 324, 353, 430, 374, 605, 492, 461, 99, 291, 320, 404, 766, 843, 359, 397, 289, 515, 424, 452, 630, 318, 259, 441, 293, 220, 179], [138, 180, 95, 175, 64, 92, 121, 150, 104, 142, 263, 360, 304, 127, 251, 248, 249, 230, 433, 309, 159, 127, 209, 290, 264, 277, 295, 106, 145, 288, 203, 240, 427, 224, 104, 202, 235, 293, 137, 498, 218, 165, 197, 248, 235, 272, 266, 349, 334, 200, 293, 227, 299, 426, 333, 264, 78, 162, 192, 279, 623, 666, 217, 308, 201, 284, 267, 475, 448, 196, 140, 211, 153, 153, 107], [96, 116, 95, 139, 66, 95, 112, 89, 88, 211, 209, 289, 162, 100, 199, 171, 164, 172, 234, 199, 171, 87, 102, 176, 135, 200, 128, 60, 74, 102, 125, 119, 200, 100, 88, 62, 124, 113, 64, 209, 92, 108, 105, 81, 94, 103, 161, 299, 191, 125, 128, 115, 143, 171, 159, 110, 42, 84, 63, 133, 321, 382, 106, 139, 117, 105, 127, 333, 353, 105, 82, 101, 79, 106, 75]]\n"
     ]
    }
   ],
   "source": [
    "print(trips)"
   ]
  },
  {
   "cell_type": "code",
   "execution_count": null,
   "metadata": {},
   "outputs": [],
   "source": []
  }
 ],
 "metadata": {
  "kernelspec": {
   "display_name": "Python 3",
   "language": "python",
   "name": "python3"
  },
  "language_info": {
   "codemirror_mode": {
    "name": "ipython",
    "version": 3
   },
   "file_extension": ".py",
   "mimetype": "text/x-python",
   "name": "python",
   "nbconvert_exporter": "python",
   "pygments_lexer": "ipython3",
   "version": "3.8.3"
  }
 },
 "nbformat": 4,
 "nbformat_minor": 4
}
