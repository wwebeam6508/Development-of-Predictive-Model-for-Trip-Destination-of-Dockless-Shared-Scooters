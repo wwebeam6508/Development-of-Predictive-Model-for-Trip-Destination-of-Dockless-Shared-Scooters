{
 "cells": [
  {
   "cell_type": "code",
   "execution_count": 31,
   "metadata": {},
   "outputs": [
    {
     "name": "stderr",
     "output_type": "stream",
     "text": [
      "100% |########################################################################|\n"
     ]
    },
    {
     "name": "stdout",
     "output_type": "stream",
     "text": [
      "0\n",
      "1\n",
      "2\n",
      "3\n",
      "4\n"
     ]
    },
    {
     "data": {
      "image/png": "[encoded data removed]",
      "text/plain": [
       "<Figure size 576x432 with 1 Axes>"
      ]
     },
     "metadata": {
      "needs_background": "light"
     },
     "output_type": "display_data"
    }
   ],
   "source": [
    "import time\n",
    "from progressbar import ProgressBar\n",
    "\n",
    "import pandas as pd\n",
    "import matplotlib.pyplot as plt\n",
    "import numpy as np\n",
    "\n",
    "pbar = ProgressBar()\n",
    "for i in pbar(range(5)):\n",
    "    print(i)\n",
    "plt.figure(figsize=(8, 6))\n",
    "df = pd.read_csv('ScooterData_July15_Sept27_2019.csv')\n",
    "plt.title('trip duration (min)')\n",
    "plt.xlabel('duration')\n",
    "plt.ylabel('trips')\n",
    "plt.hist(df['trip_duration_min'])\n",
    "\n",
    "def swapPositions(list, pos1, pos2): \n",
    "      \n",
    "    list[pos1], list[pos2] = list[pos2], list[pos1] \n",
    "    return list"
   ]
  },
  {
   "cell_type": "code",
   "execution_count": 36,
   "metadata": {},
   "outputs": [
    {
     "name": "stderr",
     "output_type": "stream",
     "text": [
      "100% |########################################################################|\n",
      "100% |########################################################################|\n",
      "100% |########################################################################|\n",
      "100% |########################################################################|\n",
      "100% |########################################################################|\n",
      "100% |########################################################################|\n",
      "100% |########################################################################|\n"
     ]
    },
    {
     "data": {
      "image/png": "[encoded data removed]",
      "text/plain": [
       "<Figure size 576x432 with 1 Axes>"
      ]
     },
     "metadata": {
      "needs_background": "light"
     },
     "output_type": "display_data"
    }
   ],
   "source": [
    "\n",
    "days = list(set(df['start_day_of_week']))\n",
    "days.sort()\n",
    "days.append(days[0])\n",
    "days.pop(0)\n",
    "\n",
    "value_duration = []\n",
    "temp = df\n",
    "for index in (range(len(days))):\n",
    "    pbar = ProgressBar()\n",
    "    value_duration.append(0)\n",
    "    count = 0\n",
    "    for i in pbar(range(len(temp['start_day_of_week']))):\n",
    "        if days[index] == temp['start_day_of_week'][i]:\n",
    "            count = count + 1\n",
    "            value_duration[index] = value_duration[index] + temp['trip_duration_min'][i]\n",
    "    value_duration[index] = value_duration[index]/count\n",
    "\n",
    "    \n",
    "for index in (range(len(days))):\n",
    "    only_alpha = \"\"\n",
    "    for char in days[index]:\n",
    "        if char.isalpha():\n",
    "            only_alpha += char\n",
    "    days[index] = only_alpha     \n",
    "    \n",
    "plt.figure(figsize=(8, 6))\n",
    "plt.title('trip duration (min) by days of week')\n",
    "plt.bar(days,value_duration,align='center')\n",
    "plt.xlabel('days of week')\n",
    "plt.ylabel('duration(avg)')\n",
    "plt.show()\n"
   ]
  },
  {
   "cell_type": "code",
   "execution_count": 3,
   "metadata": {},
   "outputs": [
    {
     "name": "stderr",
     "output_type": "stream",
     "text": [
      "100% |########################################################################|\n",
      "100% |########################################################################|\n",
      "100% |########################################################################|\n",
      "100% |########################################################################|\n",
      "100% |########################################################################|\n",
      "100% |########################################################################|\n",
      "100% |########################################################################|\n",
      "100% |########################################################################|\n",
      "100% |########################################################################|\n",
      "100% |########################################################################|\n",
      "100% |########################################################################|\n",
      "100% |########################################################################|\n",
      "100% |########################################################################|\n",
      "100% |########################################################################|\n",
      "100% |########################################################################|\n",
      "100% |########################################################################|\n",
      "100% |########################################################################|\n",
      "100% |########################################################################|\n",
      "100% |########################################################################|\n",
      "100% |########################################################################|\n",
      "100% |########################################################################|\n",
      "100% |########################################################################|\n",
      "100% |########################################################################|\n",
      "100% |########################################################################|\n"
     ]
    },
    {
     "data": {
      "image/png": "[encoded data removed]",
      "text/plain": [
       "<Figure size 576x432 with 1 Axes>"
      ]
     },
     "metadata": {
      "needs_background": "light"
     },
     "output_type": "display_data"
    }
   ],
   "source": [
    "\n",
    "hours = list(set(df['start_hour']))\n",
    "hours.sort()\n",
    "\n",
    "\n",
    "value_duration = []\n",
    "temp = df\n",
    "for index in (range(len(hours))):\n",
    "    pbar = ProgressBar()\n",
    "    value_duration.append(0)\n",
    "    count = 0\n",
    "    for i in pbar(range(len(temp['start_hour']))):\n",
    "        if hours[index] == temp['start_hour'][i]:\n",
    "            count = count + 1\n",
    "            value_duration[index] = value_duration[index] + temp['trip_duration_min'][i]\n",
    "    value_duration[index] = value_duration[index]/count\n",
    "\n",
    "plt.figure(figsize=(8, 6))\n",
    "plt.title('trip duration (min) by hours')\n",
    "plt.bar(hours,value_duration,align='center')\n",
    "plt.xlabel('hours')\n",
    "plt.ylabel('duration(avg)')\n",
    "plt.show()\n",
    "\n"
   ]
  },
  {
   "cell_type": "code",
   "execution_count": 4,
   "metadata": {},
   "outputs": [
    {
     "name": "stderr",
     "output_type": "stream",
     "text": [
      "100% |########################################################################|\n"
     ]
    },
    {
     "name": "stdout",
     "output_type": "stream",
     "text": [
      "0\n",
      "1\n",
      "2\n",
      "3\n",
      "4\n"
     ]
    },
    {
     "data": {
      "text/plain": [
       "(array([4.37774e+05, 2.00540e+04, 1.53200e+03, 1.10000e+02, 6.00000e+00,\n",
       "        1.00000e+00, 0.00000e+00, 0.00000e+00, 0.00000e+00, 1.00000e+00]),\n",
       " array([ 0.101 ,  5.7568, 11.4126, 17.0684, 22.7242, 28.38  , 34.0358,\n",
       "        39.6916, 45.3474, 51.0032, 56.659 ]),\n",
       " <BarContainer object of 10 artists>)"
      ]
     },
     "execution_count": 4,
     "metadata": {},
     "output_type": "execute_result"
    },
    {
     "data": {
      "image/png": "[encoded data removed]",
      "text/plain": [
       "<Figure size 576x432 with 1 Axes>"
      ]
     },
     "metadata": {
      "needs_background": "light"
     },
     "output_type": "display_data"
    }
   ],
   "source": [
    "pbar = ProgressBar()\n",
    "for i in pbar(range(5)):\n",
    "    print(i)\n",
    "plt.figure(figsize=(8, 6))\n",
    "df = pd.read_csv('ScooterData_July15_Sept27_2019.csv')\n",
    "plt.title('trip distance (km)')\n",
    "plt.xlabel('distance')\n",
    "plt.ylabel('trips')\n",
    "plt.hist(df['trip_length_km'])"
   ]
  },
  {
   "cell_type": "code",
   "execution_count": 35,
   "metadata": {},
   "outputs": [
    {
     "name": "stderr",
     "output_type": "stream",
     "text": [
      "100% |########################################################################|\n",
      "100% |########################################################################|\n",
      "100% |########################################################################|\n",
      "100% |########################################################################|\n",
      "100% |########################################################################|\n",
      "100% |########################################################################|\n",
      "100% |########################################################################|\n"
     ]
    },
    {
     "name": "stdout",
     "output_type": "stream",
     "text": [
      "['Monday', 'Tuesday', 'Wednesday', 'Thursday', 'Friday', 'Saturday', 'Sunday']\n"
     ]
    },
    {
     "data": {
      "image/png": "[encoded data removed]",
      "text/plain": [
       "<Figure size 576x432 with 1 Axes>"
      ]
     },
     "metadata": {
      "needs_background": "light"
     },
     "output_type": "display_data"
    }
   ],
   "source": [
    "days = list(set(df['start_day_of_week']))\n",
    "days.sort()\n",
    "\n",
    "days.append(days[0])\n",
    "days.pop(0)\n",
    "\n",
    "value_distance = []\n",
    "temp = df\n",
    "for index in (range(len(days))):\n",
    "    pbar = ProgressBar()\n",
    "    value_distance.append(0)\n",
    "    count = 0\n",
    "    for i in pbar(range(len(temp['start_day_of_week']))):\n",
    "        if days[index] == temp['start_day_of_week'][i]:\n",
    "            count = count + 1\n",
    "            value_distance[index] = value_distance[index] + temp['trip_length_km'][i]\n",
    "    value_distance[index] = value_distance[index]/count\n",
    "\n",
    "\n",
    "for index in (range(len(days))):\n",
    "    only_alpha = \"\"\n",
    "    for char in days[index]:\n",
    "        if char.isalpha():\n",
    "            only_alpha += char\n",
    "    days[index] = only_alpha \n",
    "\n",
    "\n",
    "print(days)\n",
    "plt.figure(figsize=(8, 6))\n",
    "plt.title('trip distance (km) by days of week')\n",
    "plt.bar(days,value_distance,align='center')\n",
    "plt.xlabel('days of week')\n",
    "plt.ylabel('distance(avg)')\n",
    "plt.show()\n",
    "\n"
   ]
  },
  {
   "cell_type": "code",
   "execution_count": null,
   "metadata": {},
   "outputs": [],
   "source": [
    "\n",
    "hours = list(set(df['start_hour']))\n",
    "hours.sort()\n",
    "\n",
    "\n",
    "value_distance = []\n",
    "temp = df\n",
    "for index in (range(len(hours))):\n",
    "    pbar = ProgressBar()\n",
    "    value_distance.append(0)\n",
    "    count = 0\n",
    "    for i in pbar(range(len(temp['start_hour']))):\n",
    "        if hours[index] == temp['start_hour'][i]:\n",
    "            count = count + 1\n",
    "            value_distance[index] = value_distance[index] + temp['trip_length_km'][i]\n",
    "    value_distance[index] = value_distance[index]/count\n",
    "plt.figure(figsize=(8, 6))\n",
    "plt.title('trip distance (min) by hours')\n",
    "plt.bar(hours,value_distance,align='center')\n",
    "plt.xlabel('hours')\n",
    "plt.ylabel('distance(avg)')\n",
    "plt.show()\n",
    "\n",
    "\n"
   ]
  },
  {
   "cell_type": "code",
   "execution_count": 8,
   "metadata": {},
   "outputs": [
    {
     "name": "stdout",
     "output_type": "stream",
     "text": [
      "65639.71428571429\n"
     ]
    }
   ],
   "source": [
    "days = list(set(df['start_day_of_week']))\n",
    "days.sort()\n",
    "\n",
    "\n",
    "print(len(df)/len(days))\n",
    "\n",
    "\n"
   ]
  },
  {
   "cell_type": "code",
   "execution_count": 42,
   "metadata": {},
   "outputs": [
    {
     "name": "stderr",
     "output_type": "stream",
     "text": [
      "100% |########################################################################|\n"
     ]
    },
    {
     "data": {
      "image/png": "[encoded data removed]",
      "text/plain": [
       "<Figure size 720x576 with 1 Axes>"
      ]
     },
     "metadata": {
      "needs_background": "light"
     },
     "output_type": "display_data"
    }
   ],
   "source": [
    "pbar = ProgressBar()\n",
    "\n",
    "days = []\n",
    "\n",
    "start = df['start_date'][0]\n",
    "\n",
    "days_label = list(set(df['start_day_of_week']))\n",
    "days_label.sort()\n",
    "days_label.append(days_label[0])\n",
    "days_label.pop(0)\n",
    "\n",
    "for index in (range(len(days_label))):\n",
    "    only_alpha = \"\"\n",
    "    for char in days_label[index]:\n",
    "        if char.isalpha():\n",
    "            only_alpha += char\n",
    "    days_label[index] = only_alpha \n",
    "\n",
    "\n",
    "\n",
    "for i in range(7):\n",
    "    days.append([])\n",
    "days[0].append(1)\n",
    "for i in pbar(range(len(df['start_day_of_week']))):\n",
    "    if df['start_day_of_week'][i] == '1 Monday':\n",
    "        if start == df['start_date'][i]:\n",
    "            days[0][len(days[0])-1] = days[0][len(days[0])-1] + 1\n",
    "        else:\n",
    "            start = df['start_date'][i]\n",
    "            days[0].append(1)\n",
    "    elif df['start_day_of_week'][i] == '2 Tuesday':\n",
    "        if start == df['start_date'][i]:\n",
    "            days[1][len(days[1])-1] = days[1][len(days[1])-1] + 1\n",
    "        else:\n",
    "            start = df['start_date'][i]\n",
    "            days[1].append(1)\n",
    "    elif df['start_day_of_week'][i] == '3 Wednesday':\n",
    "        if start == df['start_date'][i]:\n",
    "            days[2][len(days[2])-1] = days[2][len(days[2])-1] + 1\n",
    "        else:\n",
    "            start = df['start_date'][i]\n",
    "            days[2].append(1)\n",
    "    elif df['start_day_of_week'][i] == '4 Thursday':\n",
    "        if start == df['start_date'][i]:\n",
    "            days[3][len(days[3])-1] = days[3][len(days[3])-1] + 1\n",
    "        else:\n",
    "            start = df['start_date'][i]\n",
    "            days[3].append(1)\n",
    "    elif df['start_day_of_week'][i] == '5 Friday':\n",
    "        if start == df['start_date'][i]:\n",
    "            days[4][len(days[4])-1] = days[4][len(days[4])-1] + 1\n",
    "        else:\n",
    "            start = df['start_date'][i]\n",
    "            days[4].append(1)\n",
    "    elif df['start_day_of_week'][i] == '6 Saturday':\n",
    "        if start == df['start_date'][i]:\n",
    "            days[5][len(days[5])-1] = days[5][len(days[5])-1] + 1\n",
    "        else:\n",
    "            start = df['start_date'][i]\n",
    "            days[5].append(1)\n",
    "    elif df['start_day_of_week'][i] == '0 Sunday':\n",
    "        if start == df['start_date'][i]:\n",
    "            days[6][len(days[6])-1] = days[6][len(days[6])-1] + 1\n",
    "        else:\n",
    "            start = df['start_date'][i]\n",
    "            days[6].append(1)\n",
    "\n",
    "\n",
    "# Creating plot\n",
    "plt.figure(figsize=(10, 8))\n",
    "plt.xlabel('days of week')\n",
    "plt.ylabel('trips(std)')\n",
    "plt.boxplot(days) \n",
    "plt.xticks([1,2,3,4,5,6,7], days_label)\n",
    "\n",
    "# show plot \n",
    "plt.show()"
   ]
  },
  {
   "cell_type": "code",
   "execution_count": 39,
   "metadata": {},
   "outputs": [
    {
     "name": "stdout",
     "output_type": "stream",
     "text": [
      "[[2372, 2448, 5843, 5248, 4416, 6177, 6010, 6584, 3350, 7091, 5434], [2703, 3775, 6689, 4949, 6260, 6266, 7119, 6566, 4409, 6670, 6387], [2419, 4819, 7278, 7085, 7025, 7961, 6648, 6724, 6015, 7031, 6056], [2, 2, 2, 2, 2, 2, 2, 2, 2, 2, 1], [2389, 6482, 7967, 6720, 5871, 8255, 7276, 8670, 9334, 8183, 3740], [3267, 5681, 7036, 6590, 7695, 7623, 5291, 8639, 9654, 10135], [3177, 5806, 4604, 5063, 6271, 5487, 8603, 6606, 7015, 7165]]\n"
     ]
    }
   ],
   "source": [
    "print(days)"
   ]
  },
  {
   "cell_type": "code",
   "execution_count": 43,
   "metadata": {},
   "outputs": [
    {
     "name": "stderr",
     "output_type": "stream",
     "text": [
      "100% |########################################################################|\n"
     ]
    }
   ],
   "source": [
    "hours = list(set(df['start_hour']))\n",
    "hours.sort()\n",
    "trips = []\n",
    "\n",
    "\n",
    "for i in range(24):\n",
    "    trips.append([])\n",
    "pbar = ProgressBar()\n",
    "for i in pbar(range(len(df['start_hour']))):\n",
    "    for index in (range(len(hours))):\n",
    "        if df['start_hour'][i] == hours[index]:\n",
    "            if i>0 and df['start_hour'][i-1] <= df['start_hour'][i]:\n",
    "                trips[index][len(trips[index])-1] = trips[index][len(trips[index])-1] + 1\n",
    "            else:\n",
    "                for j in range(24):\n",
    "                    trips[j].append(1)\n",
    "                "
   ]
  },
  {
   "cell_type": "code",
   "execution_count": 44,
   "metadata": {},
   "outputs": [
    {
     "data": {
      "image/png": "[encoded data removed]",
      "text/plain": [
       "<Figure size 720x576 with 1 Axes>"
      ]
     },
     "metadata": {
      "needs_background": "light"
     },
     "output_type": "display_data"
    }
   ],
   "source": [
    "plt.figure(figsize=(10, 8))\n",
    "plt.title('trips std')\n",
    "plt.xlabel('hours')\n",
    "plt.ylabel('trips')\n",
    "# Creating plot \n",
    "plt.boxplot(trips) \n",
    "plt.xticks([1,2,3,4,5,6,7,8,9,10,11,12,13,14,15,16,17,18,19,20,21,22,23,24], hours)\n",
    "  \n",
    "# show plot \n",
    "plt.show()"
   ]
  },
  {
   "cell_type": "code",
   "execution_count": null,
   "metadata": {},
   "outputs": [],
   "source": []
  }
 ],
 "metadata": {
  "kernelspec": {
   "display_name": "Python 3",
   "language": "python",
   "name": "python3"
  },
  "language_info": {
   "codemirror_mode": {
    "name": "ipython",
    "version": 3
   },
   "file_extension": ".py",
   "mimetype": "text/x-python",
   "name": "python",
   "nbconvert_exporter": "python",
   "pygments_lexer": "ipython3",
   "version": "3.8.5"
  }
 },
 "nbformat": 4,
 "nbformat_minor": 4
}
