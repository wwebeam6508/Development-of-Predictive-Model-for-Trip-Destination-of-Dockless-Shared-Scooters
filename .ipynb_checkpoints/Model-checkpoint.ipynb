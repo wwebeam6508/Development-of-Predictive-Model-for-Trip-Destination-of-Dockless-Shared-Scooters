{
 "cells": [
  {
   "cell_type": "code",
   "execution_count": 30,
   "metadata": {},
   "outputs": [],
   "source": [
    "import tensorflow as tf\n",
    "tf.enable_eager_execution()\n",
    "\n",
    "import pandas as pd\n",
    "\n",
    "coor_data = pd.read_csv('Data/coordata.csv')\n",
    "date_data = pd.read_csv('Data/datedata.csv')\n",
    "meta_data = pd.read_csv('Data/metadata.csv')"
   ]
  },
  {
   "cell_type": "code",
   "execution_count": 3,
   "metadata": {},
   "outputs": [],
   "source": []
  },
  {
   "cell_type": "code",
   "execution_count": 2,
   "metadata": {},
   "outputs": [
    {
     "name": "stderr",
     "output_type": "stream",
     "text": [
      "100% (459478 of 459478) |################| Elapsed Time: 0:05:56 Time:  0:05:56\n",
      "100% (459478 of 459478) |################| Elapsed Time: 0:06:23 Time:  0:06:23\n"
     ]
    },
    {
     "ename": "NameError",
     "evalue": "name 'dataplot' is not defined",
     "output_type": "error",
     "traceback": [
      "\u001b[1;31m---------------------------------------------------------------------------\u001b[0m",
      "\u001b[1;31mNameError\u001b[0m                                 Traceback (most recent call last)",
      "\u001b[1;32m<ipython-input-2-02f264e2fcea>\u001b[0m in \u001b[0;36m<module>\u001b[1;34m\u001b[0m\n\u001b[0;32m     45\u001b[0m \u001b[0mlabels\u001b[0m \u001b[1;33m=\u001b[0m \u001b[0mc_group\u001b[0m \u001b[1;31m# Labels of each point\u001b[0m\u001b[1;33m\u001b[0m\u001b[1;33m\u001b[0m\u001b[0m\n\u001b[0;32m     46\u001b[0m \u001b[1;33m\u001b[0m\u001b[0m\n\u001b[1;32m---> 47\u001b[1;33m \u001b[0mdataplot\u001b[0m\u001b[1;33m.\u001b[0m\u001b[0mplot\u001b[0m\u001b[1;33m.\u001b[0m\u001b[0mscatter\u001b[0m\u001b[1;33m(\u001b[0m\u001b[0mx\u001b[0m \u001b[1;33m=\u001b[0m \u001b[1;34m'x'\u001b[0m\u001b[1;33m,\u001b[0m \u001b[0my\u001b[0m \u001b[1;33m=\u001b[0m \u001b[1;34m'y'\u001b[0m\u001b[1;33m,\u001b[0m \u001b[0mc\u001b[0m\u001b[1;33m=\u001b[0m\u001b[0mlabels\u001b[0m\u001b[1;33m,\u001b[0m \u001b[0ms\u001b[0m\u001b[1;33m=\u001b[0m\u001b[1;36m50\u001b[0m\u001b[1;33m,\u001b[0m \u001b[0mcmap\u001b[0m\u001b[1;33m=\u001b[0m\u001b[1;34m'viridis'\u001b[0m\u001b[1;33m)\u001b[0m\u001b[1;33m\u001b[0m\u001b[1;33m\u001b[0m\u001b[0m\n\u001b[0m\u001b[0;32m     48\u001b[0m \u001b[1;31m# plt.scatter(centers[:, 0], centers[:, 1], c='black', s=200, alpha=0.5)\u001b[0m\u001b[1;33m\u001b[0m\u001b[1;33m\u001b[0m\u001b[1;33m\u001b[0m\u001b[0m\n\u001b[0;32m     49\u001b[0m \u001b[0mplt\u001b[0m\u001b[1;33m.\u001b[0m\u001b[0mtitle\u001b[0m\u001b[1;33m(\u001b[0m\u001b[1;34m'Clustering GPS Co-ordinates to Form Regions - Weighted'\u001b[0m\u001b[1;33m,\u001b[0m\u001b[0mfontsize\u001b[0m\u001b[1;33m=\u001b[0m\u001b[1;36m10\u001b[0m\u001b[1;33m,\u001b[0m \u001b[0mfontweight\u001b[0m\u001b[1;33m=\u001b[0m\u001b[1;34m'bold'\u001b[0m\u001b[1;33m)\u001b[0m\u001b[1;33m\u001b[0m\u001b[1;33m\u001b[0m\u001b[0m\n",
      "\u001b[1;31mNameError\u001b[0m: name 'dataplot' is not defined"
     ]
    }
   ],
   "source": [
    "import pandas as pd\n",
    "import geopandas as gpd\n",
    "import numpy as np\n",
    "\n",
    "census_by_community = gpd.read_file('Data/census_by_community1.shp')\n",
    "grid_data = gpd.read_file('Data/ScooterGridId.shp')\n",
    "data = pd.read_csv('Data/ScooterData_July15_Sept27_2019.csv')\n",
    "\n",
    "data_point = data[['startx','starty']].to_numpy()\n",
    "\n",
    "import progressbar\n",
    "from shapely.geometry import shape, Polygon, Point\n",
    "grid_start_coor = []\n",
    "centeroid_grid = [[round(x.centroid.x,3), round(x.centroid.y,3)] for x in grid_data.geometry]\n",
    "centeroid_scale_grid = [[x.centroid.x, x.centroid.y] for x in grid_data.geometry]\n",
    "start_coor = [[round(x.startx,3), round(x.starty,3)] for x in data.itertuples()]\n",
    "end_coor = [[round(x.endx,3), round(x.endy,3)] for x in data.itertuples()]\n",
    "\n",
    "dataplot = pd.DataFrame(np.array(centeroid_scale_grid),columns=['x', 'y'])\n",
    "\n",
    "from sklearn.cluster import KMeans\n",
    "\n",
    "kmeans = KMeans(n_clusters = 100, max_iter=1000, init ='k-means++')\n",
    "\n",
    "lat_long = np.array(centeroid_scale_grid)\n",
    "lot_size = len(centeroid_scale_grid)\n",
    "weighted_kmeans_clusters = kmeans.fit(lat_long, sample_weight = lot_size) # Compute k-means clustering.\n",
    "c_group = kmeans.predict(lat_long, sample_weight = lot_size)\n",
    "\n",
    "start_c_group = []\n",
    "end_c_group = []\n",
    "for i in progressbar.progressbar(range(len(start_coor))):\n",
    "    for j in range(len(centeroid_grid)):\n",
    "        if start_coor[i][0] == centeroid_grid[j][0] and start_coor[i][1] == centeroid_grid[j][1]:\n",
    "            start_c_group.append(c_group[j])\n",
    "            break;\n",
    "for i in progressbar.progressbar(range(len(end_coor))):\n",
    "    for j in range(len(centeroid_grid)):\n",
    "        if end_coor[i][0] == centeroid_grid[j][0] and end_coor[i][1] == centeroid_grid[j][1]:\n",
    "            end_c_group.append(c_group[j])\n",
    "            break;\n",
    "\n",
    "import matplotlib.pyplot as plt\n",
    "\n",
    "centers = kmeans.cluster_centers_ # Coordinates of cluster centers.\n",
    "labels = c_group # Labels of each point\n",
    "\n",
    "dataplot.plot.scatter(x = 'x', y = 'y', c=labels, s=50, cmap='viridis')\n",
    "# plt.scatter(centers[:, 0], centers[:, 1], c='black', s=200, alpha=0.5)\n",
    "plt.title('Clustering GPS Co-ordinates to Form Regions - Weighted',fontsize=10, fontweight='bold')"
   ]
  },
  {
   "cell_type": "code",
   "execution_count": 8,
   "metadata": {},
   "outputs": [
    {
     "ename": "ValueError",
     "evalue": "all the input arrays must have same number of dimensions, but the array at index 0 has 2 dimension(s) and the array at index 1 has 1 dimension(s)",
     "output_type": "error",
     "traceback": [
      "\u001b[1;31m---------------------------------------------------------------------------\u001b[0m",
      "\u001b[1;31mValueError\u001b[0m                                Traceback (most recent call last)",
      "\u001b[1;32m<ipython-input-8-e60256cf5b37>\u001b[0m in \u001b[0;36m<module>\u001b[1;34m\u001b[0m\n\u001b[0;32m      3\u001b[0m \u001b[0mY_data\u001b[0m \u001b[1;33m=\u001b[0m \u001b[0mdata_set\u001b[0m\u001b[1;33m[\u001b[0m\u001b[1;33m[\u001b[0m\u001b[1;34m'endx'\u001b[0m\u001b[1;33m,\u001b[0m \u001b[1;34m'endy'\u001b[0m\u001b[1;33m]\u001b[0m\u001b[1;33m]\u001b[0m\u001b[1;33m.\u001b[0m\u001b[0mto_numpy\u001b[0m\u001b[1;33m(\u001b[0m\u001b[1;33m)\u001b[0m\u001b[1;33m\u001b[0m\u001b[1;33m\u001b[0m\u001b[0m\n\u001b[0;32m      4\u001b[0m \u001b[0mX_data\u001b[0m \u001b[1;33m=\u001b[0m \u001b[0mdata_set\u001b[0m\u001b[1;33m.\u001b[0m\u001b[0mdrop\u001b[0m\u001b[1;33m(\u001b[0m\u001b[0mcolumns\u001b[0m\u001b[1;33m=\u001b[0m\u001b[1;33m[\u001b[0m\u001b[1;34m'endx'\u001b[0m\u001b[1;33m,\u001b[0m \u001b[1;34m'endy'\u001b[0m\u001b[1;33m,\u001b[0m \u001b[1;34m'start_date'\u001b[0m\u001b[1;33m,\u001b[0m \u001b[1;34m'class'\u001b[0m\u001b[1;33m,\u001b[0m\u001b[1;34m'end_cluster_group'\u001b[0m\u001b[1;33m]\u001b[0m\u001b[1;33m)\u001b[0m\u001b[1;33m.\u001b[0m\u001b[0mto_numpy\u001b[0m\u001b[1;33m(\u001b[0m\u001b[1;33m)\u001b[0m\u001b[1;33m\u001b[0m\u001b[1;33m\u001b[0m\u001b[0m\n\u001b[1;32m----> 5\u001b[1;33m \u001b[0mX_data\u001b[0m \u001b[1;33m=\u001b[0m \u001b[0mnp\u001b[0m\u001b[1;33m.\u001b[0m\u001b[0mconcatenate\u001b[0m\u001b[1;33m(\u001b[0m\u001b[1;33m(\u001b[0m\u001b[0mX_data\u001b[0m\u001b[1;33m,\u001b[0m\u001b[0mstart_c_group\u001b[0m\u001b[1;33m)\u001b[0m\u001b[1;33m,\u001b[0m\u001b[0maxis\u001b[0m\u001b[1;33m=\u001b[0m\u001b[1;36m1\u001b[0m\u001b[1;33m)\u001b[0m\u001b[1;33m\u001b[0m\u001b[1;33m\u001b[0m\u001b[0m\n\u001b[0m\u001b[0;32m      6\u001b[0m \u001b[0mX_data\u001b[0m \u001b[1;33m=\u001b[0m \u001b[0mnp\u001b[0m\u001b[1;33m.\u001b[0m\u001b[0mconcatenate\u001b[0m\u001b[1;33m(\u001b[0m\u001b[1;33m(\u001b[0m\u001b[0mX_data\u001b[0m\u001b[1;33m,\u001b[0m\u001b[0mend_c_group\u001b[0m\u001b[1;33m)\u001b[0m\u001b[1;33m,\u001b[0m\u001b[0maxis\u001b[0m\u001b[1;33m=\u001b[0m\u001b[1;36m1\u001b[0m\u001b[1;33m)\u001b[0m\u001b[1;33m\u001b[0m\u001b[1;33m\u001b[0m\u001b[0m\n",
      "\u001b[1;32m<__array_function__ internals>\u001b[0m in \u001b[0;36mconcatenate\u001b[1;34m(*args, **kwargs)\u001b[0m\n",
      "\u001b[1;31mValueError\u001b[0m: all the input arrays must have same number of dimensions, but the array at index 0 has 2 dimension(s) and the array at index 1 has 1 dimension(s)"
     ]
    }
   ],
   "source": [
    "data_set = coor_data.join(date_data.join(meta_data))\n",
    "\n",
    "Y_data = data_set[['endx', 'endy']].to_numpy()\n",
    "X_data = data_set.drop(columns=['endx', 'endy', 'start_date', 'class','end_cluster_group']).to_numpy()\n",
    "X_data = np.concatenate((X_data,start_c_group),axis=1)\n",
    "X_data = np.concatenate((X_data,end_c_group),axis=1)"
   ]
  },
  {
   "cell_type": "code",
   "execution_count": 10,
   "metadata": {},
   "outputs": [],
   "source": [
    "\n",
    "\n",
    "from sklearn.preprocessing import MinMaxScaler\n",
    "from sklearn.model_selection import train_test_split\n",
    "\n",
    "sc = MinMaxScaler(feature_range=(0,1))\n",
    "X_data_n = sc.fit_transform(X_data)\n",
    "Y_data_n = sc.fit_transform(Y_data)\n",
    "\n",
    "x_train, x_test, y_train, y_test = train_test_split(X_data_n, Y_data_n, test_size=0.3, shuffle=False)"
   ]
  },
  {
   "cell_type": "code",
   "execution_count": 11,
   "metadata": {},
   "outputs": [],
   "source": [
    "import numpy as np\n",
    "\n",
    "lstm_x_train = x_train[:,0:4].reshape(len(x_train[:,0:4]),4, 1)\n",
    "lstm_x_test = x_test[:,0:4].reshape(len(x_test[:,0:4]),4, 1)"
   ]
  },
  {
   "cell_type": "code",
   "execution_count": 17,
   "metadata": {},
   "outputs": [
    {
     "name": "stdout",
     "output_type": "stream",
     "text": [
      "Model: \"model_2\"\n",
      "__________________________________________________________________________________________________\n",
      "Layer (type)                    Output Shape         Param #     Connected to                     \n",
      "==================================================================================================\n",
      "input_11 (InputLayer)           [(None, 4, 1)]       0                                            \n",
      "__________________________________________________________________________________________________\n",
      "input_12 (InputLayer)           [(None, 59)]         0                                            \n",
      "__________________________________________________________________________________________________\n",
      "lstm_12 (LSTM)                  (None, 4, 50)        10400       input_11[0][0]                   \n",
      "__________________________________________________________________________________________________\n",
      "dense (Dense)                   (None, 50)           3000        input_12[0][0]                   \n",
      "__________________________________________________________________________________________________\n",
      "lstm_13 (LSTM)                  (None, 4, 20)        5680        lstm_12[0][0]                    \n",
      "__________________________________________________________________________________________________\n",
      "dense_1 (Dense)                 (None, 30)           1530        dense[0][0]                      \n",
      "__________________________________________________________________________________________________\n",
      "lstm_14 (LSTM)                  (None, 10)           1240        lstm_13[0][0]                    \n",
      "__________________________________________________________________________________________________\n",
      "dense_2 (Dense)                 (None, 10)           310         dense_1[0][0]                    \n",
      "__________________________________________________________________________________________________\n",
      "concatenate (Concatenate)       (None, 20)           0           lstm_14[0][0]                    \n",
      "                                                                 dense_2[0][0]                    \n",
      "__________________________________________________________________________________________________\n",
      "dense_3 (Dense)                 (None, 2)            42          concatenate[0][0]                \n",
      "==================================================================================================\n",
      "Total params: 22,202\n",
      "Trainable params: 22,202\n",
      "Non-trainable params: 0\n",
      "__________________________________________________________________________________________________\n"
     ]
    }
   ],
   "source": [
    "from tensorflow.keras import layers, Model\n",
    "from tensorflow.python.keras.layers.core import Dense, Activation, Dropout\n",
    "from tensorflow.python.keras.layers.recurrent import LSTM\n",
    "inputA = layers.Input(shape=(4, 1))\n",
    "inputB = layers.Input(shape=(59))\n",
    "\n",
    "x = LSTM(units=50, batch_input_shape=(4, 1), return_sequences=True )(inputA)\n",
    "x = LSTM(units=20, return_sequences=True )(x)\n",
    "x = LSTM(units=10, return_sequences=False )(x)\n",
    "x = Model(inputs=inputA, outputs=x)\n",
    "y = Dense(50, activation=\"relu\")(inputB)\n",
    "y = Dense(30)(y)\n",
    "y = Dense(10)(y)\n",
    "y = Model(inputs=inputB, outputs=y)\n",
    "\n",
    "combined = layers.concatenate([x.output, y.output])\n",
    "\n",
    "z = Dense(2)(combined)\n",
    "\n",
    "model = Model(inputs=[x.input,y.input], outputs=z)\n",
    "model.summary()"
   ]
  },
  {
   "cell_type": "code",
   "execution_count": 35,
   "metadata": {},
   "outputs": [
    {
     "name": "stdout",
     "output_type": "stream",
     "text": [
      "Train on 321634 samples, validate on 137844 samples\n",
      "Epoch 1/100\n",
      "321634/321634 [==============================] - 168s 523us/sample - loss: 0.0155 - loss_haversine: 2.7564 - val_loss: 0.0142 - val_loss_haversine: 2.5148\n",
      "Epoch 2/100\n",
      "321634/321634 [==============================] - 169s 525us/sample - loss: 0.0141 - loss_haversine: 2.4927 - val_loss: 0.0127 - val_loss_haversine: 2.2486\n",
      "Epoch 3/100\n",
      "321634/321634 [==============================] - 193s 599us/sample - loss: 0.0135 - loss_haversine: 2.3869 - val_loss: 0.0136 - val_loss_haversine: 2.3804\n",
      "Epoch 4/100\n",
      "321634/321634 [==============================] - 183s 569us/sample - loss: 0.0130 - loss_haversine: 2.3072 - val_loss: 0.0120 - val_loss_haversine: 2.1202\n",
      "Epoch 5/100\n",
      "321634/321634 [==============================] - 190s 592us/sample - loss: 0.0127 - loss_haversine: 2.2526 - val_loss: 0.0119 - val_loss_haversine: 2.1163\n",
      "Epoch 6/100\n",
      "321634/321634 [==============================] - 187s 582us/sample - loss: 0.0125 - loss_haversine: 2.2191 - val_loss: 0.0120 - val_loss_haversine: 2.1299\n",
      "Epoch 7/100\n",
      "321634/321634 [==============================] - 172s 535us/sample - loss: 0.0123 - loss_haversine: 2.1881 - val_loss: 0.0120 - val_loss_haversine: 2.1198\n",
      "Epoch 8/100\n",
      "321634/321634 [==============================] - 178s 552us/sample - loss: 0.0122 - loss_haversine: 2.1610 - val_loss: 0.0114 - val_loss_haversine: 2.0152\n",
      "Epoch 9/100\n",
      "321634/321634 [==============================] - 180s 561us/sample - loss: 0.0120 - loss_haversine: 2.1373 - val_loss: 0.0114 - val_loss_haversine: 2.0309\n",
      "Epoch 10/100\n",
      "321634/321634 [==============================] - 183s 568us/sample - loss: 0.0119 - loss_haversine: 2.1144 - val_loss: 0.0114 - val_loss_haversine: 2.0160\n",
      "Epoch 11/100\n",
      "321634/321634 [==============================] - 181s 561us/sample - loss: 0.0118 - loss_haversine: 2.1009 - val_loss: 0.0112 - val_loss_haversine: 1.9818\n",
      "Epoch 12/100\n",
      "321634/321634 [==============================] - 180s 558us/sample - loss: 0.0118 - loss_haversine: 2.0874 - val_loss: 0.0112 - val_loss_haversine: 1.9830\n",
      "Epoch 13/100\n",
      "321634/321634 [==============================] - 180s 560us/sample - loss: 0.0117 - loss_haversine: 2.0704 - val_loss: 0.0109 - val_loss_haversine: 1.9437\n",
      "Epoch 14/100\n",
      "321634/321634 [==============================] - 179s 557us/sample - loss: 0.0116 - loss_haversine: 2.0569 - val_loss: 0.0120 - val_loss_haversine: 2.1159\n",
      "Epoch 15/100\n",
      "321634/321634 [==============================] - 178s 553us/sample - loss: 0.0115 - loss_haversine: 2.0465 - val_loss: 0.0115 - val_loss_haversine: 2.0465\n",
      "Epoch 16/100\n",
      "321634/321634 [==============================] - 181s 562us/sample - loss: 0.0115 - loss_haversine: 2.0382 - val_loss: 0.0108 - val_loss_haversine: 1.9095\n",
      "Epoch 17/100\n",
      "321634/321634 [==============================] - 184s 573us/sample - loss: 0.0114 - loss_haversine: 2.0258 - val_loss: 0.0112 - val_loss_haversine: 1.9841\n",
      "Epoch 18/100\n",
      "321634/321634 [==============================] - 180s 558us/sample - loss: 0.0114 - loss_haversine: 2.0180 - val_loss: 0.0109 - val_loss_haversine: 1.9235\n",
      "Epoch 19/100\n",
      "321634/321634 [==============================] - 145s 452us/sample - loss: 0.0113 - loss_haversine: 2.0094 - val_loss: 0.0116 - val_loss_haversine: 2.0704\n",
      "Epoch 20/100\n",
      "321634/321634 [==============================] - 139s 431us/sample - loss: 0.0113 - loss_haversine: 2.0032 - val_loss: 0.0108 - val_loss_haversine: 1.9090\n",
      "Epoch 21/100\n",
      "321634/321634 [==============================] - 138s 429us/sample - loss: 0.0112 - loss_haversine: 1.9966 - val_loss: 0.0108 - val_loss_haversine: 1.9244\n",
      "Epoch 22/100\n",
      "321634/321634 [==============================] - 137s 427us/sample - loss: 0.0112 - loss_haversine: 1.9916 - val_loss: 0.0109 - val_loss_haversine: 1.9348\n",
      "Epoch 23/100\n",
      "321634/321634 [==============================] - 139s 431us/sample - loss: 0.0112 - loss_haversine: 1.9855 - val_loss: 0.0107 - val_loss_haversine: 1.9059\n",
      "Epoch 24/100\n",
      "321634/321634 [==============================] - 148s 461us/sample - loss: 0.0112 - loss_haversine: 1.9836 - val_loss: 0.0108 - val_loss_haversine: 1.9006\n",
      "Epoch 25/100\n",
      "321634/321634 [==============================] - 150s 468us/sample - loss: 0.0111 - loss_haversine: 1.9786 - val_loss: 0.0106 - val_loss_haversine: 1.8804\n",
      "Epoch 26/100\n",
      "321634/321634 [==============================] - 147s 458us/sample - loss: 0.0111 - loss_haversine: 1.9748 - val_loss: 0.0106 - val_loss_haversine: 1.8867\n",
      "Epoch 27/100\n",
      "321634/321634 [==============================] - 144s 448us/sample - loss: 0.0111 - loss_haversine: 1.9714 - val_loss: 0.0108 - val_loss_haversine: 1.9050\n",
      "Epoch 28/100\n",
      "321634/321634 [==============================] - 145s 451us/sample - loss: 0.0111 - loss_haversine: 1.9676 - val_loss: 0.0105 - val_loss_haversine: 1.8711\n",
      "Epoch 29/100\n",
      "321634/321634 [==============================] - 147s 456us/sample - loss: 0.0110 - loss_haversine: 1.9630 - val_loss: 0.0106 - val_loss_haversine: 1.8830\n",
      "Epoch 30/100\n",
      "321634/321634 [==============================] - 154s 480us/sample - loss: 0.0110 - loss_haversine: 1.9602 - val_loss: 0.0107 - val_loss_haversine: 1.9089\n",
      "Epoch 31/100\n",
      "321634/321634 [==============================] - 156s 486us/sample - loss: 0.0110 - loss_haversine: 1.9588 - val_loss: 0.0109 - val_loss_haversine: 1.9243\n",
      "Epoch 32/100\n",
      "321634/321634 [==============================] - 138s 428us/sample - loss: 0.0110 - loss_haversine: 1.9551 - val_loss: 0.0107 - val_loss_haversine: 1.9107\n",
      "Epoch 33/100\n",
      "321634/321634 [==============================] - 135s 419us/sample - loss: 0.0110 - loss_haversine: 1.9520 - val_loss: 0.0106 - val_loss_haversine: 1.8765\n",
      "Epoch 34/100\n",
      "321634/321634 [==============================] - 134s 418us/sample - loss: 0.0110 - loss_haversine: 1.9483 - val_loss: 0.0105 - val_loss_haversine: 1.8574\n",
      "Epoch 35/100\n",
      "321634/321634 [==============================] - 134s 417us/sample - loss: 0.0110 - loss_haversine: 1.9478 - val_loss: 0.0105 - val_loss_haversine: 1.8609\n",
      "Epoch 36/100\n",
      "321634/321634 [==============================] - 134s 416us/sample - loss: 0.0109 - loss_haversine: 1.9448 - val_loss: 0.0106 - val_loss_haversine: 1.8759\n",
      "Epoch 37/100\n",
      "321634/321634 [==============================] - 133s 412us/sample - loss: 0.0109 - loss_haversine: 1.9431 - val_loss: 0.0110 - val_loss_haversine: 1.9376\n",
      "Epoch 38/100\n",
      "321634/321634 [==============================] - 133s 412us/sample - loss: 0.0109 - loss_haversine: 1.9410 - val_loss: 0.0107 - val_loss_haversine: 1.8969\n",
      "Epoch 39/100\n",
      "321634/321634 [==============================] - 132s 412us/sample - loss: 0.0109 - loss_haversine: 1.9376 - val_loss: 0.0105 - val_loss_haversine: 1.8632\n",
      "Epoch 40/100\n",
      "321634/321634 [==============================] - 133s 412us/sample - loss: 0.0109 - loss_haversine: 1.9365 - val_loss: 0.0106 - val_loss_haversine: 1.8861\n",
      "Epoch 41/100\n",
      "321634/321634 [==============================] - 133s 412us/sample - loss: 0.0109 - loss_haversine: 1.9345 - val_loss: 0.0106 - val_loss_haversine: 1.8719\n",
      "Epoch 42/100\n",
      "321634/321634 [==============================] - 133s 412us/sample - loss: 0.0109 - loss_haversine: 1.9310 - val_loss: 0.0105 - val_loss_haversine: 1.8660\n",
      "Epoch 43/100\n",
      "321634/321634 [==============================] - 133s 413us/sample - loss: 0.0108 - loss_haversine: 1.9298 - val_loss: 0.0105 - val_loss_haversine: 1.8644\n",
      "Epoch 44/100\n",
      "321634/321634 [==============================] - 133s 413us/sample - loss: 0.0108 - loss_haversine: 1.9285 - val_loss: 0.0105 - val_loss_haversine: 1.8638\n",
      "Epoch 45/100\n",
      "321634/321634 [==============================] - 133s 413us/sample - loss: 0.0108 - loss_haversine: 1.9270 - val_loss: 0.0110 - val_loss_haversine: 1.9410\n",
      "Epoch 46/100\n",
      "321634/321634 [==============================] - 132s 412us/sample - loss: 0.0108 - loss_haversine: 1.9253 - val_loss: 0.0109 - val_loss_haversine: 1.9254\n",
      "Epoch 47/100\n",
      "321634/321634 [==============================] - 133s 412us/sample - loss: 0.0108 - loss_haversine: 1.9228 - val_loss: 0.0106 - val_loss_haversine: 1.8785\n",
      "Epoch 48/100\n",
      "321634/321634 [==============================] - 132s 412us/sample - loss: 0.0108 - loss_haversine: 1.9212 - val_loss: 0.0106 - val_loss_haversine: 1.8821\n",
      "Epoch 49/100\n",
      "321634/321634 [==============================] - 133s 413us/sample - loss: 0.0108 - loss_haversine: 1.9194 - val_loss: 0.0104 - val_loss_haversine: 1.8532\n",
      "Epoch 50/100\n",
      "321634/321634 [==============================] - 133s 412us/sample - loss: 0.0108 - loss_haversine: 1.9187 - val_loss: 0.0106 - val_loss_haversine: 1.8836\n",
      "Epoch 51/100\n",
      "321634/321634 [==============================] - 133s 413us/sample - loss: 0.0108 - loss_haversine: 1.9165 - val_loss: 0.0106 - val_loss_haversine: 1.8794\n",
      "Epoch 52/100\n",
      "321634/321634 [==============================] - 133s 413us/sample - loss: 0.0108 - loss_haversine: 1.9127 - val_loss: 0.0105 - val_loss_haversine: 1.8667\n",
      "Epoch 53/100\n",
      "321634/321634 [==============================] - 133s 413us/sample - loss: 0.0108 - loss_haversine: 1.9116 - val_loss: 0.0106 - val_loss_haversine: 1.8747\n",
      "Epoch 54/100\n",
      "321634/321634 [==============================] - 133s 412us/sample - loss: 0.0108 - loss_haversine: 1.9110 - val_loss: 0.0107 - val_loss_haversine: 1.8932\n",
      "Epoch 55/100\n",
      "321634/321634 [==============================] - 133s 412us/sample - loss: 0.0107 - loss_haversine: 1.9092 - val_loss: 0.0111 - val_loss_haversine: 1.9698\n",
      "Epoch 56/100\n",
      "321634/321634 [==============================] - 133s 413us/sample - loss: 0.0107 - loss_haversine: 1.9065 - val_loss: 0.0105 - val_loss_haversine: 1.8528\n",
      "Epoch 57/100\n",
      "321634/321634 [==============================] - 133s 414us/sample - loss: 0.0107 - loss_haversine: 1.9045 - val_loss: 0.0105 - val_loss_haversine: 1.8669\n",
      "Epoch 58/100\n",
      "321634/321634 [==============================] - 132s 412us/sample - loss: 0.0107 - loss_haversine: 1.9033 - val_loss: 0.0105 - val_loss_haversine: 1.8701\n",
      "Epoch 59/100\n",
      "321634/321634 [==============================] - 132s 411us/sample - loss: 0.0107 - loss_haversine: 1.9026 - val_loss: 0.0105 - val_loss_haversine: 1.8595\n",
      "Epoch 60/100\n",
      "321634/321634 [==============================] - 132s 412us/sample - loss: 0.0107 - loss_haversine: 1.8989 - val_loss: 0.0106 - val_loss_haversine: 1.8763\n",
      "Epoch 61/100\n",
      "321634/321634 [==============================] - 132s 412us/sample - loss: 0.0107 - loss_haversine: 1.8981 - val_loss: 0.0105 - val_loss_haversine: 1.8666\n",
      "Epoch 62/100\n",
      "321634/321634 [==============================] - 132s 411us/sample - loss: 0.0107 - loss_haversine: 1.8950 - val_loss: 0.0104 - val_loss_haversine: 1.8541\n",
      "Epoch 63/100\n",
      "321634/321634 [==============================] - 132s 412us/sample - loss: 0.0107 - loss_haversine: 1.8945 - val_loss: 0.0104 - val_loss_haversine: 1.8538\n",
      "Epoch 64/100\n",
      "321634/321634 [==============================] - 133s 412us/sample - loss: 0.0107 - loss_haversine: 1.8940 - val_loss: 0.0104 - val_loss_haversine: 1.8424\n",
      "Epoch 65/100\n",
      "321634/321634 [==============================] - 133s 412us/sample - loss: 0.0106 - loss_haversine: 1.8917 - val_loss: 0.0107 - val_loss_haversine: 1.8997\n",
      "Epoch 66/100\n",
      "321634/321634 [==============================] - 132s 412us/sample - loss: 0.0106 - loss_haversine: 1.8904 - val_loss: 0.0105 - val_loss_haversine: 1.8650\n",
      "Epoch 67/100\n",
      "321634/321634 [==============================] - 133s 412us/sample - loss: 0.0106 - loss_haversine: 1.8910 - val_loss: 0.0105 - val_loss_haversine: 1.8575\n",
      "Epoch 68/100\n",
      "321634/321634 [==============================] - 133s 413us/sample - loss: 0.0106 - loss_haversine: 1.8886 - val_loss: 0.0105 - val_loss_haversine: 1.8576\n",
      "Epoch 69/100\n",
      "321634/321634 [==============================] - 133s 412us/sample - loss: 0.0106 - loss_haversine: 1.8894 - val_loss: 0.0107 - val_loss_haversine: 1.8948\n",
      "Epoch 70/100\n",
      "321634/321634 [==============================] - 133s 413us/sample - loss: 0.0106 - loss_haversine: 1.8887 - val_loss: 0.0108 - val_loss_haversine: 1.9132\n",
      "Epoch 71/100\n",
      "321634/321634 [==============================] - 132s 412us/sample - loss: 0.0106 - loss_haversine: 1.8850 - val_loss: 0.0105 - val_loss_haversine: 1.8678\n",
      "Epoch 72/100\n",
      "321634/321634 [==============================] - 133s 412us/sample - loss: 0.0106 - loss_haversine: 1.8840 - val_loss: 0.0104 - val_loss_haversine: 1.8364\n",
      "Epoch 73/100\n",
      "321634/321634 [==============================] - 133s 412us/sample - loss: 0.0106 - loss_haversine: 1.8845 - val_loss: 0.0104 - val_loss_haversine: 1.8427\n",
      "Epoch 74/100\n",
      "321634/321634 [==============================] - 133s 413us/sample - loss: 0.0106 - loss_haversine: 1.8836 - val_loss: 0.0103 - val_loss_haversine: 1.8257\n",
      "Epoch 75/100\n",
      "321634/321634 [==============================] - 133s 413us/sample - loss: 0.0106 - loss_haversine: 1.8831 - val_loss: 0.0105 - val_loss_haversine: 1.8501\n",
      "Epoch 76/100\n",
      "321634/321634 [==============================] - 133s 413us/sample - loss: 0.0106 - loss_haversine: 1.8816 - val_loss: 0.0103 - val_loss_haversine: 1.8298\n",
      "Epoch 77/100\n",
      "321634/321634 [==============================] - 133s 413us/sample - loss: 0.0106 - loss_haversine: 1.8789 - val_loss: 0.0105 - val_loss_haversine: 1.8589\n",
      "Epoch 78/100\n",
      "321634/321634 [==============================] - 133s 413us/sample - loss: 0.0106 - loss_haversine: 1.8813 - val_loss: 0.0104 - val_loss_haversine: 1.8468\n",
      "Epoch 79/100\n",
      "321634/321634 [==============================] - 133s 413us/sample - loss: 0.0106 - loss_haversine: 1.8781 - val_loss: 0.0104 - val_loss_haversine: 1.8403\n",
      "Epoch 80/100\n",
      "321634/321634 [==============================] - 133s 413us/sample - loss: 0.0106 - loss_haversine: 1.8802 - val_loss: 0.0103 - val_loss_haversine: 1.8339\n",
      "Epoch 81/100\n",
      "321634/321634 [==============================] - 133s 412us/sample - loss: 0.0106 - loss_haversine: 1.8774 - val_loss: 0.0104 - val_loss_haversine: 1.8507\n",
      "Epoch 82/100\n",
      "321634/321634 [==============================] - 133s 413us/sample - loss: 0.0106 - loss_haversine: 1.8800 - val_loss: 0.0104 - val_loss_haversine: 1.8370\n",
      "Epoch 83/100\n",
      "321634/321634 [==============================] - 133s 413us/sample - loss: 0.0105 - loss_haversine: 1.8742 - val_loss: 0.0104 - val_loss_haversine: 1.8457\n",
      "Epoch 84/100\n",
      "321634/321634 [==============================] - 133s 413us/sample - loss: 0.0105 - loss_haversine: 1.8741 - val_loss: 0.0104 - val_loss_haversine: 1.8475\n",
      "Epoch 85/100\n",
      "321634/321634 [==============================] - 133s 413us/sample - loss: 0.0105 - loss_haversine: 1.8748 - val_loss: 0.0105 - val_loss_haversine: 1.8540\n",
      "Epoch 86/100\n",
      "321634/321634 [==============================] - 133s 413us/sample - loss: 0.0105 - loss_haversine: 1.8728 - val_loss: 0.0103 - val_loss_haversine: 1.8370\n",
      "Epoch 87/100\n",
      "321634/321634 [==============================] - 133s 413us/sample - loss: 0.0105 - loss_haversine: 1.8742 - val_loss: 0.0104 - val_loss_haversine: 1.8399\n",
      "Epoch 88/100\n",
      "321634/321634 [==============================] - 133s 413us/sample - loss: 0.0105 - loss_haversine: 1.8733 - val_loss: 0.0104 - val_loss_haversine: 1.8427\n",
      "Epoch 89/100\n",
      "321634/321634 [==============================] - 133s 413us/sample - loss: 0.0105 - loss_haversine: 1.8723 - val_loss: 0.0106 - val_loss_haversine: 1.8741\n",
      "Epoch 90/100\n",
      "321634/321634 [==============================] - 133s 413us/sample - loss: 0.0105 - loss_haversine: 1.8703 - val_loss: 0.0105 - val_loss_haversine: 1.8627\n",
      "Epoch 91/100\n",
      "321634/321634 [==============================] - 133s 413us/sample - loss: 0.0105 - loss_haversine: 1.8694 - val_loss: 0.0105 - val_loss_haversine: 1.8500\n",
      "Epoch 92/100\n",
      "321634/321634 [==============================] - 138s 428us/sample - loss: 0.0105 - loss_haversine: 1.8694 - val_loss: 0.0104 - val_loss_haversine: 1.8397\n",
      "Epoch 93/100\n",
      "321634/321634 [==============================] - 133s 413us/sample - loss: 0.0105 - loss_haversine: 1.8685 - val_loss: 0.0105 - val_loss_haversine: 1.8558\n",
      "Epoch 94/100\n",
      "321634/321634 [==============================] - 133s 413us/sample - loss: 0.0105 - loss_haversine: 1.8690 - val_loss: 0.0105 - val_loss_haversine: 1.8581\n",
      "Epoch 95/100\n",
      "321634/321634 [==============================] - 133s 413us/sample - loss: 0.0105 - loss_haversine: 1.8687 - val_loss: 0.0104 - val_loss_haversine: 1.8381\n",
      "Epoch 96/100\n",
      "321634/321634 [==============================] - 133s 413us/sample - loss: 0.0105 - loss_haversine: 1.8686 - val_loss: 0.0104 - val_loss_haversine: 1.8494\n",
      "Epoch 97/100\n",
      "321634/321634 [==============================] - 133s 413us/sample - loss: 0.0105 - loss_haversine: 1.8671 - val_loss: 0.0104 - val_loss_haversine: 1.8520\n",
      "Epoch 98/100\n",
      "321634/321634 [==============================] - 133s 413us/sample - loss: 0.0105 - loss_haversine: 1.8641 - val_loss: 0.0103 - val_loss_haversine: 1.8262\n",
      "Epoch 99/100\n",
      "321634/321634 [==============================] - 133s 413us/sample - loss: 0.0105 - loss_haversine: 1.8640 - val_loss: 0.0104 - val_loss_haversine: 1.8365\n",
      "Epoch 100/100\n",
      "321634/321634 [==============================] - 133s 413us/sample - loss: 0.0105 - loss_haversine: 1.8670 - val_loss: 0.0103 - val_loss_haversine: 1.8182\n"
     ]
    },
    {
     "data": {
      "text/plain": [
       "<tensorflow.python.keras.callbacks.History at 0x1ab4b66c488>"
      ]
     },
     "execution_count": 35,
     "metadata": {},
     "output_type": "execute_result"
    }
   ],
   "source": [
    "\n",
    "from tensorflow.python.keras.callbacks import EarlyStopping\n",
    "\n",
    "RADIUS_KM = 6378.1\n",
    "\n",
    "def degrees_to_radians(deg):\n",
    "    pi_on_180 = 0.017453292519943295\n",
    "    return deg * pi_on_180\n",
    "\n",
    "def loss_haversine(observation, prediction):    \n",
    "    obv_rad = tf.map_fn(degrees_to_radians, observation)\n",
    "    prev_rad = tf.map_fn(degrees_to_radians, prediction)\n",
    "\n",
    "    dlon_dlat = obv_rad - prev_rad \n",
    "    v = dlon_dlat / 2\n",
    "    v = tf.sin(v)\n",
    "    v = v**2\n",
    "\n",
    "    a = v[:,1] + tf.cos(obv_rad[:,1]) * tf.cos(prev_rad[:,1]) * v[:,0] \n",
    "\n",
    "    c = tf.sqrt(a)\n",
    "    c = 2* tf.math.asin(c)\n",
    "    c = c*RADIUS_KM\n",
    "    final = tf.reduce_sum(c)\n",
    "\n",
    "    final = final/tf.dtypes.cast(tf.shape(observation)[0], dtype= tf.float32)\n",
    "\n",
    "    return final\n",
    "    \n",
    "model.compile(loss=\"mean_absolute_error\", optimizer=\"adam\", metrics=[loss_haversine])\n",
    "\n",
    "callback = EarlyStopping(monitor='loss', patience=10, mode=\"auto\")\n",
    "model.fit([lstm_x_train,x_train[:,4:]], y_train, epochs=100, validation_data=([lstm_x_test,x_test[:,4:]], y_test), callbacks=[callback])"
   ]
  },
  {
   "cell_type": "code",
   "execution_count": 36,
   "metadata": {},
   "outputs": [
    {
     "data": {
      "text/plain": [
       "<matplotlib.collections.PathCollection at 0x1ab4af8d248>"
      ]
     },
     "execution_count": 36,
     "metadata": {},
     "output_type": "execute_result"
    },
    {
     "data": {
      "image/png": "[encoded data removed]",
      "text/plain": [
       "<Figure size 432x288 with 1 Axes>"
      ]
     },
     "metadata": {
      "needs_background": "light"
     },
     "output_type": "display_data"
    }
   ],
   "source": [
    "import matplotlib.pyplot as plt\n",
    "import numpy as np\n",
    "sc.fit_transform(Y_data)\n",
    "result_Y = model.predict([lstm_x_test,x_test[:,4:]])\n",
    "\n",
    "\n",
    "result_Y_plot = sc.inverse_transform(result_Y)\n",
    "y_test_plot = sc.inverse_transform(y_test)\n",
    "plt.scatter((y_test_plot[:,0]),(y_test_plot[:,1]), color='b', s= 1)\n",
    "plt.scatter((result_Y_plot[:,0]), (result_Y_plot[:,1]), color='r', s= 1)\n",
    "\n"
   ]
  },
  {
   "cell_type": "code",
   "execution_count": 41,
   "metadata": {},
   "outputs": [
    {
     "data": {
      "text/plain": [
       "array([[0.66981375, 0.56708825],\n",
       "       [0.57056653, 0.56098044],\n",
       "       [0.52156276, 0.5589793 ],\n",
       "       ...,\n",
       "       [0.6285573 , 0.5819899 ],\n",
       "       [0.67606485, 0.5670042 ],\n",
       "       [0.67606485, 0.5670042 ]], dtype=float32)"
      ]
     },
     "execution_count": 41,
     "metadata": {},
     "output_type": "execute_result"
    }
   ],
   "source": [
    "def haversine(coord1: object, coord2: object):\n",
    "    import math\n",
    "\n",
    "    # Coordinates in decimal degrees (e.g. 2.89078, 12.79797)\n",
    "    lon1, lat1 = coord1\n",
    "    lon2, lat2 = coord2\n",
    "\n",
    "    R = 6371000  # radius of Earth in meters\n",
    "    phi_1 = math.radians(lat1)\n",
    "    phi_2 = math.radians(lat2)\n",
    "\n",
    "    delta_phi = math.radians(lat2 - lat1)\n",
    "    delta_lambda = math.radians(lon2 - lon1)\n",
    "\n",
    "    a = math.sin(delta_phi / 2.0) ** 2 + math.cos(phi_1) * math.cos(phi_2) * math.sin(delta_lambda / 2.0) ** 2\n",
    "    \n",
    "    c = 2 * math.atan2(math.sqrt(a), math.sqrt(1 - a))\n",
    "\n",
    "    meters = R * c  # output distance in meters\n",
    "    km = meters / 1000.0  # output distance in kilometers\n",
    "\n",
    "    meters = round(meters, 3)\n",
    "    km = round(km, 3)\n",
    "    return km"
   ]
  },
  {
   "cell_type": "code",
   "execution_count": 66,
   "metadata": {},
   "outputs": [
    {
     "name": "stderr",
     "output_type": "stream",
     "text": [
      "100% (1563 of 1563) |####################| Elapsed Time: 0:00:00 Time:  0:00:00\n",
      "100% (1032 of 1032) |####################| Elapsed Time: 0:00:00 Time:  0:00:00\n",
      "100% (619 of 619) |######################| Elapsed Time: 0:00:00 Time:  0:00:00\n",
      "100% (305 of 305) |######################| Elapsed Time: 0:00:00 Time:  0:00:00\n",
      "100% (204 of 204) |######################| Elapsed Time: 0:00:00 Time:  0:00:00\n",
      "100% (447 of 447) |######################| Elapsed Time: 0:00:00 Time:  0:00:00\n",
      "100% (1358 of 1358) |####################| Elapsed Time: 0:00:00 Time:  0:00:00\n",
      "100% (3467 of 3467) |####################| Elapsed Time: 0:00:00 Time:  0:00:00\n",
      "100% (5374 of 5374) |####################| Elapsed Time: 0:00:00 Time:  0:00:00\n",
      "100% (4080 of 4080) |####################| Elapsed Time: 0:00:00 Time:  0:00:00\n",
      "100% (4236 of 4236) |####################| Elapsed Time: 0:00:00 Time:  0:00:00\n",
      "100% (6461 of 6461) |####################| Elapsed Time: 0:00:00 Time:  0:00:00\n",
      "100% (7760 of 7760) |####################| Elapsed Time: 0:00:00 Time:  0:00:00\n",
      "100% (8318 of 8318) |####################| Elapsed Time: 0:00:00 Time:  0:00:00\n",
      "100% (8342 of 8342) |####################| Elapsed Time: 0:00:00 Time:  0:00:00\n",
      "100% (9893 of 9893) |####################| Elapsed Time: 0:00:00 Time:  0:00:00\n",
      "100% (12251 of 12251) |##################| Elapsed Time: 0:00:00 Time:  0:00:00\n",
      "100% (12881 of 12881) |##################| Elapsed Time: 0:00:00 Time:  0:00:00\n",
      "100% (11873 of 11873) |##################| Elapsed Time: 0:00:00 Time:  0:00:00\n",
      "100% (11028 of 11028) |##################| Elapsed Time: 0:00:00 Time:  0:00:00\n",
      "100% (9084 of 9084) |####################| Elapsed Time: 0:00:00 Time:  0:00:00\n",
      "100% (8431 of 8431) |####################| Elapsed Time: 0:00:00 Time:  0:00:00\n",
      "100% (5736 of 5736) |####################| Elapsed Time: 0:00:00 Time:  0:00:00\n",
      "100% (3101 of 3101) |####################| Elapsed Time: 0:00:00 Time:  0:00:00\n"
     ]
    },
    {
     "data": {
      "text/plain": [
       "<matplotlib.collections.PathCollection at 0x1ab6749c808>"
      ]
     },
     "execution_count": 66,
     "metadata": {},
     "output_type": "execute_result"
    },
    {
     "data": {
      "image/png": "[encoded data removed]",
      "text/plain": [
       "<Figure size 432x288 with 1 Axes>"
      ]
     },
     "metadata": {
      "needs_background": "light"
     },
     "output_type": "display_data"
    }
   ],
   "source": [
    "mae_rate_hour = []\n",
    "\n",
    "sc.fit_transform(X_data)\n",
    "for index in range(24):\n",
    "    mask = np.logical_and(sc.inverse_transform(x_test)[:,3] > (index)-0.1, sc.inverse_transform(x_test)[:,3] < (index+1)-0.1)\n",
    "    result_Y_hour = result_Y[mask]\n",
    "    Y_test_in = y_test[mask]\n",
    "    error = 0\n",
    "    for i in progressbar.progressbar(range(len(Y_test_in))):\n",
    "        error = error + haversine(result_Y_hour[i],Y_test_in[i])[0]\n",
    "    end = error/len(Y_test_in)\n",
    "    error_average_distance = end\n",
    "\n",
    "    y_test[:,0] = y_test[:,0]\n",
    "    mae_rate_hour.append([float(error_average_distance), str(index)])\n",
    "\n",
    "mae_rate_hour = np.array(mae_rate_hour, dtype=np.object)\n",
    "plt.xlabel('hours')\n",
    "plt.ylabel('error_avg_distance(km)')\n",
    "plt.grid(color='black', linestyle='-', linewidth=0.3)\n",
    "plt.scatter(mae_rate_hour[:,1], mae_rate_hour[:,0], color='r', s= 1)\n"
   ]
  },
  {
   "cell_type": "code",
   "execution_count": 65,
   "metadata": {},
   "outputs": [
    {
     "data": {
      "text/plain": [
       "array([ 0., 48., 54., ..., 83.,  0.,  0.])"
      ]
     },
     "execution_count": 65,
     "metadata": {},
     "output_type": "execute_result"
    }
   ],
   "source": [
    "sc.inverse_transform(x_test)[:,2]"
   ]
  },
  {
   "cell_type": "code",
   "execution_count": 55,
   "metadata": {},
   "outputs": [
    {
     "ename": "TypeError",
     "evalue": "list indices must be integers or slices, not tuple",
     "output_type": "error",
     "traceback": [
      "\u001b[1;31m---------------------------------------------------------------------------\u001b[0m",
      "\u001b[1;31mTypeError\u001b[0m                                 Traceback (most recent call last)",
      "\u001b[1;32m<ipython-input-55-b8552208a6c0>\u001b[0m in \u001b[0;36m<module>\u001b[1;34m\u001b[0m\n\u001b[1;32m----> 1\u001b[1;33m \u001b[0mmae_rate_hour\u001b[0m\u001b[1;33m[\u001b[0m\u001b[1;33m:\u001b[0m\u001b[1;33m,\u001b[0m\u001b[1;36m0\u001b[0m\u001b[1;33m]\u001b[0m\u001b[1;33m\u001b[0m\u001b[1;33m\u001b[0m\u001b[0m\n\u001b[0m",
      "\u001b[1;31mTypeError\u001b[0m: list indices must be integers or slices, not tuple"
     ]
    }
   ],
   "source": [
    "mae_rate_hour[:,0]"
   ]
  },
  {
   "cell_type": "code",
   "execution_count": 71,
   "metadata": {},
   "outputs": [
    {
     "name": "stderr",
     "output_type": "stream",
     "text": [
      " 11% (15704 of 137844) |#                | Elapsed Time: 0:00:00 ETA:   0:00:01"
     ]
    },
    {
     "ename": "IndexError",
     "evalue": "index 15875 is out of bounds for axis 0 with size 15875",
     "output_type": "error",
     "traceback": [
      "\u001b[1;31m---------------------------------------------------------------------------\u001b[0m",
      "\u001b[1;31mIndexError\u001b[0m                                Traceback (most recent call last)",
      "\u001b[1;32m<ipython-input-71-1567ff86698a>\u001b[0m in \u001b[0;36m<module>\u001b[1;34m\u001b[0m\n\u001b[0;32m      8\u001b[0m     \u001b[0merror\u001b[0m \u001b[1;33m=\u001b[0m \u001b[1;36m0\u001b[0m\u001b[1;33m\u001b[0m\u001b[1;33m\u001b[0m\u001b[0m\n\u001b[0;32m      9\u001b[0m     \u001b[1;32mfor\u001b[0m \u001b[0mi\u001b[0m \u001b[1;32min\u001b[0m \u001b[0mprogressbar\u001b[0m\u001b[1;33m.\u001b[0m\u001b[0mprogressbar\u001b[0m\u001b[1;33m(\u001b[0m\u001b[0mrange\u001b[0m\u001b[1;33m(\u001b[0m\u001b[0mlen\u001b[0m\u001b[1;33m(\u001b[0m\u001b[0mY_test_in\u001b[0m\u001b[1;33m)\u001b[0m\u001b[1;33m)\u001b[0m\u001b[1;33m)\u001b[0m\u001b[1;33m:\u001b[0m\u001b[1;33m\u001b[0m\u001b[1;33m\u001b[0m\u001b[0m\n\u001b[1;32m---> 10\u001b[1;33m         \u001b[0merror\u001b[0m \u001b[1;33m=\u001b[0m \u001b[0merror\u001b[0m \u001b[1;33m+\u001b[0m \u001b[0mhaversine\u001b[0m\u001b[1;33m(\u001b[0m\u001b[0mresult_Y_day_of_week\u001b[0m\u001b[1;33m[\u001b[0m\u001b[0mi\u001b[0m\u001b[1;33m]\u001b[0m\u001b[1;33m,\u001b[0m\u001b[0mY_test_in\u001b[0m\u001b[1;33m[\u001b[0m\u001b[0mi\u001b[0m\u001b[1;33m]\u001b[0m\u001b[1;33m)\u001b[0m\u001b[1;33m[\u001b[0m\u001b[1;36m0\u001b[0m\u001b[1;33m]\u001b[0m\u001b[1;33m\u001b[0m\u001b[1;33m\u001b[0m\u001b[0m\n\u001b[0m\u001b[0;32m     11\u001b[0m     \u001b[0mend\u001b[0m \u001b[1;33m=\u001b[0m \u001b[0merror\u001b[0m\u001b[1;33m/\u001b[0m\u001b[0mlen\u001b[0m\u001b[1;33m(\u001b[0m\u001b[0mY_test_in\u001b[0m\u001b[1;33m)\u001b[0m\u001b[1;33m\u001b[0m\u001b[1;33m\u001b[0m\u001b[0m\n\u001b[0;32m     12\u001b[0m     \u001b[0merror_average_distance\u001b[0m \u001b[1;33m=\u001b[0m \u001b[0mend\u001b[0m\u001b[1;33m\u001b[0m\u001b[1;33m\u001b[0m\u001b[0m\n",
      "\u001b[1;31mIndexError\u001b[0m: index 15875 is out of bounds for axis 0 with size 15875"
     ]
    }
   ],
   "source": [
    "mae_rate_day_of_week = []\n",
    "\n",
    "sc.fit_transform(X_data)\n",
    "for index in range(7):\n",
    "    mask = np.logical_and(sc.inverse_transform(x_test)[:,4] > (index)-0.1, sc.inverse_transform(x_test)[:,4] < (index+1)-0.1)\n",
    "    result_Y_day_of_week = result_Y[mask]\n",
    "    Y_test_in = y_test[mask]\n",
    "    error = 0\n",
    "    for i in progressbar.progressbar(range(len(Y_test_in))):\n",
    "        error = error + haversine(result_Y_day_of_week[i],Y_test_in[i])[0]\n",
    "    end = error/len(Y_test_in)\n",
    "    error_average_distance = end\n",
    "\n",
    "    y_test[:,0] = y_test[:,0]\n",
    "    mae_rate_day_of_week.append([float(error_average_distance), str(index+1)])\n",
    "\n",
    "mae_rate_day_of_week = np.array(mae_rate_day_of_week, dtype=np.object)\n",
    "plt.xlabel('days of week')\n",
    "plt.ylabel('error_avg_distance(km)')\n",
    "plt.grid(color='black', linestyle='-', linewidth=0.3)\n",
    "plt.scatter(mae_rate_day_of_week[:,1], mae_rate_day_of_week[:,0], color='r', s= 1)"
   ]
  },
  {
   "cell_type": "code",
   "execution_count": 70,
   "metadata": {},
   "outputs": [
    {
     "data": {
      "text/plain": [
       "array([5., 5., 5., ..., 4., 4., 4.])"
      ]
     },
     "execution_count": 70,
     "metadata": {},
     "output_type": "execute_result"
    }
   ],
   "source": []
  },
  {
   "cell_type": "code",
   "execution_count": null,
   "metadata": {},
   "outputs": [],
   "source": []
  }
 ],
 "metadata": {
  "kernelspec": {
   "display_name": "Python 3",
   "language": "python",
   "name": "python3"
  },
  "language_info": {
   "codemirror_mode": {
    "name": "ipython",
    "version": 3
   },
   "file_extension": ".py",
   "mimetype": "text/x-python",
   "name": "python",
   "nbconvert_exporter": "python",
   "pygments_lexer": "ipython3",
   "version": "3.7.9"
  }
 },
 "nbformat": 4,
 "nbformat_minor": 4
}
