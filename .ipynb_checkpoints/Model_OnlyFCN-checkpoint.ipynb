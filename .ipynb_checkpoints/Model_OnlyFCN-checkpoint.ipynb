{
 "cells": [
  {
   "cell_type": "code",
   "execution_count": 1,
   "metadata": {},
   "outputs": [
    {
     "name": "stderr",
     "output_type": "stream",
     "text": [
      "I:\\Users\\PC\\anaconda3\\envs\\my_env\\lib\\site-packages\\tensorflow\\python\\framework\\dtypes.py:516: FutureWarning: Passing (type, 1) or '1type' as a synonym of type is deprecated; in a future version of numpy, it will be understood as (type, (1,)) / '(1,)type'.\n",
      "  _np_qint8 = np.dtype([(\"qint8\", np.int8, 1)])\n",
      "I:\\Users\\PC\\anaconda3\\envs\\my_env\\lib\\site-packages\\tensorflow\\python\\framework\\dtypes.py:517: FutureWarning: Passing (type, 1) or '1type' as a synonym of type is deprecated; in a future version of numpy, it will be understood as (type, (1,)) / '(1,)type'.\n",
      "  _np_quint8 = np.dtype([(\"quint8\", np.uint8, 1)])\n",
      "I:\\Users\\PC\\anaconda3\\envs\\my_env\\lib\\site-packages\\tensorflow\\python\\framework\\dtypes.py:518: FutureWarning: Passing (type, 1) or '1type' as a synonym of type is deprecated; in a future version of numpy, it will be understood as (type, (1,)) / '(1,)type'.\n",
      "  _np_qint16 = np.dtype([(\"qint16\", np.int16, 1)])\n",
      "I:\\Users\\PC\\anaconda3\\envs\\my_env\\lib\\site-packages\\tensorflow\\python\\framework\\dtypes.py:519: FutureWarning: Passing (type, 1) or '1type' as a synonym of type is deprecated; in a future version of numpy, it will be understood as (type, (1,)) / '(1,)type'.\n",
      "  _np_quint16 = np.dtype([(\"quint16\", np.uint16, 1)])\n",
      "I:\\Users\\PC\\anaconda3\\envs\\my_env\\lib\\site-packages\\tensorflow\\python\\framework\\dtypes.py:520: FutureWarning: Passing (type, 1) or '1type' as a synonym of type is deprecated; in a future version of numpy, it will be understood as (type, (1,)) / '(1,)type'.\n",
      "  _np_qint32 = np.dtype([(\"qint32\", np.int32, 1)])\n",
      "I:\\Users\\PC\\anaconda3\\envs\\my_env\\lib\\site-packages\\tensorflow\\python\\framework\\dtypes.py:525: FutureWarning: Passing (type, 1) or '1type' as a synonym of type is deprecated; in a future version of numpy, it will be understood as (type, (1,)) / '(1,)type'.\n",
      "  np_resource = np.dtype([(\"resource\", np.ubyte, 1)])\n",
      "I:\\Users\\PC\\anaconda3\\envs\\my_env\\lib\\site-packages\\tensorboard\\compat\\tensorflow_stub\\dtypes.py:541: FutureWarning: Passing (type, 1) or '1type' as a synonym of type is deprecated; in a future version of numpy, it will be understood as (type, (1,)) / '(1,)type'.\n",
      "  _np_qint8 = np.dtype([(\"qint8\", np.int8, 1)])\n",
      "I:\\Users\\PC\\anaconda3\\envs\\my_env\\lib\\site-packages\\tensorboard\\compat\\tensorflow_stub\\dtypes.py:542: FutureWarning: Passing (type, 1) or '1type' as a synonym of type is deprecated; in a future version of numpy, it will be understood as (type, (1,)) / '(1,)type'.\n",
      "  _np_quint8 = np.dtype([(\"quint8\", np.uint8, 1)])\n",
      "I:\\Users\\PC\\anaconda3\\envs\\my_env\\lib\\site-packages\\tensorboard\\compat\\tensorflow_stub\\dtypes.py:543: FutureWarning: Passing (type, 1) or '1type' as a synonym of type is deprecated; in a future version of numpy, it will be understood as (type, (1,)) / '(1,)type'.\n",
      "  _np_qint16 = np.dtype([(\"qint16\", np.int16, 1)])\n",
      "I:\\Users\\PC\\anaconda3\\envs\\my_env\\lib\\site-packages\\tensorboard\\compat\\tensorflow_stub\\dtypes.py:544: FutureWarning: Passing (type, 1) or '1type' as a synonym of type is deprecated; in a future version of numpy, it will be understood as (type, (1,)) / '(1,)type'.\n",
      "  _np_quint16 = np.dtype([(\"quint16\", np.uint16, 1)])\n",
      "I:\\Users\\PC\\anaconda3\\envs\\my_env\\lib\\site-packages\\tensorboard\\compat\\tensorflow_stub\\dtypes.py:545: FutureWarning: Passing (type, 1) or '1type' as a synonym of type is deprecated; in a future version of numpy, it will be understood as (type, (1,)) / '(1,)type'.\n",
      "  _np_qint32 = np.dtype([(\"qint32\", np.int32, 1)])\n",
      "I:\\Users\\PC\\anaconda3\\envs\\my_env\\lib\\site-packages\\tensorboard\\compat\\tensorflow_stub\\dtypes.py:550: FutureWarning: Passing (type, 1) or '1type' as a synonym of type is deprecated; in a future version of numpy, it will be understood as (type, (1,)) / '(1,)type'.\n",
      "  np_resource = np.dtype([(\"resource\", np.ubyte, 1)])\n"
     ]
    }
   ],
   "source": [
    "import tensorflow as tf\n",
    "tf.enable_eager_execution()\n",
    "\n",
    "import pandas as pd\n",
    "\n",
    "coor_data = pd.read_csv('Data/coordata.csv')\n",
    "date_data = pd.read_csv('Data/datedata.csv')\n",
    "meta_data = pd.read_csv('Data/metadata.csv')"
   ]
  },
  {
   "cell_type": "code",
   "execution_count": 2,
   "metadata": {},
   "outputs": [],
   "source": [
    "data_set = coor_data.join(date_data.join(meta_data))\n",
    "\n",
    "Y_data = data_set[['endx', 'endy']].to_numpy()\n",
    "X_data = data_set.drop(columns=['endx', 'endy','end_grid_x', 'end_grid_y','start_grid_x', 'start_grid_y','start_cluster_group', 'start_date', 'class','end_cluster_group']).to_numpy()"
   ]
  },
  {
   "cell_type": "code",
   "execution_count": 3,
   "metadata": {},
   "outputs": [],
   "source": [
    "\n",
    "\n",
    "from sklearn.preprocessing import MinMaxScaler\n",
    "from sklearn.model_selection import train_test_split\n",
    "\n",
    "sc = MinMaxScaler(feature_range=(0,1))\n",
    "X_data_n = sc.fit_transform(X_data)\n",
    "Y_data_n = sc.fit_transform(Y_data)\n",
    "\n",
    "x_train, x_test, y_train, y_test = train_test_split(X_data_n, Y_data_n, test_size=0.3, random_state=50)"
   ]
  },
  {
   "cell_type": "code",
   "execution_count": 5,
   "metadata": {},
   "outputs": [
    {
     "name": "stdout",
     "output_type": "stream",
     "text": [
      "Model: \"model_2\"\n",
      "__________________________________________________________________________________________________\n",
      "Layer (type)                    Output Shape         Param #     Connected to                     \n",
      "==================================================================================================\n",
      "input_3 (InputLayer)            [(None, 4)]          0                                            \n",
      "__________________________________________________________________________________________________\n",
      "input_4 (InputLayer)            [(None, 59)]         0                                            \n",
      "__________________________________________________________________________________________________\n",
      "dense_1 (Dense)                 (None, 50)           250         input_3[0][0]                    \n",
      "__________________________________________________________________________________________________\n",
      "dense_2 (Dense)                 (None, 50)           3000        input_4[0][0]                    \n",
      "__________________________________________________________________________________________________\n",
      "concatenate (Concatenate)       (None, 100)          0           dense_1[0][0]                    \n",
      "                                                                 dense_2[0][0]                    \n",
      "__________________________________________________________________________________________________\n",
      "dense_3 (Dense)                 (None, 2)            202         concatenate[0][0]                \n",
      "==================================================================================================\n",
      "Total params: 3,452\n",
      "Trainable params: 3,452\n",
      "Non-trainable params: 0\n",
      "__________________________________________________________________________________________________\n"
     ]
    }
   ],
   "source": [
    "from tensorflow.keras import layers, Model\n",
    "from tensorflow.python.keras.layers.core import Dense, Activation, Dropout\n",
    "from tensorflow.python.keras.layers.recurrent import LSTM\n",
    "inputA = layers.Input(shape=(4))\n",
    "inputB = layers.Input(shape=(58))\n",
    "\n",
    "# x = Dense(50, activation=\"relu\")(inputA)\n",
    "x = Dense(50, activation=\"relu\")(inputA)\n",
    "x = Model(inputs=inputA, outputs=x)\n",
    "y = Dense(50, activation=\"relu\")(inputB)\n",
    "y = Model(inputs=inputB, outputs=y)\n",
    "\n",
    "combined = layers.concatenate([x.output, y.output])\n",
    "\n",
    "z = Dense(2)(combined)\n",
    "\n",
    "model = Model(inputs=[x.input,y.input], outputs=z)\n",
    "model.summary()"
   ]
  },
  {
   "cell_type": "code",
   "execution_count": 10,
   "metadata": {},
   "outputs": [
    {
     "name": "stdout",
     "output_type": "stream",
     "text": [
      "Train on 321634 samples, validate on 137844 samples\n",
      "Epoch 1/100\n",
      "321634/321634 [==============================] - 14s 43us/sample - loss: 0.0205 - error_avg_km: 2.2792 - acc: 0.8126 - val_loss: 0.0165 - val_error_avg_km: 1.8279 - val_acc: 0.8485\n",
      "Epoch 2/100\n",
      "321634/321634 [==============================] - 14s 44us/sample - loss: 0.0166 - error_avg_km: 1.8392 - acc: 0.8545 - val_loss: 0.0180 - val_error_avg_km: 1.9970 - val_acc: 0.8272\n",
      "Epoch 3/100\n",
      "321634/321634 [==============================] - 13s 42us/sample - loss: 0.0162 - error_avg_km: 1.7931 - acc: 0.8643 - val_loss: 0.0168 - val_error_avg_km: 1.8646 - val_acc: 0.8725\n",
      "Epoch 4/100\n",
      "321634/321634 [==============================] - 13s 41us/sample - loss: 0.0158 - error_avg_km: 1.7588 - acc: 0.8729 - val_loss: 0.0154 - val_error_avg_km: 1.7139 - val_acc: 0.8708\n",
      "Epoch 5/100\n",
      "321634/321634 [==============================] - 12s 38us/sample - loss: 0.0155 - error_avg_km: 1.7260 - acc: 0.8822 - val_loss: 0.0155 - val_error_avg_km: 1.7204 - val_acc: 0.8719\n",
      "Epoch 6/100\n",
      "321634/321634 [==============================] - 13s 41us/sample - loss: 0.0154 - error_avg_km: 1.7064 - acc: 0.8866 - val_loss: 0.0156 - val_error_avg_km: 1.7274 - val_acc: 0.8899\n",
      "Epoch 7/100\n",
      "321634/321634 [==============================] - 16s 50us/sample - loss: 0.0153 - error_avg_km: 1.6930 - acc: 0.8886 - val_loss: 0.0148 - val_error_avg_km: 1.6402 - val_acc: 0.8869\n",
      "Epoch 8/100\n",
      "321634/321634 [==============================] - 16s 48us/sample - loss: 0.0151 - error_avg_km: 1.6809 - acc: 0.8901 - val_loss: 0.0153 - val_error_avg_km: 1.7031 - val_acc: 0.8966\n",
      "Epoch 9/100\n",
      "321634/321634 [==============================] - 15s 45us/sample - loss: 0.0150 - error_avg_km: 1.6693 - acc: 0.8922 - val_loss: 0.0153 - val_error_avg_km: 1.6973 - val_acc: 0.8784\n",
      "Epoch 10/100\n",
      "321634/321634 [==============================] - 14s 43us/sample - loss: 0.0149 - error_avg_km: 1.6566 - acc: 0.8943 - val_loss: 0.0146 - val_error_avg_km: 1.6253 - val_acc: 0.9012\n",
      "Epoch 11/100\n",
      "321634/321634 [==============================] - 14s 43us/sample - loss: 0.0148 - error_avg_km: 1.6447 - acc: 0.8959 - val_loss: 0.0146 - val_error_avg_km: 1.6184 - val_acc: 0.9003\n",
      "Epoch 12/100\n",
      "321634/321634 [==============================] - 14s 44us/sample - loss: 0.0147 - error_avg_km: 1.6355 - acc: 0.8974 - val_loss: 0.0150 - val_error_avg_km: 1.6618 - val_acc: 0.9030\n",
      "Epoch 13/100\n",
      "321634/321634 [==============================] - 15s 45us/sample - loss: 0.0147 - error_avg_km: 1.6288 - acc: 0.8976 - val_loss: 0.0147 - val_error_avg_km: 1.6353 - val_acc: 0.8985\n",
      "Epoch 14/100\n",
      "321634/321634 [==============================] - 14s 43us/sample - loss: 0.0146 - error_avg_km: 1.6229 - acc: 0.8994 - val_loss: 0.0144 - val_error_avg_km: 1.5931 - val_acc: 0.9056\n",
      "Epoch 15/100\n",
      "321634/321634 [==============================] - 13s 41us/sample - loss: 0.0145 - error_avg_km: 1.6131 - acc: 0.9021 - val_loss: 0.0143 - val_error_avg_km: 1.5846 - val_acc: 0.9084\n",
      "Epoch 16/100\n",
      "321634/321634 [==============================] - 14s 43us/sample - loss: 0.0144 - error_avg_km: 1.6010 - acc: 0.9056 - val_loss: 0.0145 - val_error_avg_km: 1.6097 - val_acc: 0.9018\n",
      "Epoch 17/100\n",
      "321634/321634 [==============================] - 13s 42us/sample - loss: 0.0143 - error_avg_km: 1.5922 - acc: 0.9075 - val_loss: 0.0148 - val_error_avg_km: 1.6435 - val_acc: 0.9099\n",
      "Epoch 18/100\n",
      "321634/321634 [==============================] - 13s 41us/sample - loss: 0.0143 - error_avg_km: 1.5847 - acc: 0.9101 - val_loss: 0.0141 - val_error_avg_km: 1.5609 - val_acc: 0.9085\n",
      "Epoch 19/100\n",
      "321634/321634 [==============================] - 14s 44us/sample - loss: 0.0142 - error_avg_km: 1.5770 - acc: 0.9116 - val_loss: 0.0139 - val_error_avg_km: 1.5431 - val_acc: 0.9128\n",
      "Epoch 20/100\n",
      "321634/321634 [==============================] - 16s 49us/sample - loss: 0.0141 - error_avg_km: 1.5676 - acc: 0.9132 - val_loss: 0.0141 - val_error_avg_km: 1.5677 - val_acc: 0.9135\n",
      "Epoch 21/100\n",
      "321634/321634 [==============================] - 13s 42us/sample - loss: 0.0141 - error_avg_km: 1.5602 - acc: 0.9143 - val_loss: 0.0138 - val_error_avg_km: 1.5313 - val_acc: 0.9140\n",
      "Epoch 22/100\n",
      "321634/321634 [==============================] - 16s 48us/sample - loss: 0.0140 - error_avg_km: 1.5537 - acc: 0.9155 - val_loss: 0.0140 - val_error_avg_km: 1.5533 - val_acc: 0.9166\n",
      "Epoch 23/100\n",
      "321634/321634 [==============================] - 13s 42us/sample - loss: 0.0139 - error_avg_km: 1.5448 - acc: 0.9166 - val_loss: 0.0137 - val_error_avg_km: 1.5244 - val_acc: 0.9245\n",
      "Epoch 24/100\n",
      "321634/321634 [==============================] - 14s 43us/sample - loss: 0.0138 - error_avg_km: 1.5371 - acc: 0.9175 - val_loss: 0.0140 - val_error_avg_km: 1.5509 - val_acc: 0.9203\n",
      "Epoch 25/100\n",
      "321634/321634 [==============================] - 15s 46us/sample - loss: 0.0138 - error_avg_km: 1.5315 - acc: 0.9183 - val_loss: 0.0152 - val_error_avg_km: 1.6853 - val_acc: 0.8922\n",
      "Epoch 26/100\n",
      "321634/321634 [==============================] - 16s 49us/sample - loss: 0.0137 - error_avg_km: 1.5262 - acc: 0.9191 - val_loss: 0.0135 - val_error_avg_km: 1.4994 - val_acc: 0.9150\n",
      "Epoch 27/100\n",
      "321634/321634 [==============================] - 14s 45us/sample - loss: 0.0137 - error_avg_km: 1.5215 - acc: 0.9194 - val_loss: 0.0133 - val_error_avg_km: 1.4767 - val_acc: 0.9187\n",
      "Epoch 28/100\n",
      "321634/321634 [==============================] - 14s 45us/sample - loss: 0.0136 - error_avg_km: 1.5144 - acc: 0.9200 - val_loss: 0.0147 - val_error_avg_km: 1.6332 - val_acc: 0.9211\n",
      "Epoch 29/100\n",
      "321634/321634 [==============================] - 14s 42us/sample - loss: 0.0136 - error_avg_km: 1.5119 - acc: 0.9207 - val_loss: 0.0134 - val_error_avg_km: 1.4876 - val_acc: 0.9252\n",
      "Epoch 30/100\n",
      "321634/321634 [==============================] - 14s 44us/sample - loss: 0.0136 - error_avg_km: 1.5083 - acc: 0.9208 - val_loss: 0.0134 - val_error_avg_km: 1.4877 - val_acc: 0.9207\n",
      "Epoch 31/100\n",
      "321634/321634 [==============================] - 14s 44us/sample - loss: 0.0136 - error_avg_km: 1.5064 - acc: 0.9207 - val_loss: 0.0133 - val_error_avg_km: 1.4756 - val_acc: 0.9169\n",
      "Epoch 32/100\n",
      "321634/321634 [==============================] - 15s 45us/sample - loss: 0.0136 - error_avg_km: 1.5050 - acc: 0.9212 - val_loss: 0.0133 - val_error_avg_km: 1.4712 - val_acc: 0.9265\n",
      "Epoch 33/100\n",
      "321634/321634 [==============================] - 14s 44us/sample - loss: 0.0135 - error_avg_km: 1.5011 - acc: 0.9208 - val_loss: 0.0144 - val_error_avg_km: 1.6014 - val_acc: 0.9100\n",
      "Epoch 34/100\n",
      "321634/321634 [==============================] - 14s 43us/sample - loss: 0.0135 - error_avg_km: 1.4991 - acc: 0.9216 - val_loss: 0.0133 - val_error_avg_km: 1.4792 - val_acc: 0.9208\n",
      "Epoch 35/100\n",
      "321634/321634 [==============================] - 16s 50us/sample - loss: 0.0135 - error_avg_km: 1.4975 - acc: 0.9214 - val_loss: 0.0148 - val_error_avg_km: 1.6475 - val_acc: 0.9006\n",
      "Epoch 36/100\n",
      "321634/321634 [==============================] - 15s 46us/sample - loss: 0.0135 - error_avg_km: 1.4961 - acc: 0.9220 - val_loss: 0.0141 - val_error_avg_km: 1.5603 - val_acc: 0.8934\n",
      "Epoch 37/100\n",
      "321634/321634 [==============================] - 14s 45us/sample - loss: 0.0135 - error_avg_km: 1.4944 - acc: 0.9216 - val_loss: 0.0130 - val_error_avg_km: 1.4457 - val_acc: 0.9233\n",
      "Epoch 38/100\n",
      "321634/321634 [==============================] - 13s 40us/sample - loss: 0.0134 - error_avg_km: 1.4896 - acc: 0.9221 - val_loss: 0.0132 - val_error_avg_km: 1.4653 - val_acc: 0.9266\n",
      "Epoch 39/100\n",
      "321634/321634 [==============================] - 14s 42us/sample - loss: 0.0134 - error_avg_km: 1.4898 - acc: 0.9226 - val_loss: 0.0137 - val_error_avg_km: 1.5207 - val_acc: 0.9216\n",
      "Epoch 40/100\n",
      "321634/321634 [==============================] - 14s 43us/sample - loss: 0.0134 - error_avg_km: 1.4894 - acc: 0.9218 - val_loss: 0.0133 - val_error_avg_km: 1.4810 - val_acc: 0.9277\n",
      "Epoch 41/100\n",
      "321634/321634 [==============================] - 14s 43us/sample - loss: 0.0134 - error_avg_km: 1.4851 - acc: 0.9225 - val_loss: 0.0136 - val_error_avg_km: 1.5057 - val_acc: 0.9135\n",
      "Epoch 42/100\n",
      "321634/321634 [==============================] - 14s 44us/sample - loss: 0.0134 - error_avg_km: 1.4875 - acc: 0.9220 - val_loss: 0.0133 - val_error_avg_km: 1.4722 - val_acc: 0.9254\n",
      "Epoch 43/100\n",
      "321634/321634 [==============================] - 15s 47us/sample - loss: 0.0134 - error_avg_km: 1.4840 - acc: 0.9229 - val_loss: 0.0134 - val_error_avg_km: 1.4907 - val_acc: 0.9219\n",
      "Epoch 44/100\n",
      "321634/321634 [==============================] - 13s 40us/sample - loss: 0.0134 - error_avg_km: 1.4854 - acc: 0.9226 - val_loss: 0.0130 - val_error_avg_km: 1.4454 - val_acc: 0.9255\n",
      "Epoch 45/100\n",
      "321634/321634 [==============================] - 14s 43us/sample - loss: 0.0133 - error_avg_km: 1.4814 - acc: 0.9231 - val_loss: 0.0133 - val_error_avg_km: 1.4727 - val_acc: 0.9247\n",
      "Epoch 46/100\n",
      "321634/321634 [==============================] - 14s 42us/sample - loss: 0.0134 - error_avg_km: 1.4822 - acc: 0.9228 - val_loss: 0.0129 - val_error_avg_km: 1.4320 - val_acc: 0.9233\n",
      "Epoch 47/100\n",
      "321634/321634 [==============================] - 13s 41us/sample - loss: 0.0133 - error_avg_km: 1.4799 - acc: 0.9223 - val_loss: 0.0135 - val_error_avg_km: 1.4975 - val_acc: 0.9182\n",
      "Epoch 48/100\n",
      "321634/321634 [==============================] - 12s 38us/sample - loss: 0.0133 - error_avg_km: 1.4763 - acc: 0.9224 - val_loss: 0.0129 - val_error_avg_km: 1.4358 - val_acc: 0.9207\n",
      "Epoch 49/100\n",
      "321634/321634 [==============================] - 13s 39us/sample - loss: 0.0133 - error_avg_km: 1.4753 - acc: 0.9222 - val_loss: 0.0133 - val_error_avg_km: 1.4803 - val_acc: 0.9278\n",
      "Epoch 50/100\n",
      "321634/321634 [==============================] - 13s 39us/sample - loss: 0.0133 - error_avg_km: 1.4746 - acc: 0.9226 - val_loss: 0.0130 - val_error_avg_km: 1.4471 - val_acc: 0.9262\n",
      "Epoch 51/100\n",
      "321634/321634 [==============================] - 12s 38us/sample - loss: 0.0133 - error_avg_km: 1.4732 - acc: 0.9229 - val_loss: 0.0131 - val_error_avg_km: 1.4562 - val_acc: 0.9237\n",
      "Epoch 52/100\n",
      "321634/321634 [==============================] - 12s 39us/sample - loss: 0.0133 - error_avg_km: 1.4713 - acc: 0.9232 - val_loss: 0.0131 - val_error_avg_km: 1.4497 - val_acc: 0.9228\n",
      "Epoch 53/100\n",
      "321634/321634 [==============================] - 13s 40us/sample - loss: 0.0132 - error_avg_km: 1.4705 - acc: 0.9235 - val_loss: 0.0131 - val_error_avg_km: 1.4526 - val_acc: 0.9283\n",
      "Epoch 54/100\n",
      "321634/321634 [==============================] - 13s 40us/sample - loss: 0.0132 - error_avg_km: 1.4697 - acc: 0.9232 - val_loss: 0.0132 - val_error_avg_km: 1.4600 - val_acc: 0.9249\n",
      "Epoch 55/100\n",
      "321634/321634 [==============================] - 13s 40us/sample - loss: 0.0132 - error_avg_km: 1.4686 - acc: 0.9236 - val_loss: 0.0130 - val_error_avg_km: 1.4404 - val_acc: 0.9275\n",
      "Epoch 56/100\n",
      "321634/321634 [==============================] - 13s 40us/sample - loss: 0.0132 - error_avg_km: 1.4658 - acc: 0.9237 - val_loss: 0.0132 - val_error_avg_km: 1.4652 - val_acc: 0.9151\n",
      "Epoch 57/100\n",
      "321634/321634 [==============================] - 13s 40us/sample - loss: 0.0132 - error_avg_km: 1.4672 - acc: 0.9236 - val_loss: 0.0133 - val_error_avg_km: 1.4738 - val_acc: 0.9235\n",
      "Epoch 58/100\n",
      "321634/321634 [==============================] - 13s 42us/sample - loss: 0.0132 - error_avg_km: 1.4643 - acc: 0.9238 - val_loss: 0.0132 - val_error_avg_km: 1.4620 - val_acc: 0.9222\n",
      "Epoch 59/100\n",
      "321634/321634 [==============================] - 14s 44us/sample - loss: 0.0132 - error_avg_km: 1.4635 - acc: 0.9238 - val_loss: 0.0128 - val_error_avg_km: 1.4235 - val_acc: 0.9267\n",
      "Epoch 60/100\n",
      "321634/321634 [==============================] - 14s 44us/sample - loss: 0.0132 - error_avg_km: 1.4638 - acc: 0.9238 - val_loss: 0.0138 - val_error_avg_km: 1.5323 - val_acc: 0.8961\n",
      "Epoch 61/100\n",
      "321634/321634 [==============================] - 15s 47us/sample - loss: 0.0132 - error_avg_km: 1.4640 - acc: 0.9235 - val_loss: 0.0131 - val_error_avg_km: 1.4576 - val_acc: 0.9124\n",
      "Epoch 62/100\n",
      "321634/321634 [==============================] - 15s 47us/sample - loss: 0.0132 - error_avg_km: 1.4622 - acc: 0.9237 - val_loss: 0.0130 - val_error_avg_km: 1.4477 - val_acc: 0.9296\n",
      "Epoch 63/100\n",
      "321634/321634 [==============================] - 14s 43us/sample - loss: 0.0132 - error_avg_km: 1.4639 - acc: 0.9234 - val_loss: 0.0130 - val_error_avg_km: 1.4382 - val_acc: 0.9210\n",
      "Epoch 64/100\n",
      "321634/321634 [==============================] - 14s 44us/sample - loss: 0.0132 - error_avg_km: 1.4626 - acc: 0.9237 - val_loss: 0.0132 - val_error_avg_km: 1.4706 - val_acc: 0.9256\n",
      "Epoch 65/100\n",
      "321634/321634 [==============================] - 13s 42us/sample - loss: 0.0132 - error_avg_km: 1.4618 - acc: 0.9239 - val_loss: 0.0129 - val_error_avg_km: 1.4358 - val_acc: 0.9276\n",
      "Epoch 66/100\n",
      "321634/321634 [==============================] - 13s 40us/sample - loss: 0.0132 - error_avg_km: 1.4605 - acc: 0.9241 - val_loss: 0.0129 - val_error_avg_km: 1.4345 - val_acc: 0.9276\n",
      "Epoch 67/100\n",
      "321634/321634 [==============================] - 15s 45us/sample - loss: 0.0132 - error_avg_km: 1.4598 - acc: 0.9237 - val_loss: 0.0143 - val_error_avg_km: 1.5848 - val_acc: 0.8940\n",
      "Epoch 68/100\n",
      "321634/321634 [==============================] - 15s 48us/sample - loss: 0.0131 - error_avg_km: 1.4590 - acc: 0.9240 - val_loss: 0.0137 - val_error_avg_km: 1.5237 - val_acc: 0.9108\n",
      "Epoch 69/100\n",
      "321634/321634 [==============================] - 15s 46us/sample - loss: 0.0131 - error_avg_km: 1.4592 - acc: 0.9244 - val_loss: 0.0128 - val_error_avg_km: 1.4236 - val_acc: 0.9288\n",
      "Epoch 70/100\n",
      "321634/321634 [==============================] - 14s 44us/sample - loss: 0.0131 - error_avg_km: 1.4576 - acc: 0.9240 - val_loss: 0.0135 - val_error_avg_km: 1.5005 - val_acc: 0.9283\n",
      "Epoch 71/100\n",
      "321634/321634 [==============================] - 13s 41us/sample - loss: 0.0131 - error_avg_km: 1.4579 - acc: 0.9245 - val_loss: 0.0141 - val_error_avg_km: 1.5704 - val_acc: 0.9202\n",
      "Epoch 72/100\n",
      "321634/321634 [==============================] - 14s 44us/sample - loss: 0.0131 - error_avg_km: 1.4571 - acc: 0.9245 - val_loss: 0.0127 - val_error_avg_km: 1.4059 - val_acc: 0.9221\n",
      "Epoch 73/100\n",
      "321634/321634 [==============================] - 14s 45us/sample - loss: 0.0131 - error_avg_km: 1.4576 - acc: 0.9240 - val_loss: 0.0137 - val_error_avg_km: 1.5217 - val_acc: 0.8932\n",
      "Epoch 74/100\n",
      "321634/321634 [==============================] - 14s 43us/sample - loss: 0.0131 - error_avg_km: 1.4565 - acc: 0.9243 - val_loss: 0.0128 - val_error_avg_km: 1.4169 - val_acc: 0.9230\n",
      "Epoch 75/100\n",
      "321634/321634 [==============================] - 13s 41us/sample - loss: 0.0131 - error_avg_km: 1.4561 - acc: 0.9241 - val_loss: 0.0137 - val_error_avg_km: 1.5155 - val_acc: 0.9054\n",
      "Epoch 76/100\n",
      "321634/321634 [==============================] - 15s 46us/sample - loss: 0.0131 - error_avg_km: 1.4575 - acc: 0.9239 - val_loss: 0.0129 - val_error_avg_km: 1.4303 - val_acc: 0.9209\n",
      "Epoch 77/100\n",
      "321634/321634 [==============================] - 15s 48us/sample - loss: 0.0131 - error_avg_km: 1.4559 - acc: 0.9243 - val_loss: 0.0130 - val_error_avg_km: 1.4375 - val_acc: 0.9241\n",
      "Epoch 78/100\n",
      "321634/321634 [==============================] - 16s 50us/sample - loss: 0.0131 - error_avg_km: 1.4577 - acc: 0.9245 - val_loss: 0.0128 - val_error_avg_km: 1.4222 - val_acc: 0.9228\n",
      "Epoch 79/100\n",
      "321634/321634 [==============================] - 15s 47us/sample - loss: 0.0131 - error_avg_km: 1.4559 - acc: 0.9243 - val_loss: 0.0133 - val_error_avg_km: 1.4779 - val_acc: 0.9263\n",
      "Epoch 80/100\n",
      "321634/321634 [==============================] - 18s 56us/sample - loss: 0.0131 - error_avg_km: 1.4546 - acc: 0.9245 - val_loss: 0.0138 - val_error_avg_km: 1.5270 - val_acc: 0.9296\n",
      "Epoch 81/100\n",
      "321634/321634 [==============================] - 14s 45us/sample - loss: 0.0131 - error_avg_km: 1.4559 - acc: 0.9244 - val_loss: 0.0128 - val_error_avg_km: 1.4242 - val_acc: 0.9220\n",
      "Epoch 82/100\n",
      "321634/321634 [==============================] - 15s 48us/sample - loss: 0.0131 - error_avg_km: 1.4544 - acc: 0.9243 - val_loss: 0.0126 - val_error_avg_km: 1.4032 - val_acc: 0.9258\n",
      "Epoch 83/100\n",
      "321634/321634 [==============================] - 15s 46us/sample - loss: 0.0131 - error_avg_km: 1.4543 - acc: 0.9244 - val_loss: 0.0133 - val_error_avg_km: 1.4813 - val_acc: 0.9235\n",
      "Epoch 84/100\n",
      "321634/321634 [==============================] - 14s 42us/sample - loss: 0.0131 - error_avg_km: 1.4532 - acc: 0.9246 - val_loss: 0.0144 - val_error_avg_km: 1.5994 - val_acc: 0.9022\n",
      "Epoch 85/100\n",
      "321634/321634 [==============================] - 13s 42us/sample - loss: 0.0131 - error_avg_km: 1.4540 - acc: 0.9243 - val_loss: 0.0128 - val_error_avg_km: 1.4218 - val_acc: 0.9258\n",
      "Epoch 86/100\n",
      "321634/321634 [==============================] - 13s 42us/sample - loss: 0.0131 - error_avg_km: 1.4541 - acc: 0.9247 - val_loss: 0.0130 - val_error_avg_km: 1.4443 - val_acc: 0.9275\n",
      "Epoch 87/100\n",
      "321634/321634 [==============================] - 13s 42us/sample - loss: 0.0131 - error_avg_km: 1.4530 - acc: 0.9250 - val_loss: 0.0132 - val_error_avg_km: 1.4663 - val_acc: 0.9287\n",
      "Epoch 88/100\n",
      "321634/321634 [==============================] - 15s 46us/sample - loss: 0.0131 - error_avg_km: 1.4531 - acc: 0.9250 - val_loss: 0.0127 - val_error_avg_km: 1.4131 - val_acc: 0.9231\n",
      "Epoch 89/100\n",
      "321634/321634 [==============================] - 15s 47us/sample - loss: 0.0131 - error_avg_km: 1.4531 - acc: 0.9246 - val_loss: 0.0132 - val_error_avg_km: 1.4663 - val_acc: 0.9226\n",
      "Epoch 90/100\n",
      "321634/321634 [==============================] - 14s 43us/sample - loss: 0.0131 - error_avg_km: 1.4537 - acc: 0.9245 - val_loss: 0.0127 - val_error_avg_km: 1.4139 - val_acc: 0.9230\n"
     ]
    },
    {
     "data": {
      "text/plain": [
       "<tensorflow.python.keras.callbacks.History at 0x28a2d5c8f48>"
      ]
     },
     "execution_count": 10,
     "metadata": {},
     "output_type": "execute_result"
    }
   ],
   "source": [
    "\n",
    "from tensorflow.python.keras.callbacks import EarlyStopping\n",
    "\n",
    "def error_avg_km(y_true, y_pred):\n",
    "    absolute = abs(y_true - y_pred)\n",
    "    return tf.reduce_mean(absolute*111, axis=-1)\n",
    "model.compile(loss=\"mean_absolute_error\", optimizer=\"adam\", metrics=[error_avg_km,'acc'])\n",
    "\n",
    "callback = EarlyStopping(monitor='error_avg_km', patience=3, mode=\"auto\")\n",
    "model.fit([x_train[:,0:4],x_train[:,4:]], y_train, epochs=100, validation_data=([x_test[:,0:4],x_test[:,4:]], y_test), callbacks=[callback])"
   ]
  },
  {
   "cell_type": "code",
   "execution_count": 11,
   "metadata": {},
   "outputs": [
    {
     "data": {
      "text/plain": [
       "<matplotlib.collections.PathCollection at 0x28a2db86fc8>"
      ]
     },
     "execution_count": 11,
     "metadata": {},
     "output_type": "execute_result"
    },
    {
     "data": {
      "image/png": "[encoded data removed]",
      "text/plain": [
       "<Figure size 432x288 with 1 Axes>"
      ]
     },
     "metadata": {
      "needs_background": "light"
     },
     "output_type": "display_data"
    }
   ],
   "source": [
    "import matplotlib.pyplot as plt\n",
    "import numpy as np\n",
    "sc.fit_transform(Y_data)\n",
    "result_Y = model.predict([x_test[:,0:4],x_test[:,4:]])\n",
    "\n",
    "\n",
    "result_Y_plot = sc.inverse_transform(result_Y)\n",
    "y_test_plot = sc.inverse_transform(y_test)\n",
    "plt.scatter((y_test_plot[:,0]),(y_test_plot[:,1]), color='b', s= 1)\n",
    "plt.scatter((result_Y_plot[:,0]), (result_Y_plot[:,1]), color='r', s= 1)\n",
    "\n"
   ]
  },
  {
   "cell_type": "code",
   "execution_count": 14,
   "metadata": {},
   "outputs": [
    {
     "data": {
      "text/plain": [
       "<matplotlib.collections.PathCollection at 0x28a2e226208>"
      ]
     },
     "execution_count": 14,
     "metadata": {},
     "output_type": "execute_result"
    },
    {
     "data": {
      "image/png": "[encoded data removed]",
      "text/plain": [
       "<Figure size 432x288 with 1 Axes>"
      ]
     },
     "metadata": {
      "needs_background": "light"
     },
     "output_type": "display_data"
    }
   ],
   "source": [
    "mae_rate_hour = []\n",
    "\n",
    "sc.fit_transform(X_data)\n",
    "for index in range(24):\n",
    "    mask = np.logical_and(sc.inverse_transform(x_test)[:,3] > (index)-0.1, sc.inverse_transform(x_test)[:,3] < (index+1)-0.5)\n",
    "    result_Y_hour = result_Y[mask]\n",
    "    Y_test_in = y_test[mask]\n",
    "    error = abs(result_Y_hour - Y_test_in)\n",
    "    endx = sum(error[:,0])/len(error)\n",
    "    endy = sum(error[:,1])/len(error)\n",
    "    error_average_distance = (endx+endy)/2\n",
    "\n",
    "    y_test[:,0] = y_test[:,0]\n",
    "    mae_rate_hour.append([float(round(error_average_distance,4)), str(index)])\n",
    "\n",
    "mae_rate_hour = np.array(mae_rate_hour, dtype=np.object)\n",
    "plt.xlabel('hours')\n",
    "plt.ylabel('mean_absulote_error')\n",
    "plt.grid(color='black', linestyle='-', linewidth=0.3)\n",
    "plt.scatter(mae_rate_hour[:,1], mae_rate_hour[:,0], color='r', s= 1)\n"
   ]
  },
  {
   "cell_type": "code",
   "execution_count": 15,
   "metadata": {},
   "outputs": [
    {
     "data": {
      "text/plain": [
       "<matplotlib.collections.PathCollection at 0x28a2e2cb0c8>"
      ]
     },
     "execution_count": 15,
     "metadata": {},
     "output_type": "execute_result"
    },
    {
     "data": {
      "image/png": "[encoded data removed]",
      "text/plain": [
       "<Figure size 432x288 with 1 Axes>"
      ]
     },
     "metadata": {
      "needs_background": "light"
     },
     "output_type": "display_data"
    }
   ],
   "source": [
    "mae_rate_day_of_week = []\n",
    "\n",
    "sc.fit_transform(X_data)\n",
    "for index in range(7):\n",
    "    mask = np.logical_and(sc.inverse_transform(x_test)[:,4] > (index)-0.1, sc.inverse_transform(x_test)[:,4] < (index+1)-0.5)\n",
    "    result_Y_day_of_week = result_Y[mask]\n",
    "    Y_test_in = y_test\n",
    "    error = abs(result_Y_day_of_week - Y_test_in[mask])\n",
    "    endx = sum(error[:,0])/len(error)\n",
    "    endy = sum(error[:,1])/len(error)\n",
    "    error_average_distance = (endx+endy)/2\n",
    "\n",
    "    y_test[:,0] = y_test[:,0]\n",
    "    mae_rate_day_of_week.append([float(round(error_average_distance,4)), str(index+1)])\n",
    "\n",
    "mae_rate_day_of_week = np.array(mae_rate_day_of_week, dtype=np.object)\n",
    "plt.xlabel('days of week')\n",
    "plt.ylabel('mean_absulote_error')\n",
    "plt.grid(color='black', linestyle='-', linewidth=0.3)\n",
    "plt.scatter(mae_rate_day_of_week[:,1], mae_rate_day_of_week[:,0], color='r', s= 1)"
   ]
  },
  {
   "cell_type": "code",
   "execution_count": null,
   "metadata": {},
   "outputs": [],
   "source": []
  }
 ],
 "metadata": {
  "kernelspec": {
   "display_name": "Python 3",
   "language": "python",
   "name": "python3"
  },
  "language_info": {
   "codemirror_mode": {
    "name": "ipython",
    "version": 3
   },
   "file_extension": ".py",
   "mimetype": "text/x-python",
   "name": "python",
   "nbconvert_exporter": "python",
   "pygments_lexer": "ipython3",
   "version": "3.7.9"
  }
 },
 "nbformat": 4,
 "nbformat_minor": 4
}
