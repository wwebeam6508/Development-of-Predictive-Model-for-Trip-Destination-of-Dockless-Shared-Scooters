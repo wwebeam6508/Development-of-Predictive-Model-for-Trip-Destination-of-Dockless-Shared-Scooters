{
 "cells": [
  {
   "cell_type": "code",
   "execution_count": 1,
   "metadata": {},
   "outputs": [],
   "source": [
    "\n",
    "import numpy as np\n",
    "import pandas as pd\n",
    "\n",
    "coor_data = pd.read_csv('Data/coordata.csv')\n",
    "date_data = pd.read_csv('Data/datedata.csv')\n",
    "meta_data = pd.read_csv('Data/metadata.csv')\n",
    "bus_stop_data = pd.read_csv('Data/bus_stop.csv')\n",
    "cluster_group_data = pd.read_csv('Data/cluster_group.csv')\n",
    "\n",
    "general = pd.read_csv('Data/ScooterData_July15_Sept27_2019.csv')\n",
    "\n",
    "data_set = coor_data.join(cluster_group_data.join(bus_stop_data.join(date_data.join(meta_data))))\n",
    "\n",
    "from scipy import stats\n",
    "# set_test = general[['trip_duration_min','trip_length_km']]\n",
    "# data_set = data_set[(np.abs(stats.zscore(set_test)) < 3).all(axis=1)]\n",
    "# general = general[(np.abs(stats.zscore(set_test)) < 3).all(axis=1)]\n",
    "\n",
    "\n",
    "\n",
    "\n",
    "general_np = general.to_numpy()\n",
    "\n",
    "# # filter\n",
    "# data_set = data_set[np.logical_not(general_np[:, 6] > 10)]\n",
    "# general_np = general_np[np.logical_not(general_np[:,6] > 10)]\n",
    "# data_set = data_set[np.logical_not(general_np[:,6] < 0.01)]\n",
    "# general_np = general_np[np.logical_not(general_np[:,6] < 0.01)]\n",
    "# data_set = data_set[np.logical_not(general_np[:,5] > 120)]\n",
    "# general_np = general_np[np.logical_not(general_np[:,5] > 120)]\n",
    "# data_set = data_set[np.logical_not(general_np[:,5] < 1)]\n",
    "# general_np = general_np[np.logical_not(general_np[:,5] < 1)]\n",
    "\n",
    "# data_set = data_set[np.logical_not(np.logical_and(general_np[:, 6] < 0.11, general_np[:, 5] > 20))]\n",
    "# general_np = general_np[np.logical_not(np.logical_and(general_np[:, 6] < 0.11, general_np[:, 5] > 20))]\n",
    "\n",
    "Y_data = data_set[['endx', 'endy']].to_numpy()\n",
    "X_data = data_set.drop(columns=['endx', 'endy','end_cluster_group','start_cluster_group','start_date', 'end_near_stop']).to_numpy()"
   ]
  },
  {
   "cell_type": "code",
   "execution_count": 41,
   "metadata": {},
   "outputs": [
    {
     "name": "stderr",
     "output_type": "stream",
     "text": [
      "| |                                        #     | 459477 Elapsed Time: 0:04:30\n"
     ]
    }
   ],
   "source": [
    "import pandas as pd\n",
    "import geopandas as gpd\n",
    "import numpy as np\n",
    "import progressbar\n",
    "import cv2 as cv\n",
    "\n",
    "census_by_community = gpd.read_file('Data/census_by_community1.shp')\n",
    "grid_data = gpd.read_file('Data/ScooterGridId.shp')\n",
    "data = pd.read_csv('Data/ScooterData_July15_Sept27_2019.csv')\n",
    "\n",
    "centeroid_scale_grid = np.array([[x.centroid.x, x.centroid.y] for x in grid_data.geometry])\n",
    "centeroid_scale_grid[:,0] = centeroid_scale_grid[:,0] + 180\n",
    "lng_ltd = int(round(max(centeroid_scale_grid[:,0]) - min(centeroid_scale_grid[:,0]), 4) * 100)\n",
    "lat_ltd = int(round(max(centeroid_scale_grid[:,1]) - min(centeroid_scale_grid[:,1]), 4) * 100)\n",
    "\n",
    "\n",
    "map_mat = np.zeros((lat_ltd,lng_ltd, 150))\n",
    "\n",
    "max_lng = max(centeroid_scale_grid[:,0])\n",
    "max_lat = max(centeroid_scale_grid[:,1])\n",
    "\n",
    "shape = map_mat.shape\n",
    "\n",
    "for pos in centeroid_scale_grid:\n",
    "    for c in range(150):\n",
    "        pos_lng = abs(int(  ((max_lng - pos[0]))*100  )) - 1\n",
    "        pos_lat = abs(int(  ((max_lat - pos[1]))*100  )) - 1\n",
    "        map_mat[pos_lat, pos_lng, c] = 100\n",
    "\n",
    "\n",
    "map_end = []\n",
    "for index, row in progressbar.progressbar(data_set.iterrows()):\n",
    "    for c in range(150):\n",
    "        if c == row['end_cluster_group']:\n",
    "            pos_lng = abs(int(  ((max_lng - (row['endx'] + 180) ))*100  )) - 1\n",
    "            pos_lat = abs(int(  ((max_lat - (row['endy']) ))*100  )) - 1\n",
    "            map_mat[ pos_lat, pos_lng, c] += 255\n",
    "            map_end.append(map_mat[:,:, c])\n",
    "            map_end[index] = np.fliplr(map_end[index])\n",
    "#             map_end[index] = cv.GaussianBlur(map_end[index],(5,5),0)\n",
    "\n",
    "            \n",
    "map_end = np.asarray(map_end)"
   ]
  },
  {
   "cell_type": "code",
   "execution_count": null,
   "metadata": {},
   "outputs": [],
   "source": [
    "\n",
    "map_end = map_end.reshape(len(map_end),map_end.shape[1],map_end.shape[2],1)"
   ]
  },
  {
   "cell_type": "code",
   "execution_count": 58,
   "metadata": {},
   "outputs": [
    {
     "data": {
      "text/plain": [
       "<matplotlib.image.AxesImage at 0x2878ca2d688>"
      ]
     },
     "execution_count": 58,
     "metadata": {},
     "output_type": "execute_result"
    },
    {
     "data": {
      "image/png": "[encoded data removed]",
      "text/plain": [
       "<Figure size 432x288 with 1 Axes>"
      ]
     },
     "metadata": {
      "needs_background": "light"
     },
     "output_type": "display_data"
    }
   ],
   "source": [
    "import matplotlib.pyplot as plt\n",
    "\n",
    "plt.imshow(map_end[1111])"
   ]
  },
  {
   "cell_type": "code",
   "execution_count": 6,
   "metadata": {},
   "outputs": [],
   "source": [
    "\n",
    "\n",
    "# # max_lng = max(data_set['endx'])\n",
    "# # max_lat = max(data_set['endy'])\n",
    "\n",
    "# map_end = []\n",
    "# for index, row in progressbar.progressbar(data_set.iterrows()):\n",
    "#     pos_lng = abs(int(  ((max_lng - (row['endx'] + 180) ))*100  )) - 1\n",
    "#     pos_lat = abs(int(  ((max_lat - (row['endy']) ))*100  )) - 1\n",
    "#     map_end.append(map_mat.copy())\n",
    "#     map_end[index][pos_lat, pos_lng] = 255\n",
    "#     map_end[index] = np.fliplr(map_end[index])\n",
    "    \n",
    "# map_end = np.asarray(map_end)    "
   ]
  },
  {
   "cell_type": "code",
   "execution_count": 7,
   "metadata": {},
   "outputs": [
    {
     "data": {
      "text/plain": [
       "(32, 46, 150)"
      ]
     },
     "execution_count": 7,
     "metadata": {},
     "output_type": "execute_result"
    }
   ],
   "source": [
    "shape\n",
    "    "
   ]
  },
  {
   "cell_type": "code",
   "execution_count": null,
   "metadata": {},
   "outputs": [],
   "source": [
    "import matplotlib.pyplot as plt\n",
    "\n",
    "plt.imshow(map_end[67764])"
   ]
  },
  {
   "cell_type": "code",
   "execution_count": 47,
   "metadata": {},
   "outputs": [],
   "source": [
    "\n",
    "\n",
    "from sklearn.preprocessing import MinMaxScaler\n",
    "from sklearn.model_selection import train_test_split\n",
    "\n",
    "scx = MinMaxScaler(feature_range=(0,1))\n",
    "scy = MinMaxScaler(feature_range=(0,1))\n",
    "X_data_n = scx.fit_transform(X_data)\n",
    "Y_data_n = scy.fit_transform(Y_data)\n",
    "\n",
    "scmap_end = MinMaxScaler(feature_range=(0,1))\n",
    "map_end_ascolumns = map_end.reshape(len(map_end), -1)\n",
    "map_end_n = scmap_end.fit_transform(map_end_ascolumns)\n",
    "# map_end_n = tmap_end.reshape(map_end.shape)\n",
    "\n",
    "x_train, x_test, y_train, y_test = train_test_split(X_data_n, Y_data_n, test_size=0.4, shuffle=False)\n",
    "map_end_train = map_end_n[0:len(x_train)]\n",
    "map_end_test = map_end_n[len(x_train):]"
   ]
  },
  {
   "cell_type": "code",
   "execution_count": 56,
   "metadata": {},
   "outputs": [
    {
     "name": "stdout",
     "output_type": "stream",
     "text": [
      "Model: \"model_17\"\n",
      "__________________________________________________________________________________________________\n",
      "Layer (type)                    Output Shape         Param #     Connected to                     \n",
      "==================================================================================================\n",
      "input_11 (InputLayer)           [(None, 4)]          0                                            \n",
      "__________________________________________________________________________________________________\n",
      "input_12 (InputLayer)           [(None, 60)]         0                                            \n",
      "__________________________________________________________________________________________________\n",
      "dense_36 (Dense)                (None, 15)           75          input_11[0][0]                   \n",
      "__________________________________________________________________________________________________\n",
      "dense_38 (Dense)                (None, 62)           3782        input_12[0][0]                   \n",
      "__________________________________________________________________________________________________\n",
      "dense_37 (Dense)                (None, 30)           480         dense_36[0][0]                   \n",
      "__________________________________________________________________________________________________\n",
      "dense_39 (Dense)                (None, 70)           4410        dense_38[0][0]                   \n",
      "__________________________________________________________________________________________________\n",
      "concatenate_9 (Concatenate)     (None, 100)          0           dense_37[0][0]                   \n",
      "                                                                 dense_39[0][0]                   \n",
      "__________________________________________________________________________________________________\n",
      "dense_40 (Dense)                (None, 55)           5555        concatenate_9[0][0]              \n",
      "__________________________________________________________________________________________________\n",
      "dense_42 (Dense)                (None, 2)            112         dense_40[0][0]                   \n",
      "__________________________________________________________________________________________________\n",
      "dense_41 (Dense)                (None, 1472)         82432       dense_40[0][0]                   \n",
      "==================================================================================================\n",
      "Total params: 96,846\n",
      "Trainable params: 96,846\n",
      "Non-trainable params: 0\n",
      "__________________________________________________________________________________________________\n"
     ]
    }
   ],
   "source": [
    "import tensorflow as tf\n",
    "\n",
    "from tensorflow.keras import layers, Model\n",
    "from tensorflow.keras.layers import Conv2D, MaxPooling2D, Flatten\n",
    "from tensorflow.python.keras.layers.core import Dense, Activation, Dropout\n",
    "from tensorflow.python.keras.layers.recurrent import LSTM\n",
    "inputA = layers.Input(shape=(4))\n",
    "inputB = layers.Input(shape=(60))\n",
    "\n",
    "x = Dense(15)(inputA)\n",
    "x = Dense(30, activation=\"relu\")(x)\n",
    "x = Model(inputs=inputA, outputs=x)\n",
    "y = Dense(62)(inputB)\n",
    "y = Dense(70, activation=\"relu\")(y)\n",
    "y = Model(inputs=inputB, outputs=y)\n",
    "\n",
    "combined = layers.concatenate([x.output, y.output])\n",
    "\n",
    "final = Dense(55)(combined)\n",
    "\n",
    "\n",
    "\n",
    "# inputMap = layers.Input(shape=(shape[0],shape[1],1))\n",
    "# mapx = Conv2D(filters=32, kernel_size=(4,4), input_shape=(shape[0],shape[1]), activation='relu',)(inputMap)\n",
    "# mapx = Flatten()(mapx)\n",
    "# mapx = Model(inputs=inputMap, outputs=mapx)\n",
    "\n",
    "\n",
    "image = Dense(map_end_n.shape[1])(final)\n",
    "\n",
    "# inputMap = tf.keras.layers.Reshape((map_end.shape[1], map_end.shape[2], 1))(image_n)\n",
    "# mapx = Conv2D(filters=32, kernel_size=(4,4), input_shape=(shape[0],shape[1]), activation='relu')(inputMap)\n",
    "# mapx = Flatten()(mapx)\n",
    "\n",
    "# image = Dense(map_end_n.shape[1], activation='relu')(mapx)\n",
    "\n",
    "# xx = Dense(15)(inputA)\n",
    "# xx = Dense(64, activation=\"relu\")(xx)\n",
    "# xx = Model(inputs=inputA, outputs=xx)\n",
    "\n",
    "# yy = Dense(62)(inputB)\n",
    "# yy = Dense(64, activation=\"relu\")(yy)\n",
    "# yy = Model(inputs=inputB, outputs=yy)\n",
    "\n",
    "\n",
    "# combined_twoa = layers.concatenate([xx.output, yy.output])\n",
    "\n",
    "\n",
    "# xi = Dense(29)(image)\n",
    "# xi = Dense(30, activation=\"relu\")(xi)\n",
    "# combined_twob = layers.concatenate([combined_twoa, image])\n",
    "# combinedb = layers.concatenate([combined, image])\n",
    "# final_two = Dense(55, activation=\"softmax\")(combined)\n",
    "a = Dense(2)(final)\n",
    "# rea = layers.concatenate([final, mapx.output])\n",
    "# a = Dense(2)(rea)\n",
    "\n",
    "model = Model(inputs=[x.input,y.input], outputs=[a,image])\n",
    "model.summary()"
   ]
  },
  {
   "cell_type": "code",
   "execution_count": 57,
   "metadata": {},
   "outputs": [
    {
     "name": "stdout",
     "output_type": "stream",
     "text": [
      "Epoch 1/100\n",
      "142944/275686 [==============>...............] - ETA: 7s - loss: 0.0255 - dense_42_loss: 0.0220 - dense_41_loss: 0.0035"
     ]
    },
    {
     "ename": "KeyboardInterrupt",
     "evalue": "",
     "output_type": "error",
     "traceback": [
      "\u001b[1;31m---------------------------------------------------------------------------\u001b[0m",
      "\u001b[1;31mKeyboardInterrupt\u001b[0m                         Traceback (most recent call last)",
      "\u001b[1;32m<ipython-input-57-cddc50fe3872>\u001b[0m in \u001b[0;36m<module>\u001b[1;34m\u001b[0m\n\u001b[0;32m      6\u001b[0m \u001b[1;31m# history = model.fit([x_train[:,0:7],x_train[:,7:]], [y_train[:,0:2], y_train[:,2:4]], epochs=100, validation_data=([x_test[:,0:7],x_test[:,7:]], [y_test[:,0:2], y_test[:,2:4]]))\u001b[0m\u001b[1;33m\u001b[0m\u001b[1;33m\u001b[0m\u001b[1;33m\u001b[0m\u001b[0m\n\u001b[0;32m      7\u001b[0m \u001b[1;33m\u001b[0m\u001b[0m\n\u001b[1;32m----> 8\u001b[1;33m \u001b[0mhistory\u001b[0m \u001b[1;33m=\u001b[0m \u001b[0mmodel\u001b[0m\u001b[1;33m.\u001b[0m\u001b[0mfit\u001b[0m\u001b[1;33m(\u001b[0m\u001b[1;33m[\u001b[0m\u001b[0mx_train\u001b[0m\u001b[1;33m[\u001b[0m\u001b[1;33m:\u001b[0m\u001b[1;33m,\u001b[0m\u001b[1;36m0\u001b[0m\u001b[1;33m:\u001b[0m\u001b[1;36m4\u001b[0m\u001b[1;33m]\u001b[0m\u001b[1;33m,\u001b[0m\u001b[0mx_train\u001b[0m\u001b[1;33m[\u001b[0m\u001b[1;33m:\u001b[0m\u001b[1;33m,\u001b[0m\u001b[1;36m4\u001b[0m\u001b[1;33m:\u001b[0m\u001b[1;33m]\u001b[0m\u001b[1;33m]\u001b[0m\u001b[1;33m,\u001b[0m \u001b[1;33m[\u001b[0m\u001b[0my_train\u001b[0m\u001b[1;33m,\u001b[0m \u001b[0mmap_end_train\u001b[0m\u001b[1;33m]\u001b[0m\u001b[1;33m,\u001b[0m \u001b[0mepochs\u001b[0m\u001b[1;33m=\u001b[0m\u001b[1;36m100\u001b[0m\u001b[1;33m)\u001b[0m\u001b[1;33m\u001b[0m\u001b[1;33m\u001b[0m\u001b[0m\n\u001b[0m",
      "\u001b[1;32mI:\\Users\\PC\\anaconda3\\envs\\my_env\\lib\\site-packages\\tensorflow\\python\\keras\\engine\\training.py\u001b[0m in \u001b[0;36mfit\u001b[1;34m(self, x, y, batch_size, epochs, verbose, callbacks, validation_split, validation_data, shuffle, class_weight, sample_weight, initial_epoch, steps_per_epoch, validation_steps, validation_freq, max_queue_size, workers, use_multiprocessing, **kwargs)\u001b[0m\n\u001b[0;32m    778\u001b[0m           \u001b[0mvalidation_steps\u001b[0m\u001b[1;33m=\u001b[0m\u001b[0mvalidation_steps\u001b[0m\u001b[1;33m,\u001b[0m\u001b[1;33m\u001b[0m\u001b[1;33m\u001b[0m\u001b[0m\n\u001b[0;32m    779\u001b[0m           \u001b[0mvalidation_freq\u001b[0m\u001b[1;33m=\u001b[0m\u001b[0mvalidation_freq\u001b[0m\u001b[1;33m,\u001b[0m\u001b[1;33m\u001b[0m\u001b[1;33m\u001b[0m\u001b[0m\n\u001b[1;32m--> 780\u001b[1;33m           steps_name='steps_per_epoch')\n\u001b[0m\u001b[0;32m    781\u001b[0m \u001b[1;33m\u001b[0m\u001b[0m\n\u001b[0;32m    782\u001b[0m   def evaluate(self,\n",
      "\u001b[1;32mI:\\Users\\PC\\anaconda3\\envs\\my_env\\lib\\site-packages\\tensorflow\\python\\keras\\engine\\training_arrays.py\u001b[0m in \u001b[0;36mmodel_iteration\u001b[1;34m(model, inputs, targets, sample_weights, batch_size, epochs, verbose, callbacks, val_inputs, val_targets, val_sample_weights, shuffle, initial_epoch, steps_per_epoch, validation_steps, validation_freq, mode, validation_in_fit, prepared_feed_values_from_dataset, steps_name, **kwargs)\u001b[0m\n\u001b[0;32m    361\u001b[0m \u001b[1;33m\u001b[0m\u001b[0m\n\u001b[0;32m    362\u001b[0m         \u001b[1;31m# Get outputs.\u001b[0m\u001b[1;33m\u001b[0m\u001b[1;33m\u001b[0m\u001b[1;33m\u001b[0m\u001b[0m\n\u001b[1;32m--> 363\u001b[1;33m         \u001b[0mbatch_outs\u001b[0m \u001b[1;33m=\u001b[0m \u001b[0mf\u001b[0m\u001b[1;33m(\u001b[0m\u001b[0mins_batch\u001b[0m\u001b[1;33m)\u001b[0m\u001b[1;33m\u001b[0m\u001b[1;33m\u001b[0m\u001b[0m\n\u001b[0m\u001b[0;32m    364\u001b[0m         \u001b[1;32mif\u001b[0m \u001b[1;32mnot\u001b[0m \u001b[0misinstance\u001b[0m\u001b[1;33m(\u001b[0m\u001b[0mbatch_outs\u001b[0m\u001b[1;33m,\u001b[0m \u001b[0mlist\u001b[0m\u001b[1;33m)\u001b[0m\u001b[1;33m:\u001b[0m\u001b[1;33m\u001b[0m\u001b[1;33m\u001b[0m\u001b[0m\n\u001b[0;32m    365\u001b[0m           \u001b[0mbatch_outs\u001b[0m \u001b[1;33m=\u001b[0m \u001b[1;33m[\u001b[0m\u001b[0mbatch_outs\u001b[0m\u001b[1;33m]\u001b[0m\u001b[1;33m\u001b[0m\u001b[1;33m\u001b[0m\u001b[0m\n",
      "\u001b[1;32mI:\\Users\\PC\\anaconda3\\envs\\my_env\\lib\\site-packages\\tensorflow\\python\\keras\\backend.py\u001b[0m in \u001b[0;36m__call__\u001b[1;34m(self, inputs)\u001b[0m\n\u001b[0;32m   3275\u001b[0m         \u001b[0mtensor_type\u001b[0m \u001b[1;33m=\u001b[0m \u001b[0mdtypes_module\u001b[0m\u001b[1;33m.\u001b[0m\u001b[0mas_dtype\u001b[0m\u001b[1;33m(\u001b[0m\u001b[0mtensor\u001b[0m\u001b[1;33m.\u001b[0m\u001b[0mdtype\u001b[0m\u001b[1;33m)\u001b[0m\u001b[1;33m\u001b[0m\u001b[1;33m\u001b[0m\u001b[0m\n\u001b[0;32m   3276\u001b[0m         array_vals.append(np.asarray(value,\n\u001b[1;32m-> 3277\u001b[1;33m                                      dtype=tensor_type.as_numpy_dtype))\n\u001b[0m\u001b[0;32m   3278\u001b[0m \u001b[1;33m\u001b[0m\u001b[0m\n\u001b[0;32m   3279\u001b[0m     \u001b[1;32mif\u001b[0m \u001b[0mself\u001b[0m\u001b[1;33m.\u001b[0m\u001b[0mfeed_dict\u001b[0m\u001b[1;33m:\u001b[0m\u001b[1;33m\u001b[0m\u001b[1;33m\u001b[0m\u001b[0m\n",
      "\u001b[1;32mI:\\Users\\PC\\anaconda3\\envs\\my_env\\lib\\site-packages\\numpy\\core\\_asarray.py\u001b[0m in \u001b[0;36masarray\u001b[1;34m(a, dtype, order)\u001b[0m\n\u001b[0;32m     81\u001b[0m \u001b[1;33m\u001b[0m\u001b[0m\n\u001b[0;32m     82\u001b[0m     \"\"\"\n\u001b[1;32m---> 83\u001b[1;33m     \u001b[1;32mreturn\u001b[0m \u001b[0marray\u001b[0m\u001b[1;33m(\u001b[0m\u001b[0ma\u001b[0m\u001b[1;33m,\u001b[0m \u001b[0mdtype\u001b[0m\u001b[1;33m,\u001b[0m \u001b[0mcopy\u001b[0m\u001b[1;33m=\u001b[0m\u001b[1;32mFalse\u001b[0m\u001b[1;33m,\u001b[0m \u001b[0morder\u001b[0m\u001b[1;33m=\u001b[0m\u001b[0morder\u001b[0m\u001b[1;33m)\u001b[0m\u001b[1;33m\u001b[0m\u001b[1;33m\u001b[0m\u001b[0m\n\u001b[0m\u001b[0;32m     84\u001b[0m \u001b[1;33m\u001b[0m\u001b[0m\n\u001b[0;32m     85\u001b[0m \u001b[1;33m\u001b[0m\u001b[0m\n",
      "\u001b[1;31mKeyboardInterrupt\u001b[0m: "
     ]
    }
   ],
   "source": [
    "from tensorflow.python.keras.callbacks import EarlyStopping\n",
    "\n",
    "model.compile(loss=\"mean_absolute_error\", optimizer=\"adam\")\n",
    "\n",
    "callback = EarlyStopping(monitor='loss', patience=5, mode=\"auto\")\n",
    "# history = model.fit([x_train[:,0:7],x_train[:,7:]], [y_train[:,0:2], y_train[:,2:4]], epochs=100, validation_data=([x_test[:,0:7],x_test[:,7:]], [y_test[:,0:2], y_test[:,2:4]]))\n",
    "\n",
    "history = model.fit([x_train[:,0:4],x_train[:,4:]], [y_train, map_end_train], epochs=100)"
   ]
  },
  {
   "cell_type": "code",
   "execution_count": 18,
   "metadata": {},
   "outputs": [
    {
     "data": {
      "image/png": "[encoded data removed]",
      "text/plain": [
       "<Figure size 432x288 with 1 Axes>"
      ]
     },
     "metadata": {
      "needs_background": "light"
     },
     "output_type": "display_data"
    }
   ],
   "source": [
    "import matplotlib.pyplot as plt\n",
    "plt.plot(history.history['loss'], color='r')\n",
    "plt.show()"
   ]
  },
  {
   "cell_type": "code",
   "execution_count": 55,
   "metadata": {},
   "outputs": [
    {
     "name": "stdout",
     "output_type": "stream",
     "text": [
      "183792/183792 [==============================] - 5s 28us/sample - loss: 0.0210 - dense_35_loss: 0.0185 - dense_34_loss: 0.0025\n"
     ]
    },
    {
     "data": {
      "text/plain": [
       "[0.020993840153195057, 0.01845932, 0.0025342028]"
      ]
     },
     "execution_count": 55,
     "metadata": {},
     "output_type": "execute_result"
    }
   ],
   "source": [
    "model.evaluate([x_test[:,0:4],x_test[:,4:]], [y_test, map_end_test])"
   ]
  },
  {
   "cell_type": "code",
   "execution_count": 14,
   "metadata": {},
   "outputs": [],
   "source": [
    "result = model.predict([x_test[:,0:4],x_test[:,4:]])"
   ]
  },
  {
   "cell_type": "code",
   "execution_count": 21,
   "metadata": {},
   "outputs": [
    {
     "data": {
      "text/plain": [
       "<matplotlib.collections.PathCollection at 0x1b90c5cf948>"
      ]
     },
     "execution_count": 21,
     "metadata": {},
     "output_type": "execute_result"
    },
    {
     "data": {
      "image/png": "[encoded data removed]",
      "text/plain": [
       "<Figure size 432x288 with 1 Axes>"
      ]
     },
     "metadata": {
      "needs_background": "light"
     },
     "output_type": "display_data"
    }
   ],
   "source": [
    "import matplotlib.pyplot as plt\n",
    "import numpy as np\n",
    "result = model.predict([x_test[:,0:4],x_test[:,4:], map_end_test])\n",
    "\n",
    "result_Y = result[0]\n",
    "result_Y_plot = scy.inverse_transform(result_Y)\n",
    "y_test_plot = scy.inverse_transform(y_test)\n",
    "\n",
    "plt.scatter((y_test_plot[:,0]),(y_test_plot[:,1]), color='b', s= 1)\n",
    "plt.scatter((result_Y_plot[:,0]), (result_Y_plot[:,1]), color='r', s= 1)\n",
    "\n"
   ]
  },
  {
   "cell_type": "code",
   "execution_count": 96,
   "metadata": {},
   "outputs": [],
   "source": [
    "result_map = result[1]\n",
    "result_map = scmap_end.inverse_transform(result_map)\n",
    "result_map = result_map.reshape((len(map_end_test), map_end.shape[1], map_end.shape[2]))\n",
    "# result[1].reshape(map_end.shape)\n"
   ]
  },
  {
   "cell_type": "code",
   "execution_count": 1,
   "metadata": {},
   "outputs": [
    {
     "ename": "NameError",
     "evalue": "name 'result_map' is not defined",
     "output_type": "error",
     "traceback": [
      "\u001b[1;31m---------------------------------------------------------------------------\u001b[0m",
      "\u001b[1;31mNameError\u001b[0m                                 Traceback (most recent call last)",
      "\u001b[1;32m<ipython-input-1-4f64e687d890>\u001b[0m in \u001b[0;36m<module>\u001b[1;34m\u001b[0m\n\u001b[0;32m      1\u001b[0m \u001b[1;32mimport\u001b[0m \u001b[0mmatplotlib\u001b[0m\u001b[1;33m.\u001b[0m\u001b[0mpyplot\u001b[0m \u001b[1;32mas\u001b[0m \u001b[0mplt\u001b[0m\u001b[1;33m\u001b[0m\u001b[1;33m\u001b[0m\u001b[0m\n\u001b[0;32m      2\u001b[0m \u001b[1;31m# scmap_end.fit_transform(map_end_ascolumns)\u001b[0m\u001b[1;33m\u001b[0m\u001b[1;33m\u001b[0m\u001b[1;33m\u001b[0m\u001b[0m\n\u001b[1;32m----> 3\u001b[1;33m \u001b[0mplt\u001b[0m\u001b[1;33m.\u001b[0m\u001b[0mimshow\u001b[0m\u001b[1;33m(\u001b[0m\u001b[0mresult_map\u001b[0m\u001b[1;33m[\u001b[0m\u001b[1;36m39950\u001b[0m\u001b[1;33m]\u001b[0m\u001b[1;33m)\u001b[0m\u001b[1;33m\u001b[0m\u001b[1;33m\u001b[0m\u001b[0m\n\u001b[0m",
      "\u001b[1;31mNameError\u001b[0m: name 'result_map' is not defined"
     ]
    }
   ],
   "source": [
    "import matplotlib.pyplot as plt\n",
    "# scmap_end.fit_transform(map_end_ascolumns)\n",
    "plt.imshow(result_map[39950])"
   ]
  },
  {
   "cell_type": "code",
   "execution_count": 105,
   "metadata": {},
   "outputs": [],
   "source": [
    "def haversine(coord1: object, coord2: object):\n",
    "    import math\n",
    "\n",
    "    # Coordinates in decimal degrees (e.g. 2.89078, 12.79797)\n",
    "    lon1, lat1 = coord1\n",
    "    lon2, lat2 = coord2\n",
    "\n",
    "    R = 6371000  # radius of Earth in meters\n",
    "    phi_1 = math.radians(lat1)\n",
    "    phi_2 = math.radians(lat2)\n",
    "\n",
    "    delta_phi = math.radians(lat2 - lat1)\n",
    "    delta_lambda = math.radians(lon2 - lon1)\n",
    "\n",
    "    a = math.sin(delta_phi / 2.0) ** 2 + math.cos(phi_1) * math.cos(phi_2) * math.sin(delta_lambda / 2.0) ** 2\n",
    "    \n",
    "    c = 2 * math.atan2(math.sqrt(a), math.sqrt(1 - a))\n",
    "\n",
    "    meters = R * c  # output distance in meters\n",
    "    km = meters / 1000.0  # output distance in kilometers\n",
    "\n",
    "    meters = round(meters, 5)\n",
    "    km = round(km, 5)\n",
    "    return km"
   ]
  },
  {
   "cell_type": "code",
   "execution_count": 107,
   "metadata": {},
   "outputs": [
    {
     "data": {
      "text/plain": [
       "<matplotlib.collections.PathCollection at 0x1c485718388>"
      ]
     },
     "execution_count": 107,
     "metadata": {},
     "output_type": "execute_result"
    },
    {
     "data": {
      "image/png": "[encoded data removed]",
      "text/plain": [
       "<Figure size 432x288 with 1 Axes>"
      ]
     },
     "metadata": {
      "needs_background": "light"
     },
     "output_type": "display_data"
    }
   ],
   "source": [
    "mae_rate_hour = []\n",
    "\n",
    "x_test_hour = scx.inverse_transform(x_test)\n",
    "\n",
    "result_Y_hour = scy.inverse_transform(result_Y)\n",
    "y_test_hour = scy.inverse_transform(y_test)\n",
    "for index in range(24):\n",
    "    mask = np.logical_and(x_test_hour[:,3] > (index)-0.2, x_test_hour[:,3] < (index+1)-0.2)\n",
    "    result_Y_d = result_Y_hour[mask]\n",
    "    Y_test_in = y_test_hour[mask]\n",
    "    error = 0\n",
    "    for i in range(len(Y_test_in)):\n",
    "        error = error + haversine(result_Y_d[i,0:2],Y_test_in[i,0:2])\n",
    "    end = error/len(Y_test_in)\n",
    "    error_average_distance = end\n",
    "\n",
    "    y_test[:,0] = y_test[:,0]\n",
    "    mae_rate_hour.append([float(error_average_distance), str(index)])\n",
    "\n",
    "mae_rate_hour = np.array(mae_rate_hour, dtype=np.object)\n",
    "plt.xlabel('hours')\n",
    "plt.ylabel('error_avg_distance(km)')\n",
    "plt.grid(color='black', linestyle='-', linewidth=0.3)\n",
    "plt.scatter(mae_rate_hour[:,1], mae_rate_hour[:,0], color='r', s= 1)\n"
   ]
  },
  {
   "cell_type": "code",
   "execution_count": 108,
   "metadata": {},
   "outputs": [
    {
     "data": {
      "text/plain": [
       "<matplotlib.collections.PathCollection at 0x1c485a2db88>"
      ]
     },
     "execution_count": 108,
     "metadata": {},
     "output_type": "execute_result"
    },
    {
     "data": {
      "image/png": "[encoded data removed]",
      "text/plain": [
       "<Figure size 432x288 with 1 Axes>"
      ]
     },
     "metadata": {
      "needs_background": "light"
     },
     "output_type": "display_data"
    }
   ],
   "source": [
    "mae_rate_day_of_week = []\n",
    "\n",
    "x_test_day = scx.inverse_transform(x_test)\n",
    "x\n",
    "result_Y_day = scy.inverse_transform(result_Y)\n",
    "y_test_day = scy.inverse_transform(y_test)\n",
    "for index in range(7):\n",
    "    mask = np.logical_and(x_test_day[:,4] > (index)-0.1, x_test_day[:,4] < (index+1)-0.1)\n",
    "    result_Y_d_day = result_Y_day[mask]\n",
    "    Y_test_in = y_test_day[mask]\n",
    "    error = 0\n",
    "    haverList = []\n",
    "    for i in (range(len(Y_test_in))):\n",
    "        error = error + haversine(result_Y_d_day[i,0:2],Y_test_in[i,0:2])\n",
    "    end = error/len(Y_test_in)\n",
    "    error_average_distance = end\n",
    "\n",
    "    y_test[:,0] = y_test[:,0]\n",
    "    mae_rate_day_of_week.append([error_average_distance, str(index+1)])\n",
    "\n",
    "mae_rate_day_of_week = np.array(mae_rate_day_of_week, dtype=np.object)\n",
    "plt.xlabel('days of week')\n",
    "plt.ylabel('error_avg_distance(km)')\n",
    "plt.grid(color='black', linestyle='-', linewidth=0.3)\n",
    "plt.scatter(mae_rate_day_of_week[:,1], mae_rate_day_of_week[:,0], color='r', s= 1)"
   ]
  },
  {
   "cell_type": "code",
   "execution_count": 109,
   "metadata": {},
   "outputs": [
    {
     "data": {
      "text/plain": [
       "0.8197112523940182"
      ]
     },
     "execution_count": 109,
     "metadata": {},
     "output_type": "execute_result"
    }
   ],
   "source": [
    "result_Y_all = scy.inverse_transform(result_Y)\n",
    "y_test_all = scy.inverse_transform(y_test)\n",
    "error_all = 0\n",
    "for i in (range(len(y_test_all))):\n",
    "    error_all = error_all + haversine(result_Y_all[i],y_test_all[i])\n",
    "    error_avg = error_all/len(y_test_all)\n",
    "error_avg"
   ]
  },
  {
   "cell_type": "code",
   "execution_count": null,
   "metadata": {},
   "outputs": [],
   "source": []
  }
 ],
 "metadata": {
  "kernelspec": {
   "display_name": "Python 3",
   "language": "python",
   "name": "python3"
  },
  "language_info": {
   "codemirror_mode": {
    "name": "ipython",
    "version": 3
   },
   "file_extension": ".py",
   "mimetype": "text/x-python",
   "name": "python",
   "nbconvert_exporter": "python",
   "pygments_lexer": "ipython3",
   "version": "3.7.9"
  }
 },
 "nbformat": 4,
 "nbformat_minor": 4
}
