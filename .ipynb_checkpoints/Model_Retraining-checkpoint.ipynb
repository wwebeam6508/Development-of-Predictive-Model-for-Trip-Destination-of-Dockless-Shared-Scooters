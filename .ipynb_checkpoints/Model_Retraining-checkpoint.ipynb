{
 "cells": [
  {
   "cell_type": "code",
   "execution_count": 1,
   "metadata": {},
   "outputs": [
    {
     "name": "stderr",
     "output_type": "stream",
     "text": [
      "I:\\Users\\PC\\anaconda3\\envs\\my_env\\lib\\site-packages\\tensorflow\\python\\framework\\dtypes.py:516: FutureWarning: Passing (type, 1) or '1type' as a synonym of type is deprecated; in a future version of numpy, it will be understood as (type, (1,)) / '(1,)type'.\n",
      "  _np_qint8 = np.dtype([(\"qint8\", np.int8, 1)])\n",
      "I:\\Users\\PC\\anaconda3\\envs\\my_env\\lib\\site-packages\\tensorflow\\python\\framework\\dtypes.py:517: FutureWarning: Passing (type, 1) or '1type' as a synonym of type is deprecated; in a future version of numpy, it will be understood as (type, (1,)) / '(1,)type'.\n",
      "  _np_quint8 = np.dtype([(\"quint8\", np.uint8, 1)])\n",
      "I:\\Users\\PC\\anaconda3\\envs\\my_env\\lib\\site-packages\\tensorflow\\python\\framework\\dtypes.py:518: FutureWarning: Passing (type, 1) or '1type' as a synonym of type is deprecated; in a future version of numpy, it will be understood as (type, (1,)) / '(1,)type'.\n",
      "  _np_qint16 = np.dtype([(\"qint16\", np.int16, 1)])\n",
      "I:\\Users\\PC\\anaconda3\\envs\\my_env\\lib\\site-packages\\tensorflow\\python\\framework\\dtypes.py:519: FutureWarning: Passing (type, 1) or '1type' as a synonym of type is deprecated; in a future version of numpy, it will be understood as (type, (1,)) / '(1,)type'.\n",
      "  _np_quint16 = np.dtype([(\"quint16\", np.uint16, 1)])\n",
      "I:\\Users\\PC\\anaconda3\\envs\\my_env\\lib\\site-packages\\tensorflow\\python\\framework\\dtypes.py:520: FutureWarning: Passing (type, 1) or '1type' as a synonym of type is deprecated; in a future version of numpy, it will be understood as (type, (1,)) / '(1,)type'.\n",
      "  _np_qint32 = np.dtype([(\"qint32\", np.int32, 1)])\n",
      "I:\\Users\\PC\\anaconda3\\envs\\my_env\\lib\\site-packages\\tensorflow\\python\\framework\\dtypes.py:525: FutureWarning: Passing (type, 1) or '1type' as a synonym of type is deprecated; in a future version of numpy, it will be understood as (type, (1,)) / '(1,)type'.\n",
      "  np_resource = np.dtype([(\"resource\", np.ubyte, 1)])\n",
      "I:\\Users\\PC\\anaconda3\\envs\\my_env\\lib\\site-packages\\tensorboard\\compat\\tensorflow_stub\\dtypes.py:541: FutureWarning: Passing (type, 1) or '1type' as a synonym of type is deprecated; in a future version of numpy, it will be understood as (type, (1,)) / '(1,)type'.\n",
      "  _np_qint8 = np.dtype([(\"qint8\", np.int8, 1)])\n",
      "I:\\Users\\PC\\anaconda3\\envs\\my_env\\lib\\site-packages\\tensorboard\\compat\\tensorflow_stub\\dtypes.py:542: FutureWarning: Passing (type, 1) or '1type' as a synonym of type is deprecated; in a future version of numpy, it will be understood as (type, (1,)) / '(1,)type'.\n",
      "  _np_quint8 = np.dtype([(\"quint8\", np.uint8, 1)])\n",
      "I:\\Users\\PC\\anaconda3\\envs\\my_env\\lib\\site-packages\\tensorboard\\compat\\tensorflow_stub\\dtypes.py:543: FutureWarning: Passing (type, 1) or '1type' as a synonym of type is deprecated; in a future version of numpy, it will be understood as (type, (1,)) / '(1,)type'.\n",
      "  _np_qint16 = np.dtype([(\"qint16\", np.int16, 1)])\n",
      "I:\\Users\\PC\\anaconda3\\envs\\my_env\\lib\\site-packages\\tensorboard\\compat\\tensorflow_stub\\dtypes.py:544: FutureWarning: Passing (type, 1) or '1type' as a synonym of type is deprecated; in a future version of numpy, it will be understood as (type, (1,)) / '(1,)type'.\n",
      "  _np_quint16 = np.dtype([(\"quint16\", np.uint16, 1)])\n",
      "I:\\Users\\PC\\anaconda3\\envs\\my_env\\lib\\site-packages\\tensorboard\\compat\\tensorflow_stub\\dtypes.py:545: FutureWarning: Passing (type, 1) or '1type' as a synonym of type is deprecated; in a future version of numpy, it will be understood as (type, (1,)) / '(1,)type'.\n",
      "  _np_qint32 = np.dtype([(\"qint32\", np.int32, 1)])\n",
      "I:\\Users\\PC\\anaconda3\\envs\\my_env\\lib\\site-packages\\tensorboard\\compat\\tensorflow_stub\\dtypes.py:550: FutureWarning: Passing (type, 1) or '1type' as a synonym of type is deprecated; in a future version of numpy, it will be understood as (type, (1,)) / '(1,)type'.\n",
      "  np_resource = np.dtype([(\"resource\", np.ubyte, 1)])\n"
     ]
    }
   ],
   "source": [
    "import tensorflow as tf\n",
    "tf.enable_eager_execution()\n",
    "import numpy as np\n",
    "import pandas as pd\n",
    "\n",
    "coor_data = pd.read_csv('Data/coordata.csv')\n",
    "date_data = pd.read_csv('Data/datedata.csv')\n",
    "meta_data = pd.read_csv('Data/metadata.csv')\n",
    "bus_stop_data = pd.read_csv('Data/bus_stop.csv')\n",
    "\n",
    "# general = pd.read_csv('Data/ScooterData_July15_Sept27_2019.csv')\n",
    "\n",
    "data_set = coor_data.join(bus_stop_data.join(date_data.join(meta_data)))\n",
    "\n",
    "\n",
    "Y_data = data_set[['endx', 'endy']].to_numpy()\n",
    "X_data = data_set.drop(columns=['endx', 'endy','start_date', 'end_near_stop']).to_numpy()"
   ]
  },
  {
   "cell_type": "code",
   "execution_count": 2,
   "metadata": {},
   "outputs": [
    {
     "name": "stderr",
     "output_type": "stream",
     "text": [
      "100% (459478 of 459478) |################| Elapsed Time: 0:00:09 Time:  0:00:09\n"
     ]
    }
   ],
   "source": [
    "import progressbar\n",
    "\n",
    "X_sets_by_day = []\n",
    "Y_sets_by_day = []\n",
    "\n",
    "hr = 0\n",
    "x = []\n",
    "y = []\n",
    "\n",
    "compare_hr_before = 0\n",
    "compare_hr_current = 0\n",
    "for i in progressbar.progressbar(range(len(X_data))):\n",
    "    compare_hr_current = data_set['start_hour'][i]\n",
    "    if (compare_hr_before == 23 and compare_hr_current == 0):\n",
    "        hr = 0\n",
    "        X_sets_by_day.append(x)\n",
    "        Y_sets_by_day.append(y)\n",
    "        x = []\n",
    "        y = []\n",
    "    compare_hr_before = data_set['start_hour'][i]\n",
    "    x.append(X_data[i])\n",
    "    y.append(Y_data[i])\n",
    "    if i == (len(X_data) - 1):\n",
    "        X_sets_by_day.append(x)\n",
    "        Y_sets_by_day.append(y)"
   ]
  },
  {
   "cell_type": "code",
   "execution_count": 43,
   "metadata": {},
   "outputs": [
    {
     "name": "stderr",
     "output_type": "stream",
     "text": [
      "100% (48 of 48) |########################| Elapsed Time: 0:00:00 Time:  0:00:00\n",
      "100% (27 of 27) |########################| Elapsed Time: 0:00:00 Time:  0:00:00\n"
     ]
    }
   ],
   "source": [
    "X_train_set = []\n",
    "Y_train_set = []\n",
    "for i in progressbar.progressbar(range(48)):\n",
    "    for j in range(len(X_sets_by_day[i])):\n",
    "        X_train_set.append(X_sets_by_day[i][j])\n",
    "        Y_train_set.append(Y_sets_by_day[i][j])\n",
    "\n",
    "X_test_set = []\n",
    "Y_test_set = []\n",
    "for i in progressbar.progressbar(range(48,len(X_sets_by_day))):\n",
    "    for j in range(len(X_sets_by_day[i])):\n",
    "        X_test_set.append(X_sets_by_day[i][j])\n",
    "        Y_test_set.append(Y_sets_by_day[i][j])\n",
    "        \n",
    "from sklearn.preprocessing import MinMaxScaler\n",
    "from tensorflow.python.keras.callbacks import EarlyStopping\n",
    "\n",
    "X_train_set = np.array(X_train_set)\n",
    "X_test_set = np.array(X_test_set)\n",
    "scx = MinMaxScaler(feature_range=(0,1))\n",
    "X_train_set_fit = scx.fit_transform(X_train_set)\n",
    "X_test_set_fit = scx.transform(X_test_set)\n",
    "\n",
    "Y_train_set = np.array(Y_train_set)\n",
    "Y_test_set = np.array(Y_test_set)\n",
    "scy = MinMaxScaler(feature_range=(0,1))\n",
    "Y_train_set_fit = scy.fit_transform(Y_train_set)\n",
    "Y_test_set_fit = scy.transform(Y_test_set)"
   ]
  },
  {
   "cell_type": "code",
   "execution_count": 50,
   "metadata": {},
   "outputs": [],
   "source": [
    "from tensorflow.keras import layers, Model, regularizers\n",
    "from tensorflow.python.keras.layers.core import Dense, Activation, Dropout\n",
    "from tensorflow.python.keras.layers.recurrent import LSTM\n",
    "\n",
    "inputA = layers.Input(shape=(4))\n",
    "inputB = layers.Input(shape=(60))\n",
    "\n",
    "x = Dense(15)(inputA)\n",
    "x = Dense(30)(x)\n",
    "x = Model(inputs=inputA, outputs=x)\n",
    "y = Dense(62)(inputB)\n",
    "y = Dense(70, activation=\"relu\")(y)\n",
    "y = Model(inputs=inputB, outputs=y)\n",
    "\n",
    "combined = layers.concatenate([x.output, y.output])\n",
    "\n",
    "final = Dense(70, activation=\"softmax\")(combined)\n",
    "a = Dense(2)(final)\n",
    "\n",
    "\n",
    "X_train_set_by_day = []\n",
    "Y_train_set_by_day = []\n",
    "X_test_set_by_day = []\n",
    "Y_test_set_by_day = []\n",
    "models = []\n",
    "\n",
    "for day in range(7):\n",
    "    X_train_set_by_day.append(X_train_set_fit[X_train_set[:,4] == day])\n",
    "    Y_train_set_by_day.append(Y_train_set_fit[X_train_set[:,4] == day])\n",
    "    X_test_set_by_day.append(X_test_set_fit[X_test_set[:,4] == day])\n",
    "    Y_test_set_by_day.append(Y_test_set_fit[X_test_set[:,4] == day])\n",
    "    models.append(Model(inputs=[x.input,y.input], outputs=a))\n",
    "    models[day].compile(loss=\"mean_absolute_error\", optimizer=\"adam\")\n",
    "\n",
    "# X_train_set_by_day.append(X_train_set_fit[X_train_set[:,4] < 5])\n",
    "# Y_train_set_by_day.append(Y_train_set_fit[X_train_set[:,4] < 5])\n",
    "# X_test_set_by_day.append(X_test_set_fit[X_test_set[:,4] < 5])\n",
    "# Y_test_set_by_day.append(Y_test_set_fit[X_test_set[:,4] < 5])\n",
    "# models.append(Model(inputs=[x.input,y.input], outputs=a))\n",
    "# models[0].compile(loss=\"mean_absolute_error\", optimizer=\"adam\")\n",
    "\n",
    "# X_train_set_by_day.append(X_train_set_fit[X_train_set[:,4] >= 5])\n",
    "# Y_train_set_by_day.append(Y_train_set_fit[X_train_set[:,4] >= 5])\n",
    "# X_test_set_by_day.append(X_test_set_fit[X_test_set[:,4] >= 5])\n",
    "# Y_test_set_by_day.append(Y_test_set_fit[X_test_set[:,4] >= 5])\n",
    "# models.append(Model(inputs=[x.input,y.input], outputs=a))\n",
    "# models[1].compile(loss=\"mean_absolute_error\", optimizer=\"adam\")"
   ]
  },
  {
   "cell_type": "code",
   "execution_count": 51,
   "metadata": {},
   "outputs": [
    {
     "name": "stdout",
     "output_type": "stream",
     "text": [
      "32513/32513 - 1s - loss: 0.0608\n"
     ]
    },
    {
     "ename": "ValueError",
     "evalue": "Error when checking input: expected input_14 to have shape (60,) but got array with shape (124,)",
     "output_type": "error",
     "traceback": [
      "\u001b[1;31m---------------------------------------------------------------------------\u001b[0m",
      "\u001b[1;31mValueError\u001b[0m                                Traceback (most recent call last)",
      "\u001b[1;32m<ipython-input-51-9779a31d0eb8>\u001b[0m in \u001b[0;36m<module>\u001b[1;34m\u001b[0m\n\u001b[0;32m     18\u001b[0m             \u001b[0mx_train\u001b[0m \u001b[1;33m=\u001b[0m \u001b[0mX_train_set_by_day\u001b[0m\u001b[1;33m[\u001b[0m\u001b[0mday\u001b[0m\u001b[1;33m]\u001b[0m\u001b[1;33m\u001b[0m\u001b[1;33m\u001b[0m\u001b[0m\n\u001b[0;32m     19\u001b[0m             \u001b[0my_train\u001b[0m \u001b[1;33m=\u001b[0m \u001b[0mY_train_set_by_day\u001b[0m\u001b[1;33m[\u001b[0m\u001b[0mday\u001b[0m\u001b[1;33m]\u001b[0m\u001b[1;33m\u001b[0m\u001b[1;33m\u001b[0m\u001b[0m\n\u001b[1;32m---> 20\u001b[1;33m             \u001b[0mhistory\u001b[0m \u001b[1;33m=\u001b[0m \u001b[0mmodels\u001b[0m\u001b[1;33m[\u001b[0m\u001b[0mday\u001b[0m\u001b[1;33m]\u001b[0m\u001b[1;33m.\u001b[0m\u001b[0mfit\u001b[0m\u001b[1;33m(\u001b[0m\u001b[1;33m[\u001b[0m\u001b[0mx_train\u001b[0m\u001b[1;33m[\u001b[0m\u001b[1;33m:\u001b[0m\u001b[1;33m,\u001b[0m\u001b[1;36m0\u001b[0m\u001b[1;33m:\u001b[0m\u001b[1;36m4\u001b[0m\u001b[1;33m]\u001b[0m\u001b[1;33m,\u001b[0m\u001b[0mx_train\u001b[0m\u001b[1;33m[\u001b[0m\u001b[1;33m:\u001b[0m\u001b[1;33m,\u001b[0m\u001b[1;36m4\u001b[0m\u001b[1;33m:\u001b[0m\u001b[1;33m]\u001b[0m\u001b[1;33m]\u001b[0m\u001b[1;33m,\u001b[0m \u001b[0my_train\u001b[0m\u001b[1;33m,\u001b[0m \u001b[0mepochs\u001b[0m\u001b[1;33m=\u001b[0m\u001b[1;36m100\u001b[0m\u001b[1;33m,\u001b[0m \u001b[0mverbose\u001b[0m\u001b[1;33m=\u001b[0m\u001b[1;36m2\u001b[0m\u001b[1;33m)\u001b[0m\u001b[1;33m\u001b[0m\u001b[1;33m\u001b[0m\u001b[0m\n\u001b[0m\u001b[0;32m     21\u001b[0m             \u001b[0mprint\u001b[0m\u001b[1;33m(\u001b[0m\u001b[1;34m'current at: '\u001b[0m\u001b[1;33m+\u001b[0m\u001b[0mstr\u001b[0m\u001b[1;33m(\u001b[0m\u001b[0mi\u001b[0m\u001b[1;33m)\u001b[0m\u001b[1;33m)\u001b[0m\u001b[1;33m\u001b[0m\u001b[1;33m\u001b[0m\u001b[0m\n\u001b[0;32m     22\u001b[0m \u001b[1;31m#     for i in range(30,48):\u001b[0m\u001b[1;33m\u001b[0m\u001b[1;33m\u001b[0m\u001b[1;33m\u001b[0m\u001b[0m\n",
      "\u001b[1;32mI:\\Users\\PC\\anaconda3\\envs\\my_env\\lib\\site-packages\\tensorflow\\python\\keras\\engine\\training.py\u001b[0m in \u001b[0;36mfit\u001b[1;34m(self, x, y, batch_size, epochs, verbose, callbacks, validation_split, validation_data, shuffle, class_weight, sample_weight, initial_epoch, steps_per_epoch, validation_steps, validation_freq, max_queue_size, workers, use_multiprocessing, **kwargs)\u001b[0m\n\u001b[0;32m    707\u001b[0m         \u001b[0msteps\u001b[0m\u001b[1;33m=\u001b[0m\u001b[0msteps_per_epoch\u001b[0m\u001b[1;33m,\u001b[0m\u001b[1;33m\u001b[0m\u001b[1;33m\u001b[0m\u001b[0m\n\u001b[0;32m    708\u001b[0m         \u001b[0mvalidation_split\u001b[0m\u001b[1;33m=\u001b[0m\u001b[0mvalidation_split\u001b[0m\u001b[1;33m,\u001b[0m\u001b[1;33m\u001b[0m\u001b[1;33m\u001b[0m\u001b[0m\n\u001b[1;32m--> 709\u001b[1;33m         shuffle=shuffle)\n\u001b[0m\u001b[0;32m    710\u001b[0m \u001b[1;33m\u001b[0m\u001b[0m\n\u001b[0;32m    711\u001b[0m     \u001b[1;31m# Prepare validation data.\u001b[0m\u001b[1;33m\u001b[0m\u001b[1;33m\u001b[0m\u001b[1;33m\u001b[0m\u001b[0m\n",
      "\u001b[1;32mI:\\Users\\PC\\anaconda3\\envs\\my_env\\lib\\site-packages\\tensorflow\\python\\keras\\engine\\training.py\u001b[0m in \u001b[0;36m_standardize_user_data\u001b[1;34m(self, x, y, sample_weight, class_weight, batch_size, check_steps, steps_name, steps, validation_split, shuffle, extract_tensors_from_dataset)\u001b[0m\n\u001b[0;32m   2649\u001b[0m           \u001b[0mfeed_input_shapes\u001b[0m\u001b[1;33m,\u001b[0m\u001b[1;33m\u001b[0m\u001b[1;33m\u001b[0m\u001b[0m\n\u001b[0;32m   2650\u001b[0m           \u001b[0mcheck_batch_axis\u001b[0m\u001b[1;33m=\u001b[0m\u001b[1;32mFalse\u001b[0m\u001b[1;33m,\u001b[0m  \u001b[1;31m# Don't enforce the batch size.\u001b[0m\u001b[1;33m\u001b[0m\u001b[1;33m\u001b[0m\u001b[0m\n\u001b[1;32m-> 2651\u001b[1;33m           exception_prefix='input')\n\u001b[0m\u001b[0;32m   2652\u001b[0m \u001b[1;33m\u001b[0m\u001b[0m\n\u001b[0;32m   2653\u001b[0m     \u001b[1;32mif\u001b[0m \u001b[0my\u001b[0m \u001b[1;32mis\u001b[0m \u001b[1;32mnot\u001b[0m \u001b[1;32mNone\u001b[0m\u001b[1;33m:\u001b[0m\u001b[1;33m\u001b[0m\u001b[1;33m\u001b[0m\u001b[0m\n",
      "\u001b[1;32mI:\\Users\\PC\\anaconda3\\envs\\my_env\\lib\\site-packages\\tensorflow\\python\\keras\\engine\\training_utils.py\u001b[0m in \u001b[0;36mstandardize_input_data\u001b[1;34m(data, names, shapes, check_batch_axis, exception_prefix)\u001b[0m\n\u001b[0;32m    383\u001b[0m                              \u001b[1;34m': expected '\u001b[0m \u001b[1;33m+\u001b[0m \u001b[0mnames\u001b[0m\u001b[1;33m[\u001b[0m\u001b[0mi\u001b[0m\u001b[1;33m]\u001b[0m \u001b[1;33m+\u001b[0m \u001b[1;34m' to have shape '\u001b[0m \u001b[1;33m+\u001b[0m\u001b[1;33m\u001b[0m\u001b[1;33m\u001b[0m\u001b[0m\n\u001b[0;32m    384\u001b[0m                              \u001b[0mstr\u001b[0m\u001b[1;33m(\u001b[0m\u001b[0mshape\u001b[0m\u001b[1;33m)\u001b[0m \u001b[1;33m+\u001b[0m \u001b[1;34m' but got array with shape '\u001b[0m \u001b[1;33m+\u001b[0m\u001b[1;33m\u001b[0m\u001b[1;33m\u001b[0m\u001b[0m\n\u001b[1;32m--> 385\u001b[1;33m                              str(data_shape))\n\u001b[0m\u001b[0;32m    386\u001b[0m   \u001b[1;32mreturn\u001b[0m \u001b[0mdata\u001b[0m\u001b[1;33m\u001b[0m\u001b[1;33m\u001b[0m\u001b[0m\n\u001b[0;32m    387\u001b[0m \u001b[1;33m\u001b[0m\u001b[0m\n",
      "\u001b[1;31mValueError\u001b[0m: Error when checking input: expected input_14 to have shape (60,) but got array with shape (124,)"
     ]
    }
   ],
   "source": [
    "x_train_old = []\n",
    "y_train_old = []\n",
    "for day in range(7):\n",
    "\n",
    "    x_train = X_train_set_by_day[day]\n",
    "    y_train = Y_train_set_by_day[day]\n",
    "    \n",
    "    models[day].fit([x_train[:,0:4],x_train[:,4:]], y_train, epochs=1, verbose=2)\n",
    "#     x_train_old = X_train_set_by_day[day]\n",
    "#     y_train_old = Y_train_set_by_day[day]\n",
    "    for i in range(48,75):\n",
    "        if X_sets_by_day[i][0][4] == day:\n",
    "#             x_train = scx.transform(np.array(X_sets_by_day[i]))\n",
    "#             y_train = scy.transform(np.array(Y_sets_by_day[i]))\n",
    "            X_train_set_by_day[day] = np.concatenate((X_train_set_by_day[day], X_train_set_fit[X_train_set[:,4] == day]), axis=0)\n",
    "            Y_train_set_by_day[day] = np.concatenate((Y_train_set_by_day[day], Y_train_set_fit[X_train_set[:,4] == day]), axis=0)\n",
    "            \n",
    "            x_train = X_train_set_by_day[day]\n",
    "            y_train = Y_train_set_by_day[day]\n",
    "            history = models[day].fit([x_train[:,0:4],x_train[:,4:]], y_train, epochs=100, verbose=2)\n",
    "            print('current at: '+str(i))\n",
    "#     for i in range(30,48):\n",
    "#         if X_sets_by_day[i][0][4] < 5 and day == 0:\n",
    "#             x_train = scx.transform(np.array(X_sets_by_day[i]))\n",
    "#             y_train = scy.transform(np.array(Y_sets_by_day[i]))\n",
    "#             history = models[0].fit([x_train[:,0:4],x_train[:,4:]], y_train, epochs=100, verbose=2)\n",
    "#             print('current at: '+str(i))\n",
    "#         elif X_sets_by_day[i][0][4] >= 5 and day == 1:\n",
    "#             x_train = scx.transform(np.array(X_sets_by_day[i]))\n",
    "#             y_train = scy.transform(np.array(Y_sets_by_day[i]))\n",
    "#             history = models[1].fit([x_train[:,0:4],x_train[:,4:]], y_train, epochs=100, verbose=2)\n",
    "#             print('current at: '+str(i))"
   ]
  },
  {
   "cell_type": "code",
   "execution_count": 53,
   "metadata": {},
   "outputs": [
    {
     "data": {
      "text/plain": [
       "(32513, 128)"
      ]
     },
     "execution_count": 53,
     "metadata": {},
     "output_type": "execute_result"
    }
   ],
   "source": []
  },
  {
   "cell_type": "code",
   "execution_count": 7,
   "metadata": {},
   "outputs": [],
   "source": [
    "def haversine(coord1: object, coord2: object):\n",
    "    import math\n",
    "\n",
    "    # Coordinates in decimal degrees (e.g. 2.89078, 12.79797)\n",
    "    lon1, lat1 = coord1\n",
    "    lon2, lat2 = coord2\n",
    "\n",
    "    R = 6371000  # radius of Earth in meters\n",
    "    phi_1 = math.radians(lat1)\n",
    "    phi_2 = math.radians(lat2)\n",
    "\n",
    "    delta_phi = math.radians(lat2 - lat1)\n",
    "    delta_lambda = math.radians(lon2 - lon1)\n",
    "\n",
    "    a = math.sin(delta_phi / 2.0) ** 2 + math.cos(phi_1) * math.cos(phi_2) * math.sin(delta_lambda / 2.0) ** 2\n",
    "    \n",
    "    c = 2 * math.atan2(math.sqrt(a), math.sqrt(1 - a))\n",
    "\n",
    "    meters = R * c  # output distance in meters\n",
    "    km = meters / 1000.0  # output distance in kilometers\n",
    "\n",
    "    meters = round(meters, 5)\n",
    "    km = round(km, 5)\n",
    "    return km"
   ]
  },
  {
   "cell_type": "code",
   "execution_count": 8,
   "metadata": {},
   "outputs": [
    {
     "data": {
      "text/plain": [
       "<matplotlib.collections.PathCollection at 0x1d1eab4d108>"
      ]
     },
     "execution_count": 8,
     "metadata": {},
     "output_type": "execute_result"
    },
    {
     "data": {
      "image/png": "[encoded data removed]",
      "text/plain": [
       "<Figure size 432x288 with 1 Axes>"
      ]
     },
     "metadata": {
      "needs_background": "light"
     },
     "output_type": "display_data"
    }
   ],
   "source": [
    "import matplotlib.pyplot as plt\n",
    "\n",
    "sum_day = 0\n",
    "plot_array_day = []\n",
    "for day in range(7):\n",
    "    x_test = X_test_set_by_day[day]\n",
    "    y_test = Y_test_set_by_day[day]\n",
    "    \n",
    "    result_Y = models[day].predict([x_test[:,0:4],x_test[:,4:]])\n",
    "    result_Y_all = scy.inverse_transform(result_Y)\n",
    "    y_test_all = scy.inverse_transform(y_test)\n",
    "    error_all = []\n",
    "    for i in (range(len(y_test_all))):\n",
    "        error_all.append(haversine(result_Y_all[i],y_test_all[i]))\n",
    "    plot_array_day.append(error_all)   \n",
    "    \n",
    "# plt.xlabel('days of week')\n",
    "# plt.ylabel('error haversine (km)')\n",
    "# plt.boxplot(plot_array_day, showfliers=False) \n",
    "\n",
    "scat_plot = []\n",
    "for day in range(len(plot_array_day)):\n",
    "    scat_plot.append(sum(plot_array_day[day])/len(plot_array_day[day]))\n",
    "plot_array_day = np.array(plot_array_day, dtype=np.object)\n",
    "plt.xlabel('day')\n",
    "plt.ylabel('error haversine (km)')\n",
    "plt.grid(color='black', linestyle='-', linewidth=0.3)\n",
    "plt.scatter([1,2,3,4,5,6,7], scat_plot, color='r', s= 1)"
   ]
  },
  {
   "cell_type": "code",
   "execution_count": 9,
   "metadata": {},
   "outputs": [
    {
     "data": {
      "text/plain": [
       "0.8456098634326714"
      ]
     },
     "execution_count": 9,
     "metadata": {},
     "output_type": "execute_result"
    }
   ],
   "source": [
    "sum(scat_plot)/len(scat_plot)"
   ]
  },
  {
   "cell_type": "code",
   "execution_count": 10,
   "metadata": {},
   "outputs": [
    {
     "data": {
      "text/plain": [
       "<matplotlib.collections.PathCollection at 0x1d1eac48b48>"
      ]
     },
     "execution_count": 10,
     "metadata": {},
     "output_type": "execute_result"
    },
    {
     "data": {
      "image/png": "[encoded data removed]",
      "text/plain": [
       "<Figure size 432x288 with 1 Axes>"
      ]
     },
     "metadata": {
      "needs_background": "light"
     },
     "output_type": "display_data"
    }
   ],
   "source": [
    "import matplotlib.pyplot as plt\n",
    "\n",
    "mae_rate_hour = []\n",
    "\n",
    "x_test_hour = scx.inverse_transform(x_test)\n",
    "\n",
    "result_Y_hour = scy.inverse_transform(result_Y)\n",
    "y_test_hour = scy.inverse_transform(y_test)\n",
    "for index in range(24):\n",
    "    mask = np.logical_and(x_test_hour[:,3] > (index)-0.2, x_test_hour[:,3] < (index+1)-0.2)\n",
    "    result_Y_d = result_Y_hour[mask]\n",
    "    Y_test_in = y_test_hour[mask]\n",
    "    error = 0\n",
    "    for i in range(len(Y_test_in)):\n",
    "        error = error + haversine(result_Y_d[i,0:2],Y_test_in[i,0:2])\n",
    "    end = error/len(Y_test_in)\n",
    "    error_average_distance = end\n",
    "\n",
    "    y_test[:,0] = y_test[:,0]\n",
    "    mae_rate_hour.append([float(error_average_distance), str(index)])\n",
    "\n",
    "mae_rate_hour = np.array(mae_rate_hour, dtype=np.object)\n",
    "plt.xlabel('hours')\n",
    "plt.ylabel('error_avg_distance(km)')\n",
    "plt.grid(color='black', linestyle='-', linewidth=0.3)\n",
    "plt.scatter(mae_rate_hour[:,1], mae_rate_hour[:,0], color='r', s= 1)\n",
    "\n"
   ]
  },
  {
   "cell_type": "code",
   "execution_count": null,
   "metadata": {},
   "outputs": [],
   "source": []
  }
 ],
 "metadata": {
  "kernelspec": {
   "display_name": "Python 3",
   "language": "python",
   "name": "python3"
  },
  "language_info": {
   "codemirror_mode": {
    "name": "ipython",
    "version": 3
   },
   "file_extension": ".py",
   "mimetype": "text/x-python",
   "name": "python",
   "nbconvert_exporter": "python",
   "pygments_lexer": "ipython3",
   "version": "3.7.9"
  }
 },
 "nbformat": 4,
 "nbformat_minor": 4
}
