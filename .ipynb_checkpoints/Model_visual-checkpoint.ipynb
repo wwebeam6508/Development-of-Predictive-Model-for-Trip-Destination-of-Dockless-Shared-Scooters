{
 "cells": [
  {
   "cell_type": "code",
   "execution_count": 20,
   "metadata": {},
   "outputs": [],
   "source": [
    "import numpy as np\n",
    "import pandas as pd\n",
    "\n",
    "coor_data = pd.read_csv('Data/coordata.csv')\n",
    "date_data = pd.read_csv('Data/datedata.csv')\n",
    "meta_data = pd.read_csv('Data/metadata.csv')\n",
    "bus_stop_data = pd.read_csv('Data/bus_stop.csv')\n",
    "cluster_group_data = pd.read_csv('Data/cluster_group.csv')\n",
    "\n",
    "\n",
    "stop_data = pd.read_csv('Data/stops.csv')\n",
    "general = pd.read_csv('Data/ScooterData_July15_Sept27_2019.csv')\n",
    "\n",
    "data_set = coor_data.join(cluster_group_data.join(bus_stop_data.join(date_data.join(meta_data))))\n",
    "\n",
    "from scipy import stats\n",
    "\n",
    "general_np = general.to_numpy()"
   ]
  },
  {
   "cell_type": "code",
   "execution_count": 21,
   "metadata": {},
   "outputs": [],
   "source": [
    "Y_data = data_set[['endx', 'endy']].to_numpy()\n",
    "X_data = data_set.drop(columns=['endx', 'endy','start_cluster_group', 'end_cluster_group','start_date', 'end_near_stop']).to_numpy()"
   ]
  },
  {
   "cell_type": "code",
   "execution_count": 38,
   "metadata": {},
   "outputs": [
    {
     "name": "stderr",
     "output_type": "stream",
     "text": [
      "100% (459478 of 459478) |################| Elapsed Time: 0:00:08 Time:  0:00:08\n"
     ]
    }
   ],
   "source": [
    "import progressbar\n",
    "\n",
    "X_sets_by_day = []\n",
    "Y_sets_by_day = []\n",
    "\n",
    "hr = 0\n",
    "x = []\n",
    "y = []\n",
    "\n",
    "compare_hr_before = 0\n",
    "compare_hr_current = 0\n",
    "for i in progressbar.progressbar(range(len(X_data))):\n",
    "    compare_hr_current = data_set['start_hour'][i]\n",
    "    if (compare_hr_before == 23 and compare_hr_current == 0):\n",
    "        hr = 0\n",
    "        X_sets_by_day.append(x)\n",
    "        Y_sets_by_day.append(y)\n",
    "        x = []\n",
    "        y = []\n",
    "    compare_hr_before = data_set['start_hour'][i]\n",
    "    x.append(X_data[i])\n",
    "    y.append(Y_data[i])\n",
    "    if i == (len(X_data) - 1):\n",
    "        X_sets_by_day.append(x)\n",
    "        Y_sets_by_day.append(y)\n",
    "        \n"
   ]
  },
  {
   "cell_type": "code",
   "execution_count": 82,
   "metadata": {},
   "outputs": [
    {
     "name": "stderr",
     "output_type": "stream",
     "text": [
      "100% (75 of 75) |########################| Elapsed Time: 0:13:21 Time:  0:13:21\n"
     ]
    }
   ],
   "source": [
    "W = 32\n",
    "H = 32\n",
    "map_mat = np.zeros((W,H))\n",
    "\n",
    "map_set_by_day = []\n",
    "\n",
    "for i in progressbar.progressbar(range(len(X_sets_by_day))):\n",
    "    map_set_by_day.append([])\n",
    "    x_now_day = np.asarray(X_sets_by_day[i])\n",
    "    for j in range(len(X_sets_by_day[i])):\n",
    "        X_day = X_sets_by_day[i][j][0]*100\n",
    "        Y_day = X_sets_by_day[i][j][1]*100\n",
    "        map_set_by_day[i].append(map_mat.copy())\n",
    "        left = X_day - 5\n",
    "        right = X_day + 5\n",
    "        top = Y_day + 5\n",
    "        bottom = Y_day - 5\n",
    "        X_near = x_now_day\n",
    "        X_near = X_near[np.logical_and( X_near[:,3] == X_near[j,3] ,np.logical_and(np.logical_and(X_near[:,0]*100 >= left,  X_near[:,0]*100 <= right), np.logical_and(X_near[:,1]*100 >= bottom,  X_near[:,1]*100 <= top)))]\n",
    "        for x_n in range(len(X_near)):\n",
    "            xn_tranform_x = int(W*((X_near[x_n][0]*100) - left)/(right - left))\n",
    "            xn_tranform_y = int(H*((X_near[x_n][1]*100) - bottom)/(top - bottom))\n",
    "            map_set_by_day[i][j][xn_tranform_x,xn_tranform_y] = 1\n",
    "            \n",
    "        tranform_x = int(W*(X_day - left)/(right - left))\n",
    "        tranform_y = int(H*(Y_day - bottom)/(top - bottom))\n",
    "        map_set_by_day[i][j][tranform_x, tranform_y] = 2"
   ]
  },
  {
   "cell_type": "code",
   "execution_count": 83,
   "metadata": {},
   "outputs": [
    {
     "data": {
      "text/plain": [
       "<matplotlib.image.AxesImage at 0x1c522c12808>"
      ]
     },
     "execution_count": 83,
     "metadata": {},
     "output_type": "execute_result"
    },
    {
     "data": {
      "image/png": "[encoded data removed]",
      "text/plain": [
       "<Figure size 432x288 with 1 Axes>"
      ]
     },
     "metadata": {
      "needs_background": "light"
     },
     "output_type": "display_data"
    }
   ],
   "source": [
    "import matplotlib.pyplot as plt\n",
    "\n",
    "plt.imshow(map_set_by_day[0][512])"
   ]
  },
  {
   "cell_type": "code",
   "execution_count": 84,
   "metadata": {},
   "outputs": [
    {
     "name": "stderr",
     "output_type": "stream",
     "text": [
      "100% (48 of 48) |########################| Elapsed Time: 0:00:00 Time:  0:00:00\n",
      "100% (27 of 27) |########################| Elapsed Time: 0:00:00 Time:  0:00:00\n",
      "I:\\Users\\PC\\anaconda3\\envs\\my_env\\lib\\site-packages\\tensorflow\\python\\framework\\dtypes.py:516: FutureWarning: Passing (type, 1) or '1type' as a synonym of type is deprecated; in a future version of numpy, it will be understood as (type, (1,)) / '(1,)type'.\n",
      "  _np_qint8 = np.dtype([(\"qint8\", np.int8, 1)])\n",
      "I:\\Users\\PC\\anaconda3\\envs\\my_env\\lib\\site-packages\\tensorflow\\python\\framework\\dtypes.py:517: FutureWarning: Passing (type, 1) or '1type' as a synonym of type is deprecated; in a future version of numpy, it will be understood as (type, (1,)) / '(1,)type'.\n",
      "  _np_quint8 = np.dtype([(\"quint8\", np.uint8, 1)])\n",
      "I:\\Users\\PC\\anaconda3\\envs\\my_env\\lib\\site-packages\\tensorflow\\python\\framework\\dtypes.py:518: FutureWarning: Passing (type, 1) or '1type' as a synonym of type is deprecated; in a future version of numpy, it will be understood as (type, (1,)) / '(1,)type'.\n",
      "  _np_qint16 = np.dtype([(\"qint16\", np.int16, 1)])\n",
      "I:\\Users\\PC\\anaconda3\\envs\\my_env\\lib\\site-packages\\tensorflow\\python\\framework\\dtypes.py:519: FutureWarning: Passing (type, 1) or '1type' as a synonym of type is deprecated; in a future version of numpy, it will be understood as (type, (1,)) / '(1,)type'.\n",
      "  _np_quint16 = np.dtype([(\"quint16\", np.uint16, 1)])\n",
      "I:\\Users\\PC\\anaconda3\\envs\\my_env\\lib\\site-packages\\tensorflow\\python\\framework\\dtypes.py:520: FutureWarning: Passing (type, 1) or '1type' as a synonym of type is deprecated; in a future version of numpy, it will be understood as (type, (1,)) / '(1,)type'.\n",
      "  _np_qint32 = np.dtype([(\"qint32\", np.int32, 1)])\n",
      "I:\\Users\\PC\\anaconda3\\envs\\my_env\\lib\\site-packages\\tensorflow\\python\\framework\\dtypes.py:525: FutureWarning: Passing (type, 1) or '1type' as a synonym of type is deprecated; in a future version of numpy, it will be understood as (type, (1,)) / '(1,)type'.\n",
      "  np_resource = np.dtype([(\"resource\", np.ubyte, 1)])\n",
      "I:\\Users\\PC\\anaconda3\\envs\\my_env\\lib\\site-packages\\tensorboard\\compat\\tensorflow_stub\\dtypes.py:541: FutureWarning: Passing (type, 1) or '1type' as a synonym of type is deprecated; in a future version of numpy, it will be understood as (type, (1,)) / '(1,)type'.\n",
      "  _np_qint8 = np.dtype([(\"qint8\", np.int8, 1)])\n",
      "I:\\Users\\PC\\anaconda3\\envs\\my_env\\lib\\site-packages\\tensorboard\\compat\\tensorflow_stub\\dtypes.py:542: FutureWarning: Passing (type, 1) or '1type' as a synonym of type is deprecated; in a future version of numpy, it will be understood as (type, (1,)) / '(1,)type'.\n",
      "  _np_quint8 = np.dtype([(\"quint8\", np.uint8, 1)])\n",
      "I:\\Users\\PC\\anaconda3\\envs\\my_env\\lib\\site-packages\\tensorboard\\compat\\tensorflow_stub\\dtypes.py:543: FutureWarning: Passing (type, 1) or '1type' as a synonym of type is deprecated; in a future version of numpy, it will be understood as (type, (1,)) / '(1,)type'.\n",
      "  _np_qint16 = np.dtype([(\"qint16\", np.int16, 1)])\n",
      "I:\\Users\\PC\\anaconda3\\envs\\my_env\\lib\\site-packages\\tensorboard\\compat\\tensorflow_stub\\dtypes.py:544: FutureWarning: Passing (type, 1) or '1type' as a synonym of type is deprecated; in a future version of numpy, it will be understood as (type, (1,)) / '(1,)type'.\n",
      "  _np_quint16 = np.dtype([(\"quint16\", np.uint16, 1)])\n",
      "I:\\Users\\PC\\anaconda3\\envs\\my_env\\lib\\site-packages\\tensorboard\\compat\\tensorflow_stub\\dtypes.py:545: FutureWarning: Passing (type, 1) or '1type' as a synonym of type is deprecated; in a future version of numpy, it will be understood as (type, (1,)) / '(1,)type'.\n",
      "  _np_qint32 = np.dtype([(\"qint32\", np.int32, 1)])\n",
      "I:\\Users\\PC\\anaconda3\\envs\\my_env\\lib\\site-packages\\tensorboard\\compat\\tensorflow_stub\\dtypes.py:550: FutureWarning: Passing (type, 1) or '1type' as a synonym of type is deprecated; in a future version of numpy, it will be understood as (type, (1,)) / '(1,)type'.\n",
      "  np_resource = np.dtype([(\"resource\", np.ubyte, 1)])\n"
     ]
    }
   ],
   "source": [
    "X_train_set = []\n",
    "Y_train_set = []\n",
    "Map_X_train_set = []\n",
    "for i in progressbar.progressbar(range(48)):\n",
    "    for j in range(len(X_sets_by_day[i])):\n",
    "        X_train_set.append(X_sets_by_day[i][j])\n",
    "        Y_train_set.append(Y_sets_by_day[i][j])\n",
    "        Map_X_train_set.append(map_set_by_day[i][j])\n",
    "\n",
    "X_test_set = []\n",
    "Y_test_set = []\n",
    "Map_X_test_set = []\n",
    "for i in progressbar.progressbar(range(48,len(X_sets_by_day))):\n",
    "    for j in range(len(X_sets_by_day[i])):\n",
    "        X_test_set.append(X_sets_by_day[i][j])\n",
    "        Y_test_set.append(Y_sets_by_day[i][j])\n",
    "        Map_X_test_set.append(map_set_by_day[i][j])\n",
    "        \n",
    "from sklearn.preprocessing import MinMaxScaler\n",
    "from tensorflow.python.keras.callbacks import EarlyStopping\n",
    "\n",
    "X_train_set = np.asarray(X_train_set)\n",
    "X_test_set = np.asarray(X_test_set)\n",
    "scx = MinMaxScaler(feature_range=(0,1))\n",
    "X_train_set_fit = scx.fit_transform(X_train_set)\n",
    "X_test_set_fit = scx.transform(X_test_set)\n",
    "\n",
    "Y_train_set = np.asarray(Y_train_set)\n",
    "Y_test_set = np.asarray(Y_test_set)\n",
    "scy = MinMaxScaler(feature_range=(0,1))\n",
    "Y_train_set_fit = scy.fit_transform(Y_train_set)\n",
    "Y_test_set_fit = scy.transform(Y_test_set)\n",
    "\n",
    "Map_X_train_set = np.asarray(Map_X_train_set)\n",
    "Map_X_test_set = np.asarray(Map_X_test_set)\n",
    "\n",
    "Map_X_train_set = Map_X_train_set.reshape(len(Map_X_train_set), Map_X_train_set.shape[1], Map_X_train_set.shape[2], 1)\n",
    "Map_X_test_set = Map_X_test_set.reshape(len(Map_X_test_set), Map_X_test_set.shape[1], Map_X_test_set.shape[2], 1)\n",
    "\n"
   ]
  },
  {
   "cell_type": "code",
   "execution_count": null,
   "metadata": {},
   "outputs": [],
   "source": []
  },
  {
   "cell_type": "code",
   "execution_count": 85,
   "metadata": {},
   "outputs": [
    {
     "name": "stderr",
     "output_type": "stream",
     "text": [
      "WARNING:tensorflow:From I:\\Users\\PC\\anaconda3\\envs\\my_env\\lib\\site-packages\\tensorflow\\python\\ops\\init_ops.py:1251: calling VarianceScaling.__init__ (from tensorflow.python.ops.init_ops) with dtype is deprecated and will be removed in a future version.\n",
      "Instructions for updating:\n",
      "Call initializer instance with the dtype argument instead of passing it to the constructor\n"
     ]
    }
   ],
   "source": [
    "from tensorflow.keras import layers, Model\n",
    "from tensorflow.keras.layers import Conv2D, MaxPooling2D, Flatten\n",
    "from tensorflow.python.keras.layers.core import Dense, Activation, Dropout\n",
    "from tensorflow.python.keras.layers.recurrent import LSTM\n",
    "from copy import copy\n",
    "\n",
    "\n",
    "inputA = layers.Input(shape=(4))\n",
    "inputB = layers.Input(shape=(60))\n",
    "\n",
    "shape = Map_X_train_set.shape\n",
    "inputMap = layers.Input(shape=(shape[1],shape[2],1))\n",
    "mapx = Conv2D(filters=16, kernel_size=(4,4), input_shape=(shape[1],shape[2]), activation='relu',)(inputMap)\n",
    "mapx = Flatten()(mapx)\n",
    "mapx = Model(inputs=inputMap, outputs=mapx)\n",
    "\n",
    "\n",
    "x = Dense(15)(inputA)\n",
    "x = Dense(30, activation=\"relu\")(x)\n",
    "x = Model(inputs=inputA, outputs=x)\n",
    "\n",
    "y = Dense(62)(inputB)\n",
    "y = Dense(70, activation=\"relu\")(y)\n",
    "y = Model(inputs=inputB, outputs=y)\n",
    "\n",
    "combined = layers.concatenate([x.output, y.output])\n",
    "\n",
    "final = Dense(55, activation=\"relu\")(layers.concatenate([combined, mapx.output]))\n",
    "\n",
    "c = Dense(2)(final)\n",
    "\n",
    "\n",
    "model = Model(inputs=[x.input,y.input, mapx.input], outputs=c)\n",
    "model.compile(loss=\"mean_absolute_error\", optimizer=\"adam\")"
   ]
  },
  {
   "cell_type": "code",
   "execution_count": null,
   "metadata": {},
   "outputs": [],
   "source": []
  },
  {
   "cell_type": "code",
   "execution_count": 86,
   "metadata": {},
   "outputs": [
    {
     "ename": "ValueError",
     "evalue": "Error when checking input: expected input_2 to have shape (61,) but got array with shape (60,)",
     "output_type": "error",
     "traceback": [
      "\u001b[1;31m---------------------------------------------------------------------------\u001b[0m",
      "\u001b[1;31mValueError\u001b[0m                                Traceback (most recent call last)",
      "\u001b[1;32m<ipython-input-86-78401152b6ea>\u001b[0m in \u001b[0;36m<module>\u001b[1;34m\u001b[0m\n\u001b[0;32m      6\u001b[0m \u001b[1;31m# history = model.fit([x_train[:,0:7],x_train[:,7:]], [y_train[:,0:2], y_train[:,2:4]], epochs=100, validation_data=([x_test[:,0:7],x_test[:,7:]], [y_test[:,0:2], y_test[:,2:4]]))\u001b[0m\u001b[1;33m\u001b[0m\u001b[1;33m\u001b[0m\u001b[1;33m\u001b[0m\u001b[0m\n\u001b[0;32m      7\u001b[0m \u001b[1;33m\u001b[0m\u001b[0m\n\u001b[1;32m----> 8\u001b[1;33m \u001b[0mhistory\u001b[0m \u001b[1;33m=\u001b[0m \u001b[0mmodel\u001b[0m\u001b[1;33m.\u001b[0m\u001b[0mfit\u001b[0m\u001b[1;33m(\u001b[0m\u001b[1;33m[\u001b[0m\u001b[0mX_train_set_fit\u001b[0m\u001b[1;33m[\u001b[0m\u001b[1;33m:\u001b[0m\u001b[1;33m,\u001b[0m\u001b[1;36m0\u001b[0m\u001b[1;33m:\u001b[0m\u001b[1;36m4\u001b[0m\u001b[1;33m]\u001b[0m\u001b[1;33m,\u001b[0m\u001b[0mX_train_set_fit\u001b[0m\u001b[1;33m[\u001b[0m\u001b[1;33m:\u001b[0m\u001b[1;33m,\u001b[0m\u001b[1;36m4\u001b[0m\u001b[1;33m:\u001b[0m\u001b[1;33m]\u001b[0m\u001b[1;33m,\u001b[0m \u001b[0mMap_X_train_set\u001b[0m\u001b[1;33m]\u001b[0m\u001b[1;33m,\u001b[0m \u001b[0mY_train_set_fit\u001b[0m\u001b[1;33m,\u001b[0m \u001b[0mepochs\u001b[0m\u001b[1;33m=\u001b[0m\u001b[1;36m50\u001b[0m\u001b[1;33m)\u001b[0m\u001b[1;33m\u001b[0m\u001b[1;33m\u001b[0m\u001b[0m\n\u001b[0m",
      "\u001b[1;32mI:\\Users\\PC\\anaconda3\\envs\\my_env\\lib\\site-packages\\tensorflow\\python\\keras\\engine\\training.py\u001b[0m in \u001b[0;36mfit\u001b[1;34m(self, x, y, batch_size, epochs, verbose, callbacks, validation_split, validation_data, shuffle, class_weight, sample_weight, initial_epoch, steps_per_epoch, validation_steps, validation_freq, max_queue_size, workers, use_multiprocessing, **kwargs)\u001b[0m\n\u001b[0;32m    707\u001b[0m         \u001b[0msteps\u001b[0m\u001b[1;33m=\u001b[0m\u001b[0msteps_per_epoch\u001b[0m\u001b[1;33m,\u001b[0m\u001b[1;33m\u001b[0m\u001b[1;33m\u001b[0m\u001b[0m\n\u001b[0;32m    708\u001b[0m         \u001b[0mvalidation_split\u001b[0m\u001b[1;33m=\u001b[0m\u001b[0mvalidation_split\u001b[0m\u001b[1;33m,\u001b[0m\u001b[1;33m\u001b[0m\u001b[1;33m\u001b[0m\u001b[0m\n\u001b[1;32m--> 709\u001b[1;33m         shuffle=shuffle)\n\u001b[0m\u001b[0;32m    710\u001b[0m \u001b[1;33m\u001b[0m\u001b[0m\n\u001b[0;32m    711\u001b[0m     \u001b[1;31m# Prepare validation data.\u001b[0m\u001b[1;33m\u001b[0m\u001b[1;33m\u001b[0m\u001b[1;33m\u001b[0m\u001b[0m\n",
      "\u001b[1;32mI:\\Users\\PC\\anaconda3\\envs\\my_env\\lib\\site-packages\\tensorflow\\python\\keras\\engine\\training.py\u001b[0m in \u001b[0;36m_standardize_user_data\u001b[1;34m(self, x, y, sample_weight, class_weight, batch_size, check_steps, steps_name, steps, validation_split, shuffle, extract_tensors_from_dataset)\u001b[0m\n\u001b[0;32m   2649\u001b[0m           \u001b[0mfeed_input_shapes\u001b[0m\u001b[1;33m,\u001b[0m\u001b[1;33m\u001b[0m\u001b[1;33m\u001b[0m\u001b[0m\n\u001b[0;32m   2650\u001b[0m           \u001b[0mcheck_batch_axis\u001b[0m\u001b[1;33m=\u001b[0m\u001b[1;32mFalse\u001b[0m\u001b[1;33m,\u001b[0m  \u001b[1;31m# Don't enforce the batch size.\u001b[0m\u001b[1;33m\u001b[0m\u001b[1;33m\u001b[0m\u001b[0m\n\u001b[1;32m-> 2651\u001b[1;33m           exception_prefix='input')\n\u001b[0m\u001b[0;32m   2652\u001b[0m \u001b[1;33m\u001b[0m\u001b[0m\n\u001b[0;32m   2653\u001b[0m     \u001b[1;32mif\u001b[0m \u001b[0my\u001b[0m \u001b[1;32mis\u001b[0m \u001b[1;32mnot\u001b[0m \u001b[1;32mNone\u001b[0m\u001b[1;33m:\u001b[0m\u001b[1;33m\u001b[0m\u001b[1;33m\u001b[0m\u001b[0m\n",
      "\u001b[1;32mI:\\Users\\PC\\anaconda3\\envs\\my_env\\lib\\site-packages\\tensorflow\\python\\keras\\engine\\training_utils.py\u001b[0m in \u001b[0;36mstandardize_input_data\u001b[1;34m(data, names, shapes, check_batch_axis, exception_prefix)\u001b[0m\n\u001b[0;32m    383\u001b[0m                              \u001b[1;34m': expected '\u001b[0m \u001b[1;33m+\u001b[0m \u001b[0mnames\u001b[0m\u001b[1;33m[\u001b[0m\u001b[0mi\u001b[0m\u001b[1;33m]\u001b[0m \u001b[1;33m+\u001b[0m \u001b[1;34m' to have shape '\u001b[0m \u001b[1;33m+\u001b[0m\u001b[1;33m\u001b[0m\u001b[1;33m\u001b[0m\u001b[0m\n\u001b[0;32m    384\u001b[0m                              \u001b[0mstr\u001b[0m\u001b[1;33m(\u001b[0m\u001b[0mshape\u001b[0m\u001b[1;33m)\u001b[0m \u001b[1;33m+\u001b[0m \u001b[1;34m' but got array with shape '\u001b[0m \u001b[1;33m+\u001b[0m\u001b[1;33m\u001b[0m\u001b[1;33m\u001b[0m\u001b[0m\n\u001b[1;32m--> 385\u001b[1;33m                              str(data_shape))\n\u001b[0m\u001b[0;32m    386\u001b[0m   \u001b[1;32mreturn\u001b[0m \u001b[0mdata\u001b[0m\u001b[1;33m\u001b[0m\u001b[1;33m\u001b[0m\u001b[0m\n\u001b[0;32m    387\u001b[0m \u001b[1;33m\u001b[0m\u001b[0m\n",
      "\u001b[1;31mValueError\u001b[0m: Error when checking input: expected input_2 to have shape (61,) but got array with shape (60,)"
     ]
    }
   ],
   "source": [
    "from tensorflow.python.keras.callbacks import EarlyStopping\n",
    "\n",
    "model.compile(loss=\"mean_absolute_error\", optimizer=\"adam\")\n",
    "\n",
    "callback = EarlyStopping(monitor='loss', patience=5, mode=\"auto\")\n",
    "# history = model.fit([x_train[:,0:7],x_train[:,7:]], [y_train[:,0:2], y_train[:,2:4]], epochs=100, validation_data=([x_test[:,0:7],x_test[:,7:]], [y_test[:,0:2], y_test[:,2:4]]))\n",
    "\n",
    "history = model.fit([X_train_set_fit[:,0:4],X_train_set_fit[:,4:], Map_X_train_set], Y_train_set_fit, epochs=50)"
   ]
  },
  {
   "cell_type": "code",
   "execution_count": null,
   "metadata": {},
   "outputs": [],
   "source": [
    "import matplotlib.pyplot as plt\n",
    "import numpy as np\n",
    "result_Y = (model.predict([X_test_set_fit[:,0:4],X_test_set_fit[:,4:], Map_X_test_set]))\n",
    "\n",
    "result_Y_plot = scy.inverse_transform(result_Y)\n",
    "y_test_plot = scy.inverse_transform(Y_test_set_fit)\n",
    "\n",
    "plt.scatter((y_test_plot[:,0]),(y_test_plot[:,1]), color='b', s= 1)\n",
    "plt.scatter((result_Y_plot[:,0]), (result_Y_plot[:,1]), color='r', s= 1)\n",
    "\n"
   ]
  },
  {
   "cell_type": "code",
   "execution_count": null,
   "metadata": {},
   "outputs": [],
   "source": [
    "result = model.predict([X_test_set_fit[:,0:4],X_test_set_fit[:,4:], Map_X_test_set])"
   ]
  },
  {
   "cell_type": "code",
   "execution_count": null,
   "metadata": {},
   "outputs": [],
   "source": [
    "def haversine(coord1: object, coord2: object):\n",
    "    import math\n",
    "\n",
    "    # Coordinates in decimal degrees (e.g. 2.89078, 12.79797)\n",
    "    lon1, lat1 = coord1\n",
    "    lon2, lat2 = coord2\n",
    "\n",
    "    R = 6371000  # radius of Earth in meters\n",
    "    phi_1 = math.radians(lat1)\n",
    "    phi_2 = math.radians(lat2)\n",
    "\n",
    "    delta_phi = math.radians(lat2 - lat1)\n",
    "    delta_lambda = math.radians(lon2 - lon1)\n",
    "\n",
    "    a = math.sin(delta_phi / 2.0) ** 2 + math.cos(phi_1) * math.cos(phi_2) * math.sin(delta_lambda / 2.0) ** 2\n",
    "    \n",
    "    c = 2 * math.atan2(math.sqrt(a), math.sqrt(1 - a))\n",
    "\n",
    "    meters = R * c  # output distance in meters\n",
    "    km = meters / 1000.0  # output distance in kilometers\n",
    "\n",
    "    meters = round(meters, 5)\n",
    "    km = round(km, 5)\n",
    "    return km"
   ]
  },
  {
   "cell_type": "code",
   "execution_count": null,
   "metadata": {},
   "outputs": [],
   "source": [
    "mae_rate_day_of_week = []\n",
    "\n",
    "x_test_day = scx.inverse_transform(X_test_set_fit)\n",
    "result_Y_day = scy.inverse_transform(result)\n",
    "y_test_day = scy.inverse_transform(Y_test_set_fit)\n",
    "for index in range(7):\n",
    "    mask = np.logical_and(x_test_day[:,5] > (index)-0.1, x_test_day[:,5] < (index+1)-0.1)\n",
    "    result_Y_d_day = result_Y_day[mask]\n",
    "    Y_test_in = y_test_day[mask]\n",
    "    error = 0\n",
    "    haverList = []\n",
    "    for i in (range(len(Y_test_in))):\n",
    "        error = error + haversine(result_Y_d_day[i,0:2],Y_test_in[i,0:2])\n",
    "    end = error/len(Y_test_in)\n",
    "    error_average_distance = end\n",
    "\n",
    "    mae_rate_day_of_week.append([error_average_distance, str(index+1)])\n",
    "\n",
    "mae_rate_day_of_week = np.array(mae_rate_day_of_week, dtype=np.object)\n",
    "plt.xlabel('days of week')\n",
    "plt.ylabel('error_avg_distance(km)')\n",
    "plt.grid(color='black', linestyle='-', linewidth=0.3)\n",
    "plt.scatter(mae_rate_day_of_week[:,1], mae_rate_day_of_week[:,0], color='r', s= 1)"
   ]
  },
  {
   "cell_type": "code",
   "execution_count": null,
   "metadata": {},
   "outputs": [],
   "source": [
    "result_Y_all = scy.inverse_transform(result_Y)\n",
    "y_test_all = scy.inverse_transform(Y_test_set_fit)\n",
    "error_all = 0\n",
    "for i in (range(len(y_test_all))):\n",
    "    error_all = error_all + haversine(result_Y_all[i],y_test_all[i])\n",
    "    error_avg = error_all/len(y_test_all)\n",
    "error_avg"
   ]
  },
  {
   "cell_type": "code",
   "execution_count": 230,
   "metadata": {},
   "outputs": [
    {
     "data": {
      "text/plain": [
       "array([6., 6., 6., ..., 4., 4., 4.])"
      ]
     },
     "execution_count": 230,
     "metadata": {},
     "output_type": "execute_result"
    }
   ],
   "source": []
  },
  {
   "cell_type": "code",
   "execution_count": null,
   "metadata": {},
   "outputs": [],
   "source": []
  }
 ],
 "metadata": {
  "kernelspec": {
   "display_name": "Python 3",
   "language": "python",
   "name": "python3"
  },
  "language_info": {
   "codemirror_mode": {
    "name": "ipython",
    "version": 3
   },
   "file_extension": ".py",
   "mimetype": "text/x-python",
   "name": "python",
   "nbconvert_exporter": "python",
   "pygments_lexer": "ipython3",
   "version": "3.7.9"
  }
 },
 "nbformat": 4,
 "nbformat_minor": 4
}
