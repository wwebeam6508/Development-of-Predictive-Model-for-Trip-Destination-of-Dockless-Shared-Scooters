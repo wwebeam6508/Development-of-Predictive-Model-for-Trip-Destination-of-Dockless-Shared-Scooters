{
 "cells": [
  {
   "cell_type": "code",
   "execution_count": 1,
   "metadata": {},
   "outputs": [],
   "source": [
    "import pandas as pd\n",
    "import geopandas as gpd\n",
    "import numpy as np\n",
    "\n",
    "census_by_community = gpd.read_file('Data/census_by_community1.shp')\n",
    "data = pd.read_csv('Data/ScooterData_July15_Sept27_2019.csv')"
   ]
  },
  {
   "cell_type": "code",
   "execution_count": 3,
   "metadata": {},
   "outputs": [],
   "source": [
    "data_point = data[['startx','starty']].to_numpy()"
   ]
  },
  {
   "cell_type": "code",
   "execution_count": 42,
   "metadata": {},
   "outputs": [
    {
     "name": "stderr",
     "output_type": "stream",
     "text": [
      "100% (459478 of 459478) |################| Elapsed Time: 2:06:51 Time:  2:06:51\n"
     ]
    }
   ],
   "source": [
    "import progressbar\n",
    "from shapely.geometry import Polygon, Point\n",
    "\n",
    "data_from_census = []\n",
    "\n",
    "for i in progressbar.progressbar(range(len(data_point))):\n",
    "    for census_i in range(len(census_by_community)):\n",
    "        if Point(data_point[i]).within(census_by_community.geometry[census_i]) == True :\n",
    "            cd = census_by_community\n",
    "            data_from_census.append([cd.apartment[census_i], cd.apt_na[census_i], cd.apt_no_res[census_i], cd.apt_occpd[census_i], cd.apt_owned[census_i], cd.apt_person[census_i]\n",
    "                                    , cd.apt_uc[census_i], cd.apt_vacant[census_i]\n",
    "                                    , cd['class'][census_i]\n",
    "                                    , cd.cnv_na[census_i], cd.cnv_no_res[census_i], cd.cnv_occpd[census_i], cd.cnv_owned[census_i], cd.cnv_person[census_i]\n",
    "                                    , cd.cnv_uc[census_i], cd.cnv_vacant[census_i]\n",
    "                                    , cd.comunl_hse[census_i]\n",
    "                                    , cd.conv_struc[census_i]\n",
    "                                    , cd.dog_cnt[census_i]\n",
    "                                    , cd.dup_na[census_i], cd.dup_no_res[census_i], cd.dup_occpd[census_i], cd.dup_owned[census_i], cd.dup_person[census_i]\n",
    "                                    , cd.dup_uc[census_i], cd.dup_vacant[census_i]\n",
    "                                    , cd.dwell_cnt[census_i]\n",
    "                                    , cd.fem_0_4[census_i], cd.fem_5_14[census_i], cd.fem_15_19[census_i], cd.fem_20_24[census_i], cd.fem_25_34[census_i], cd.fem_35_44[census_i]\n",
    "                                    , cd.fem_45_54[census_i], cd.fem_55_64[census_i], cd.fem_65_74[census_i], cd.fem_75[census_i], cd.female_cnt[census_i]\n",
    "                                    , cd.male_0_4[census_i], cd.male_5_14[census_i], cd.male_15_19[census_i], cd.male_20_24[census_i], cd.male_25_34[census_i], cd.male_35_44[census_i]\n",
    "                                    , cd.male_45_54[census_i], cd.male_55_64[census_i], cd.male_65_74[census_i], cd.male_75[census_i], cd.male_cnt[census_i]\n",
    "                                    , cd.nursing_hm[census_i]\n",
    "                                    , cd.sing_famly[census_i]\n",
    "                                    , cd.town_house[census_i], cd.twn_na[census_i], cd.twn_no_res[census_i], cd.twn_occpd[census_i], cd.twn_owned[census_i], cd.twn_person[census_i]\n",
    "                                    , cd.twn_uc[census_i], cd.twn_vacant[census_i]])\n",
    "            "
   ]
  },
  {
   "cell_type": "code",
   "execution_count": 51,
   "metadata": {},
   "outputs": [],
   "source": [
    "data_from_census_numpy = np.array(data_from_census)"
   ]
  },
  {
   "cell_type": "code",
   "execution_count": 56,
   "metadata": {},
   "outputs": [],
   "source": [
    "np.savetxt(\"metadata.csv\", data_from_census_numpy , delimiter='  ', comments='', fmt='%s') "
   ]
  },
  {
   "cell_type": "code",
   "execution_count": 2,
   "metadata": {},
   "outputs": [],
   "source": [
    "date_data = data[['start_date', 'start_hour', 'start_day_of_week']].to_numpy()\n",
    "coor_data = data[['startx', 'starty', 'endx', 'endy']].to_numpy()"
   ]
  },
  {
   "cell_type": "code",
   "execution_count": 3,
   "metadata": {},
   "outputs": [],
   "source": [
    "np.savetxt(\"datedata.csv\", date_data , delimiter='  ', comments='', fmt='%s') "
   ]
  },
  {
   "cell_type": "code",
   "execution_count": 4,
   "metadata": {},
   "outputs": [],
   "source": [
    "\n",
    "np.savetxt(\"coordata.csv\", coor_data , delimiter='  ', comments='', fmt='%s') "
   ]
  },
  {
   "cell_type": "code",
   "execution_count": null,
   "metadata": {},
   "outputs": [],
   "source": []
  }
 ],
 "metadata": {
  "kernelspec": {
   "display_name": "Python 3",
   "language": "python",
   "name": "python3"
  },
  "language_info": {
   "codemirror_mode": {
    "name": "ipython",
    "version": 3
   },
   "file_extension": ".py",
   "mimetype": "text/x-python",
   "name": "python",
   "nbconvert_exporter": "python",
   "pygments_lexer": "ipython3",
   "version": "3.7.8"
  }
 },
 "nbformat": 4,
 "nbformat_minor": 4
}
