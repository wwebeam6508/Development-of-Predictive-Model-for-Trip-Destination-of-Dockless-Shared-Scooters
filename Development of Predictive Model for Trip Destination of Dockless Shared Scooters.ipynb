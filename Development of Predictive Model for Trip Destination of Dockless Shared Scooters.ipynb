{
 "cells": [
  {
   "cell_type": "code",
   "execution_count": 5,
   "metadata": {},
   "outputs": [],
   "source": [
    "import pandas as pd\n",
    "import geopandas as gpd\n",
    "import os\n",
    "import numpy as np\n",
    "import tensorflow as tf\n",
    "from tensorflow import keras\n",
    "from tensorflow.keras import layers\n",
    "import matplotlib.pyplot as plt\n",
    "from keras.utils import to_categorical\n",
    "import datetime\n",
    "from sklearn.preprocessing import OneHotEncoder\n",
    "from sklearn.preprocessing import LabelEncoder\n",
    "from sklearn.preprocessing import LabelBinarizer\n",
    "from keras.utils import np_utils\n",
    "import matplotlib.pyplot as plt\n",
    "from tensorflow.python.keras.models import Sequential\n",
    "from tensorflow.keras import layers\n",
    "from tensorflow.python.keras.layers.core import Dense, Activation, Dropout\n",
    "from sklearn.model_selection import train_test_split\n",
    "from tensorflow.keras.callbacks import EarlyStopping\n",
    "\n",
    "lb = LabelBinarizer()\n",
    "le = LabelEncoder()\n",
    "ohe = OneHotEncoder(sparse=False)\n",
    "\n",
    "train_data = pd.read_csv('ScooterData_July15_Sept27_2019.csv')\n",
    "train_data = train_data.sample(frac=1)\n",
    "train_data['start_date'] = pd.to_datetime(train_data.start_date)\n",
    "train_data['start_day_of_week'] = train_data.start_day_of_week.str.extract(r'(\\d+[.\\d]*)')\n",
    "train_data['startx'] = (train_data['startx'])\n",
    "train_data['endx'] = (train_data['endx'])\n",
    "train_data['starty'] = (train_data['starty'])\n",
    "train_data['endy'] = (train_data['endy'])\n",
    "\n"
   ]
  },
  {
   "cell_type": "code",
   "execution_count": 6,
   "metadata": {},
   "outputs": [],
   "source": [
    "grid_data = gpd.read_file(\"ScooterGridId.shp\")\n",
    "# grid_data = grid_data[grid_data['grid_id'].notnull()]\n",
    "# grid_data = grid_data[grid_data['start_grid'].notnull()]\n",
    "# grid_data = grid_data[grid_data['end_grid_c'].notnull()]\n",
    "grid_id = grid_data[grid_data['grid_id'].notnull()]['grid_id']\n",
    "le.fit_transform(grid_id)\n",
    "\n",
    "train_data = train_data[train_data.ending_grid_id.isin(grid_id)]\n",
    "train_data['ending_grid_id'] = le.transform(train_data['ending_grid_id'])\n",
    "train_data['starting_grid_id'] = le.transform(train_data['starting_grid_id'])\n"
   ]
  },
  {
   "cell_type": "code",
   "execution_count": 7,
   "metadata": {},
   "outputs": [],
   "source": [
    "\n",
    "Y_data = train_data[['endx','endy']].to_numpy()\n",
    "X_data = train_data[['start_day_of_week','start_hour','trip_duration_min','trip_length_km','startx','starty']].to_numpy()\n",
    "from sklearn.preprocessing import MinMaxScaler\n",
    "\n",
    "\n",
    "sc = MinMaxScaler(feature_range=(-1,1))\n",
    "X_data = sc.fit_transform(X_data)\n",
    "Y_data = sc.fit_transform(Y_data)\n",
    "\n",
    "x_train, x_test, y_train, y_test = train_test_split(X_data, Y_data, test_size=0.30, random_state=10)"
   ]
  },
  {
   "cell_type": "code",
   "execution_count": 8,
   "metadata": {},
   "outputs": [
    {
     "name": "stdout",
     "output_type": "stream",
     "text": [
      "WARNING:tensorflow:From C:\\Users\\PC\\anaconda3\\envs\\my_env\\lib\\site-packages\\tensorflow\\python\\ops\\init_ops.py:1251: calling VarianceScaling.__init__ (from tensorflow.python.ops.init_ops) with dtype is deprecated and will be removed in a future version.\n",
      "Instructions for updating:\n",
      "Call initializer instance with the dtype argument instead of passing it to the constructor\n",
      "Model: \"sequential\"\n",
      "_________________________________________________________________\n",
      "Layer (type)                 Output Shape              Param #   \n",
      "=================================================================\n",
      "dense (Dense)                (None, 50)                350       \n",
      "_________________________________________________________________\n",
      "dense_1 (Dense)              (None, 2)                 102       \n",
      "=================================================================\n",
      "Total params: 452\n",
      "Trainable params: 452\n",
      "Non-trainable params: 0\n",
      "_________________________________________________________________\n"
     ]
    }
   ],
   "source": [
    "# kf = KFold(5, shuffle=True, random_state=42)\n",
    "\n",
    "mlp = Sequential()\n",
    "mlp.add( Dense(50,activation='relu',input_shape=x_train[0].shape) )\n",
    "\n",
    "mlp.add( Dense(y_train.shape[1]))\n",
    "mlp.compile(loss=\"mean_absolute_error\", optimizer=\"adam\", metrics=[\"acc\"])\n",
    "mlp.summary()"
   ]
  },
  {
   "cell_type": "code",
   "execution_count": 9,
   "metadata": {
    "scrolled": true
   },
   "outputs": [
    {
     "name": "stdout",
     "output_type": "stream",
     "text": [
      "Train on 320830 samples, validate on 137499 samples\n",
      "Epoch 1/100\n",
      "320830/320830 [==============================] - 10s 30us/sample - loss: 0.0387 - acc: 0.7489 - val_loss: 0.0370 - val_acc: 0.7563\n",
      "Epoch 2/100\n",
      "320830/320830 [==============================] - 10s 31us/sample - loss: 0.0372 - acc: 0.7521 - val_loss: 0.0369 - val_acc: 0.7569\n",
      "Epoch 3/100\n",
      "320830/320830 [==============================] - 10s 30us/sample - loss: 0.0367 - acc: 0.7522 - val_loss: 0.0364 - val_acc: 0.7535\n",
      "Epoch 4/100\n",
      "320830/320830 [==============================] - 10s 31us/sample - loss: 0.0363 - acc: 0.7533 - val_loss: 0.0359 - val_acc: 0.7548\n",
      "Epoch 5/100\n",
      "320830/320830 [==============================] - 9s 27us/sample - loss: 0.0360 - acc: 0.7529 - val_loss: 0.0357 - val_acc: 0.7547\n",
      "Epoch 6/100\n",
      "320830/320830 [==============================] - 9s 28us/sample - loss: 0.0358 - acc: 0.7532 - val_loss: 0.0358 - val_acc: 0.7529\n",
      "Epoch 7/100\n",
      "320830/320830 [==============================] - 9s 30us/sample - loss: 0.0357 - acc: 0.7540 - val_loss: 0.0355 - val_acc: 0.7547\n",
      "Epoch 8/100\n",
      "320830/320830 [==============================] - 10s 30us/sample - loss: 0.0356 - acc: 0.7537 - val_loss: 0.0353 - val_acc: 0.7545\n",
      "Epoch 9/100\n",
      "320830/320830 [==============================] - 9s 30us/sample - loss: 0.0356 - acc: 0.7537 - val_loss: 0.0356 - val_acc: 0.7521\n",
      "Epoch 10/100\n",
      "320830/320830 [==============================] - 9s 29us/sample - loss: 0.0355 - acc: 0.7543 - val_loss: 0.0354 - val_acc: 0.7543\n",
      "Epoch 11/100\n",
      "320830/320830 [==============================] - 9s 29us/sample - loss: 0.0355 - acc: 0.7547 - val_loss: 0.0355 - val_acc: 0.7527\n",
      "Epoch 12/100\n",
      "320830/320830 [==============================] - 10s 30us/sample - loss: 0.0355 - acc: 0.7535 - val_loss: 0.0355 - val_acc: 0.7526\n",
      "Epoch 13/100\n",
      "320830/320830 [==============================] - 9s 28us/sample - loss: 0.0355 - acc: 0.7538 - val_loss: 0.0354 - val_acc: 0.7565\n",
      "Epoch 14/100\n",
      "320830/320830 [==============================] - 9s 27us/sample - loss: 0.0355 - acc: 0.7541 - val_loss: 0.0354 - val_acc: 0.7545\n",
      "Epoch 15/100\n",
      "320830/320830 [==============================] - 10s 31us/sample - loss: 0.0355 - acc: 0.7540 - val_loss: 0.0354 - val_acc: 0.756155 - acc\n",
      "Epoch 16/100\n",
      "320830/320830 [==============================] - 9s 28us/sample - loss: 0.0355 - acc: 0.7535 - val_loss: 0.0354 - val_acc: 0.7529\n",
      "Epoch 17/100\n",
      "320830/320830 [==============================] - 9s 28us/sample - loss: 0.0355 - acc: 0.7545 - val_loss: 0.0353 - val_acc: 0.7569\n",
      "Epoch 18/100\n",
      "320830/320830 [==============================] - 9s 29us/sample - loss: 0.0354 - acc: 0.7544 - val_loss: 0.0355 - val_acc: 0.7535\n",
      "Epoch 19/100\n",
      "320830/320830 [==============================] - 10s 32us/sample - loss: 0.0354 - acc: 0.7548 - val_loss: 0.0355 - val_acc: 0.7536\n",
      "Epoch 20/100\n",
      "320830/320830 [==============================] - 10s 30us/sample - loss: 0.0354 - acc: 0.7551 - val_loss: 0.0353 - val_acc: 0.7556\n",
      "Epoch 21/100\n",
      "320830/320830 [==============================] - 9s 29us/sample - loss: 0.0354 - acc: 0.7545 - val_loss: 0.0356 - val_acc: 0.7560\n",
      "Epoch 22/100\n",
      "320830/320830 [==============================] - 10s 31us/sample - loss: 0.0354 - acc: 0.7546 - val_loss: 0.0353 - val_acc: 0.7570\n",
      "Epoch 23/100\n",
      "320830/320830 [==============================] - 10s 31us/sample - loss: 0.0354 - acc: 0.7540 - val_loss: 0.0354 - val_acc: 0.7535\n",
      "Epoch 24/100\n",
      "320830/320830 [==============================] - 10s 32us/sample - loss: 0.0354 - acc: 0.7547 - val_loss: 0.0353 - val_acc: 0.7521\n",
      "Epoch 25/100\n",
      "320830/320830 [==============================] - 9s 30us/sample - loss: 0.0354 - acc: 0.7552 - val_loss: 0.0354 - val_acc: 0.7553\n",
      "Epoch 26/100\n",
      "320830/320830 [==============================] - 11s 33us/sample - loss: 0.0354 - acc: 0.7549 - val_loss: 0.0354 - val_acc: 0.7501\n",
      "Epoch 27/100\n",
      "320830/320830 [==============================] - 9s 28us/sample - loss: 0.0353 - acc: 0.7547 - val_loss: 0.0353 - val_acc: 0.7543\n",
      "Epoch 28/100\n",
      "320830/320830 [==============================] - 10s 31us/sample - loss: 0.0354 - acc: 0.7546 - val_loss: 0.0353 - val_acc: 0.7530\n",
      "Epoch 29/100\n",
      "320830/320830 [==============================] - 9s 28us/sample - loss: 0.0353 - acc: 0.7549 - val_loss: 0.0353 - val_acc: 0.7543\n",
      "Epoch 30/100\n",
      "320830/320830 [==============================] - 10s 30us/sample - loss: 0.0353 - acc: 0.7546 - val_loss: 0.0357 - val_acc: 0.7504\n",
      "Epoch 31/100\n",
      "320830/320830 [==============================] - 9s 28us/sample - loss: 0.0353 - acc: 0.7551 - val_loss: 0.0354 - val_acc: 0.7561\n",
      "Epoch 32/100\n",
      "320830/320830 [==============================] - 9s 28us/sample - loss: 0.0353 - acc: 0.7551 - val_loss: 0.0354 - val_acc: 0.7538\n",
      "Epoch 33/100\n",
      "320830/320830 [==============================] - 10s 30us/sample - loss: 0.0353 - acc: 0.7550 - val_loss: 0.0355 - val_acc: 0.7542\n",
      "Epoch 34/100\n",
      "320830/320830 [==============================] - 12s 38us/sample - loss: 0.0353 - acc: 0.7554 - val_loss: 0.0354 - val_acc: 0.7535\n",
      "Epoch 35/100\n",
      "320830/320830 [==============================] - 9s 29us/sample - loss: 0.0353 - acc: 0.7554 - val_loss: 0.0352 - val_acc: 0.7547\n",
      "Epoch 36/100\n",
      "320830/320830 [==============================] - 9s 29us/sample - loss: 0.0353 - acc: 0.7551 - val_loss: 0.0352 - val_acc: 0.7535353 - ac - ETA: 0s - loss: 0.0353 - acc: 0.75\n",
      "Epoch 37/100\n",
      "320830/320830 [==============================] - 9s 30us/sample - loss: 0.0353 - acc: 0.7551 - val_loss: 0.0354 - val_acc: 0.75230.0\n",
      "Epoch 38/100\n",
      "320830/320830 [==============================] - 9s 29us/sample - loss: 0.0353 - acc: 0.7557 - val_loss: 0.0353 - val_acc: 0.7536\n",
      "Epoch 39/100\n",
      "320830/320830 [==============================] - 9s 28us/sample - loss: 0.0353 - acc: 0.7554 - val_loss: 0.0351 - val_acc: 0.7568\n",
      "Epoch 40/100\n",
      "320830/320830 [==============================] - 9s 29us/sample - loss: 0.0353 - acc: 0.7556 - val_loss: 0.0354 - val_acc: 0.7557\n",
      "Epoch 41/100\n",
      "320830/320830 [==============================] - 9s 29us/sample - loss: 0.0353 - acc: 0.7553 - val_loss: 0.0353 - val_acc: 0.7565\n",
      "Epoch 42/100\n",
      "320830/320830 [==============================] - 9s 27us/sample - loss: 0.0353 - acc: 0.7543 - val_loss: 0.0353 - val_acc: 0.7554\n",
      "Epoch 43/100\n",
      "320830/320830 [==============================] - 9s 28us/sample - loss: 0.0353 - acc: 0.7550 - val_loss: 0.0352 - val_acc: 0.7573\n",
      "Epoch 44/100\n",
      "320830/320830 [==============================] - 9s 27us/sample - loss: 0.0353 - acc: 0.7550 - val_loss: 0.0352 - val_acc: 0.7572 - loss: 0.0 - ETA: 2s - ETA: 1s - l\n",
      "Epoch 45/100\n",
      "320830/320830 [==============================] - 10s 32us/sample - loss: 0.0353 - acc: 0.7549 - val_loss: 0.0351 - val_acc: 0.7566\n",
      "Epoch 46/100\n",
      "320830/320830 [==============================] - 10s 31us/sample - loss: 0.0353 - acc: 0.7548 - val_loss: 0.0353 - val_acc: 0.7553\n",
      "Epoch 47/100\n",
      "320830/320830 [==============================] - 11s 33us/sample - loss: 0.0352 - acc: 0.7554 - val_loss: 0.0354 - val_acc: 0.7560\n",
      "Epoch 48/100\n",
      "320830/320830 [==============================] - 10s 31us/sample - loss: 0.0352 - acc: 0.7553 - val_loss: 0.0353 - val_acc: 0.7567\n",
      "Epoch 49/100\n",
      "320830/320830 [==============================] - 10s 32us/sample - loss: 0.0352 - acc: 0.7555 - val_loss: 0.0354 - val_acc: 0.7543\n",
      "Epoch 50/100\n",
      "320830/320830 [==============================] - 9s 27us/sample - loss: 0.0352 - acc: 0.7553 - val_loss: 0.0352 - val_acc: 0.7544\n",
      "Epoch 51/100\n",
      "320830/320830 [==============================] - 9s 30us/sample - loss: 0.0353 - acc: 0.7553 - val_loss: 0.0355 - val_acc: 0.7521\n",
      "Epoch 52/100\n",
      "320830/320830 [==============================] - 9s 29us/sample - loss: 0.0352 - acc: 0.7552 - val_loss: 0.0352 - val_acc: 0.7544\n",
      "Epoch 53/100\n",
      "320830/320830 [==============================] - 10s 32us/sample - loss: 0.0352 - acc: 0.7552 - val_loss: 0.0352 - val_acc: 0.7551\n",
      "Epoch 54/100\n",
      "320830/320830 [==============================] - 9s 28us/sample - loss: 0.0352 - acc: 0.7554 - val_loss: 0.0352 - val_acc: 0.7561\n",
      "Epoch 55/100\n",
      "320830/320830 [==============================] - 9s 28us/sample - loss: 0.0352 - acc: 0.7556 - val_loss: 0.0353 - val_acc: 0.7567\n",
      "Epoch 56/100\n"
     ]
    },
    {
     "name": "stdout",
     "output_type": "stream",
     "text": [
      "320830/320830 [==============================] - 9s 28us/sample - loss: 0.0352 - acc: 0.7555 - val_loss: 0.0354 - val_acc: 0.7549\n",
      "Epoch 57/100\n",
      "320830/320830 [==============================] - 9s 27us/sample - loss: 0.0352 - acc: 0.7554 - val_loss: 0.0352 - val_acc: 0.7548\n"
     ]
    },
    {
     "data": {
      "text/plain": [
       "<tensorflow.python.keras.callbacks.History at 0x21a66178cc8>"
      ]
     },
     "execution_count": 9,
     "metadata": {},
     "output_type": "execute_result"
    }
   ],
   "source": [
    "callback = EarlyStopping(monitor='loss', patience=3)\n",
    "mlp.fit(x_train, y_train, epochs=100, validation_data=(x_test, y_test), callbacks=[callback])\n"
   ]
  },
  {
   "cell_type": "code",
   "execution_count": 10,
   "metadata": {},
   "outputs": [
    {
     "name": "stdout",
     "output_type": "stream",
     "text": [
      "137499/137499 [==============================] - 1s 10us/sample - loss: 0.0352 - acc: 0.7548\n"
     ]
    },
    {
     "data": {
      "text/plain": [
       "[0.03516278336448525, 0.75484186]"
      ]
     },
     "execution_count": 10,
     "metadata": {},
     "output_type": "execute_result"
    }
   ],
   "source": [
    "mlp.evaluate(x_test,y_test)"
   ]
  },
  {
   "cell_type": "code",
   "execution_count": 11,
   "metadata": {
    "scrolled": false
   },
   "outputs": [
    {
     "data": {
      "text/plain": [
       "3.9143210444389656"
      ]
     },
     "execution_count": 11,
     "metadata": {},
     "output_type": "execute_result"
    }
   ],
   "source": [
    "result_Y = mlp.predict(x_test)\n",
    "Y_test_in = y_test\n",
    "error = abs(result_Y - Y_test_in)\n",
    "endx = sum(error[:,0])/len(error)\n",
    "endy = sum(error[:,1])/len(error)\n",
    "error_average_distance = (endx+endy)/2\n",
    "\n",
    "y_test[:,0] = y_test[:,0]\n",
    "\n",
    "error_average_distance*\t111.32"
   ]
  },
  {
   "cell_type": "code",
   "execution_count": 12,
   "metadata": {},
   "outputs": [
    {
     "data": {
      "text/plain": [
       "array([[-114.06859 ,   51.04755 ],\n",
       "       [-114.14611 ,   51.05789 ],\n",
       "       [-114.087105,   51.043915],\n",
       "       ...,\n",
       "       [-114.059814,   51.03958 ],\n",
       "       [-114.07327 ,   51.050003],\n",
       "       [-114.06937 ,   51.045444]], dtype=float32)"
      ]
     },
     "execution_count": 12,
     "metadata": {},
     "output_type": "execute_result"
    }
   ],
   "source": [
    "result_Y = sc.inverse_transform(result_Y)\n",
    "result_Y"
   ]
  },
  {
   "cell_type": "code",
   "execution_count": 13,
   "metadata": {
    "scrolled": false
   },
   "outputs": [
    {
     "data": {
      "text/plain": [
       "<matplotlib.collections.PathCollection at 0x21a5e8c8348>"
      ]
     },
     "execution_count": 13,
     "metadata": {},
     "output_type": "execute_result"
    },
    {
     "data": {
      "image/png": "[encoded data removed]",
      "text/plain": [
       "<Figure size 432x288 with 1 Axes>"
      ]
     },
     "metadata": {
      "needs_background": "light"
     },
     "output_type": "display_data"
    }
   ],
   "source": [
    "plt.scatter((train_data['endx']),(train_data['endy']), color='b', s= 1)\n",
    "plt.scatter((result_Y[:,0]), (result_Y[:,1]), color='r', s= 1)"
   ]
  },
  {
   "cell_type": "code",
   "execution_count": null,
   "metadata": {},
   "outputs": [],
   "source": []
  },
  {
   "cell_type": "code",
   "execution_count": null,
   "metadata": {},
   "outputs": [],
   "source": []
  }
 ],
 "metadata": {
  "kernelspec": {
   "display_name": "Python 3",
   "language": "python",
   "name": "python3"
  },
  "language_info": {
   "codemirror_mode": {
    "name": "ipython",
    "version": 3
   },
   "file_extension": ".py",
   "mimetype": "text/x-python",
   "name": "python",
   "nbconvert_exporter": "python",
   "pygments_lexer": "ipython3",
   "version": "3.7.8"
  }
 },
 "nbformat": 4,
 "nbformat_minor": 4
}
