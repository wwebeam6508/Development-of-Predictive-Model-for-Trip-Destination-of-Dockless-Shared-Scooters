{
 "cells": [
  {
   "cell_type": "code",
   "execution_count": 1,
   "metadata": {},
   "outputs": [
    {
     "name": "stderr",
     "output_type": "stream",
     "text": [
      "I:\\Users\\PC\\anaconda3\\envs\\my_env\\lib\\site-packages\\tensorflow\\python\\framework\\dtypes.py:516: FutureWarning: Passing (type, 1) or '1type' as a synonym of type is deprecated; in a future version of numpy, it will be understood as (type, (1,)) / '(1,)type'.\n",
      "  _np_qint8 = np.dtype([(\"qint8\", np.int8, 1)])\n",
      "I:\\Users\\PC\\anaconda3\\envs\\my_env\\lib\\site-packages\\tensorflow\\python\\framework\\dtypes.py:517: FutureWarning: Passing (type, 1) or '1type' as a synonym of type is deprecated; in a future version of numpy, it will be understood as (type, (1,)) / '(1,)type'.\n",
      "  _np_quint8 = np.dtype([(\"quint8\", np.uint8, 1)])\n",
      "I:\\Users\\PC\\anaconda3\\envs\\my_env\\lib\\site-packages\\tensorflow\\python\\framework\\dtypes.py:518: FutureWarning: Passing (type, 1) or '1type' as a synonym of type is deprecated; in a future version of numpy, it will be understood as (type, (1,)) / '(1,)type'.\n",
      "  _np_qint16 = np.dtype([(\"qint16\", np.int16, 1)])\n",
      "I:\\Users\\PC\\anaconda3\\envs\\my_env\\lib\\site-packages\\tensorflow\\python\\framework\\dtypes.py:519: FutureWarning: Passing (type, 1) or '1type' as a synonym of type is deprecated; in a future version of numpy, it will be understood as (type, (1,)) / '(1,)type'.\n",
      "  _np_quint16 = np.dtype([(\"quint16\", np.uint16, 1)])\n",
      "I:\\Users\\PC\\anaconda3\\envs\\my_env\\lib\\site-packages\\tensorflow\\python\\framework\\dtypes.py:520: FutureWarning: Passing (type, 1) or '1type' as a synonym of type is deprecated; in a future version of numpy, it will be understood as (type, (1,)) / '(1,)type'.\n",
      "  _np_qint32 = np.dtype([(\"qint32\", np.int32, 1)])\n",
      "I:\\Users\\PC\\anaconda3\\envs\\my_env\\lib\\site-packages\\tensorflow\\python\\framework\\dtypes.py:525: FutureWarning: Passing (type, 1) or '1type' as a synonym of type is deprecated; in a future version of numpy, it will be understood as (type, (1,)) / '(1,)type'.\n",
      "  np_resource = np.dtype([(\"resource\", np.ubyte, 1)])\n",
      "I:\\Users\\PC\\anaconda3\\envs\\my_env\\lib\\site-packages\\tensorboard\\compat\\tensorflow_stub\\dtypes.py:541: FutureWarning: Passing (type, 1) or '1type' as a synonym of type is deprecated; in a future version of numpy, it will be understood as (type, (1,)) / '(1,)type'.\n",
      "  _np_qint8 = np.dtype([(\"qint8\", np.int8, 1)])\n",
      "I:\\Users\\PC\\anaconda3\\envs\\my_env\\lib\\site-packages\\tensorboard\\compat\\tensorflow_stub\\dtypes.py:542: FutureWarning: Passing (type, 1) or '1type' as a synonym of type is deprecated; in a future version of numpy, it will be understood as (type, (1,)) / '(1,)type'.\n",
      "  _np_quint8 = np.dtype([(\"quint8\", np.uint8, 1)])\n",
      "I:\\Users\\PC\\anaconda3\\envs\\my_env\\lib\\site-packages\\tensorboard\\compat\\tensorflow_stub\\dtypes.py:543: FutureWarning: Passing (type, 1) or '1type' as a synonym of type is deprecated; in a future version of numpy, it will be understood as (type, (1,)) / '(1,)type'.\n",
      "  _np_qint16 = np.dtype([(\"qint16\", np.int16, 1)])\n",
      "I:\\Users\\PC\\anaconda3\\envs\\my_env\\lib\\site-packages\\tensorboard\\compat\\tensorflow_stub\\dtypes.py:544: FutureWarning: Passing (type, 1) or '1type' as a synonym of type is deprecated; in a future version of numpy, it will be understood as (type, (1,)) / '(1,)type'.\n",
      "  _np_quint16 = np.dtype([(\"quint16\", np.uint16, 1)])\n",
      "I:\\Users\\PC\\anaconda3\\envs\\my_env\\lib\\site-packages\\tensorboard\\compat\\tensorflow_stub\\dtypes.py:545: FutureWarning: Passing (type, 1) or '1type' as a synonym of type is deprecated; in a future version of numpy, it will be understood as (type, (1,)) / '(1,)type'.\n",
      "  _np_qint32 = np.dtype([(\"qint32\", np.int32, 1)])\n",
      "I:\\Users\\PC\\anaconda3\\envs\\my_env\\lib\\site-packages\\tensorboard\\compat\\tensorflow_stub\\dtypes.py:550: FutureWarning: Passing (type, 1) or '1type' as a synonym of type is deprecated; in a future version of numpy, it will be understood as (type, (1,)) / '(1,)type'.\n",
      "  np_resource = np.dtype([(\"resource\", np.ubyte, 1)])\n"
     ]
    }
   ],
   "source": [
    "import tensorflow as tf\n",
    "tf.enable_eager_execution()\n",
    "\n",
    "import pandas as pd\n",
    "\n",
    "coor_data = pd.read_csv('Data/coordata.csv')\n",
    "date_data = pd.read_csv('Data/datedata.csv')\n",
    "meta_data = pd.read_csv('Data/metadata.csv')"
   ]
  },
  {
   "cell_type": "code",
   "execution_count": 32,
   "metadata": {},
   "outputs": [],
   "source": [
    "data_set = coor_data.join(date_data.join(meta_data))\n",
    "\n",
    "Y_data = data_set[['endx', 'endy']].to_numpy()\n",
    "X_data = data_set.drop(columns=['endx', 'endy','end_grid_x', 'end_grid_y','start_grid_x', 'start_grid_y', 'start_date', 'class','end_cluster_group']).to_numpy()"
   ]
  },
  {
   "cell_type": "code",
   "execution_count": 33,
   "metadata": {},
   "outputs": [],
   "source": [
    "\n",
    "\n",
    "from sklearn.preprocessing import MinMaxScaler\n",
    "from sklearn.model_selection import train_test_split\n",
    "\n",
    "sc = MinMaxScaler(feature_range=(0,1))\n",
    "X_data_n = sc.fit_transform(X_data)\n",
    "Y_data_n = sc.fit_transform(Y_data)\n",
    "\n",
    "x_train, x_test, y_train, y_test = train_test_split(X_data_n, Y_data_n, test_size=0.3, random_state=50)"
   ]
  },
  {
   "cell_type": "code",
   "execution_count": 34,
   "metadata": {},
   "outputs": [],
   "source": [
    "import numpy as np\n",
    "\n",
    "lstm_x_train = x_train[:,0:4].reshape(len(x_train[:,0:4]),4, 1)\n",
    "lstm_x_test = x_test[:,0:4].reshape(len(x_test[:,0:4]),4, 1)"
   ]
  },
  {
   "cell_type": "code",
   "execution_count": 38,
   "metadata": {},
   "outputs": [
    {
     "name": "stdout",
     "output_type": "stream",
     "text": [
      "Model: \"model_27\"\n",
      "__________________________________________________________________________________________________\n",
      "Layer (type)                    Output Shape         Param #     Connected to                     \n",
      "==================================================================================================\n",
      "input_19 (InputLayer)           [(None, 4, 1)]       0                                            \n",
      "__________________________________________________________________________________________________\n",
      "lstm_11 (LSTM)                  (None, 50)           10400       input_19[0][0]                   \n",
      "__________________________________________________________________________________________________\n",
      "input_20 (InputLayer)           [(None, 59)]         0                                            \n",
      "__________________________________________________________________________________________________\n",
      "dropout_11 (Dropout)            (None, 50)           0           lstm_11[0][0]                    \n",
      "__________________________________________________________________________________________________\n",
      "dense_16 (Dense)                (None, 50)           3000        input_20[0][0]                   \n",
      "__________________________________________________________________________________________________\n",
      "concatenate_9 (Concatenate)     (None, 100)          0           dropout_11[0][0]                 \n",
      "                                                                 dense_16[0][0]                   \n",
      "__________________________________________________________________________________________________\n",
      "dense_17 (Dense)                (None, 2)            202         concatenate_9[0][0]              \n",
      "==================================================================================================\n",
      "Total params: 13,602\n",
      "Trainable params: 13,602\n",
      "Non-trainable params: 0\n",
      "__________________________________________________________________________________________________\n"
     ]
    }
   ],
   "source": [
    "from tensorflow.keras import layers, Model\n",
    "from tensorflow.python.keras.layers.core import Dense, Activation, Dropout\n",
    "from tensorflow.python.keras.layers.recurrent import LSTM\n",
    "inputA = layers.Input(shape=(4, 1))\n",
    "inputB = layers.Input(shape=(59))\n",
    "\n",
    "# x = Dense(50, activation=\"relu\")(inputA)\n",
    "x = LSTM(units=50, activation=\"relu\", batch_input_shape=(4, 1))(inputA)\n",
    "x = Dropout(.2)(x)\n",
    "x = Model(inputs=inputA, outputs=x)\n",
    "y = Dense(50, activation=\"relu\")(inputB)\n",
    "y = Model(inputs=inputB, outputs=y)\n",
    "\n",
    "combined = layers.concatenate([x.output, y.output])\n",
    "\n",
    "z = Dense(2)(combined)\n",
    "\n",
    "model = Model(inputs=[x.input,y.input], outputs=z)\n",
    "model.summary()"
   ]
  },
  {
   "cell_type": "code",
   "execution_count": 39,
   "metadata": {},
   "outputs": [
    {
     "name": "stdout",
     "output_type": "stream",
     "text": [
      "Train on 321634 samples, validate on 137844 samples\n",
      "Epoch 1/100\n",
      "321634/321634 [==============================] - 56s 174us/sample - loss: 0.0229 - error_avg_km: 2.5377 - acc: 0.7808 - val_loss: 0.0184 - val_error_avg_km: 2.0419 - val_acc: 0.8342\n",
      "Epoch 2/100\n",
      "321634/321634 [==============================] - 52s 160us/sample - loss: 0.0188 - error_avg_km: 2.0813 - acc: 0.8391 - val_loss: 0.0172 - val_error_avg_km: 1.9114 - val_acc: 0.8648\n",
      "Epoch 3/100\n",
      "321634/321634 [==============================] - 52s 161us/sample - loss: 0.0180 - error_avg_km: 1.9946 - acc: 0.8517 - val_loss: 0.0169 - val_error_avg_km: 1.8747 - val_acc: 0.8595\n",
      "Epoch 4/100\n",
      "321634/321634 [==============================] - 55s 172us/sample - loss: 0.0173 - error_avg_km: 1.9192 - acc: 0.8671 - val_loss: 0.0160 - val_error_avg_km: 1.7722 - val_acc: 0.8842\n",
      "Epoch 5/100\n",
      "321634/321634 [==============================] - 53s 166us/sample - loss: 0.0161 - error_avg_km: 1.7905 - acc: 0.8991 - val_loss: 0.0148 - val_error_avg_km: 1.6467 - val_acc: 0.9244\n",
      "Epoch 6/100\n",
      "321634/321634 [==============================] - 51s 158us/sample - loss: 0.0156 - error_avg_km: 1.7276 - acc: 0.9081 - val_loss: 0.0144 - val_error_avg_km: 1.5937 - val_acc: 0.9234\n",
      "Epoch 7/100\n",
      "321634/321634 [==============================] - 54s 168us/sample - loss: 0.0152 - error_avg_km: 1.6915 - acc: 0.9100 - val_loss: 0.0139 - val_error_avg_km: 1.5412 - val_acc: 0.9236\n",
      "Epoch 8/100\n",
      "321634/321634 [==============================] - 58s 180us/sample - loss: 0.0150 - error_avg_km: 1.6662 - acc: 0.9099 - val_loss: 0.0137 - val_error_avg_km: 1.5194 - val_acc: 0.9239\n",
      "Epoch 9/100\n",
      "321634/321634 [==============================] - 57s 178us/sample - loss: 0.0148 - error_avg_km: 1.6435 - acc: 0.9105 - val_loss: 0.0135 - val_error_avg_km: 1.5030 - val_acc: 0.9274\n",
      "Epoch 10/100\n",
      "321634/321634 [==============================] - 53s 164us/sample - loss: 0.0146 - error_avg_km: 1.6235 - acc: 0.9125 - val_loss: 0.0132 - val_error_avg_km: 1.4609 - val_acc: 0.9255\n",
      "Epoch 11/100\n",
      "321634/321634 [==============================] - 53s 163us/sample - loss: 0.0145 - error_avg_km: 1.6089 - acc: 0.9126 - val_loss: 0.0138 - val_error_avg_km: 1.5305 - val_acc: 0.9308\n",
      "Epoch 12/100\n",
      "321634/321634 [==============================] - 55s 172us/sample - loss: 0.0144 - error_avg_km: 1.5981 - acc: 0.9127 - val_loss: 0.0134 - val_error_avg_km: 1.4842 - val_acc: 0.9103\n",
      "Epoch 13/100\n",
      "321634/321634 [==============================] - 57s 178us/sample - loss: 0.0143 - error_avg_km: 1.5903 - acc: 0.9133 - val_loss: 0.0132 - val_error_avg_km: 1.4643 - val_acc: 0.9225\n",
      "Epoch 14/100\n",
      "321634/321634 [==============================] - 52s 160us/sample - loss: 0.0143 - error_avg_km: 1.5823 - acc: 0.9140 - val_loss: 0.0131 - val_error_avg_km: 1.4529 - val_acc: 0.9285\n",
      "Epoch 15/100\n",
      "321634/321634 [==============================] - 52s 160us/sample - loss: 0.0142 - error_avg_km: 1.5770 - acc: 0.9139 - val_loss: 0.0130 - val_error_avg_km: 1.4467 - val_acc: 0.9181\n",
      "Epoch 16/100\n",
      "321634/321634 [==============================] - 55s 171us/sample - loss: 0.0142 - error_avg_km: 1.5706 - acc: 0.9147 - val_loss: 0.0129 - val_error_avg_km: 1.4297 - val_acc: 0.9267\n",
      "Epoch 17/100\n",
      "321634/321634 [==============================] - 54s 169us/sample - loss: 0.0141 - error_avg_km: 1.5643 - acc: 0.9145 - val_loss: 0.0131 - val_error_avg_km: 1.4589 - val_acc: 0.9048\n",
      "Epoch 18/100\n",
      "321634/321634 [==============================] - 53s 165us/sample - loss: 0.0140 - error_avg_km: 1.5590 - acc: 0.9152 - val_loss: 0.0135 - val_error_avg_km: 1.4931 - val_acc: 0.9248\n",
      "Epoch 19/100\n",
      "321634/321634 [==============================] - 50s 157us/sample - loss: 0.0140 - error_avg_km: 1.5557 - acc: 0.9158 - val_loss: 0.0129 - val_error_avg_km: 1.4347 - val_acc: 0.9127\n",
      "Epoch 20/100\n",
      "321634/321634 [==============================] - 52s 160us/sample - loss: 0.0140 - error_avg_km: 1.5503 - acc: 0.9157 - val_loss: 0.0132 - val_error_avg_km: 1.4605 - val_acc: 0.9045\n",
      "Epoch 21/100\n",
      "321634/321634 [==============================] - 51s 159us/sample - loss: 0.0139 - error_avg_km: 1.5478 - acc: 0.9163 - val_loss: 0.0126 - val_error_avg_km: 1.3952 - val_acc: 0.9289\n",
      "Epoch 22/100\n",
      "321634/321634 [==============================] - 52s 162us/sample - loss: 0.0139 - error_avg_km: 1.5427 - acc: 0.9166 - val_loss: 0.0125 - val_error_avg_km: 1.3876 - val_acc: 0.9274\n",
      "Epoch 23/100\n",
      "321634/321634 [==============================] - 53s 164us/sample - loss: 0.0138 - error_avg_km: 1.5354 - acc: 0.9175 - val_loss: 0.0128 - val_error_avg_km: 1.4193 - val_acc: 0.9314\n",
      "Epoch 24/100\n",
      "321634/321634 [==============================] - 53s 165us/sample - loss: 0.0138 - error_avg_km: 1.5297 - acc: 0.9175 - val_loss: 0.0124 - val_error_avg_km: 1.3767 - val_acc: 0.9312\n",
      "Epoch 25/100\n",
      "321634/321634 [==============================] - 52s 163us/sample - loss: 0.0138 - error_avg_km: 1.5263 - acc: 0.9180 - val_loss: 0.0129 - val_error_avg_km: 1.4313 - val_acc: 0.9317\n",
      "Epoch 26/100\n",
      "321634/321634 [==============================] - 52s 161us/sample - loss: 0.0137 - error_avg_km: 1.5213 - acc: 0.9182 - val_loss: 0.0127 - val_error_avg_km: 1.4053 - val_acc: 0.9311\n",
      "Epoch 27/100\n",
      "321634/321634 [==============================] - 51s 160us/sample - loss: 0.0137 - error_avg_km: 1.5182 - acc: 0.9189 - val_loss: 0.0125 - val_error_avg_km: 1.3930 - val_acc: 0.9295\n",
      "Epoch 28/100\n",
      "321634/321634 [==============================] - 52s 163us/sample - loss: 0.0136 - error_avg_km: 1.5141 - acc: 0.9194 - val_loss: 0.0125 - val_error_avg_km: 1.3831 - val_acc: 0.9330\n",
      "Epoch 29/100\n",
      "321634/321634 [==============================] - 52s 162us/sample - loss: 0.0136 - error_avg_km: 1.5115 - acc: 0.9193 - val_loss: 0.0124 - val_error_avg_km: 1.3715 - val_acc: 0.9284\n",
      "Epoch 30/100\n",
      "321634/321634 [==============================] - 52s 162us/sample - loss: 0.0136 - error_avg_km: 1.5065 - acc: 0.9196 - val_loss: 0.0124 - val_error_avg_km: 1.3812 - val_acc: 0.9302\n",
      "Epoch 31/100\n",
      "321634/321634 [==============================] - 52s 162us/sample - loss: 0.0135 - error_avg_km: 1.5039 - acc: 0.9202 - val_loss: 0.0123 - val_error_avg_km: 1.3629 - val_acc: 0.9313\n",
      "Epoch 32/100\n",
      "321634/321634 [==============================] - 52s 162us/sample - loss: 0.0135 - error_avg_km: 1.4991 - acc: 0.9204 - val_loss: 0.0124 - val_error_avg_km: 1.3782 - val_acc: 0.9317\n",
      "Epoch 33/100\n",
      "321634/321634 [==============================] - 52s 162us/sample - loss: 0.0135 - error_avg_km: 1.4954 - acc: 0.9215 - val_loss: 0.0122 - val_error_avg_km: 1.3490 - val_acc: 0.9290\n",
      "Epoch 34/100\n",
      "321634/321634 [==============================] - 52s 163us/sample - loss: 0.0134 - error_avg_km: 1.4922 - acc: 0.9213 - val_loss: 0.0122 - val_error_avg_km: 1.3524 - val_acc: 0.9314\n",
      "Epoch 35/100\n",
      "321634/321634 [==============================] - 52s 161us/sample - loss: 0.0134 - error_avg_km: 1.4894 - acc: 0.9215 - val_loss: 0.0124 - val_error_avg_km: 1.3726 - val_acc: 0.9334\n",
      "Epoch 36/100\n",
      "321634/321634 [==============================] - 52s 163us/sample - loss: 0.0134 - error_avg_km: 1.4865 - acc: 0.9218 - val_loss: 0.0121 - val_error_avg_km: 1.3461 - val_acc: 0.9333\n",
      "Epoch 37/100\n",
      "321634/321634 [==============================] - 56s 174us/sample - loss: 0.0134 - error_avg_km: 1.4839 - acc: 0.9217 - val_loss: 0.0122 - val_error_avg_km: 1.3570 - val_acc: 0.9353\n",
      "Epoch 38/100\n",
      "321634/321634 [==============================] - 56s 175us/sample - loss: 0.0133 - error_avg_km: 1.4803 - acc: 0.9228 - val_loss: 0.0121 - val_error_avg_km: 1.3417 - val_acc: 0.9338\n",
      "Epoch 39/100\n",
      "321634/321634 [==============================] - 55s 172us/sample - loss: 0.0133 - error_avg_km: 1.4770 - acc: 0.9225 - val_loss: 0.0123 - val_error_avg_km: 1.3629 - val_acc: 0.9341\n",
      "Epoch 40/100\n",
      "321634/321634 [==============================] - 58s 179us/sample - loss: 0.0133 - error_avg_km: 1.4741 - acc: 0.9226 - val_loss: 0.0123 - val_error_avg_km: 1.3680 - val_acc: 0.9283\n",
      "Epoch 41/100\n",
      "321634/321634 [==============================] - 60s 185us/sample - loss: 0.0133 - error_avg_km: 1.4723 - acc: 0.9228 - val_loss: 0.0120 - val_error_avg_km: 1.3328 - val_acc: 0.9309\n",
      "Epoch 42/100\n",
      "321634/321634 [==============================] - 53s 165us/sample - loss: 0.0132 - error_avg_km: 1.4685 - acc: 0.9229 - val_loss: 0.0121 - val_error_avg_km: 1.3399 - val_acc: 0.9242\n",
      "Epoch 43/100\n",
      "321634/321634 [==============================] - 53s 165us/sample - loss: 0.0132 - error_avg_km: 1.4690 - acc: 0.9227 - val_loss: 0.0118 - val_error_avg_km: 1.3151 - val_acc: 0.9257\n",
      "Epoch 44/100\n",
      "321634/321634 [==============================] - 55s 172us/sample - loss: 0.0132 - error_avg_km: 1.4652 - acc: 0.9236 - val_loss: 0.0119 - val_error_avg_km: 1.3155 - val_acc: 0.9327\n",
      "Epoch 45/100\n",
      "321634/321634 [==============================] - 56s 173us/sample - loss: 0.0132 - error_avg_km: 1.4632 - acc: 0.9236 - val_loss: 0.0120 - val_error_avg_km: 1.3316 - val_acc: 0.9309\n",
      "Epoch 46/100\n",
      "321634/321634 [==============================] - 53s 165us/sample - loss: 0.0132 - error_avg_km: 1.4624 - acc: 0.9232 - val_loss: 0.0118 - val_error_avg_km: 1.3127 - val_acc: 0.9343\n",
      "Epoch 47/100\n",
      "321634/321634 [==============================] - 57s 177us/sample - loss: 0.0132 - error_avg_km: 1.4608 - acc: 0.9241 - val_loss: 0.0119 - val_error_avg_km: 1.3260 - val_acc: 0.9348\n",
      "Epoch 48/100\n",
      "321634/321634 [==============================] - 54s 168us/sample - loss: 0.0131 - error_avg_km: 1.4563 - acc: 0.9238 - val_loss: 0.0120 - val_error_avg_km: 1.3313 - val_acc: 0.9317\n",
      "Epoch 49/100\n",
      "321634/321634 [==============================] - 53s 166us/sample - loss: 0.0131 - error_avg_km: 1.4557 - acc: 0.9241 - val_loss: 0.0118 - val_error_avg_km: 1.3150 - val_acc: 0.9315\n",
      "Epoch 50/100\n",
      "321634/321634 [==============================] - 53s 166us/sample - loss: 0.0131 - error_avg_km: 1.4561 - acc: 0.9238 - val_loss: 0.0122 - val_error_avg_km: 1.3557 - val_acc: 0.9267\n",
      "Epoch 51/100\n",
      "321634/321634 [==============================] - 55s 171us/sample - loss: 0.0131 - error_avg_km: 1.4549 - acc: 0.9243 - val_loss: 0.0122 - val_error_avg_km: 1.3522 - val_acc: 0.9348\n",
      "Epoch 52/100\n",
      "321634/321634 [==============================] - 53s 165us/sample - loss: 0.0131 - error_avg_km: 1.4541 - acc: 0.9246 - val_loss: 0.0119 - val_error_avg_km: 1.3163 - val_acc: 0.9330\n",
      "Epoch 53/100\n",
      "321634/321634 [==============================] - 56s 174us/sample - loss: 0.0131 - error_avg_km: 1.4511 - acc: 0.9247 - val_loss: 0.0118 - val_error_avg_km: 1.3128 - val_acc: 0.9344\n",
      "Epoch 54/100\n",
      "321634/321634 [==============================] - 61s 190us/sample - loss: 0.0131 - error_avg_km: 1.4492 - acc: 0.9245 - val_loss: 0.0119 - val_error_avg_km: 1.3165 - val_acc: 0.9313\n",
      "Epoch 55/100\n",
      "321634/321634 [==============================] - 58s 180us/sample - loss: 0.0130 - error_avg_km: 1.4475 - acc: 0.9254 - val_loss: 0.0118 - val_error_avg_km: 1.3148 - val_acc: 0.9316\n",
      "Epoch 56/100\n",
      "321634/321634 [==============================] - 54s 168us/sample - loss: 0.0130 - error_avg_km: 1.4466 - acc: 0.9252 - val_loss: 0.0117 - val_error_avg_km: 1.3026 - val_acc: 0.9349\n",
      "Epoch 57/100\n",
      "321634/321634 [==============================] - 52s 160us/sample - loss: 0.0130 - error_avg_km: 1.4456 - acc: 0.9254 - val_loss: 0.0118 - val_error_avg_km: 1.3064 - val_acc: 0.9296\n",
      "Epoch 58/100\n",
      "321634/321634 [==============================] - 52s 161us/sample - loss: 0.0131 - error_avg_km: 1.4486 - acc: 0.9248 - val_loss: 0.0117 - val_error_avg_km: 1.3022 - val_acc: 0.9363\n",
      "Epoch 59/100\n",
      "321634/321634 [==============================] - 52s 162us/sample - loss: 0.0130 - error_avg_km: 1.4439 - acc: 0.9253 - val_loss: 0.0118 - val_error_avg_km: 1.3153 - val_acc: 0.9371\n",
      "Epoch 60/100\n",
      "321634/321634 [==============================] - 52s 162us/sample - loss: 0.0130 - error_avg_km: 1.4428 - acc: 0.9254 - val_loss: 0.0118 - val_error_avg_km: 1.3062 - val_acc: 0.9352\n",
      "Epoch 61/100\n",
      "321634/321634 [==============================] - 52s 163us/sample - loss: 0.0130 - error_avg_km: 1.4411 - acc: 0.9257 - val_loss: 0.0118 - val_error_avg_km: 1.3112 - val_acc: 0.9364\n",
      "Epoch 62/100\n",
      "321634/321634 [==============================] - 52s 162us/sample - loss: 0.0130 - error_avg_km: 1.4398 - acc: 0.9257 - val_loss: 0.0119 - val_error_avg_km: 1.3167 - val_acc: 0.9347\n",
      "Epoch 63/100\n",
      "321634/321634 [==============================] - 52s 162us/sample - loss: 0.0129 - error_avg_km: 1.4372 - acc: 0.9260 - val_loss: 0.0118 - val_error_avg_km: 1.3052 - val_acc: 0.9344\n",
      "Epoch 64/100\n",
      "321634/321634 [==============================] - 52s 160us/sample - loss: 0.0129 - error_avg_km: 1.4350 - acc: 0.9259 - val_loss: 0.0117 - val_error_avg_km: 1.2939 - val_acc: 0.9355\n",
      "Epoch 65/100\n",
      "321634/321634 [==============================] - 51s 158us/sample - loss: 0.0129 - error_avg_km: 1.4364 - acc: 0.9259 - val_loss: 0.0120 - val_error_avg_km: 1.3291 - val_acc: 0.9371\n",
      "Epoch 66/100\n",
      "321634/321634 [==============================] - 52s 161us/sample - loss: 0.0129 - error_avg_km: 1.4350 - acc: 0.9263 - val_loss: 0.0118 - val_error_avg_km: 1.3057 - val_acc: 0.9290\n",
      "Epoch 67/100\n",
      "321634/321634 [==============================] - 53s 164us/sample - loss: 0.0129 - error_avg_km: 1.4324 - acc: 0.9266 - val_loss: 0.0118 - val_error_avg_km: 1.3097 - val_acc: 0.9332\n",
      "Epoch 68/100\n",
      "321634/321634 [==============================] - 51s 159us/sample - loss: 0.0129 - error_avg_km: 1.4319 - acc: 0.9269 - val_loss: 0.0116 - val_error_avg_km: 1.2918 - val_acc: 0.9356\n",
      "Epoch 69/100\n",
      "321634/321634 [==============================] - 51s 158us/sample - loss: 0.0129 - error_avg_km: 1.4303 - acc: 0.9271 - val_loss: 0.0119 - val_error_avg_km: 1.3222 - val_acc: 0.9369\n",
      "Epoch 70/100\n",
      "321634/321634 [==============================] - 53s 164us/sample - loss: 0.0129 - error_avg_km: 1.4297 - acc: 0.9269 - val_loss: 0.0116 - val_error_avg_km: 1.2875 - val_acc: 0.9340\n",
      "Epoch 71/100\n",
      "321634/321634 [==============================] - 54s 167us/sample - loss: 0.0129 - error_avg_km: 1.4293 - acc: 0.9270 - val_loss: 0.0121 - val_error_avg_km: 1.3388 - val_acc: 0.9222\n",
      "Epoch 72/100\n",
      "321634/321634 [==============================] - 51s 159us/sample - loss: 0.0129 - error_avg_km: 1.4286 - acc: 0.9274 - val_loss: 0.0116 - val_error_avg_km: 1.2866 - val_acc: 0.9307\n",
      "Epoch 73/100\n",
      "321634/321634 [==============================] - 57s 178us/sample - loss: 0.0129 - error_avg_km: 1.4279 - acc: 0.9274 - val_loss: 0.0118 - val_error_avg_km: 1.3105 - val_acc: 0.9334\n",
      "Epoch 74/100\n",
      "321634/321634 [==============================] - 58s 180us/sample - loss: 0.0128 - error_avg_km: 1.4252 - acc: 0.9275 - val_loss: 0.0121 - val_error_avg_km: 1.3385 - val_acc: 0.9352\n",
      "Epoch 75/100\n",
      "321634/321634 [==============================] - 57s 177us/sample - loss: 0.0129 - error_avg_km: 1.4270 - acc: 0.9274 - val_loss: 0.0116 - val_error_avg_km: 1.2824 - val_acc: 0.9308\n",
      "Epoch 76/100\n",
      "321634/321634 [==============================] - 54s 168us/sample - loss: 0.0128 - error_avg_km: 1.4243 - acc: 0.9274 - val_loss: 0.0116 - val_error_avg_km: 1.2836 - val_acc: 0.9345\n",
      "Epoch 77/100\n",
      "321634/321634 [==============================] - 57s 176us/sample - loss: 0.0128 - error_avg_km: 1.4241 - acc: 0.9274 - val_loss: 0.0118 - val_error_avg_km: 1.3098 - val_acc: 0.9348\n",
      "Epoch 78/100\n",
      "321634/321634 [==============================] - 55s 170us/sample - loss: 0.0128 - error_avg_km: 1.4221 - acc: 0.9277 - val_loss: 0.0116 - val_error_avg_km: 1.2856 - val_acc: 0.9371\n",
      "Epoch 79/100\n",
      "321634/321634 [==============================] - 56s 173us/sample - loss: 0.0128 - error_avg_km: 1.4248 - acc: 0.9277 - val_loss: 0.0116 - val_error_avg_km: 1.2839 - val_acc: 0.9352\n",
      "Epoch 80/100\n",
      "321634/321634 [==============================] - 54s 167us/sample - loss: 0.0128 - error_avg_km: 1.4189 - acc: 0.9286 - val_loss: 0.0115 - val_error_avg_km: 1.2777 - val_acc: 0.9349\n",
      "Epoch 81/100\n",
      "321634/321634 [==============================] - 58s 181us/sample - loss: 0.0128 - error_avg_km: 1.4224 - acc: 0.9279 - val_loss: 0.0117 - val_error_avg_km: 1.2960 - val_acc: 0.9375\n",
      "Epoch 82/100\n",
      "321634/321634 [==============================] - 58s 181us/sample - loss: 0.0128 - error_avg_km: 1.4178 - acc: 0.9285 - val_loss: 0.0115 - val_error_avg_km: 1.2738 - val_acc: 0.9376\n",
      "Epoch 83/100\n",
      "321634/321634 [==============================] - 56s 173us/sample - loss: 0.0128 - error_avg_km: 1.4189 - acc: 0.9282 - val_loss: 0.0116 - val_error_avg_km: 1.2875 - val_acc: 0.9362\n",
      "Epoch 84/100\n",
      "321634/321634 [==============================] - 54s 169us/sample - loss: 0.0128 - error_avg_km: 1.4171 - acc: 0.9281 - val_loss: 0.0117 - val_error_avg_km: 1.2977 - val_acc: 0.9372\n",
      "Epoch 85/100\n",
      "321634/321634 [==============================] - 59s 184us/sample - loss: 0.0128 - error_avg_km: 1.4173 - acc: 0.9281 - val_loss: 0.0116 - val_error_avg_km: 1.2891 - val_acc: 0.9332\n",
      "Epoch 86/100\n",
      "321634/321634 [==============================] - 56s 174us/sample - loss: 0.0128 - error_avg_km: 1.4160 - acc: 0.9280 - val_loss: 0.0116 - val_error_avg_km: 1.2885 - val_acc: 0.9372\n",
      "Epoch 87/100\n",
      "321634/321634 [==============================] - 55s 172us/sample - loss: 0.0128 - error_avg_km: 1.4164 - acc: 0.9279 - val_loss: 0.0116 - val_error_avg_km: 1.2891 - val_acc: 0.9363\n",
      "Epoch 88/100\n",
      "321634/321634 [==============================] - 57s 178us/sample - loss: 0.0128 - error_avg_km: 1.4155 - acc: 0.9282 - val_loss: 0.0116 - val_error_avg_km: 1.2892 - val_acc: 0.9361\n",
      "Epoch 89/100\n",
      "321634/321634 [==============================] - 55s 171us/sample - loss: 0.0127 - error_avg_km: 1.4143 - acc: 0.9285 - val_loss: 0.0117 - val_error_avg_km: 1.2984 - val_acc: 0.9320\n",
      "Epoch 90/100\n",
      "321634/321634 [==============================] - 53s 166us/sample - loss: 0.0127 - error_avg_km: 1.4133 - acc: 0.9286 - val_loss: 0.0118 - val_error_avg_km: 1.3102 - val_acc: 0.9377\n",
      "Epoch 91/100\n",
      "321634/321634 [==============================] - 56s 174us/sample - loss: 0.0127 - error_avg_km: 1.4145 - acc: 0.9280 - val_loss: 0.0114 - val_error_avg_km: 1.2701 - val_acc: 0.9366\n",
      "Epoch 92/100\n",
      "321634/321634 [==============================] - 60s 186us/sample - loss: 0.0127 - error_avg_km: 1.4118 - acc: 0.9286 - val_loss: 0.0116 - val_error_avg_km: 1.2840 - val_acc: 0.9375\n",
      "Epoch 93/100\n",
      "321634/321634 [==============================] - 53s 166us/sample - loss: 0.0127 - error_avg_km: 1.4132 - acc: 0.9278 - val_loss: 0.0120 - val_error_avg_km: 1.3297 - val_acc: 0.9389\n",
      "Epoch 94/100\n",
      "321634/321634 [==============================] - 54s 169us/sample - loss: 0.0127 - error_avg_km: 1.4123 - acc: 0.9285 - val_loss: 0.0115 - val_error_avg_km: 1.2801 - val_acc: 0.9370\n",
      "Epoch 95/100\n",
      "321634/321634 [==============================] - 53s 164us/sample - loss: 0.0127 - error_avg_km: 1.4115 - acc: 0.9283 - val_loss: 0.0115 - val_error_avg_km: 1.2811 - val_acc: 0.9371\n",
      "Epoch 96/100\n",
      "321634/321634 [==============================] - 53s 165us/sample - loss: 0.0127 - error_avg_km: 1.4093 - acc: 0.9285 - val_loss: 0.0116 - val_error_avg_km: 1.2889 - val_acc: 0.9376\n",
      "Epoch 97/100\n",
      "321634/321634 [==============================] - 54s 167us/sample - loss: 0.0127 - error_avg_km: 1.4094 - acc: 0.9289 - val_loss: 0.0115 - val_error_avg_km: 1.2762 - val_acc: 0.9352\n",
      "Epoch 98/100\n",
      "321634/321634 [==============================] - 52s 161us/sample - loss: 0.0127 - error_avg_km: 1.4076 - acc: 0.9288 - val_loss: 0.0115 - val_error_avg_km: 1.2734 - val_acc: 0.9329\n",
      "Epoch 99/100\n",
      "321634/321634 [==============================] - 51s 159us/sample - loss: 0.0127 - error_avg_km: 1.4092 - acc: 0.9284 - val_loss: 0.0116 - val_error_avg_km: 1.2833 - val_acc: 0.9358\n",
      "Epoch 100/100\n",
      "321634/321634 [==============================] - 52s 161us/sample - loss: 0.0127 - error_avg_km: 1.4088 - acc: 0.9287 - val_loss: 0.0116 - val_error_avg_km: 1.2864 - val_acc: 0.9369\n"
     ]
    },
    {
     "data": {
      "text/plain": [
       "<tensorflow.python.keras.callbacks.History at 0x1fbbfdece48>"
      ]
     },
     "execution_count": 39,
     "metadata": {},
     "output_type": "execute_result"
    }
   ],
   "source": [
    "\n",
    "from tensorflow.python.keras.callbacks import EarlyStopping\n",
    "\n",
    "def error_avg_km(y_true, y_pred):\n",
    "    absolute = abs(y_true - y_pred)\n",
    "    return tf.reduce_mean(absolute*111, axis=-1)\n",
    "model.compile(loss=\"mean_absolute_error\", optimizer=\"adam\", metrics=[error_avg_km,'acc'])\n",
    "\n",
    "callback = EarlyStopping(monitor='error_avg_km', patience=3, mode=\"auto\")\n",
    "model.fit([lstm_x_train,x_train[:,4:]], y_train, epochs=100, validation_data=([lstm_x_test,x_test[:,4:]], y_test), callbacks=[callback])"
   ]
  },
  {
   "cell_type": "code",
   "execution_count": 40,
   "metadata": {},
   "outputs": [
    {
     "data": {
      "text/plain": [
       "<matplotlib.collections.PathCollection at 0x1fb892c4648>"
      ]
     },
     "execution_count": 40,
     "metadata": {},
     "output_type": "execute_result"
    },
    {
     "data": {
      "image/png": "[encoded data removed]",
      "text/plain": [
       "<Figure size 432x288 with 1 Axes>"
      ]
     },
     "metadata": {
      "needs_background": "light"
     },
     "output_type": "display_data"
    }
   ],
   "source": [
    "import matplotlib.pyplot as plt\n",
    "import numpy as np\n",
    "sc.fit_transform(Y_data)\n",
    "result_Y = model.predict([lstm_x_test,x_test[:,4:]])\n",
    "\n",
    "\n",
    "result_Y_plot = sc.inverse_transform(result_Y)\n",
    "y_test_plot = sc.inverse_transform(y_test)\n",
    "plt.scatter((y_test_plot[:,0]),(y_test_plot[:,1]), color='b', s= 1)\n",
    "plt.scatter((result_Y_plot[:,0]), (result_Y_plot[:,1]), color='r', s= 1)\n",
    "\n"
   ]
  },
  {
   "cell_type": "code",
   "execution_count": 37,
   "metadata": {},
   "outputs": [
    {
     "data": {
      "text/plain": [
       "<matplotlib.collections.PathCollection at 0x1fbb54b0848>"
      ]
     },
     "execution_count": 37,
     "metadata": {},
     "output_type": "execute_result"
    },
    {
     "data": {
      "image/png": "[encoded data removed]",
      "text/plain": [
       "<Figure size 432x288 with 1 Axes>"
      ]
     },
     "metadata": {
      "needs_background": "light"
     },
     "output_type": "display_data"
    }
   ],
   "source": [
    "mae_rate_hour = []\n",
    "\n",
    "sc.fit_transform(X_data)\n",
    "for index in range(24):\n",
    "    mask = np.logical_and(sc.inverse_transform(x_test)[:,2] > (index)-0.1, sc.inverse_transform(x_test)[:,2] < (index+1)-0.5)\n",
    "    result_Y_hour = result_Y[mask]\n",
    "    Y_test_in = y_test[mask]\n",
    "    error = abs(result_Y_hour - Y_test_in)\n",
    "    endx = sum(error[:,0])/len(error)\n",
    "    endy = sum(error[:,1])/len(error)\n",
    "    error_average_distance = (endx+endy)/2\n",
    "\n",
    "    y_test[:,0] = y_test[:,0]\n",
    "    mae_rate_hour.append([float(round(error_average_distance*111,4)), str(index)])\n",
    "\n",
    "mae_rate_hour = np.array(mae_rate_hour, dtype=np.object)\n",
    "plt.xlabel('hours')\n",
    "plt.ylabel('error_avg_distance(km)')\n",
    "plt.grid(color='black', linestyle='-', linewidth=0.3)\n",
    "plt.scatter(mae_rate_hour[:,1], mae_rate_hour[:,0], color='r', s= 1)\n"
   ]
  },
  {
   "cell_type": "code",
   "execution_count": 25,
   "metadata": {},
   "outputs": [
    {
     "data": {
      "text/plain": [
       "<matplotlib.collections.PathCollection at 0x1fba3a39648>"
      ]
     },
     "execution_count": 25,
     "metadata": {},
     "output_type": "execute_result"
    },
    {
     "data": {
      "image/png": "[encoded data removed]",
      "text/plain": [
       "<Figure size 432x288 with 1 Axes>"
      ]
     },
     "metadata": {
      "needs_background": "light"
     },
     "output_type": "display_data"
    }
   ],
   "source": [
    "mae_rate_day_of_week = []\n",
    "\n",
    "sc.fit_transform(X_data)\n",
    "for index in range(7):\n",
    "    mask = np.logical_and(sc.inverse_transform(x_test)[:,3] > (index)-0.1, sc.inverse_transform(x_test)[:,3] < (index+1)-0.5)\n",
    "    result_Y_day_of_week = result_Y[mask]\n",
    "    Y_test_in = y_test\n",
    "    error = abs(result_Y_day_of_week - Y_test_in[mask])\n",
    "    endx = sum(error[:,0])/len(error)\n",
    "    endy = sum(error[:,1])/len(error)\n",
    "    error_average_distance = (endx+endy)/2\n",
    "\n",
    "    y_test[:,0] = y_test[:,0]\n",
    "    mae_rate_day_of_week.append([float(round(error_average_distance*111,4)), str(index+1)])\n",
    "\n",
    "mae_rate_day_of_week = np.array(mae_rate_day_of_week, dtype=np.object)\n",
    "plt.xlabel('days of week')\n",
    "plt.ylabel('error_avg_distance(km)')\n",
    "plt.grid(color='black', linestyle='-', linewidth=0.3)\n",
    "plt.scatter(mae_rate_day_of_week[:,1], mae_rate_day_of_week[:,0], color='r', s= 1)"
   ]
  },
  {
   "cell_type": "code",
   "execution_count": null,
   "metadata": {},
   "outputs": [],
   "source": []
  }
 ],
 "metadata": {
  "kernelspec": {
   "display_name": "Python 3",
   "language": "python",
   "name": "python3"
  },
  "language_info": {
   "codemirror_mode": {
    "name": "ipython",
    "version": 3
   },
   "file_extension": ".py",
   "mimetype": "text/x-python",
   "name": "python",
   "nbconvert_exporter": "python",
   "pygments_lexer": "ipython3",
   "version": "3.7.9"
  }
 },
 "nbformat": 4,
 "nbformat_minor": 4
}
