{
 "cells": [
  {
   "cell_type": "code",
   "execution_count": 1,
   "metadata": {},
   "outputs": [
    {
     "name": "stderr",
     "output_type": "stream",
     "text": [
      "I:\\Users\\PC\\anaconda3\\envs\\my_env\\lib\\site-packages\\tensorflow\\python\\framework\\dtypes.py:516: FutureWarning: Passing (type, 1) or '1type' as a synonym of type is deprecated; in a future version of numpy, it will be understood as (type, (1,)) / '(1,)type'.\n",
      "  _np_qint8 = np.dtype([(\"qint8\", np.int8, 1)])\n",
      "I:\\Users\\PC\\anaconda3\\envs\\my_env\\lib\\site-packages\\tensorflow\\python\\framework\\dtypes.py:517: FutureWarning: Passing (type, 1) or '1type' as a synonym of type is deprecated; in a future version of numpy, it will be understood as (type, (1,)) / '(1,)type'.\n",
      "  _np_quint8 = np.dtype([(\"quint8\", np.uint8, 1)])\n",
      "I:\\Users\\PC\\anaconda3\\envs\\my_env\\lib\\site-packages\\tensorflow\\python\\framework\\dtypes.py:518: FutureWarning: Passing (type, 1) or '1type' as a synonym of type is deprecated; in a future version of numpy, it will be understood as (type, (1,)) / '(1,)type'.\n",
      "  _np_qint16 = np.dtype([(\"qint16\", np.int16, 1)])\n",
      "I:\\Users\\PC\\anaconda3\\envs\\my_env\\lib\\site-packages\\tensorflow\\python\\framework\\dtypes.py:519: FutureWarning: Passing (type, 1) or '1type' as a synonym of type is deprecated; in a future version of numpy, it will be understood as (type, (1,)) / '(1,)type'.\n",
      "  _np_quint16 = np.dtype([(\"quint16\", np.uint16, 1)])\n",
      "I:\\Users\\PC\\anaconda3\\envs\\my_env\\lib\\site-packages\\tensorflow\\python\\framework\\dtypes.py:520: FutureWarning: Passing (type, 1) or '1type' as a synonym of type is deprecated; in a future version of numpy, it will be understood as (type, (1,)) / '(1,)type'.\n",
      "  _np_qint32 = np.dtype([(\"qint32\", np.int32, 1)])\n",
      "I:\\Users\\PC\\anaconda3\\envs\\my_env\\lib\\site-packages\\tensorflow\\python\\framework\\dtypes.py:525: FutureWarning: Passing (type, 1) or '1type' as a synonym of type is deprecated; in a future version of numpy, it will be understood as (type, (1,)) / '(1,)type'.\n",
      "  np_resource = np.dtype([(\"resource\", np.ubyte, 1)])\n",
      "I:\\Users\\PC\\anaconda3\\envs\\my_env\\lib\\site-packages\\tensorboard\\compat\\tensorflow_stub\\dtypes.py:541: FutureWarning: Passing (type, 1) or '1type' as a synonym of type is deprecated; in a future version of numpy, it will be understood as (type, (1,)) / '(1,)type'.\n",
      "  _np_qint8 = np.dtype([(\"qint8\", np.int8, 1)])\n",
      "I:\\Users\\PC\\anaconda3\\envs\\my_env\\lib\\site-packages\\tensorboard\\compat\\tensorflow_stub\\dtypes.py:542: FutureWarning: Passing (type, 1) or '1type' as a synonym of type is deprecated; in a future version of numpy, it will be understood as (type, (1,)) / '(1,)type'.\n",
      "  _np_quint8 = np.dtype([(\"quint8\", np.uint8, 1)])\n",
      "I:\\Users\\PC\\anaconda3\\envs\\my_env\\lib\\site-packages\\tensorboard\\compat\\tensorflow_stub\\dtypes.py:543: FutureWarning: Passing (type, 1) or '1type' as a synonym of type is deprecated; in a future version of numpy, it will be understood as (type, (1,)) / '(1,)type'.\n",
      "  _np_qint16 = np.dtype([(\"qint16\", np.int16, 1)])\n",
      "I:\\Users\\PC\\anaconda3\\envs\\my_env\\lib\\site-packages\\tensorboard\\compat\\tensorflow_stub\\dtypes.py:544: FutureWarning: Passing (type, 1) or '1type' as a synonym of type is deprecated; in a future version of numpy, it will be understood as (type, (1,)) / '(1,)type'.\n",
      "  _np_quint16 = np.dtype([(\"quint16\", np.uint16, 1)])\n",
      "I:\\Users\\PC\\anaconda3\\envs\\my_env\\lib\\site-packages\\tensorboard\\compat\\tensorflow_stub\\dtypes.py:545: FutureWarning: Passing (type, 1) or '1type' as a synonym of type is deprecated; in a future version of numpy, it will be understood as (type, (1,)) / '(1,)type'.\n",
      "  _np_qint32 = np.dtype([(\"qint32\", np.int32, 1)])\n",
      "I:\\Users\\PC\\anaconda3\\envs\\my_env\\lib\\site-packages\\tensorboard\\compat\\tensorflow_stub\\dtypes.py:550: FutureWarning: Passing (type, 1) or '1type' as a synonym of type is deprecated; in a future version of numpy, it will be understood as (type, (1,)) / '(1,)type'.\n",
      "  np_resource = np.dtype([(\"resource\", np.ubyte, 1)])\n"
     ]
    }
   ],
   "source": [
    "import tensorflow as tf\n",
    "tf.enable_eager_execution()\n",
    "\n",
    "import pandas as pd\n",
    "\n",
    "coor_data = pd.read_csv('Data/coordata.csv')\n",
    "date_data = pd.read_csv('Data/datedata.csv')\n",
    "meta_data = pd.read_csv('Data/metadata.csv')"
   ]
  },
  {
   "cell_type": "code",
   "execution_count": 2,
   "metadata": {},
   "outputs": [],
   "source": [
    "data_set = coor_data.join(date_data.join(meta_data))"
   ]
  },
  {
   "cell_type": "code",
   "execution_count": 131,
   "metadata": {},
   "outputs": [],
   "source": [
    "\n",
    "Y_data = data_set[['endx','endy']].to_numpy()\n",
    "X_data = data_set.drop(columns=['endx', 'endy', 'start_date', 'class']).to_numpy()\n",
    "from sklearn.preprocessing import MinMaxScaler\n",
    "from sklearn.model_selection import train_test_split\n",
    "\n",
    "sc = MinMaxScaler(feature_range=(0,1))\n",
    "X_data_n = sc.fit_transform(X_data)\n",
    "Y_data_n = sc.fit_transform(Y_data)\n",
    "\n",
    "x_train, x_test, y_train, y_test = train_test_split(X_data_n, Y_data_n, test_size=0.3, random_state=30, shuffle = False)"
   ]
  },
  {
   "cell_type": "code",
   "execution_count": 134,
   "metadata": {},
   "outputs": [
    {
     "name": "stdout",
     "output_type": "stream",
     "text": [
      "Model: \"model_5\"\n",
      "_________________________________________________________________\n",
      "Layer (type)                 Output Shape              Param #   \n",
      "=================================================================\n",
      "input_3 (InputLayer)         [(None, 4)]               0         \n",
      "_________________________________________________________________\n",
      "dense_3 (Dense)              (None, 32)                160       \n",
      "_________________________________________________________________\n",
      "dense_5 (Dense)              (None, 2)                 66        \n",
      "=================================================================\n",
      "Total params: 226\n",
      "Trainable params: 226\n",
      "Non-trainable params: 0\n",
      "_________________________________________________________________\n"
     ]
    }
   ],
   "source": [
    "from tensorflow.keras import layers, Model\n",
    "from tensorflow.python.keras.layers.core import Dense, Activation, Dropout\n",
    "from tensorflow.python.keras.layers.recurrent import LSTM\n",
    "inputA = layers.Input(shape=(4,))\n",
    "inputB = layers.Input(shape=(62,))\n",
    "\n",
    "x = Dense(32, activation=\"softmax\")(inputA)\n",
    "x = Model(inputs=inputA, outputs=x)\n",
    "y = Dense(24, activation=\"relu\")(inputB)\n",
    "y = Model(inputs=inputB, outputs=y)\n",
    "\n",
    "combined = layers.concatenate([x.output, y.output])\n",
    "\n",
    "z = Dense(2)(x.output)\n",
    "\n",
    "model = Model(inputs=x.input, outputs=z)\n",
    "model.summary()"
   ]
  },
  {
   "cell_type": "code",
   "execution_count": 135,
   "metadata": {},
   "outputs": [
    {
     "name": "stdout",
     "output_type": "stream",
     "text": [
      "Train on 321634 samples, validate on 137844 samples\n",
      "Epoch 1/1000\n",
      "321634/321634 [==============================] - 9s 27us/sample - loss: 0.0319 - error_avg_km: 3.5421 - val_loss: 0.0192 - val_error_avg_km: 2.1305\n",
      "Epoch 2/1000\n",
      "321634/321634 [==============================] - 9s 27us/sample - loss: 0.0192 - error_avg_km: 2.1258 - val_loss: 0.0194 - val_error_avg_km: 2.1570\n",
      "Epoch 3/1000\n",
      "321634/321634 [==============================] - 9s 27us/sample - loss: 0.0190 - error_avg_km: 2.1056 - val_loss: 0.0188 - val_error_avg_km: 2.0883\n",
      "Epoch 4/1000\n",
      "321634/321634 [==============================] - 9s 27us/sample - loss: 0.0189 - error_avg_km: 2.1033 - val_loss: 0.0189 - val_error_avg_km: 2.0947\n",
      "Epoch 5/1000\n",
      "321634/321634 [==============================] - 10s 30us/sample - loss: 0.0189 - error_avg_km: 2.1015 - val_loss: 0.0195 - val_error_avg_km: 2.1637\n",
      "Epoch 6/1000\n",
      "321634/321634 [==============================] - 10s 30us/sample - loss: 0.0189 - error_avg_km: 2.0991 - val_loss: 0.0188 - val_error_avg_km: 2.0815\n",
      "Epoch 7/1000\n",
      "321634/321634 [==============================] - 9s 28us/sample - loss: 0.0189 - error_avg_km: 2.0980 - val_loss: 0.0187 - val_error_avg_km: 2.0744\n",
      "Epoch 8/1000\n",
      "321634/321634 [==============================] - 10s 32us/sample - loss: 0.0189 - error_avg_km: 2.0973 - val_loss: 0.0190 - val_error_avg_km: 2.1077\n",
      "Epoch 9/1000\n",
      "321634/321634 [==============================] - 9s 29us/sample - loss: 0.0189 - error_avg_km: 2.0975 - val_loss: 0.0187 - val_error_avg_km: 2.0747\n",
      "Epoch 10/1000\n",
      "321634/321634 [==============================] - 9s 27us/sample - loss: 0.0189 - error_avg_km: 2.0971 - val_loss: 0.0188 - val_error_avg_km: 2.0905\n",
      "Epoch 11/1000\n",
      "321634/321634 [==============================] - 9s 27us/sample - loss: 0.0189 - error_avg_km: 2.0962 - val_loss: 0.0186 - val_error_avg_km: 2.0649\n",
      "Epoch 12/1000\n",
      "321634/321634 [==============================] - 9s 27us/sample - loss: 0.0189 - error_avg_km: 2.0958 - val_loss: 0.0186 - val_error_avg_km: 2.0701\n",
      "Epoch 13/1000\n",
      "321634/321634 [==============================] - 9s 28us/sample - loss: 0.0189 - error_avg_km: 2.0958 - val_loss: 0.0186 - val_error_avg_km: 2.0655\n",
      "Epoch 14/1000\n",
      "321634/321634 [==============================] - 9s 27us/sample - loss: 0.0189 - error_avg_km: 2.0956 - val_loss: 0.0186 - val_error_avg_km: 2.0649\n",
      "Epoch 15/1000\n",
      "321634/321634 [==============================] - 9s 28us/sample - loss: 0.0189 - error_avg_km: 2.0956 - val_loss: 0.0188 - val_error_avg_km: 2.0846\n",
      "Epoch 16/1000\n",
      "321634/321634 [==============================] - 9s 27us/sample - loss: 0.0189 - error_avg_km: 2.0947 - val_loss: 0.0190 - val_error_avg_km: 2.1065\n",
      "Epoch 17/1000\n",
      "321634/321634 [==============================] - 9s 28us/sample - loss: 0.0189 - error_avg_km: 2.0948 - val_loss: 0.0187 - val_error_avg_km: 2.0731\n",
      "Epoch 18/1000\n",
      "321634/321634 [==============================] - 9s 28us/sample - loss: 0.0189 - error_avg_km: 2.0958 - val_loss: 0.0188 - val_error_avg_km: 2.0848\n",
      "Epoch 19/1000\n",
      "321634/321634 [==============================] - 9s 27us/sample - loss: 0.0189 - error_avg_km: 2.0948 - val_loss: 0.0186 - val_error_avg_km: 2.0683\n"
     ]
    },
    {
     "data": {
      "text/plain": [
       "<tensorflow.python.keras.callbacks.History at 0x1fc003e9888>"
      ]
     },
     "execution_count": 135,
     "metadata": {},
     "output_type": "execute_result"
    }
   ],
   "source": [
    "\n",
    "from tensorflow.python.keras.callbacks import EarlyStopping\n",
    "\n",
    "def error_avg_km(y_true, y_pred):\n",
    "    absolute = abs(y_true - y_pred)\n",
    "    return tf.reduce_mean(absolute*111, axis=-1)\n",
    "model.compile(loss=\"mean_absolute_error\", optimizer=\"adam\", metrics=[error_avg_km])\n",
    "\n",
    "callback = EarlyStopping(monitor='loss', patience=3, mode=\"auto\")\n",
    "model.fit([x_train[:,0:4],x_train], y_train, epochs=1000, validation_data=([x_test[:,0:4],x_test], y_test), callbacks=[callback])"
   ]
  },
  {
   "cell_type": "code",
   "execution_count": 136,
   "metadata": {},
   "outputs": [
    {
     "data": {
      "text/plain": [
       "<matplotlib.collections.PathCollection at 0x1fc010841c8>"
      ]
     },
     "execution_count": 136,
     "metadata": {},
     "output_type": "execute_result"
    },
    {
     "data": {
      "image/png": "[encoded data removed]",
      "text/plain": [
       "<Figure size 432x288 with 1 Axes>"
      ]
     },
     "metadata": {
      "needs_background": "light"
     },
     "output_type": "display_data"
    }
   ],
   "source": [
    "import matplotlib.pyplot as plt\n",
    "\n",
    "sc.fit_transform(Y_data)\n",
    "result_Y = model.predict([x_test[:,0:4],x_test])\n",
    "\n",
    "\n",
    "result_Y_plot = sc.inverse_transform(result_Y)\n",
    "y_test_plot = sc.inverse_transform(y_test)\n",
    "plt.scatter((y_test_plot[:,0]),(y_test_plot[:,1]), color='b', s= 1)\n",
    "plt.scatter((result_Y_plot[:,0]), (result_Y_plot[:,1]), color='r', s= 1)\n",
    "\n"
   ]
  },
  {
   "cell_type": "code",
   "execution_count": 139,
   "metadata": {},
   "outputs": [
    {
     "data": {
      "text/plain": [
       "<matplotlib.collections.PathCollection at 0x1fc013642c8>"
      ]
     },
     "execution_count": 139,
     "metadata": {},
     "output_type": "execute_result"
    },
    {
     "data": {
      "image/png": "[encoded data removed]",
      "text/plain": [
       "<Figure size 432x288 with 1 Axes>"
      ]
     },
     "metadata": {
      "needs_background": "light"
     },
     "output_type": "display_data"
    }
   ],
   "source": [
    "mae_rate_hour = []\n",
    "\n",
    "sc.fit_transform(X_data)\n",
    "for index in range(24):\n",
    "    mask = np.logical_and(sc.inverse_transform(x_test)[:,2] > (index)-0.1, sc.inverse_transform(x_test)[:,2] < (index+1)-0.5)\n",
    "    result_Y_hour = result_Y[mask]\n",
    "    Y_test_in = y_test[mask]\n",
    "    error = abs(result_Y_hour - Y_test_in)\n",
    "    endx = sum(error[:,0])/len(error)\n",
    "    endy = sum(error[:,1])/len(error)\n",
    "    error_average_distance = (endx+endy)/2\n",
    "\n",
    "    y_test[:,0] = y_test[:,0]\n",
    "    mae_rate_hour.append([float(round(error_average_distance*111,4)), str(index)])\n",
    "\n",
    "mae_rate_hour = np.array(mae_rate_hour, dtype=np.object)\n",
    "plt.xlabel('hours')\n",
    "plt.ylabel('error_avg_distance(km)')\n",
    "plt.grid(color='black', linestyle='-', linewidth=0.3)\n",
    "plt.scatter(mae_rate_hour[:,1], mae_rate_hour[:,0], color='r', s= 1)\n"
   ]
  },
  {
   "cell_type": "code",
   "execution_count": 138,
   "metadata": {},
   "outputs": [
    {
     "data": {
      "text/plain": [
       "<matplotlib.collections.PathCollection at 0x1fc0138edc8>"
      ]
     },
     "execution_count": 138,
     "metadata": {},
     "output_type": "execute_result"
    },
    {
     "data": {
      "image/png": "[encoded data removed]",
      "text/plain": [
       "<Figure size 432x288 with 1 Axes>"
      ]
     },
     "metadata": {
      "needs_background": "light"
     },
     "output_type": "display_data"
    }
   ],
   "source": [
    "mae_rate_day_of_week = []\n",
    "\n",
    "sc.fit_transform(X_data)\n",
    "for index in range(7):\n",
    "    mask = np.logical_and(sc.inverse_transform(x_test)[:,3] > (index)-0.1, sc.inverse_transform(x_test)[:,3] < (index+1)-0.5)\n",
    "    result_Y_day_of_week = result_Y[mask]\n",
    "    Y_test_in = y_test\n",
    "    error = abs(result_Y_day_of_week - Y_test_in[mask])\n",
    "    endx = sum(error[:,0])/len(error)\n",
    "    endy = sum(error[:,1])/len(error)\n",
    "    error_average_distance = (endx+endy)/2\n",
    "\n",
    "    y_test[:,0] = y_test[:,0]\n",
    "    mae_rate_day_of_week.append([float(round(error_average_distance*111,4)), str(index+1)])\n",
    "\n",
    "mae_rate_day_of_week = np.array(mae_rate_day_of_week, dtype=np.object)\n",
    "plt.xlabel('days of week')\n",
    "plt.ylabel('error_avg_distance(km)')\n",
    "plt.grid(color='black', linestyle='-', linewidth=0.3)\n",
    "plt.scatter(mae_rate_day_of_week[:,1], mae_rate_day_of_week[:,0], color='r', s= 1)"
   ]
  },
  {
   "cell_type": "code",
   "execution_count": null,
   "metadata": {},
   "outputs": [],
   "source": []
  }
 ],
 "metadata": {
  "kernelspec": {
   "display_name": "Python 3",
   "language": "python",
   "name": "python3"
  },
  "language_info": {
   "codemirror_mode": {
    "name": "ipython",
    "version": 3
   },
   "file_extension": ".py",
   "mimetype": "text/x-python",
   "name": "python",
   "nbconvert_exporter": "python",
   "pygments_lexer": "ipython3",
   "version": "3.7.8"
  }
 },
 "nbformat": 4,
 "nbformat_minor": 4
}
