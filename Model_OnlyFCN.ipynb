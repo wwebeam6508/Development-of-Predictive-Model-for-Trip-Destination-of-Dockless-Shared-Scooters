{
 "cells": [
  {
   "cell_type": "code",
   "execution_count": 61,
   "metadata": {},
   "outputs": [],
   "source": [
    "import tensorflow as tf\n",
    "tf.enable_eager_execution()\n",
    "import numpy as np\n",
    "import pandas as pd\n",
    "\n",
    "coor_data = pd.read_csv('Data/coordata.csv')\n",
    "date_data = pd.read_csv('Data/datedata.csv')\n",
    "meta_data = pd.read_csv('Data/metadata.csv')\n",
    "bus_stop_data = pd.read_csv('Data/bus_stop.csv')\n",
    "cluster_group_data = pd.read_csv('Data/cluster_group.csv')\n",
    "\n",
    "general = pd.read_csv('Data/ScooterData_July15_Sept27_2019.csv')\n",
    "\n",
    "data_set = coor_data.join(cluster_group_data.join(bus_stop_data.join(date_data.join(meta_data))))\n",
    "\n",
    "from scipy import stats\n",
    "# set_test = general[['trip_duration_min','trip_length_km']]\n",
    "# data_set = data_set[(np.abs(stats.zscore(set_test)) < 3).all(axis=1)]\n",
    "# general = general[(np.abs(stats.zscore(set_test)) < 3).all(axis=1)]\n",
    "\n",
    "\n",
    "\n",
    "\n",
    "general_np = general.to_numpy()\n",
    "\n",
    "# # filter\n",
    "# data_set = data_set[np.logical_not(general_np[:, 6] > 10)]\n",
    "# general_np = general_np[np.logical_not(general_np[:,6] > 10)]\n",
    "# data_set = data_set[np.logical_not(general_np[:,6] < 0.01)]\n",
    "# general_np = general_np[np.logical_not(general_np[:,6] < 0.01)]\n",
    "# data_set = data_set[np.logical_not(general_np[:,5] > 120)]\n",
    "# general_np = general_np[np.logical_not(general_np[:,5] > 120)]\n",
    "# data_set = data_set[np.logical_not(general_np[:,5] < 1)]\n",
    "# general_np = general_np[np.logical_not(general_np[:,5] < 1)]\n",
    "\n",
    "Y_data = data_set[['endx', 'endy']].to_numpy()\n",
    "X_data = data_set.drop(columns=['endx', 'endy','start_date', 'end_near_stop','end_cluster_group']).to_numpy()"
   ]
  },
  {
   "cell_type": "code",
   "execution_count": 63,
   "metadata": {},
   "outputs": [],
   "source": [
    "\n",
    "\n",
    "from sklearn.preprocessing import MinMaxScaler\n",
    "from sklearn.model_selection import train_test_split\n",
    "\n",
    "sc = MinMaxScaler(feature_range=(0,1))\n",
    "X_data_n = sc.fit_transform(X_data)\n",
    "Y_data_n = sc.fit_transform(Y_data)\n",
    "\n",
    "x_train, x_test, y_train, y_test = train_test_split(X_data_n, Y_data_n, test_size=0.4, shuffle=False)"
   ]
  },
  {
   "cell_type": "code",
   "execution_count": 88,
   "metadata": {},
   "outputs": [
    {
     "name": "stdout",
     "output_type": "stream",
     "text": [
      "Model: \"model_32\"\n",
      "__________________________________________________________________________________________________\n",
      "Layer (type)                    Output Shape         Param #     Connected to                     \n",
      "==================================================================================================\n",
      "input_21 (InputLayer)           [(None, 4)]          0                                            \n",
      "__________________________________________________________________________________________________\n",
      "input_22 (InputLayer)           [(None, 61)]         0                                            \n",
      "__________________________________________________________________________________________________\n",
      "dense_61 (Dense)                (None, 7)            35          input_21[0][0]                   \n",
      "__________________________________________________________________________________________________\n",
      "dense_63 (Dense)                (None, 62)           3844        input_22[0][0]                   \n",
      "__________________________________________________________________________________________________\n",
      "dense_62 (Dense)                (None, 15)           120         dense_61[0][0]                   \n",
      "__________________________________________________________________________________________________\n",
      "dense_64 (Dense)                (None, 70)           4410        dense_63[0][0]                   \n",
      "__________________________________________________________________________________________________\n",
      "concatenate_11 (Concatenate)    (None, 85)           0           dense_62[0][0]                   \n",
      "                                                                 dense_64[0][0]                   \n",
      "__________________________________________________________________________________________________\n",
      "dense_65 (Dense)                (None, 55)           4730        concatenate_11[0][0]             \n",
      "__________________________________________________________________________________________________\n",
      "dense_66 (Dense)                (None, 2)            112         dense_65[0][0]                   \n",
      "==================================================================================================\n",
      "Total params: 13,251\n",
      "Trainable params: 13,251\n",
      "Non-trainable params: 0\n",
      "__________________________________________________________________________________________________\n"
     ]
    }
   ],
   "source": [
    "from tensorflow.keras import layers, Model\n",
    "from tensorflow.python.keras.layers.core import Dense, Activation, Dropout\n",
    "from tensorflow.python.keras.layers.recurrent import LSTM\n",
    "inputA = layers.Input(shape=(4))\n",
    "inputB = layers.Input(shape=(61))\n",
    "\n",
    "# x = Dense(50, activation=\"relu\")(inputA)\n",
    "x = Dense(15)(inputA)\n",
    "x = Dense(30, activation=\"relu\")(x)\n",
    "x = Model(inputs=inputA, outputs=x)\n",
    "y = Dense(62)(inputB)\n",
    "y = Dense(70, activation=\"relu\")(y)\n",
    "y = Model(inputs=inputB, outputs=y)\n",
    "\n",
    "combined = layers.concatenate([x.output, y.output])\n",
    "\n",
    "final = Dense(55, activation=\"softmax\")(combined)\n",
    "# b = Dense(2)(final)\n",
    "# combined = layers.concatenate([final, b])\n",
    "a = Dense(2)(final)\n",
    "\n",
    "model = Model(inputs=[x.input,y.input], outputs=a)\n",
    "model.summary()"
   ]
  },
  {
   "cell_type": "code",
   "execution_count": 70,
   "metadata": {},
   "outputs": [
    {
     "name": "stdout",
     "output_type": "stream",
     "text": [
      "Train on 275686 samples, validate on 183792 samples\n",
      "Epoch 1/100\n",
      "275686/275686 [==============================] - 11s 41us/sample - loss: 0.0285 - val_loss: 0.0199\n",
      "Epoch 2/100\n",
      "275686/275686 [==============================] - 11s 40us/sample - loss: 0.0197 - val_loss: 0.0188\n",
      "Epoch 3/100\n",
      "275686/275686 [==============================] - 11s 40us/sample - loss: 0.0188 - val_loss: 0.0187\n",
      "Epoch 4/100\n",
      "275686/275686 [==============================] - 11s 40us/sample - loss: 0.0186 - val_loss: 0.0188\n",
      "Epoch 5/100\n",
      "275686/275686 [==============================] - 11s 40us/sample - loss: 0.0185 - val_loss: 0.0183\n",
      "Epoch 6/100\n",
      "275686/275686 [==============================] - 11s 39us/sample - loss: 0.0185 - val_loss: 0.0188\n",
      "Epoch 7/100\n",
      "275686/275686 [==============================] - 11s 39us/sample - loss: 0.0184 - val_loss: 0.0187\n",
      "Epoch 8/100\n",
      "275686/275686 [==============================] - 11s 39us/sample - loss: 0.0184 - val_loss: 0.0183\n",
      "Epoch 9/100\n",
      "275686/275686 [==============================] - 11s 39us/sample - loss: 0.0184 - val_loss: 0.0183\n",
      "Epoch 10/100\n",
      "275686/275686 [==============================] - 11s 40us/sample - loss: 0.0184 - val_loss: 0.0184\n",
      "Epoch 11/100\n",
      "275686/275686 [==============================] - 11s 40us/sample - loss: 0.0184 - val_loss: 0.0184\n",
      "Epoch 12/100\n",
      "275686/275686 [==============================] - 11s 40us/sample - loss: 0.0184 - val_loss: 0.0183\n",
      "Epoch 13/100\n",
      "275686/275686 [==============================] - 11s 39us/sample - loss: 0.0183 - val_loss: 0.0183\n",
      "Epoch 14/100\n",
      "275686/275686 [==============================] - 11s 40us/sample - loss: 0.0183 - val_loss: 0.0183\n",
      "Epoch 15/100\n",
      "275686/275686 [==============================] - 11s 40us/sample - loss: 0.0183 - val_loss: 0.0183\n",
      "Epoch 16/100\n",
      "275686/275686 [==============================] - 12s 42us/sample - loss: 0.0183 - val_loss: 0.0184\n",
      "Epoch 17/100\n",
      "275686/275686 [==============================] - 12s 42us/sample - loss: 0.0183 - val_loss: 0.0183\n",
      "Epoch 18/100\n",
      "275686/275686 [==============================] - 12s 42us/sample - loss: 0.0183 - val_loss: 0.0186\n",
      "Epoch 19/100\n",
      "275686/275686 [==============================] - 11s 41us/sample - loss: 0.0183 - val_loss: 0.0182\n",
      "Epoch 20/100\n",
      "275686/275686 [==============================] - 11s 41us/sample - loss: 0.0183 - val_loss: 0.0183\n",
      "Epoch 21/100\n",
      "275686/275686 [==============================] - 11s 41us/sample - loss: 0.0183 - val_loss: 0.0185\n",
      "Epoch 22/100\n",
      "275686/275686 [==============================] - 11s 41us/sample - loss: 0.0183 - val_loss: 0.0183\n",
      "Epoch 23/100\n",
      "275686/275686 [==============================] - 12s 42us/sample - loss: 0.0183 - val_loss: 0.0185\n",
      "Epoch 24/100\n",
      "275686/275686 [==============================] - 12s 43us/sample - loss: 0.0183 - val_loss: 0.0182\n",
      "Epoch 25/100\n",
      "275686/275686 [==============================] - 12s 43us/sample - loss: 0.0183 - val_loss: 0.0181\n",
      "Epoch 26/100\n",
      "275686/275686 [==============================] - 11s 41us/sample - loss: 0.0183 - val_loss: 0.0183\n",
      "Epoch 27/100\n",
      "275686/275686 [==============================] - 11s 41us/sample - loss: 0.0183 - val_loss: 0.0184\n",
      "Epoch 28/100\n",
      "275686/275686 [==============================] - 12s 42us/sample - loss: 0.0183 - val_loss: 0.0183\n",
      "Epoch 29/100\n",
      "275686/275686 [==============================] - 12s 43us/sample - loss: 0.0183 - val_loss: 0.0189\n",
      "Epoch 30/100\n",
      "275686/275686 [==============================] - 12s 43us/sample - loss: 0.0183 - val_loss: 0.0186\n",
      "Epoch 31/100\n",
      "275686/275686 [==============================] - 12s 43us/sample - loss: 0.0183 - val_loss: 0.0185\n",
      "Epoch 32/100\n",
      "275686/275686 [==============================] - 12s 43us/sample - loss: 0.0183 - val_loss: 0.0184\n",
      "Epoch 33/100\n",
      "275686/275686 [==============================] - 12s 43us/sample - loss: 0.0182 - val_loss: 0.0182\n",
      "Epoch 34/100\n",
      "275686/275686 [==============================] - 12s 43us/sample - loss: 0.0182 - val_loss: 0.0182\n",
      "Epoch 35/100\n",
      "275686/275686 [==============================] - 12s 43us/sample - loss: 0.0182 - val_loss: 0.0182\n",
      "Epoch 36/100\n",
      "275686/275686 [==============================] - 13s 47us/sample - loss: 0.0182 - val_loss: 0.0185\n",
      "Epoch 37/100\n",
      "275686/275686 [==============================] - 12s 43us/sample - loss: 0.0182 - val_loss: 0.0183\n",
      "Epoch 38/100\n",
      "275686/275686 [==============================] - 12s 43us/sample - loss: 0.0182 - val_loss: 0.0182\n",
      "Epoch 39/100\n",
      "275686/275686 [==============================] - 12s 44us/sample - loss: 0.0182 - val_loss: 0.0181\n",
      "Epoch 40/100\n",
      "275686/275686 [==============================] - 12s 45us/sample - loss: 0.0182 - val_loss: 0.0182\n",
      "Epoch 41/100\n",
      "275686/275686 [==============================] - 12s 45us/sample - loss: 0.0182 - val_loss: 0.0182\n",
      "Epoch 42/100\n",
      "275686/275686 [==============================] - 13s 46us/sample - loss: 0.0182 - val_loss: 0.0182\n",
      "Epoch 43/100\n",
      "275686/275686 [==============================] - 12s 45us/sample - loss: 0.0182 - val_loss: 0.0183\n",
      "Epoch 44/100\n",
      "275686/275686 [==============================] - 13s 46us/sample - loss: 0.0182 - val_loss: 0.0181\n",
      "Epoch 45/100\n",
      "275686/275686 [==============================] - 13s 46us/sample - loss: 0.0182 - val_loss: 0.0183\n",
      "Epoch 46/100\n",
      "275686/275686 [==============================] - 13s 46us/sample - loss: 0.0182 - val_loss: 0.0183\n",
      "Epoch 47/100\n",
      "275686/275686 [==============================] - 13s 46us/sample - loss: 0.0182 - val_loss: 0.0182\n",
      "Epoch 48/100\n",
      "275686/275686 [==============================] - 12s 45us/sample - loss: 0.0182 - val_loss: 0.0182\n",
      "Epoch 49/100\n",
      "275686/275686 [==============================] - 13s 46us/sample - loss: 0.0182 - val_loss: 0.0182\n",
      "Epoch 50/100\n",
      "275686/275686 [==============================] - 12s 45us/sample - loss: 0.0182 - val_loss: 0.0183\n",
      "Epoch 51/100\n",
      "275686/275686 [==============================] - 13s 48us/sample - loss: 0.0182 - val_loss: 0.0182\n",
      "Epoch 52/100\n",
      "275686/275686 [==============================] - 13s 46us/sample - loss: 0.0182 - val_loss: 0.0184\n",
      "Epoch 53/100\n",
      "275686/275686 [==============================] - 13s 48us/sample - loss: 0.0182 - val_loss: 0.0185\n",
      "Epoch 54/100\n",
      "275686/275686 [==============================] - 13s 48us/sample - loss: 0.0182 - val_loss: 0.0183\n",
      "Epoch 55/100\n",
      "275686/275686 [==============================] - 13s 46us/sample - loss: 0.0182 - val_loss: 0.0182\n",
      "Epoch 56/100\n",
      "275686/275686 [==============================] - 13s 48us/sample - loss: 0.0182 - val_loss: 0.0183\n",
      "Epoch 57/100\n",
      "275686/275686 [==============================] - 13s 47us/sample - loss: 0.0182 - val_loss: 0.0183\n",
      "Epoch 58/100\n",
      "275686/275686 [==============================] - 13s 48us/sample - loss: 0.0182 - val_loss: 0.0186\n",
      "Epoch 59/100\n",
      "275686/275686 [==============================] - 13s 48us/sample - loss: 0.0182 - val_loss: 0.0182\n",
      "Epoch 60/100\n",
      "275686/275686 [==============================] - 13s 46us/sample - loss: 0.0182 - val_loss: 0.0181\n",
      "Epoch 61/100\n",
      "275686/275686 [==============================] - 13s 46us/sample - loss: 0.0182 - val_loss: 0.0182\n",
      "Epoch 62/100\n",
      "275686/275686 [==============================] - 13s 46us/sample - loss: 0.0182 - val_loss: 0.0182\n",
      "Epoch 63/100\n",
      "275686/275686 [==============================] - 13s 46us/sample - loss: 0.0182 - val_loss: 0.0182\n",
      "Epoch 64/100\n",
      "275686/275686 [==============================] - 13s 46us/sample - loss: 0.0182 - val_loss: 0.0182\n",
      "Epoch 65/100\n",
      "275686/275686 [==============================] - 13s 46us/sample - loss: 0.0182 - val_loss: 0.0183\n",
      "Epoch 66/100\n",
      "275686/275686 [==============================] - 13s 46us/sample - loss: 0.0182 - val_loss: 0.0182\n",
      "Epoch 67/100\n",
      "275686/275686 [==============================] - 13s 47us/sample - loss: 0.0182 - val_loss: 0.0182\n",
      "Epoch 68/100\n",
      "275686/275686 [==============================] - 13s 46us/sample - loss: 0.0182 - val_loss: 0.0181\n",
      "Epoch 69/100\n",
      "275686/275686 [==============================] - 13s 47us/sample - loss: 0.0182 - val_loss: 0.0182\n",
      "Epoch 70/100\n",
      "275686/275686 [==============================] - 13s 48us/sample - loss: 0.0182 - val_loss: 0.0181\n",
      "Epoch 71/100\n",
      "275686/275686 [==============================] - 13s 47us/sample - loss: 0.0182 - val_loss: 0.0181\n",
      "Epoch 72/100\n",
      "275686/275686 [==============================] - 13s 46us/sample - loss: 0.0182 - val_loss: 0.0183\n",
      "Epoch 73/100\n",
      "275686/275686 [==============================] - 13s 45us/sample - loss: 0.0182 - val_loss: 0.0182\n",
      "Epoch 74/100\n",
      "275686/275686 [==============================] - 13s 46us/sample - loss: 0.0182 - val_loss: 0.0182\n",
      "Epoch 75/100\n",
      "275686/275686 [==============================] - 13s 46us/sample - loss: 0.0182 - val_loss: 0.0181\n",
      "Epoch 76/100\n",
      "275686/275686 [==============================] - 13s 47us/sample - loss: 0.0182 - val_loss: 0.0181\n",
      "Epoch 77/100\n",
      "275686/275686 [==============================] - 13s 48us/sample - loss: 0.0182 - val_loss: 0.0182\n",
      "Epoch 78/100\n",
      "275686/275686 [==============================] - 13s 48us/sample - loss: 0.0182 - val_loss: 0.0181\n",
      "Epoch 79/100\n",
      "275686/275686 [==============================] - 13s 48us/sample - loss: 0.0182 - val_loss: 0.0182\n",
      "Epoch 80/100\n",
      "275686/275686 [==============================] - 13s 46us/sample - loss: 0.0182 - val_loss: 0.0185\n",
      "Epoch 81/100\n",
      "275686/275686 [==============================] - 13s 46us/sample - loss: 0.0182 - val_loss: 0.0182\n",
      "Epoch 82/100\n",
      "275686/275686 [==============================] - 13s 46us/sample - loss: 0.0182 - val_loss: 0.0182\n",
      "Epoch 83/100\n",
      "275686/275686 [==============================] - 13s 47us/sample - loss: 0.0182 - val_loss: 0.0181\n",
      "Epoch 84/100\n",
      "275686/275686 [==============================] - 13s 48us/sample - loss: 0.0182 - val_loss: 0.0184\n",
      "Epoch 85/100\n",
      "275686/275686 [==============================] - 13s 48us/sample - loss: 0.0182 - val_loss: 0.0184\n",
      "Epoch 86/100\n",
      "275686/275686 [==============================] - 13s 48us/sample - loss: 0.0182 - val_loss: 0.0184\n",
      "Epoch 87/100\n",
      "275686/275686 [==============================] - 13s 48us/sample - loss: 0.0182 - val_loss: 0.0184\n",
      "Epoch 88/100\n",
      "275686/275686 [==============================] - 13s 46us/sample - loss: 0.0182 - val_loss: 0.0183\n",
      "Epoch 89/100\n",
      "275686/275686 [==============================] - 13s 46us/sample - loss: 0.0182 - val_loss: 0.0184\n",
      "Epoch 90/100\n",
      "275686/275686 [==============================] - 13s 47us/sample - loss: 0.0182 - val_loss: 0.0182\n",
      "Epoch 91/100\n",
      "275686/275686 [==============================] - 13s 48us/sample - loss: 0.0182 - val_loss: 0.0182\n",
      "Epoch 92/100\n",
      "275686/275686 [==============================] - 13s 48us/sample - loss: 0.0182 - val_loss: 0.0181\n",
      "Epoch 93/100\n",
      "275686/275686 [==============================] - 13s 48us/sample - loss: 0.0182 - val_loss: 0.0181\n",
      "Epoch 94/100\n",
      "275686/275686 [==============================] - 13s 48us/sample - loss: 0.0182 - val_loss: 0.0181\n",
      "Epoch 95/100\n",
      "275686/275686 [==============================] - 13s 48us/sample - loss: 0.0182 - val_loss: 0.0184\n",
      "Epoch 96/100\n",
      "275686/275686 [==============================] - 13s 48us/sample - loss: 0.0182 - val_loss: 0.0182\n",
      "Epoch 97/100\n",
      "275686/275686 [==============================] - 13s 48us/sample - loss: 0.0182 - val_loss: 0.0183\n",
      "Epoch 98/100\n",
      "275686/275686 [==============================] - 13s 46us/sample - loss: 0.0182 - val_loss: 0.0183\n",
      "Epoch 99/100\n",
      "275686/275686 [==============================] - 13s 47us/sample - loss: 0.0182 - val_loss: 0.0182\n",
      "Epoch 100/100\n",
      "275686/275686 [==============================] - 13s 48us/sample - loss: 0.0182 - val_loss: 0.0187\n"
     ]
    }
   ],
   "source": [
    "from tensorflow.python.keras.callbacks import EarlyStopping\n",
    "\n",
    "model.compile(loss=\"mean_absolute_error\", optimizer=\"adam\")\n",
    "\n",
    "callback = EarlyStopping(monitor='loss', patience=5, mode=\"auto\")\n",
    "# history = model.fit([x_train[:,0:7],x_train[:,7:]], [y_train[:,0:2], y_train[:,2:4]], epochs=100, validation_data=([x_test[:,0:7],x_test[:,7:]], [y_test[:,0:2], y_test[:,2:4]]))\n",
    "\n",
    "history = model.fit([x_train[:,0:4],x_train[:,4:]], y_train, epochs=100, validation_data=([x_test[:,0:4],x_test[:,4:]], y_test))"
   ]
  },
  {
   "cell_type": "code",
   "execution_count": 81,
   "metadata": {},
   "outputs": [
    {
     "data": {
      "image/png": "[encoded data removed]",
      "text/plain": [
       "<Figure size 432x288 with 1 Axes>"
      ]
     },
     "metadata": {
      "needs_background": "light"
     },
     "output_type": "display_data"
    }
   ],
   "source": [
    "import matplotlib.pyplot as plt\n",
    "plt.plot(history.history['loss'], color='r')\n",
    "plt.plot(history.history['val_loss'], color='b')\n",
    "plt.show()"
   ]
  },
  {
   "cell_type": "code",
   "execution_count": 82,
   "metadata": {},
   "outputs": [
    {
     "ename": "ValueError",
     "evalue": "Error when checking input: expected input_19 to have shape (4,) but got array with shape (7,)",
     "output_type": "error",
     "traceback": [
      "\u001b[0;31m---------------------------------------------------------------------------\u001b[0m",
      "\u001b[0;31mValueError\u001b[0m                                Traceback (most recent call last)",
      "\u001b[0;32m<ipython-input-82-57afdc16ea75>\u001b[0m in \u001b[0;36m<module>\u001b[0;34m\u001b[0m\n\u001b[0;32m----> 1\u001b[0;31m \u001b[0mmodel\u001b[0m\u001b[0;34m.\u001b[0m\u001b[0mevaluate\u001b[0m\u001b[0;34m(\u001b[0m\u001b[0;34m[\u001b[0m\u001b[0mx_test\u001b[0m\u001b[0;34m[\u001b[0m\u001b[0;34m:\u001b[0m\u001b[0;34m,\u001b[0m\u001b[0;36m0\u001b[0m\u001b[0;34m:\u001b[0m\u001b[0;36m7\u001b[0m\u001b[0;34m]\u001b[0m\u001b[0;34m,\u001b[0m\u001b[0mx_test\u001b[0m\u001b[0;34m[\u001b[0m\u001b[0;34m:\u001b[0m\u001b[0;34m,\u001b[0m\u001b[0;36m7\u001b[0m\u001b[0;34m:\u001b[0m\u001b[0;34m]\u001b[0m\u001b[0;34m]\u001b[0m\u001b[0;34m,\u001b[0m \u001b[0my_test\u001b[0m\u001b[0;34m)\u001b[0m\u001b[0;34m\u001b[0m\u001b[0;34m\u001b[0m\u001b[0m\n\u001b[0m",
      "\u001b[0;32m~/anaconda3/envs/geo_env/lib/python3.7/site-packages/tensorflow/python/keras/engine/training.py\u001b[0m in \u001b[0;36mevaluate\u001b[0;34m(self, x, y, batch_size, verbose, sample_weight, steps, callbacks, max_queue_size, workers, use_multiprocessing)\u001b[0m\n\u001b[1;32m    939\u001b[0m         \u001b[0mcheck_steps\u001b[0m\u001b[0;34m=\u001b[0m\u001b[0;32mTrue\u001b[0m\u001b[0;34m,\u001b[0m\u001b[0;34m\u001b[0m\u001b[0;34m\u001b[0m\u001b[0m\n\u001b[1;32m    940\u001b[0m         \u001b[0msteps_name\u001b[0m\u001b[0;34m=\u001b[0m\u001b[0;34m'steps'\u001b[0m\u001b[0;34m,\u001b[0m\u001b[0;34m\u001b[0m\u001b[0;34m\u001b[0m\u001b[0m\n\u001b[0;32m--> 941\u001b[0;31m         steps=steps)\n\u001b[0m\u001b[1;32m    942\u001b[0m \u001b[0;34m\u001b[0m\u001b[0m\n\u001b[1;32m    943\u001b[0m     \u001b[0;32mif\u001b[0m \u001b[0mself\u001b[0m\u001b[0;34m.\u001b[0m\u001b[0mrun_eagerly\u001b[0m\u001b[0;34m:\u001b[0m\u001b[0;34m\u001b[0m\u001b[0;34m\u001b[0m\u001b[0m\n",
      "\u001b[0;32m~/anaconda3/envs/geo_env/lib/python3.7/site-packages/tensorflow/python/keras/engine/training.py\u001b[0m in \u001b[0;36m_standardize_user_data\u001b[0;34m(self, x, y, sample_weight, class_weight, batch_size, check_steps, steps_name, steps, validation_split, shuffle, extract_tensors_from_dataset)\u001b[0m\n\u001b[1;32m   2649\u001b[0m           \u001b[0mfeed_input_shapes\u001b[0m\u001b[0;34m,\u001b[0m\u001b[0;34m\u001b[0m\u001b[0;34m\u001b[0m\u001b[0m\n\u001b[1;32m   2650\u001b[0m           \u001b[0mcheck_batch_axis\u001b[0m\u001b[0;34m=\u001b[0m\u001b[0;32mFalse\u001b[0m\u001b[0;34m,\u001b[0m  \u001b[0;31m# Don't enforce the batch size.\u001b[0m\u001b[0;34m\u001b[0m\u001b[0;34m\u001b[0m\u001b[0m\n\u001b[0;32m-> 2651\u001b[0;31m           exception_prefix='input')\n\u001b[0m\u001b[1;32m   2652\u001b[0m \u001b[0;34m\u001b[0m\u001b[0m\n\u001b[1;32m   2653\u001b[0m     \u001b[0;32mif\u001b[0m \u001b[0my\u001b[0m \u001b[0;32mis\u001b[0m \u001b[0;32mnot\u001b[0m \u001b[0;32mNone\u001b[0m\u001b[0;34m:\u001b[0m\u001b[0;34m\u001b[0m\u001b[0;34m\u001b[0m\u001b[0m\n",
      "\u001b[0;32m~/anaconda3/envs/geo_env/lib/python3.7/site-packages/tensorflow/python/keras/engine/training_utils.py\u001b[0m in \u001b[0;36mstandardize_input_data\u001b[0;34m(data, names, shapes, check_batch_axis, exception_prefix)\u001b[0m\n\u001b[1;32m    383\u001b[0m                              \u001b[0;34m': expected '\u001b[0m \u001b[0;34m+\u001b[0m \u001b[0mnames\u001b[0m\u001b[0;34m[\u001b[0m\u001b[0mi\u001b[0m\u001b[0;34m]\u001b[0m \u001b[0;34m+\u001b[0m \u001b[0;34m' to have shape '\u001b[0m \u001b[0;34m+\u001b[0m\u001b[0;34m\u001b[0m\u001b[0;34m\u001b[0m\u001b[0m\n\u001b[1;32m    384\u001b[0m                              \u001b[0mstr\u001b[0m\u001b[0;34m(\u001b[0m\u001b[0mshape\u001b[0m\u001b[0;34m)\u001b[0m \u001b[0;34m+\u001b[0m \u001b[0;34m' but got array with shape '\u001b[0m \u001b[0;34m+\u001b[0m\u001b[0;34m\u001b[0m\u001b[0;34m\u001b[0m\u001b[0m\n\u001b[0;32m--> 385\u001b[0;31m                              str(data_shape))\n\u001b[0m\u001b[1;32m    386\u001b[0m   \u001b[0;32mreturn\u001b[0m \u001b[0mdata\u001b[0m\u001b[0;34m\u001b[0m\u001b[0;34m\u001b[0m\u001b[0m\n\u001b[1;32m    387\u001b[0m \u001b[0;34m\u001b[0m\u001b[0m\n",
      "\u001b[0;31mValueError\u001b[0m: Error when checking input: expected input_19 to have shape (4,) but got array with shape (7,)"
     ]
    }
   ],
   "source": [
    "model.evaluate([x_test[:,0:7],x_test[:,7:]], y_test)"
   ]
  },
  {
   "cell_type": "code",
   "execution_count": 83,
   "metadata": {},
   "outputs": [
    {
     "data": {
      "text/plain": [
       "<matplotlib.collections.PathCollection at 0x7fc085573b10>"
      ]
     },
     "execution_count": 83,
     "metadata": {},
     "output_type": "execute_result"
    },
    {
     "data": {
      "image/png": "[encoded data removed]",
      "text/plain": [
       "<Figure size 432x288 with 1 Axes>"
      ]
     },
     "metadata": {
      "needs_background": "light"
     },
     "output_type": "display_data"
    }
   ],
   "source": [
    "import matplotlib.pyplot as plt\n",
    "import numpy as np\n",
    "sc.fit_transform(Y_data)\n",
    "result_Y = model.predict([x_test[:,0:4],x_test[:,4:]])\n",
    "\n",
    "result_Y_plot = sc.inverse_transform(result_Y)\n",
    "y_test_plot = sc.inverse_transform(y_test)\n",
    "\n",
    "plt.scatter((y_test_plot[0:500,0]),(y_test_plot[0:500,1]), color='b', s= 1)\n",
    "plt.scatter((result_Y_plot[0:500,0]), (result_Y_plot[0:500,1]), color='r', s= 1)\n",
    "\n"
   ]
  },
  {
   "cell_type": "code",
   "execution_count": 84,
   "metadata": {},
   "outputs": [],
   "source": [
    "def haversine(coord1: object, coord2: object):\n",
    "    import math\n",
    "\n",
    "    # Coordinates in decimal degrees (e.g. 2.89078, 12.79797)\n",
    "    lon1, lat1 = coord1\n",
    "    lon2, lat2 = coord2\n",
    "\n",
    "    R = 6371000  # radius of Earth in meters\n",
    "    phi_1 = math.radians(lat1)\n",
    "    phi_2 = math.radians(lat2)\n",
    "\n",
    "    delta_phi = math.radians(lat2 - lat1)\n",
    "    delta_lambda = math.radians(lon2 - lon1)\n",
    "\n",
    "    a = math.sin(delta_phi / 2.0) ** 2 + math.cos(phi_1) * math.cos(phi_2) * math.sin(delta_lambda / 2.0) ** 2\n",
    "    \n",
    "    c = 2 * math.atan2(math.sqrt(a), math.sqrt(1 - a))\n",
    "\n",
    "    meters = R * c  # output distance in meters\n",
    "    km = meters / 1000.0  # output distance in kilometers\n",
    "\n",
    "    meters = round(meters, 5)\n",
    "    km = round(km, 5)\n",
    "    return km"
   ]
  },
  {
   "cell_type": "code",
   "execution_count": 85,
   "metadata": {},
   "outputs": [
    {
     "data": {
      "text/plain": [
       "<matplotlib.collections.PathCollection at 0x7fc0855a6bd0>"
      ]
     },
     "execution_count": 85,
     "metadata": {},
     "output_type": "execute_result"
    },
    {
     "data": {
      "image/png": "[encoded data removed]",
      "text/plain": [
       "<Figure size 432x288 with 1 Axes>"
      ]
     },
     "metadata": {
      "needs_background": "light"
     },
     "output_type": "display_data"
    }
   ],
   "source": [
    "mae_rate_hour = []\n",
    "\n",
    "sc.fit_transform(X_data)\n",
    "x_test_hour = sc.inverse_transform(x_test)\n",
    "\n",
    "sc.fit_transform(Y_data)\n",
    "result_Y_hour = sc.inverse_transform(result_Y)\n",
    "y_test_hour = sc.inverse_transform(y_test)\n",
    "for index in range(24):\n",
    "    mask = np.logical_and(x_test_hour[:,4] > (index)-0.2, x_test_hour[:,4] < (index+1)-0.2)\n",
    "    result_Y_d = result_Y_hour[mask]\n",
    "    Y_test_in = y_test_hour[mask]\n",
    "    error = 0\n",
    "    for i in range(len(Y_test_in)):\n",
    "        error = error + haversine(result_Y_d[i,0:2],Y_test_in[i,0:2])\n",
    "    end = error/len(Y_test_in)\n",
    "    error_average_distance = end\n",
    "\n",
    "    y_test[:,0] = y_test[:,0]\n",
    "    mae_rate_hour.append([float(error_average_distance), str(index)])\n",
    "\n",
    "mae_rate_hour = np.array(mae_rate_hour, dtype=np.object)\n",
    "plt.xlabel('hours')\n",
    "plt.ylabel('error_avg_distance(km)')\n",
    "plt.grid(color='black', linestyle='-', linewidth=0.3)\n",
    "plt.scatter(mae_rate_hour[:,1], mae_rate_hour[:,0], color='r', s= 1)\n"
   ]
  },
  {
   "cell_type": "code",
   "execution_count": 86,
   "metadata": {},
   "outputs": [
    {
     "data": {
      "text/plain": [
       "<matplotlib.collections.PathCollection at 0x7fc0982ba990>"
      ]
     },
     "execution_count": 86,
     "metadata": {},
     "output_type": "execute_result"
    },
    {
     "data": {
      "image/png": "[encoded data removed]",
      "text/plain": [
       "<Figure size 432x288 with 1 Axes>"
      ]
     },
     "metadata": {
      "needs_background": "light"
     },
     "output_type": "display_data"
    }
   ],
   "source": [
    "mae_rate_day_of_week = []\n",
    "\n",
    "sc.fit_transform(X_data)\n",
    "x_test_day = sc.inverse_transform(x_test)\n",
    "\n",
    "sc.fit_transform(Y_data)\n",
    "result_Y_day = sc.inverse_transform(result_Y)\n",
    "y_test_day = sc.inverse_transform(y_test)\n",
    "for index in range(7):\n",
    "    mask = np.logical_and(x_test_day[:,5] > (index)-0.1, x_test_day[:,5] < (index+1)-0.1)\n",
    "    result_Y_d_day = result_Y_day[mask]\n",
    "    Y_test_in = y_test_day[mask]\n",
    "    error = 0\n",
    "    haverList = []\n",
    "    for i in (range(len(Y_test_in))):\n",
    "        error = error + haversine(result_Y_d_day[i,0:2],Y_test_in[i,0:2])\n",
    "    end = error/len(Y_test_in)\n",
    "    error_average_distance = end\n",
    "\n",
    "    y_test[:,0] = y_test[:,0]\n",
    "    mae_rate_day_of_week.append([error_average_distance, str(index+1)])\n",
    "\n",
    "mae_rate_day_of_week = np.array(mae_rate_day_of_week, dtype=np.object)\n",
    "plt.xlabel('days of week')\n",
    "plt.ylabel('error_avg_distance(km)')\n",
    "plt.grid(color='black', linestyle='-', linewidth=0.3)\n",
    "plt.scatter(mae_rate_day_of_week[:,1], mae_rate_day_of_week[:,0], color='r', s= 1)"
   ]
  },
  {
   "cell_type": "code",
   "execution_count": 87,
   "metadata": {},
   "outputs": [
    {
     "data": {
      "text/plain": [
       "0.854"
      ]
     },
     "execution_count": 87,
     "metadata": {},
     "output_type": "execute_result"
    }
   ],
   "source": [
    "result_Y_all = sc.inverse_transform(result_Y)\n",
    "y_test_all = sc.inverse_transform(y_test)\n",
    "error_all = 0\n",
    "for i in (range(len(Y_test_in))):\n",
    "    error_all = error_all + haversine(result_Y_d_day[i],Y_test_in[i])\n",
    "    error_avg = error/len(Y_test_in)\n",
    "round(error_avg, 3)"
   ]
  },
  {
   "cell_type": "code",
   "execution_count": null,
   "metadata": {
    "scrolled": true
   },
   "outputs": [],
   "source": []
  },
  {
   "cell_type": "code",
   "execution_count": null,
   "metadata": {},
   "outputs": [],
   "source": []
  }
 ],
 "metadata": {
  "kernelspec": {
   "display_name": "Python 3",
   "language": "python",
   "name": "python3"
  },
  "language_info": {
   "codemirror_mode": {
    "name": "ipython",
    "version": 3
   },
   "file_extension": ".py",
   "mimetype": "text/x-python",
   "name": "python",
   "nbconvert_exporter": "python",
   "pygments_lexer": "ipython3",
   "version": "3.7.8"
  }
 },
 "nbformat": 4,
 "nbformat_minor": 4
}
