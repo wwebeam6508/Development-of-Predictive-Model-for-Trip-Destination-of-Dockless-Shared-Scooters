{
 "cells": [
  {
   "cell_type": "code",
   "execution_count": 88,
   "metadata": {},
   "outputs": [],
   "source": [
    "import tensorflow as tf\n",
    "tf.enable_eager_execution()\n",
    "import numpy as np\n",
    "import pandas as pd\n",
    "\n",
    "coor_data = pd.read_csv('Data/coordata.csv')\n",
    "date_data = pd.read_csv('Data/datedata.csv')\n",
    "meta_data = pd.read_csv('Data/metadata.csv')\n",
    "bus_stop_data = pd.read_csv('Data/bus_stop.csv')\n",
    "# cluster_group_data = pd.read_csv('Data/cluster_group.csv')\n",
    "\n",
    "general = pd.read_csv('Data/ScooterData_July15_Sept27_2019.csv')\n",
    "\n",
    "data_set = coor_data.join((bus_stop_data.join(date_data.join(meta_data))))\n",
    "\n",
    "from scipy import stats\n",
    "# set_test = general[['trip_duration_min','trip_length_km']]\n",
    "# data_set = data_set[(np.abs(stats.zscore(set_test)) < 3).all(axis=1)]\n",
    "# general = general[(np.abs(stats.zscore(set_test)) < 3).all(axis=1)]\n",
    "\n",
    "\n",
    "\n",
    "\n",
    "general_np = general.to_numpy()\n",
    "\n",
    "# # filter\n",
    "# data_set = data_set[np.logical_not(general_np[:, 6] > 10)]\n",
    "# general_np = general_np[np.logical_not(general_np[:,6] > 10)]\n",
    "# data_set = data_set[np.logical_not(general_np[:,6] < 0.01)]\n",
    "# general_np = general_np[np.logical_not(general_np[:,6] < 0.01)]\n",
    "# data_set = data_set[np.logical_not(general_np[:,5] > 120)]\n",
    "# general_np = general_np[np.logical_not(general_np[:,5] > 120)]\n",
    "# data_set = data_set[np.logical_not(general_np[:,5] < 1)]\n",
    "# general_np = general_np[np.logical_not(general_np[:,5] < 1)]\n",
    "\n",
    "# data_set = data_set[np.logical_not(np.logical_and(general_np[:, 6] < 0.11, general_np[:, 5] > 20))]\n",
    "# general_np = general_np[np.logical_not(np.logical_and(general_np[:, 6] < 0.11, general_np[:, 5] > 20))]\n",
    "\n",
    "Y_data = data_set[['endx', 'endy']].to_numpy()\n",
    "X_data = data_set.drop(columns=['endx', 'endy','start_date', 'end_near_stop']).to_numpy()"
   ]
  },
  {
   "cell_type": "code",
   "execution_count": 89,
   "metadata": {},
   "outputs": [
    {
     "data": {
      "text/html": [
       "<div>\n",
       "<style scoped>\n",
       "    .dataframe tbody tr th:only-of-type {\n",
       "        vertical-align: middle;\n",
       "    }\n",
       "\n",
       "    .dataframe tbody tr th {\n",
       "        vertical-align: top;\n",
       "    }\n",
       "\n",
       "    .dataframe thead th {\n",
       "        text-align: right;\n",
       "    }\n",
       "</style>\n",
       "<table border=\"1\" class=\"dataframe\">\n",
       "  <thead>\n",
       "    <tr style=\"text-align: right;\">\n",
       "      <th></th>\n",
       "      <th>ID</th>\n",
       "      <th>vehicle_type</th>\n",
       "      <th>start_date</th>\n",
       "      <th>start_hour</th>\n",
       "      <th>start_day_of_week</th>\n",
       "      <th>trip_duration_min</th>\n",
       "      <th>trip_length_km</th>\n",
       "      <th>starting_grid_id</th>\n",
       "      <th>ending_grid_id</th>\n",
       "      <th>startx</th>\n",
       "      <th>starty</th>\n",
       "      <th>endx</th>\n",
       "      <th>endy</th>\n",
       "    </tr>\n",
       "  </thead>\n",
       "  <tbody>\n",
       "    <tr>\n",
       "      <th>0</th>\n",
       "      <td>21814</td>\n",
       "      <td>scooter</td>\n",
       "      <td>2019/07/15</td>\n",
       "      <td>0</td>\n",
       "      <td>1 Monday</td>\n",
       "      <td>10.600000</td>\n",
       "      <td>0.648</td>\n",
       "      <td>DD-109</td>\n",
       "      <td>DG-109</td>\n",
       "      <td>-114.094432</td>\n",
       "      <td>51.038086</td>\n",
       "      <td>-114.087536</td>\n",
       "      <td>51.037255</td>\n",
       "    </tr>\n",
       "    <tr>\n",
       "      <th>1</th>\n",
       "      <td>21815</td>\n",
       "      <td>scooter</td>\n",
       "      <td>2019/07/15</td>\n",
       "      <td>0</td>\n",
       "      <td>1 Monday</td>\n",
       "      <td>8.866667</td>\n",
       "      <td>1.722</td>\n",
       "      <td>DD-111</td>\n",
       "      <td>DL-110</td>\n",
       "      <td>-114.094425</td>\n",
       "      <td>51.034740</td>\n",
       "      <td>-114.076043</td>\n",
       "      <td>51.036427</td>\n",
       "    </tr>\n",
       "    <tr>\n",
       "      <th>2</th>\n",
       "      <td>21816</td>\n",
       "      <td>scooter</td>\n",
       "      <td>2019/07/15</td>\n",
       "      <td>0</td>\n",
       "      <td>1 Monday</td>\n",
       "      <td>6.300000</td>\n",
       "      <td>1.318</td>\n",
       "      <td>DE-110</td>\n",
       "      <td>DL-110</td>\n",
       "      <td>-114.092129</td>\n",
       "      <td>51.035578</td>\n",
       "      <td>-114.076043</td>\n",
       "      <td>51.036427</td>\n",
       "    </tr>\n",
       "    <tr>\n",
       "      <th>3</th>\n",
       "      <td>21817</td>\n",
       "      <td>scooter</td>\n",
       "      <td>2019/07/15</td>\n",
       "      <td>0</td>\n",
       "      <td>1 Monday</td>\n",
       "      <td>4.883333</td>\n",
       "      <td>0.580</td>\n",
       "      <td>DE-97</td>\n",
       "      <td>DF-99</td>\n",
       "      <td>-114.092172</td>\n",
       "      <td>51.057330</td>\n",
       "      <td>-114.089868</td>\n",
       "      <td>51.054822</td>\n",
       "    </tr>\n",
       "    <tr>\n",
       "      <th>4</th>\n",
       "      <td>21818</td>\n",
       "      <td>scooter</td>\n",
       "      <td>2019/07/15</td>\n",
       "      <td>0</td>\n",
       "      <td>1 Monday</td>\n",
       "      <td>24.816667</td>\n",
       "      <td>2.994</td>\n",
       "      <td>DF-106</td>\n",
       "      <td>DN-112</td>\n",
       "      <td>-114.089845</td>\n",
       "      <td>51.043110</td>\n",
       "      <td>-114.071442</td>\n",
       "      <td>51.033083</td>\n",
       "    </tr>\n",
       "    <tr>\n",
       "      <th>...</th>\n",
       "      <td>...</td>\n",
       "      <td>...</td>\n",
       "      <td>...</td>\n",
       "      <td>...</td>\n",
       "      <td>...</td>\n",
       "      <td>...</td>\n",
       "      <td>...</td>\n",
       "      <td>...</td>\n",
       "      <td>...</td>\n",
       "      <td>...</td>\n",
       "      <td>...</td>\n",
       "      <td>...</td>\n",
       "      <td>...</td>\n",
       "    </tr>\n",
       "    <tr>\n",
       "      <th>459473</th>\n",
       "      <td>481320</td>\n",
       "      <td>scooter</td>\n",
       "      <td>2019/09/27</td>\n",
       "      <td>23</td>\n",
       "      <td>5 Friday</td>\n",
       "      <td>36.766667</td>\n",
       "      <td>2.227</td>\n",
       "      <td>ED-107</td>\n",
       "      <td>DS-108</td>\n",
       "      <td>-114.034679</td>\n",
       "      <td>51.041466</td>\n",
       "      <td>-114.059959</td>\n",
       "      <td>51.038946</td>\n",
       "    </tr>\n",
       "    <tr>\n",
       "      <th>459474</th>\n",
       "      <td>481321</td>\n",
       "      <td>scooter</td>\n",
       "      <td>2019/09/27</td>\n",
       "      <td>23</td>\n",
       "      <td>5 Friday</td>\n",
       "      <td>28.250000</td>\n",
       "      <td>2.938</td>\n",
       "      <td>ED-107</td>\n",
       "      <td>DS-108</td>\n",
       "      <td>-114.034679</td>\n",
       "      <td>51.041466</td>\n",
       "      <td>-114.059959</td>\n",
       "      <td>51.038946</td>\n",
       "    </tr>\n",
       "    <tr>\n",
       "      <th>459475</th>\n",
       "      <td>481322</td>\n",
       "      <td>scooter</td>\n",
       "      <td>2019/09/27</td>\n",
       "      <td>23</td>\n",
       "      <td>5 Friday</td>\n",
       "      <td>26.116667</td>\n",
       "      <td>2.217</td>\n",
       "      <td>EE-106</td>\n",
       "      <td>DS-108</td>\n",
       "      <td>-114.032381</td>\n",
       "      <td>51.042303</td>\n",
       "      <td>-114.059959</td>\n",
       "      <td>51.038946</td>\n",
       "    </tr>\n",
       "    <tr>\n",
       "      <th>459476</th>\n",
       "      <td>481323</td>\n",
       "      <td>scooter</td>\n",
       "      <td>2019/09/27</td>\n",
       "      <td>23</td>\n",
       "      <td>5 Friday</td>\n",
       "      <td>6.666667</td>\n",
       "      <td>0.947</td>\n",
       "      <td>EE-107</td>\n",
       "      <td>EC-106</td>\n",
       "      <td>-114.032380</td>\n",
       "      <td>51.040630</td>\n",
       "      <td>-114.036978</td>\n",
       "      <td>51.042302</td>\n",
       "    </tr>\n",
       "    <tr>\n",
       "      <th>459477</th>\n",
       "      <td>481324</td>\n",
       "      <td>scooter</td>\n",
       "      <td>2019/09/27</td>\n",
       "      <td>23</td>\n",
       "      <td>5 Friday</td>\n",
       "      <td>6.400000</td>\n",
       "      <td>0.281</td>\n",
       "      <td>EE-107</td>\n",
       "      <td>EC-106</td>\n",
       "      <td>-114.032380</td>\n",
       "      <td>51.040630</td>\n",
       "      <td>-114.036978</td>\n",
       "      <td>51.042302</td>\n",
       "    </tr>\n",
       "  </tbody>\n",
       "</table>\n",
       "<p>459478 rows × 13 columns</p>\n",
       "</div>"
      ],
      "text/plain": [
       "            ID vehicle_type  start_date  start_hour start_day_of_week  \\\n",
       "0        21814      scooter  2019/07/15           0          1 Monday   \n",
       "1        21815      scooter  2019/07/15           0          1 Monday   \n",
       "2        21816      scooter  2019/07/15           0          1 Monday   \n",
       "3        21817      scooter  2019/07/15           0          1 Monday   \n",
       "4        21818      scooter  2019/07/15           0          1 Monday   \n",
       "...        ...          ...         ...         ...               ...   \n",
       "459473  481320      scooter  2019/09/27          23          5 Friday   \n",
       "459474  481321      scooter  2019/09/27          23          5 Friday   \n",
       "459475  481322      scooter  2019/09/27          23          5 Friday   \n",
       "459476  481323      scooter  2019/09/27          23          5 Friday   \n",
       "459477  481324      scooter  2019/09/27          23          5 Friday   \n",
       "\n",
       "        trip_duration_min  trip_length_km starting_grid_id ending_grid_id  \\\n",
       "0               10.600000           0.648           DD-109         DG-109   \n",
       "1                8.866667           1.722           DD-111         DL-110   \n",
       "2                6.300000           1.318           DE-110         DL-110   \n",
       "3                4.883333           0.580            DE-97          DF-99   \n",
       "4               24.816667           2.994           DF-106         DN-112   \n",
       "...                   ...             ...              ...            ...   \n",
       "459473          36.766667           2.227           ED-107         DS-108   \n",
       "459474          28.250000           2.938           ED-107         DS-108   \n",
       "459475          26.116667           2.217           EE-106         DS-108   \n",
       "459476           6.666667           0.947           EE-107         EC-106   \n",
       "459477           6.400000           0.281           EE-107         EC-106   \n",
       "\n",
       "            startx     starty        endx       endy  \n",
       "0      -114.094432  51.038086 -114.087536  51.037255  \n",
       "1      -114.094425  51.034740 -114.076043  51.036427  \n",
       "2      -114.092129  51.035578 -114.076043  51.036427  \n",
       "3      -114.092172  51.057330 -114.089868  51.054822  \n",
       "4      -114.089845  51.043110 -114.071442  51.033083  \n",
       "...            ...        ...         ...        ...  \n",
       "459473 -114.034679  51.041466 -114.059959  51.038946  \n",
       "459474 -114.034679  51.041466 -114.059959  51.038946  \n",
       "459475 -114.032381  51.042303 -114.059959  51.038946  \n",
       "459476 -114.032380  51.040630 -114.036978  51.042302  \n",
       "459477 -114.032380  51.040630 -114.036978  51.042302  \n",
       "\n",
       "[459478 rows x 13 columns]"
      ]
     },
     "execution_count": 89,
     "metadata": {},
     "output_type": "execute_result"
    }
   ],
   "source": [
    "general"
   ]
  },
  {
   "cell_type": "code",
   "execution_count": 90,
   "metadata": {},
   "outputs": [],
   "source": [
    "\n",
    "\n",
    "from sklearn.preprocessing import MinMaxScaler\n",
    "from sklearn.model_selection import train_test_split\n",
    "\n",
    "sc = MinMaxScaler(feature_range=(0,1))\n",
    "X_data_n = sc.fit_transform(X_data)\n",
    "Y_data_n = sc.fit_transform(Y_data)\n",
    "\n",
    "x_train, x_test, y_train, y_test = train_test_split(X_data_n, Y_data_n, test_size=0.4, shuffle=False)"
   ]
  },
  {
   "cell_type": "code",
   "execution_count": 91,
   "metadata": {},
   "outputs": [
    {
     "name": "stdout",
     "output_type": "stream",
     "text": [
      "Model: \"model_26\"\n",
      "__________________________________________________________________________________________________\n",
      "Layer (type)                    Output Shape         Param #     Connected to                     \n",
      "==================================================================================================\n",
      "input_17 (InputLayer)           [(None, 4)]          0                                            \n",
      "__________________________________________________________________________________________________\n",
      "input_18 (InputLayer)           [(None, 60)]         0                                            \n",
      "__________________________________________________________________________________________________\n",
      "dense_48 (Dense)                (None, 15)           75          input_17[0][0]                   \n",
      "__________________________________________________________________________________________________\n",
      "dense_50 (Dense)                (None, 62)           3782        input_18[0][0]                   \n",
      "__________________________________________________________________________________________________\n",
      "dense_49 (Dense)                (None, 30)           480         dense_48[0][0]                   \n",
      "__________________________________________________________________________________________________\n",
      "dense_51 (Dense)                (None, 70)           4410        dense_50[0][0]                   \n",
      "__________________________________________________________________________________________________\n",
      "concatenate_8 (Concatenate)     (None, 100)          0           dense_49[0][0]                   \n",
      "                                                                 dense_51[0][0]                   \n",
      "__________________________________________________________________________________________________\n",
      "dense_52 (Dense)                (None, 55)           5555        concatenate_8[0][0]              \n",
      "__________________________________________________________________________________________________\n",
      "dense_53 (Dense)                (None, 2)            112         dense_52[0][0]                   \n",
      "==================================================================================================\n",
      "Total params: 14,414\n",
      "Trainable params: 14,414\n",
      "Non-trainable params: 0\n",
      "__________________________________________________________________________________________________\n"
     ]
    }
   ],
   "source": [
    "from tensorflow.keras import layers, Model\n",
    "from tensorflow.python.keras.layers.core import Dense, Activation, Dropout\n",
    "from tensorflow.python.keras.layers.recurrent import LSTM\n",
    "inputA = layers.Input(shape=(4))\n",
    "inputB = layers.Input(shape=(60))\n",
    "\n",
    "# x = Dense(50, activation=\"relu\")(inputA)\n",
    "x = Dense(15)(inputA)\n",
    "x = Dense(30, activation=\"relu\")(x)\n",
    "x = Model(inputs=inputA, outputs=x)\n",
    "y = Dense(62)(inputB)\n",
    "y = Dense(70, activation=\"relu\")(y)\n",
    "y = Model(inputs=inputB, outputs=y)\n",
    "\n",
    "combined = layers.concatenate([x.output, y.output])\n",
    "\n",
    "final = Dense(55, activation=\"softmax\")(combined)\n",
    "# b = Dense(2)(final)\n",
    "# combined = layers.concatenate([final, b])\n",
    "a = Dense(2)(final)\n",
    "\n",
    "model = Model(inputs=[x.input,y.input], outputs=a)\n",
    "model.summary()"
   ]
  },
  {
   "cell_type": "code",
   "execution_count": 92,
   "metadata": {},
   "outputs": [
    {
     "name": "stdout",
     "output_type": "stream",
     "text": [
      "Epoch 1/50\n",
      "275686/275686 [==============================] - 10s 35us/sample - loss: 0.0285\n",
      "Epoch 2/50\n",
      "275686/275686 [==============================] - 9s 31us/sample - loss: 0.0196\n",
      "Epoch 3/50\n",
      "275686/275686 [==============================] - 9s 31us/sample - loss: 0.0189\n",
      "Epoch 4/50\n",
      "275686/275686 [==============================] - 9s 32us/sample - loss: 0.0187\n",
      "Epoch 5/50\n",
      "275686/275686 [==============================] - 8s 30us/sample - loss: 0.0186\n",
      "Epoch 6/50\n",
      "275686/275686 [==============================] - 9s 31us/sample - loss: 0.0185\n",
      "Epoch 7/50\n",
      "275686/275686 [==============================] - 9s 33us/sample - loss: 0.0185\n",
      "Epoch 8/50\n",
      "275686/275686 [==============================] - 8s 30us/sample - loss: 0.01850s - loss: 0\n",
      "Epoch 9/50\n",
      "275686/275686 [==============================] - 9s 33us/sample - loss: 0.0185\n",
      "Epoch 10/50\n",
      "275686/275686 [==============================] - 9s 33us/sample - loss: 0.0184\n",
      "Epoch 11/50\n",
      "275686/275686 [==============================] - 8s 30us/sample - loss: 0.0184\n",
      "Epoch 12/50\n",
      "275686/275686 [==============================] - 8s 31us/sample - loss: 0.01840s - loss: 0\n",
      "Epoch 13/50\n",
      "275686/275686 [==============================] - 8s 30us/sample - loss: 0.0184\n",
      "Epoch 14/50\n",
      "275686/275686 [==============================] - 8s 29us/sample - loss: 0.01841s - loss: \n",
      "Epoch 15/50\n",
      "275686/275686 [==============================] - 9s 31us/sample - loss: 0.0183\n",
      "Epoch 16/50\n",
      "275686/275686 [==============================] - 8s 31us/sample - loss: 0.01831s - loss: 0. - ETA:\n",
      "Epoch 17/50\n",
      "275686/275686 [==============================] - 8s 29us/sample - loss: 0.0183\n",
      "Epoch 18/50\n",
      "275686/275686 [==============================] - 8s 30us/sample - loss: 0.0183\n",
      "Epoch 19/50\n",
      "275686/275686 [==============================] - 9s 33us/sample - loss: 0.0183\n",
      "Epoch 20/50\n",
      "275686/275686 [==============================] - 9s 31us/sample - loss: 0.0183\n",
      "Epoch 21/50\n",
      "275686/275686 [==============================] - 9s 31us/sample - loss: 0.0183\n",
      "Epoch 22/50\n",
      "275686/275686 [==============================] - 9s 31us/sample - loss: 0.0183\n",
      "Epoch 23/50\n",
      "275686/275686 [==============================] - 9s 32us/sample - loss: 0.0183\n",
      "Epoch 24/50\n",
      "275686/275686 [==============================] - 8s 30us/sample - loss: 0.0183\n",
      "Epoch 25/50\n",
      "275686/275686 [==============================] - 8s 29us/sample - loss: 0.01830s - loss: 0.018\n",
      "Epoch 26/50\n",
      "275686/275686 [==============================] - 9s 31us/sample - loss: 0.0183\n",
      "Epoch 27/50\n",
      "275686/275686 [==============================] - 9s 31us/sample - loss: 0.0183\n",
      "Epoch 28/50\n",
      "275686/275686 [==============================] - 9s 32us/sample - loss: 0.0183\n",
      "Epoch 29/50\n",
      "275686/275686 [==============================] - 9s 31us/sample - loss: 0.0183\n",
      "Epoch 30/50\n",
      "275686/275686 [==============================] - 8s 30us/sample - loss: 0.01830s - loss: 0.\n",
      "Epoch 31/50\n",
      "275686/275686 [==============================] - 8s 30us/sample - loss: 0.0183\n",
      "Epoch 32/50\n",
      "275686/275686 [==============================] - 9s 31us/sample - loss: 0.0183\n",
      "Epoch 33/50\n",
      "275686/275686 [==============================] - 8s 30us/sample - loss: 0.01820s - lo\n",
      "Epoch 34/50\n",
      "275686/275686 [==============================] - 8s 30us/sample - loss: 0.01821s - los\n",
      "Epoch 35/50\n",
      "275686/275686 [==============================] - 8s 30us/sample - loss: 0.01820s - loss:\n",
      "Epoch 36/50\n",
      "275686/275686 [==============================] - 9s 32us/sample - loss: 0.0183\n",
      "Epoch 37/50\n",
      "275686/275686 [==============================] - 9s 31us/sample - loss: 0.0182\n",
      "Epoch 38/50\n",
      "275686/275686 [==============================] - 9s 31us/sample - loss: 0.0182\n",
      "Epoch 39/50\n",
      "275686/275686 [==============================] - 9s 31us/sample - loss: 0.0182\n",
      "Epoch 40/50\n",
      "275686/275686 [==============================] - 9s 32us/sample - loss: 0.01820s\n",
      "Epoch 41/50\n",
      "275686/275686 [==============================] - 9s 32us/sample - loss: 0.0182\n",
      "Epoch 42/50\n",
      "275686/275686 [==============================] - 8s 30us/sample - loss: 0.0182\n",
      "Epoch 43/50\n",
      "275686/275686 [==============================] - 8s 31us/sample - loss: 0.0182\n",
      "Epoch 44/50\n",
      "275686/275686 [==============================] - 8s 31us/sample - loss: 0.01820s -\n",
      "Epoch 45/50\n",
      "275686/275686 [==============================] - 9s 32us/sample - loss: 0.0182\n",
      "Epoch 46/50\n",
      "275686/275686 [==============================] - 8s 30us/sample - loss: 0.0182\n",
      "Epoch 47/50\n",
      "275686/275686 [==============================] - ETA: 0s - loss: 0.018 - 8s 30us/sample - loss: 0.0182\n",
      "Epoch 48/50\n",
      "275686/275686 [==============================] - 8s 29us/sample - loss: 0.0182\n",
      "Epoch 49/50\n",
      "275686/275686 [==============================] - 8s 29us/sample - loss: 0.0182\n",
      "Epoch 50/50\n",
      "275686/275686 [==============================] - 8s 29us/sample - loss: 0.0182\n"
     ]
    }
   ],
   "source": [
    "from tensorflow.python.keras.callbacks import EarlyStopping\n",
    "\n",
    "model.compile(loss=\"mean_absolute_error\", optimizer=\"adam\")\n",
    "\n",
    "callback = EarlyStopping(monitor='loss', patience=5, mode=\"auto\")\n",
    "# history = model.fit([x_train[:,0:7],x_train[:,7:]], [y_train[:,0:2], y_train[:,2:4]], epochs=100, validation_data=([x_test[:,0:7],x_test[:,7:]], [y_test[:,0:2], y_test[:,2:4]]))\n",
    "\n",
    "history = model.fit([x_train[:,0:4],x_train[:,4:]], y_train, epochs=50)"
   ]
  },
  {
   "cell_type": "code",
   "execution_count": 93,
   "metadata": {},
   "outputs": [
    {
     "data": {
      "image/png": "[encoded data removed]",
      "text/plain": [
       "<Figure size 432x288 with 1 Axes>"
      ]
     },
     "metadata": {
      "needs_background": "light"
     },
     "output_type": "display_data"
    }
   ],
   "source": [
    "import matplotlib.pyplot as plt\n",
    "plt.plot(history.history['loss'], color='r')\n",
    "plt.show()"
   ]
  },
  {
   "cell_type": "code",
   "execution_count": 94,
   "metadata": {},
   "outputs": [
    {
     "name": "stdout",
     "output_type": "stream",
     "text": [
      "183792/183792 [==============================] - 3s 14us/sample - loss: 0.01820s - lo\n"
     ]
    },
    {
     "data": {
      "text/plain": [
       "0.018161775149120263"
      ]
     },
     "execution_count": 94,
     "metadata": {},
     "output_type": "execute_result"
    }
   ],
   "source": [
    "model.evaluate([x_test[:,0:4],x_test[:,4:]], y_test)"
   ]
  },
  {
   "cell_type": "code",
   "execution_count": 95,
   "metadata": {},
   "outputs": [
    {
     "data": {
      "text/plain": [
       "<matplotlib.collections.PathCollection at 0x1533d0ab4c8>"
      ]
     },
     "execution_count": 95,
     "metadata": {},
     "output_type": "execute_result"
    },
    {
     "data": {
      "image/png": "[encoded data removed]",
      "text/plain": [
       "<Figure size 432x288 with 1 Axes>"
      ]
     },
     "metadata": {
      "needs_background": "light"
     },
     "output_type": "display_data"
    }
   ],
   "source": [
    "import matplotlib.pyplot as plt\n",
    "import numpy as np\n",
    "sc.fit_transform(Y_data)\n",
    "result_Y = model.predict([x_test[:,0:4],x_test[:,4:]])\n",
    "\n",
    "result_Y_plot = sc.inverse_transform(result_Y)\n",
    "y_test_plot = sc.inverse_transform(y_test)\n",
    "\n",
    "plt.scatter((y_test_plot[:,0]),(y_test_plot[:,1]), color='b', s= 1)\n",
    "plt.scatter((result_Y_plot[:,0]), (result_Y_plot[:,1]), color='r', s= 1)\n",
    "\n"
   ]
  },
  {
   "cell_type": "code",
   "execution_count": 96,
   "metadata": {},
   "outputs": [
    {
     "data": {
      "text/plain": [
       "array([[-114.06774 ,   51.045017],\n",
       "       [-114.06774 ,   51.045017],\n",
       "       [-114.06785 ,   51.0433  ],\n",
       "       ...,\n",
       "       [-114.03555 ,   51.042583],\n",
       "       [-114.035576,   51.041527],\n",
       "       [-114.035576,   51.041527]], dtype=float32)"
      ]
     },
     "execution_count": 96,
     "metadata": {},
     "output_type": "execute_result"
    }
   ],
   "source": [
    "result_Y_plot"
   ]
  },
  {
   "cell_type": "code",
   "execution_count": 97,
   "metadata": {},
   "outputs": [],
   "source": [
    "def haversine(coord1: object, coord2: object):\n",
    "    import math\n",
    "\n",
    "    # Coordinates in decimal degrees (e.g. 2.89078, 12.79797)\n",
    "    lon1, lat1 = coord1\n",
    "    lon2, lat2 = coord2\n",
    "\n",
    "    R = 6371000  # radius of Earth in meters\n",
    "    phi_1 = math.radians(lat1)\n",
    "    phi_2 = math.radians(lat2)\n",
    "\n",
    "    delta_phi = math.radians(lat2 - lat1)\n",
    "    delta_lambda = math.radians(lon2 - lon1)\n",
    "\n",
    "    a = math.sin(delta_phi / 2.0) ** 2 + math.cos(phi_1) * math.cos(phi_2) * math.sin(delta_lambda / 2.0) ** 2\n",
    "    \n",
    "    c = 2 * math.atan2(math.sqrt(a), math.sqrt(1 - a))\n",
    "\n",
    "    meters = R * c  # output distance in meters\n",
    "    km = meters / 1000.0  # output distance in kilometers\n",
    "\n",
    "    meters = round(meters, 5)\n",
    "    km = round(km, 5)\n",
    "    return km"
   ]
  },
  {
   "cell_type": "code",
   "execution_count": 98,
   "metadata": {},
   "outputs": [
    {
     "data": {
      "text/plain": [
       "<matplotlib.collections.PathCollection at 0x15334fa44c8>"
      ]
     },
     "execution_count": 98,
     "metadata": {},
     "output_type": "execute_result"
    },
    {
     "data": {
      "image/png": "[encoded data removed]",
      "text/plain": [
       "<Figure size 432x288 with 1 Axes>"
      ]
     },
     "metadata": {
      "needs_background": "light"
     },
     "output_type": "display_data"
    }
   ],
   "source": [
    "mae_rate_hour = []\n",
    "\n",
    "sc.fit_transform(X_data)\n",
    "x_test_hour = sc.inverse_transform(x_test)\n",
    "\n",
    "sc.fit_transform(Y_data)\n",
    "result_Y_hour = sc.inverse_transform(result_Y)\n",
    "y_test_hour = sc.inverse_transform(y_test)\n",
    "for index in range(24):\n",
    "    mask = np.logical_and(x_test_hour[:,3] > (index)-0.2, x_test_hour[:,3] < (index+1)-0.2)\n",
    "    result_Y_d = result_Y_hour[mask]\n",
    "    Y_test_in = y_test_hour[mask]\n",
    "    error = 0\n",
    "    for i in range(len(Y_test_in)):\n",
    "        error = error + haversine(result_Y_d[i,0:2],Y_test_in[i,0:2])\n",
    "    end = error/len(Y_test_in)\n",
    "    error_average_distance = end\n",
    "\n",
    "    y_test[:,0] = y_test[:,0]\n",
    "    mae_rate_hour.append([float(error_average_distance), str(index)])\n",
    "\n",
    "mae_rate_hour = np.array(mae_rate_hour, dtype=np.object)\n",
    "plt.xlabel('hours')\n",
    "plt.ylabel('error_avg_distance(km)')\n",
    "plt.grid(color='black', linestyle='-', linewidth=0.3)\n",
    "plt.scatter(mae_rate_hour[:,1], mae_rate_hour[:,0], color='r', s= 1)\n"
   ]
  },
  {
   "cell_type": "code",
   "execution_count": 99,
   "metadata": {},
   "outputs": [
    {
     "data": {
      "text/plain": [
       "<matplotlib.collections.PathCollection at 0x15322516e88>"
      ]
     },
     "execution_count": 99,
     "metadata": {},
     "output_type": "execute_result"
    },
    {
     "data": {
      "image/png": "[encoded data removed]",
      "text/plain": [
       "<Figure size 432x288 with 1 Axes>"
      ]
     },
     "metadata": {
      "needs_background": "light"
     },
     "output_type": "display_data"
    }
   ],
   "source": [
    "mae_rate_day_of_week = []\n",
    "\n",
    "sc.fit_transform(X_data)\n",
    "x_test_day = sc.inverse_transform(x_test)\n",
    "\n",
    "sc.fit_transform(Y_data)\n",
    "result_Y_day = sc.inverse_transform(result_Y)\n",
    "y_test_day = sc.inverse_transform(y_test)\n",
    "for index in range(7):\n",
    "    mask = np.logical_and(x_test_day[:,4] > (index)-0.1, x_test_day[:,4] < (index+1)-0.1)\n",
    "    result_Y_d_day = result_Y_day[mask]\n",
    "    Y_test_in = y_test_day[mask]\n",
    "    error = 0\n",
    "    haverList = []\n",
    "    for i in (range(len(Y_test_in))):\n",
    "        error = error + haversine(result_Y_d_day[i,0:2],Y_test_in[i,0:2])\n",
    "    end = error/len(Y_test_in)\n",
    "    error_average_distance = end\n",
    "\n",
    "    y_test[:,0] = y_test[:,0]\n",
    "    mae_rate_day_of_week.append([error_average_distance, str(index+1)])\n",
    "\n",
    "mae_rate_day_of_week = np.array(mae_rate_day_of_week, dtype=np.object)\n",
    "plt.xlabel('days of week')\n",
    "plt.ylabel('error_avg_distance(km)')\n",
    "plt.grid(color='black', linestyle='-', linewidth=0.3)\n",
    "plt.scatter(mae_rate_day_of_week[:,1], mae_rate_day_of_week[:,0], color='r', s= 1)"
   ]
  },
  {
   "cell_type": "code",
   "execution_count": 87,
   "metadata": {},
   "outputs": [
    {
     "data": {
      "text/plain": [
       "0.7990139109428049"
      ]
     },
     "execution_count": 87,
     "metadata": {},
     "output_type": "execute_result"
    }
   ],
   "source": [
    "result_Y_all = sc.inverse_transform(result_Y)\n",
    "y_test_all = sc.inverse_transform(y_test)\n",
    "error_all = 0\n",
    "for i in (range(len(y_test_all))):\n",
    "    error_all = error_all + haversine(result_Y_all[i],y_test_all[i])\n",
    "    error_avg = error_all/len(y_test_all)\n",
    "error_avg"
   ]
  },
  {
   "cell_type": "code",
   "execution_count": null,
   "metadata": {},
   "outputs": [],
   "source": []
  }
 ],
 "metadata": {
  "kernelspec": {
   "display_name": "Python 3",
   "language": "python",
   "name": "python3"
  },
  "language_info": {
   "codemirror_mode": {
    "name": "ipython",
    "version": 3
   },
   "file_extension": ".py",
   "mimetype": "text/x-python",
   "name": "python",
   "nbconvert_exporter": "python",
   "pygments_lexer": "ipython3",
   "version": "3.7.9"
  }
 },
 "nbformat": 4,
 "nbformat_minor": 4
}
