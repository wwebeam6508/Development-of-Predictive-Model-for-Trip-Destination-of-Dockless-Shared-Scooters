{
 "cells": [
  {
   "cell_type": "code",
   "execution_count": 1,
   "metadata": {},
   "outputs": [
    {
     "name": "stderr",
     "output_type": "stream",
     "text": [
      "I:\\Users\\PC\\anaconda3\\envs\\my_env\\lib\\site-packages\\tensorflow\\python\\framework\\dtypes.py:516: FutureWarning: Passing (type, 1) or '1type' as a synonym of type is deprecated; in a future version of numpy, it will be understood as (type, (1,)) / '(1,)type'.\n",
      "  _np_qint8 = np.dtype([(\"qint8\", np.int8, 1)])\n",
      "I:\\Users\\PC\\anaconda3\\envs\\my_env\\lib\\site-packages\\tensorflow\\python\\framework\\dtypes.py:517: FutureWarning: Passing (type, 1) or '1type' as a synonym of type is deprecated; in a future version of numpy, it will be understood as (type, (1,)) / '(1,)type'.\n",
      "  _np_quint8 = np.dtype([(\"quint8\", np.uint8, 1)])\n",
      "I:\\Users\\PC\\anaconda3\\envs\\my_env\\lib\\site-packages\\tensorflow\\python\\framework\\dtypes.py:518: FutureWarning: Passing (type, 1) or '1type' as a synonym of type is deprecated; in a future version of numpy, it will be understood as (type, (1,)) / '(1,)type'.\n",
      "  _np_qint16 = np.dtype([(\"qint16\", np.int16, 1)])\n",
      "I:\\Users\\PC\\anaconda3\\envs\\my_env\\lib\\site-packages\\tensorflow\\python\\framework\\dtypes.py:519: FutureWarning: Passing (type, 1) or '1type' as a synonym of type is deprecated; in a future version of numpy, it will be understood as (type, (1,)) / '(1,)type'.\n",
      "  _np_quint16 = np.dtype([(\"quint16\", np.uint16, 1)])\n",
      "I:\\Users\\PC\\anaconda3\\envs\\my_env\\lib\\site-packages\\tensorflow\\python\\framework\\dtypes.py:520: FutureWarning: Passing (type, 1) or '1type' as a synonym of type is deprecated; in a future version of numpy, it will be understood as (type, (1,)) / '(1,)type'.\n",
      "  _np_qint32 = np.dtype([(\"qint32\", np.int32, 1)])\n",
      "I:\\Users\\PC\\anaconda3\\envs\\my_env\\lib\\site-packages\\tensorflow\\python\\framework\\dtypes.py:525: FutureWarning: Passing (type, 1) or '1type' as a synonym of type is deprecated; in a future version of numpy, it will be understood as (type, (1,)) / '(1,)type'.\n",
      "  np_resource = np.dtype([(\"resource\", np.ubyte, 1)])\n",
      "I:\\Users\\PC\\anaconda3\\envs\\my_env\\lib\\site-packages\\tensorboard\\compat\\tensorflow_stub\\dtypes.py:541: FutureWarning: Passing (type, 1) or '1type' as a synonym of type is deprecated; in a future version of numpy, it will be understood as (type, (1,)) / '(1,)type'.\n",
      "  _np_qint8 = np.dtype([(\"qint8\", np.int8, 1)])\n",
      "I:\\Users\\PC\\anaconda3\\envs\\my_env\\lib\\site-packages\\tensorboard\\compat\\tensorflow_stub\\dtypes.py:542: FutureWarning: Passing (type, 1) or '1type' as a synonym of type is deprecated; in a future version of numpy, it will be understood as (type, (1,)) / '(1,)type'.\n",
      "  _np_quint8 = np.dtype([(\"quint8\", np.uint8, 1)])\n",
      "I:\\Users\\PC\\anaconda3\\envs\\my_env\\lib\\site-packages\\tensorboard\\compat\\tensorflow_stub\\dtypes.py:543: FutureWarning: Passing (type, 1) or '1type' as a synonym of type is deprecated; in a future version of numpy, it will be understood as (type, (1,)) / '(1,)type'.\n",
      "  _np_qint16 = np.dtype([(\"qint16\", np.int16, 1)])\n",
      "I:\\Users\\PC\\anaconda3\\envs\\my_env\\lib\\site-packages\\tensorboard\\compat\\tensorflow_stub\\dtypes.py:544: FutureWarning: Passing (type, 1) or '1type' as a synonym of type is deprecated; in a future version of numpy, it will be understood as (type, (1,)) / '(1,)type'.\n",
      "  _np_quint16 = np.dtype([(\"quint16\", np.uint16, 1)])\n",
      "I:\\Users\\PC\\anaconda3\\envs\\my_env\\lib\\site-packages\\tensorboard\\compat\\tensorflow_stub\\dtypes.py:545: FutureWarning: Passing (type, 1) or '1type' as a synonym of type is deprecated; in a future version of numpy, it will be understood as (type, (1,)) / '(1,)type'.\n",
      "  _np_qint32 = np.dtype([(\"qint32\", np.int32, 1)])\n",
      "I:\\Users\\PC\\anaconda3\\envs\\my_env\\lib\\site-packages\\tensorboard\\compat\\tensorflow_stub\\dtypes.py:550: FutureWarning: Passing (type, 1) or '1type' as a synonym of type is deprecated; in a future version of numpy, it will be understood as (type, (1,)) / '(1,)type'.\n",
      "  np_resource = np.dtype([(\"resource\", np.ubyte, 1)])\n"
     ]
    }
   ],
   "source": [
    "import tensorflow as tf\n",
    "tf.enable_eager_execution()\n",
    "\n",
    "import pandas as pd\n",
    "\n",
    "coor_data = pd.read_csv('Data/coordata.csv')\n",
    "date_data = pd.read_csv('Data/datedata.csv')\n",
    "meta_data = pd.read_csv('Data/metadata.csv')"
   ]
  },
  {
   "cell_type": "code",
   "execution_count": 54,
   "metadata": {},
   "outputs": [],
   "source": [
    "data_set = coor_data.join(date_data.join(meta_data))\n",
    "\n",
    "Y_data = data_set[['endx', 'endy']].to_numpy()\n",
    "X_data = data_set.drop(columns=['endx', 'endy','end_grid_x', 'end_grid_y','start_grid_x', 'start_grid_y','start_date', 'class','end_cluster_group']).to_numpy()"
   ]
  },
  {
   "cell_type": "code",
   "execution_count": 55,
   "metadata": {},
   "outputs": [],
   "source": [
    "\n",
    "\n",
    "from sklearn.preprocessing import MinMaxScaler\n",
    "from sklearn.model_selection import train_test_split\n",
    "\n",
    "sc = MinMaxScaler(feature_range=(0,1))\n",
    "X_data_n = sc.fit_transform(X_data)\n",
    "Y_data_n = sc.fit_transform(Y_data)\n",
    "\n",
    "x_train, x_test, y_train, y_test = train_test_split(X_data_n, Y_data_n, test_size=0.3, shuffle=False)"
   ]
  },
  {
   "cell_type": "code",
   "execution_count": 39,
   "metadata": {},
   "outputs": [
    {
     "name": "stdout",
     "output_type": "stream",
     "text": [
      "Model: \"model_14\"\n",
      "__________________________________________________________________________________________________\n",
      "Layer (type)                    Output Shape         Param #     Connected to                     \n",
      "==================================================================================================\n",
      "input_11 (InputLayer)           [(None, 4)]          0                                            \n",
      "__________________________________________________________________________________________________\n",
      "input_12 (InputLayer)           [(None, 58)]         0                                            \n",
      "__________________________________________________________________________________________________\n",
      "dense_13 (Dense)                (None, 50)           250         input_11[0][0]                   \n",
      "__________________________________________________________________________________________________\n",
      "dense_14 (Dense)                (None, 50)           2950        input_12[0][0]                   \n",
      "__________________________________________________________________________________________________\n",
      "concatenate_4 (Concatenate)     (None, 100)          0           dense_13[0][0]                   \n",
      "                                                                 dense_14[0][0]                   \n",
      "__________________________________________________________________________________________________\n",
      "dense_15 (Dense)                (None, 2)            202         concatenate_4[0][0]              \n",
      "==================================================================================================\n",
      "Total params: 3,402\n",
      "Trainable params: 3,402\n",
      "Non-trainable params: 0\n",
      "__________________________________________________________________________________________________\n"
     ]
    }
   ],
   "source": [
    "from tensorflow.keras import layers, Model\n",
    "from tensorflow.python.keras.layers.core import Dense, Activation, Dropout\n",
    "from tensorflow.python.keras.layers.recurrent import LSTM\n",
    "inputA = layers.Input(shape=(4))\n",
    "inputB = layers.Input(shape=(58))\n",
    "\n",
    "# x = Dense(50, activation=\"relu\")(inputA)\n",
    "x = Dense(50, activation=\"relu\")(inputA)\n",
    "x = Model(inputs=inputA, outputs=x)\n",
    "y = Dense(50, activation=\"relu\")(inputB)\n",
    "y = Model(inputs=inputB, outputs=y)\n",
    "\n",
    "combined = layers.concatenate([x.output, y.output])\n",
    "\n",
    "z = Dense(2)(combined)\n",
    "\n",
    "model = Model(inputs=[x.input,y.input], outputs=z)\n",
    "model.summary()"
   ]
  },
  {
   "cell_type": "code",
   "execution_count": 40,
   "metadata": {},
   "outputs": [
    {
     "name": "stdout",
     "output_type": "stream",
     "text": [
      "Train on 321634 samples, validate on 137844 samples\n",
      "Epoch 1/100\n",
      "321634/321634 [==============================] - 12s 37us/sample - loss: 0.0214 - error_avg_km: 2.3772 - acc: 0.7452 - val_loss: 0.0201 - val_error_avg_km: 2.2265 - val_acc: 0.7301\n",
      "Epoch 2/100\n",
      "321634/321634 [==============================] - 12s 37us/sample - loss: 0.0192 - error_avg_km: 2.1352 - acc: 0.7576 - val_loss: 0.0193 - val_error_avg_km: 2.1392 - val_acc: 0.7316\n",
      "Epoch 3/100\n",
      "321634/321634 [==============================] - 11s 35us/sample - loss: 0.0191 - error_avg_km: 2.1167 - acc: 0.7590 - val_loss: 0.0194 - val_error_avg_km: 2.1515 - val_acc: 0.7294\n",
      "Epoch 4/100\n",
      "321634/321634 [==============================] - 12s 36us/sample - loss: 0.0190 - error_avg_km: 2.1054 - acc: 0.7595 - val_loss: 0.0195 - val_error_avg_km: 2.1651 - val_acc: 0.7257\n",
      "Epoch 5/100\n",
      "321634/321634 [==============================] - 12s 37us/sample - loss: 0.0189 - error_avg_km: 2.1030 - acc: 0.7599 - val_loss: 0.0195 - val_error_avg_km: 2.1658 - val_acc: 0.7562\n",
      "Epoch 6/100\n",
      "321634/321634 [==============================] - 13s 40us/sample - loss: 0.0189 - error_avg_km: 2.0947 - acc: 0.7613 - val_loss: 0.0184 - val_error_avg_km: 2.0410 - val_acc: 0.7549\n",
      "Epoch 7/100\n",
      "321634/321634 [==============================] - 12s 36us/sample - loss: 0.0188 - error_avg_km: 2.0875 - acc: 0.7613 - val_loss: 0.0186 - val_error_avg_km: 2.0596 - val_acc: 0.7536\n",
      "Epoch 8/100\n",
      "321634/321634 [==============================] - 12s 37us/sample - loss: 0.0188 - error_avg_km: 2.0853 - acc: 0.7616 - val_loss: 0.0185 - val_error_avg_km: 2.0563 - val_acc: 0.7487\n",
      "Epoch 9/100\n",
      "321634/321634 [==============================] - 11s 35us/sample - loss: 0.0188 - error_avg_km: 2.0833 - acc: 0.7619 - val_loss: 0.0186 - val_error_avg_km: 2.0692 - val_acc: 0.7566\n",
      "Epoch 10/100\n",
      "321634/321634 [==============================] - 11s 36us/sample - loss: 0.0187 - error_avg_km: 2.0785 - acc: 0.7617 - val_loss: 0.0185 - val_error_avg_km: 2.0575 - val_acc: 0.7498\n",
      "Epoch 11/100\n",
      "321634/321634 [==============================] - 12s 39us/sample - loss: 0.0187 - error_avg_km: 2.0769 - acc: 0.7631 - val_loss: 0.0186 - val_error_avg_km: 2.0674 - val_acc: 0.7408\n",
      "Epoch 12/100\n",
      "321634/321634 [==============================] - 12s 37us/sample - loss: 0.0187 - error_avg_km: 2.0745 - acc: 0.7630 - val_loss: 0.0187 - val_error_avg_km: 2.0713 - val_acc: 0.7438\n",
      "Epoch 13/100\n",
      "321634/321634 [==============================] - 12s 38us/sample - loss: 0.0187 - error_avg_km: 2.0714 - acc: 0.7632 - val_loss: 0.0184 - val_error_avg_km: 2.0403 - val_acc: 0.7563\n",
      "Epoch 14/100\n",
      "321634/321634 [==============================] - 11s 35us/sample - loss: 0.0186 - error_avg_km: 2.0701 - acc: 0.7636 - val_loss: 0.0190 - val_error_avg_km: 2.1091 - val_acc: 0.7388\n",
      "Epoch 15/100\n",
      "321634/321634 [==============================] - 12s 38us/sample - loss: 0.0187 - error_avg_km: 2.0703 - acc: 0.7637 - val_loss: 0.0186 - val_error_avg_km: 2.0621 - val_acc: 0.7524\n",
      "Epoch 16/100\n",
      "321634/321634 [==============================] - 12s 38us/sample - loss: 0.0186 - error_avg_km: 2.0677 - acc: 0.7639 - val_loss: 0.0189 - val_error_avg_km: 2.0966 - val_acc: 0.7530\n",
      "Epoch 17/100\n",
      "321634/321634 [==============================] - 12s 37us/sample - loss: 0.0186 - error_avg_km: 2.0668 - acc: 0.7635 - val_loss: 0.0183 - val_error_avg_km: 2.0356 - val_acc: 0.7510\n",
      "Epoch 18/100\n",
      "321634/321634 [==============================] - 12s 36us/sample - loss: 0.0186 - error_avg_km: 2.0657 - acc: 0.7637 - val_loss: 0.0187 - val_error_avg_km: 2.0787 - val_acc: 0.7503\n",
      "Epoch 19/100\n",
      "321634/321634 [==============================] - 12s 36us/sample - loss: 0.0186 - error_avg_km: 2.0644 - acc: 0.7637 - val_loss: 0.0188 - val_error_avg_km: 2.0822 - val_acc: 0.7526\n",
      "Epoch 20/100\n",
      "321634/321634 [==============================] - 14s 45us/sample - loss: 0.0186 - error_avg_km: 2.0643 - acc: 0.7639 - val_loss: 0.0185 - val_error_avg_km: 2.0481 - val_acc: 0.7520\n",
      "Epoch 21/100\n",
      "321634/321634 [==============================] - 18s 55us/sample - loss: 0.0186 - error_avg_km: 2.0623 - acc: 0.7632 - val_loss: 0.0186 - val_error_avg_km: 2.0675 - val_acc: 0.7577\n",
      "Epoch 22/100\n",
      "321634/321634 [==============================] - 20s 61us/sample - loss: 0.0186 - error_avg_km: 2.0610 - acc: 0.7642 - val_loss: 0.0185 - val_error_avg_km: 2.0525 - val_acc: 0.7531\n",
      "Epoch 23/100\n",
      "321634/321634 [==============================] - 20s 63us/sample - loss: 0.0186 - error_avg_km: 2.0618 - acc: 0.7639 - val_loss: 0.0182 - val_error_avg_km: 2.0242 - val_acc: 0.7559\n",
      "Epoch 24/100\n",
      "321634/321634 [==============================] - 19s 58us/sample - loss: 0.0185 - error_avg_km: 2.0587 - acc: 0.7642 - val_loss: 0.0183 - val_error_avg_km: 2.0259 - val_acc: 0.7535\n",
      "Epoch 25/100\n",
      "321634/321634 [==============================] - 25s 78us/sample - loss: 0.0186 - error_avg_km: 2.0605 - acc: 0.7635 - val_loss: 0.0184 - val_error_avg_km: 2.0401 - val_acc: 0.7495\n",
      "Epoch 26/100\n",
      "321634/321634 [==============================] - 20s 61us/sample - loss: 0.0185 - error_avg_km: 2.0572 - acc: 0.7645 - val_loss: 0.0184 - val_error_avg_km: 2.0390 - val_acc: 0.7544\n",
      "Epoch 27/100\n",
      "321634/321634 [==============================] - 20s 61us/sample - loss: 0.0185 - error_avg_km: 2.0568 - acc: 0.7646 - val_loss: 0.0182 - val_error_avg_km: 2.0179 - val_acc: 0.7555\n",
      "Epoch 28/100\n",
      "321634/321634 [==============================] - 28s 88us/sample - loss: 0.0185 - error_avg_km: 2.0559 - acc: 0.7642 - val_loss: 0.0183 - val_error_avg_km: 2.0258 - val_acc: 0.7567\n",
      "Epoch 29/100\n",
      "321634/321634 [==============================] - 29s 90us/sample - loss: 0.0185 - error_avg_km: 2.0545 - acc: 0.7645 - val_loss: 0.0182 - val_error_avg_km: 2.0202 - val_acc: 0.7567\n",
      "Epoch 30/100\n",
      "321634/321634 [==============================] - 28s 88us/sample - loss: 0.0185 - error_avg_km: 2.0556 - acc: 0.7649 - val_loss: 0.0183 - val_error_avg_km: 2.0340 - val_acc: 0.7564\n",
      "Epoch 31/100\n",
      "321634/321634 [==============================] - 25s 77us/sample - loss: 0.0185 - error_avg_km: 2.0547 - acc: 0.7651 - val_loss: 0.0181 - val_error_avg_km: 2.0134 - val_acc: 0.7573\n",
      "Epoch 32/100\n",
      "321634/321634 [==============================] - 20s 62us/sample - loss: 0.0185 - error_avg_km: 2.0543 - acc: 0.7642 - val_loss: 0.0182 - val_error_avg_km: 2.0233 - val_acc: 0.7566\n",
      "Epoch 33/100\n",
      "321634/321634 [==============================] - 19s 59us/sample - loss: 0.0185 - error_avg_km: 2.0541 - acc: 0.7643 - val_loss: 0.0183 - val_error_avg_km: 2.0281 - val_acc: 0.7549\n",
      "Epoch 34/100\n",
      "321634/321634 [==============================] - 21s 66us/sample - loss: 0.0185 - error_avg_km: 2.0538 - acc: 0.7638 - val_loss: 0.0182 - val_error_avg_km: 2.0202 - val_acc: 0.7565\n",
      "Epoch 35/100\n",
      "321634/321634 [==============================] - 22s 68us/sample - loss: 0.0185 - error_avg_km: 2.0536 - acc: 0.7649 - val_loss: 0.0182 - val_error_avg_km: 2.0162 - val_acc: 0.7554\n",
      "Epoch 36/100\n",
      "321634/321634 [==============================] - 23s 72us/sample - loss: 0.0185 - error_avg_km: 2.0534 - acc: 0.7646 - val_loss: 0.0188 - val_error_avg_km: 2.0838 - val_acc: 0.7358\n",
      "Epoch 37/100\n",
      "321634/321634 [==============================] - 25s 78us/sample - loss: 0.0185 - error_avg_km: 2.0534 - acc: 0.7645 - val_loss: 0.0191 - val_error_avg_km: 2.1179 - val_acc: 0.7558\n",
      "Epoch 38/100\n",
      "321634/321634 [==============================] - 28s 87us/sample - loss: 0.0185 - error_avg_km: 2.0525 - acc: 0.7642 - val_loss: 0.0186 - val_error_avg_km: 2.0630 - val_acc: 0.7497\n",
      "Epoch 39/100\n",
      "321634/321634 [==============================] - 28s 88us/sample - loss: 0.0185 - error_avg_km: 2.0508 - acc: 0.7640 - val_loss: 0.0184 - val_error_avg_km: 2.0433 - val_acc: 0.7511\n",
      "Epoch 40/100\n",
      "321634/321634 [==============================] - 27s 83us/sample - loss: 0.0185 - error_avg_km: 2.0515 - acc: 0.7645 - val_loss: 0.0183 - val_error_avg_km: 2.0278 - val_acc: 0.7544\n",
      "Epoch 41/100\n",
      "321634/321634 [==============================] - 21s 66us/sample - loss: 0.0185 - error_avg_km: 2.0519 - acc: 0.7652 - val_loss: 0.0187 - val_error_avg_km: 2.0760 - val_acc: 0.7558\n",
      "Epoch 42/100\n",
      "321634/321634 [==============================] - 22s 67us/sample - loss: 0.0185 - error_avg_km: 2.0509 - acc: 0.7650 - val_loss: 0.0183 - val_error_avg_km: 2.0272 - val_acc: 0.7549\n"
     ]
    },
    {
     "data": {
      "text/plain": [
       "<tensorflow.python.keras.callbacks.History at 0x28a034822c8>"
      ]
     },
     "execution_count": 40,
     "metadata": {},
     "output_type": "execute_result"
    }
   ],
   "source": [
    "\n",
    "from tensorflow.python.keras.callbacks import EarlyStopping\n",
    "\n",
    "def error_avg_km(y_true, y_pred):\n",
    "    absolute = abs(y_true - y_pred)\n",
    "    return tf.reduce_mean(absolute*111, axis=-1)\n",
    "model.compile(loss=\"mean_absolute_error\", optimizer=\"adam\", metrics=[error_avg_km,'acc'])\n",
    "\n",
    "callback = EarlyStopping(monitor='error_avg_km', patience=3, mode=\"auto\")\n",
    "model.fit([x_train[:,0:4],x_train[:,4:]], y_train, epochs=100, validation_data=([x_test[:,0:4],x_test[:,4:]], y_test), callbacks=[callback])"
   ]
  },
  {
   "cell_type": "code",
   "execution_count": 43,
   "metadata": {},
   "outputs": [
    {
     "data": {
      "text/plain": [
       "<matplotlib.collections.PathCollection at 0x28a093cda88>"
      ]
     },
     "execution_count": 43,
     "metadata": {},
     "output_type": "execute_result"
    },
    {
     "data": {
      "image/png": "[encoded data removed]",
      "text/plain": [
       "<Figure size 432x288 with 1 Axes>"
      ]
     },
     "metadata": {
      "needs_background": "light"
     },
     "output_type": "display_data"
    }
   ],
   "source": [
    "import matplotlib.pyplot as plt\n",
    "import numpy as np\n",
    "sc.fit_transform(Y_data)\n",
    "result_Y = model.predict([x_test[:,0:4],x_test[:,4:]])\n",
    "\n",
    "\n",
    "result_Y_plot = sc.inverse_transform(result_Y)\n",
    "y_test_plot = sc.inverse_transform(y_test)\n",
    "plt.scatter((y_test_plot[:,0]),(y_test_plot[:,1]), color='b', s= 1)\n",
    "plt.scatter((result_Y_plot[:,0]), (result_Y_plot[:,1]), color='r', s= 1)\n",
    "\n"
   ]
  },
  {
   "cell_type": "code",
   "execution_count": 44,
   "metadata": {},
   "outputs": [
    {
     "data": {
      "text/plain": [
       "<matplotlib.collections.PathCollection at 0x28a093bd888>"
      ]
     },
     "execution_count": 44,
     "metadata": {},
     "output_type": "execute_result"
    },
    {
     "data": {
      "image/png": "[encoded data removed]",
      "text/plain": [
       "<Figure size 432x288 with 1 Axes>"
      ]
     },
     "metadata": {
      "needs_background": "light"
     },
     "output_type": "display_data"
    }
   ],
   "source": [
    "mae_rate_hour = []\n",
    "\n",
    "sc.fit_transform(X_data)\n",
    "for index in range(24):\n",
    "    mask = np.logical_and(sc.inverse_transform(x_test)[:,2] > (index)-0.1, sc.inverse_transform(x_test)[:,2] < (index+1)-0.5)\n",
    "    result_Y_hour = result_Y[mask]\n",
    "    Y_test_in = y_test[mask]\n",
    "    error = abs(result_Y_hour - Y_test_in)\n",
    "    endx = sum(error[:,0])/len(error)\n",
    "    endy = sum(error[:,1])/len(error)\n",
    "    error_average_distance = (endx+endy)/2\n",
    "\n",
    "    y_test[:,0] = y_test[:,0]\n",
    "    mae_rate_hour.append([float(round(error_average_distance,4)), str(index)])\n",
    "\n",
    "mae_rate_hour = np.array(mae_rate_hour, dtype=np.object)\n",
    "plt.xlabel('hours')\n",
    "plt.ylabel('mean_absulote_error')\n",
    "plt.grid(color='black', linestyle='-', linewidth=0.3)\n",
    "plt.scatter(mae_rate_hour[:,1], mae_rate_hour[:,0], color='r', s= 1)\n"
   ]
  },
  {
   "cell_type": "code",
   "execution_count": 45,
   "metadata": {},
   "outputs": [
    {
     "data": {
      "text/plain": [
       "<matplotlib.collections.PathCollection at 0x28a02e10c48>"
      ]
     },
     "execution_count": 45,
     "metadata": {},
     "output_type": "execute_result"
    },
    {
     "data": {
      "image/png": "[encoded data removed]",
      "text/plain": [
       "<Figure size 432x288 with 1 Axes>"
      ]
     },
     "metadata": {
      "needs_background": "light"
     },
     "output_type": "display_data"
    }
   ],
   "source": [
    "mae_rate_day_of_week = []\n",
    "\n",
    "sc.fit_transform(X_data)\n",
    "for index in range(7):\n",
    "    mask = np.logical_and(sc.inverse_transform(x_test)[:,3] > (index)-0.1, sc.inverse_transform(x_test)[:,3] < (index+1)-0.5)\n",
    "    result_Y_day_of_week = result_Y[mask]\n",
    "    Y_test_in = y_test\n",
    "    error = abs(result_Y_day_of_week - Y_test_in[mask])\n",
    "    endx = sum(error[:,0])/len(error)\n",
    "    endy = sum(error[:,1])/len(error)\n",
    "    error_average_distance = (endx+endy)/2\n",
    "\n",
    "    y_test[:,0] = y_test[:,0]\n",
    "    mae_rate_day_of_week.append([float(round(error_average_distance,4)), str(index+1)])\n",
    "\n",
    "mae_rate_day_of_week = np.array(mae_rate_day_of_week, dtype=np.object)\n",
    "plt.xlabel('days of week')\n",
    "plt.ylabel('mean_absulote_error')\n",
    "plt.grid(color='black', linestyle='-', linewidth=0.3)\n",
    "plt.scatter(mae_rate_day_of_week[:,1], mae_rate_day_of_week[:,0], color='r', s= 1)"
   ]
  },
  {
   "cell_type": "code",
   "execution_count": null,
   "metadata": {},
   "outputs": [],
   "source": []
  },
  {
   "cell_type": "code",
   "execution_count": null,
   "metadata": {},
   "outputs": [],
   "source": []
  }
 ],
 "metadata": {
  "kernelspec": {
   "display_name": "Python 3",
   "language": "python",
   "name": "python3"
  },
  "language_info": {
   "codemirror_mode": {
    "name": "ipython",
    "version": 3
   },
   "file_extension": ".py",
   "mimetype": "text/x-python",
   "name": "python",
   "nbconvert_exporter": "python",
   "pygments_lexer": "ipython3",
   "version": "3.7.9"
  }
 },
 "nbformat": 4,
 "nbformat_minor": 4
}
