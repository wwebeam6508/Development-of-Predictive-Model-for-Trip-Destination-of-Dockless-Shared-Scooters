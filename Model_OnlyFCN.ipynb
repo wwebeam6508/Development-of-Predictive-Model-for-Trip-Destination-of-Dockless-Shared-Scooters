{
 "cells": [
  {
   "cell_type": "code",
   "execution_count": 1,
   "metadata": {},
   "outputs": [],
   "source": [
    "\n",
    "import numpy as np\n",
    "import pandas as pd\n",
    "\n",
    "coor_data = pd.read_csv('Data/coordata.csv')\n",
    "date_data = pd.read_csv('Data/datedata.csv')\n",
    "meta_data = pd.read_csv('Data/metadata.csv')\n",
    "bus_stop_data = pd.read_csv('Data/bus_stop.csv')\n",
    "cluster_group_data = pd.read_csv('Data/cluster_group.csv')\n",
    "\n",
    "general = pd.read_csv('Data/ScooterData_July15_Sept27_2019.csv')\n",
    "\n",
    "data_set = coor_data.join(cluster_group_data.join(bus_stop_data.join(date_data.join(meta_data))))\n",
    "\n",
    "from scipy import stats\n",
    "# set_test = general[['trip_duration_min','trip_length_km']]\n",
    "# data_set = data_set[(np.abs(stats.zscore(set_test)) < 3).all(axis=1)]\n",
    "# general = general[(np.abs(stats.zscore(set_test)) < 3).all(axis=1)]\n",
    "\n",
    "\n",
    "\n",
    "\n",
    "general_np = general.to_numpy()\n",
    "\n",
    "# # filter\n",
    "# data_set = data_set[np.logical_not(general_np[:, 6] > 10)]\n",
    "# general_np = general_np[np.logical_not(general_np[:,6] > 10)]\n",
    "# data_set = data_set[np.logical_not(general_np[:,6] < 0.01)]\n",
    "# general_np = general_np[np.logical_not(general_np[:,6] < 0.01)]\n",
    "# data_set = data_set[np.logical_not(general_np[:,5] > 120)]\n",
    "# general_np = general_np[np.logical_not(general_np[:,5] > 120)]\n",
    "# data_set = data_set[np.logical_not(general_np[:,5] < 1)]\n",
    "# general_np = general_np[np.logical_not(general_np[:,5] < 1)]\n",
    "\n",
    "# data_set = data_set[np.logical_not(np.logical_and(general_np[:, 6] < 0.11, general_np[:, 5] > 20))]\n",
    "# general_np = general_np[np.logical_not(np.logical_and(general_np[:, 6] < 0.11, general_np[:, 5] > 20))]\n",
    "\n",
    "Y_data = data_set[['endx', 'endy']].to_numpy()\n",
    "X_data = data_set.drop(columns=['endx', 'endy','end_cluster_group','start_cluster_group','start_date', 'end_near_stop']).to_numpy()"
   ]
  },
  {
   "cell_type": "code",
   "execution_count": 2,
   "metadata": {},
   "outputs": [
    {
     "name": "stderr",
     "output_type": "stream",
     "text": [
      "| |                #                             | 459477 Elapsed Time: 0:06:06\n"
     ]
    }
   ],
   "source": [
    "import pandas as pd\n",
    "import geopandas as gpd\n",
    "import numpy as np\n",
    "import progressbar\n",
    "import cv2 as cv\n",
    "\n",
    "census_by_community = gpd.read_file('Data/census_by_community1.shp')\n",
    "grid_data = gpd.read_file('Data/ScooterGridId.shp')\n",
    "data = pd.read_csv('Data/ScooterData_July15_Sept27_2019.csv')\n",
    "\n",
    "centeroid_scale_grid = np.array([[x.centroid.x, x.centroid.y] for x in grid_data.geometry])\n",
    "centeroid_scale_grid[:,0] = centeroid_scale_grid[:,0] + 180\n",
    "lng_ltd = int(round(max(centeroid_scale_grid[:,0]) - min(centeroid_scale_grid[:,0]), 4) * 100)\n",
    "lat_ltd = int(round(max(centeroid_scale_grid[:,1]) - min(centeroid_scale_grid[:,1]), 4) * 100)\n",
    "\n",
    "\n",
    "map_mat = np.zeros((lat_ltd,lng_ltd, 150))\n",
    "\n",
    "max_lng = max(centeroid_scale_grid[:,0])\n",
    "max_lat = max(centeroid_scale_grid[:,1])\n",
    "\n",
    "shape = map_mat.shape\n",
    "\n",
    "for pos in centeroid_scale_grid:\n",
    "    for c in range(150):\n",
    "        pos_lng = abs(int(  ((max_lng - pos[0]))*100  )) - 1\n",
    "        pos_lat = abs(int(  ((max_lat - pos[1]))*100  )) - 1\n",
    "        map_mat[pos_lat, pos_lng, c] = 100\n",
    "\n",
    "\n",
    "map_end = []\n",
    "for index, row in progressbar.progressbar(data_set.iterrows()):\n",
    "    for c in range(150):\n",
    "        if c == row['end_cluster_group']:\n",
    "            pos_lng = abs(int(  ((max_lng - (row['endx'] + 180) ))*100  )) - 1\n",
    "            pos_lat = abs(int(  ((max_lat - (row['endy']) ))*100  )) - 1\n",
    "            map_mat[ pos_lat, pos_lng, c] += 255\n",
    "            map_end.append(map_mat[:,:, c])\n",
    "            map_end[index] = np.fliplr(map_end[index])\n",
    "#             map_end[index] = cv.GaussianBlur(map_end[index],(5,5),0)\n",
    "\n",
    "            \n",
    "map_end = np.asarray(map_end)"
   ]
  },
  {
   "cell_type": "code",
   "execution_count": 3,
   "metadata": {},
   "outputs": [],
   "source": [
    "\n",
    "map_end = map_end.reshape(len(map_end),map_end.shape[1],map_end.shape[2],1)"
   ]
  },
  {
   "cell_type": "code",
   "execution_count": 4,
   "metadata": {},
   "outputs": [
    {
     "data": {
      "text/plain": [
       "<matplotlib.image.AxesImage at 0x7fb66fb73190>"
      ]
     },
     "execution_count": 4,
     "metadata": {},
     "output_type": "execute_result"
    },
    {
     "data": {
      "image/png": "[encoded data removed]",
      "text/plain": [
       "<Figure size 432x288 with 1 Axes>"
      ]
     },
     "metadata": {
      "needs_background": "light"
     },
     "output_type": "display_data"
    }
   ],
   "source": [
    "import matplotlib.pyplot as plt\n",
    "\n",
    "plt.imshow(map_end[1111])"
   ]
  },
  {
   "cell_type": "code",
   "execution_count": 5,
   "metadata": {},
   "outputs": [],
   "source": [
    "\n",
    "\n",
    "# # max_lng = max(data_set['endx'])\n",
    "# # max_lat = max(data_set['endy'])\n",
    "\n",
    "# map_end = []\n",
    "# for index, row in progressbar.progressbar(data_set.iterrows()):\n",
    "#     pos_lng = abs(int(  ((max_lng - (row['endx'] + 180) ))*100  )) - 1\n",
    "#     pos_lat = abs(int(  ((max_lat - (row['endy']) ))*100  )) - 1\n",
    "#     map_end.append(map_mat.copy())\n",
    "#     map_end[index][pos_lat, pos_lng] = 255\n",
    "#     map_end[index] = np.fliplr(map_end[index])\n",
    "    \n",
    "# map_end = np.asarray(map_end)    "
   ]
  },
  {
   "cell_type": "code",
   "execution_count": 6,
   "metadata": {},
   "outputs": [
    {
     "data": {
      "text/plain": [
       "(32, 46, 150)"
      ]
     },
     "execution_count": 6,
     "metadata": {},
     "output_type": "execute_result"
    }
   ],
   "source": [
    "shape\n",
    "    "
   ]
  },
  {
   "cell_type": "code",
   "execution_count": 7,
   "metadata": {},
   "outputs": [
    {
     "data": {
      "text/plain": [
       "<matplotlib.image.AxesImage at 0x7fb66fd22910>"
      ]
     },
     "execution_count": 7,
     "metadata": {},
     "output_type": "execute_result"
    },
    {
     "data": {
      "image/png": "[encoded data removed]",
      "text/plain": [
       "<Figure size 432x288 with 1 Axes>"
      ]
     },
     "metadata": {
      "needs_background": "light"
     },
     "output_type": "display_data"
    }
   ],
   "source": [
    "import matplotlib.pyplot as plt\n",
    "\n",
    "plt.imshow(map_end[67764])"
   ]
  },
  {
   "cell_type": "code",
   "execution_count": 8,
   "metadata": {},
   "outputs": [],
   "source": [
    "\n",
    "\n",
    "from sklearn.preprocessing import MinMaxScaler\n",
    "from sklearn.model_selection import train_test_split\n",
    "\n",
    "scx = MinMaxScaler(feature_range=(0,1))\n",
    "scy = MinMaxScaler(feature_range=(0,1))\n",
    "X_data_n = scx.fit_transform(X_data)\n",
    "Y_data_n = scy.fit_transform(Y_data)\n",
    "\n",
    "scmap_end = MinMaxScaler(feature_range=(0,1))\n",
    "map_end_ascolumns = map_end.reshape(len(map_end), -1)\n",
    "map_end_n = scmap_end.fit_transform(map_end_ascolumns)\n",
    "# map_end_n = tmap_end.reshape(map_end.shape)\n",
    "\n",
    "x_train, x_test, y_train, y_test = train_test_split(X_data_n, Y_data_n, test_size=0.4, shuffle=False)\n",
    "map_end_train = map_end_n[0:len(x_train)]\n",
    "map_end_test = map_end_n[len(x_train):]"
   ]
  },
  {
   "cell_type": "code",
   "execution_count": 37,
   "metadata": {},
   "outputs": [
    {
     "ename": "ValueError",
     "evalue": "Input 0 of layer lstm is incompatible with the layer: expected ndim=3, found ndim=2. Full shape received: [None, 15]",
     "output_type": "error",
     "traceback": [
      "\u001b[0;31m---------------------------------------------------------------------------\u001b[0m",
      "\u001b[0;31mValueError\u001b[0m                                Traceback (most recent call last)",
      "\u001b[0;32m<ipython-input-37-3672f7177bec>\u001b[0m in \u001b[0;36m<module>\u001b[0;34m\u001b[0m\n\u001b[1;32m      9\u001b[0m \u001b[0;34m\u001b[0m\u001b[0m\n\u001b[1;32m     10\u001b[0m \u001b[0mx\u001b[0m \u001b[0;34m=\u001b[0m \u001b[0mDense\u001b[0m\u001b[0;34m(\u001b[0m\u001b[0;36m15\u001b[0m\u001b[0;34m)\u001b[0m\u001b[0;34m(\u001b[0m\u001b[0minputA\u001b[0m\u001b[0;34m)\u001b[0m\u001b[0;34m\u001b[0m\u001b[0;34m\u001b[0m\u001b[0m\n\u001b[0;32m---> 11\u001b[0;31m \u001b[0mx\u001b[0m \u001b[0;34m=\u001b[0m \u001b[0mLSTM\u001b[0m\u001b[0;34m(\u001b[0m\u001b[0;36m30\u001b[0m\u001b[0;34m,\u001b[0m \u001b[0mactivation\u001b[0m\u001b[0;34m=\u001b[0m\u001b[0;34m\"relu\"\u001b[0m\u001b[0;34m)\u001b[0m\u001b[0;34m(\u001b[0m\u001b[0mx\u001b[0m\u001b[0;34m)\u001b[0m\u001b[0;34m\u001b[0m\u001b[0;34m\u001b[0m\u001b[0m\n\u001b[0m\u001b[1;32m     12\u001b[0m \u001b[0mx\u001b[0m \u001b[0;34m=\u001b[0m \u001b[0mModel\u001b[0m\u001b[0;34m(\u001b[0m\u001b[0minputs\u001b[0m\u001b[0;34m=\u001b[0m\u001b[0minputA\u001b[0m\u001b[0;34m,\u001b[0m \u001b[0moutputs\u001b[0m\u001b[0;34m=\u001b[0m\u001b[0mx\u001b[0m\u001b[0;34m)\u001b[0m\u001b[0;34m\u001b[0m\u001b[0;34m\u001b[0m\u001b[0m\n\u001b[1;32m     13\u001b[0m \u001b[0my\u001b[0m \u001b[0;34m=\u001b[0m \u001b[0mDense\u001b[0m\u001b[0;34m(\u001b[0m\u001b[0;36m62\u001b[0m\u001b[0;34m)\u001b[0m\u001b[0;34m(\u001b[0m\u001b[0minputB\u001b[0m\u001b[0;34m)\u001b[0m\u001b[0;34m\u001b[0m\u001b[0;34m\u001b[0m\u001b[0m\n",
      "\u001b[0;32m~/anaconda3/envs/geo_env/lib/python3.7/site-packages/tensorflow/python/keras/layers/recurrent.py\u001b[0m in \u001b[0;36m__call__\u001b[0;34m(self, inputs, initial_state, constants, **kwargs)\u001b[0m\n\u001b[1;32m    617\u001b[0m \u001b[0;34m\u001b[0m\u001b[0m\n\u001b[1;32m    618\u001b[0m     \u001b[0;32mif\u001b[0m \u001b[0minitial_state\u001b[0m \u001b[0;32mis\u001b[0m \u001b[0;32mNone\u001b[0m \u001b[0;32mand\u001b[0m \u001b[0mconstants\u001b[0m \u001b[0;32mis\u001b[0m \u001b[0;32mNone\u001b[0m\u001b[0;34m:\u001b[0m\u001b[0;34m\u001b[0m\u001b[0;34m\u001b[0m\u001b[0m\n\u001b[0;32m--> 619\u001b[0;31m       \u001b[0;32mreturn\u001b[0m \u001b[0msuper\u001b[0m\u001b[0;34m(\u001b[0m\u001b[0mRNN\u001b[0m\u001b[0;34m,\u001b[0m \u001b[0mself\u001b[0m\u001b[0;34m)\u001b[0m\u001b[0;34m.\u001b[0m\u001b[0m__call__\u001b[0m\u001b[0;34m(\u001b[0m\u001b[0minputs\u001b[0m\u001b[0;34m,\u001b[0m \u001b[0;34m**\u001b[0m\u001b[0mkwargs\u001b[0m\u001b[0;34m)\u001b[0m\u001b[0;34m\u001b[0m\u001b[0;34m\u001b[0m\u001b[0m\n\u001b[0m\u001b[1;32m    620\u001b[0m \u001b[0;34m\u001b[0m\u001b[0m\n\u001b[1;32m    621\u001b[0m     \u001b[0;31m# If any of `initial_state` or `constants` are specified and are Keras\u001b[0m\u001b[0;34m\u001b[0m\u001b[0;34m\u001b[0m\u001b[0;34m\u001b[0m\u001b[0m\n",
      "\u001b[0;32m~/anaconda3/envs/geo_env/lib/python3.7/site-packages/tensorflow/python/keras/engine/base_layer.py\u001b[0m in \u001b[0;36m__call__\u001b[0;34m(self, inputs, *args, **kwargs)\u001b[0m\n\u001b[1;32m    584\u001b[0m         \u001b[0;31m# the corresponding TF subgraph inside `backend.get_graph()`\u001b[0m\u001b[0;34m\u001b[0m\u001b[0;34m\u001b[0m\u001b[0;34m\u001b[0m\u001b[0m\n\u001b[1;32m    585\u001b[0m         input_spec.assert_input_compatibility(self.input_spec, inputs,\n\u001b[0;32m--> 586\u001b[0;31m                                               self.name)\n\u001b[0m\u001b[1;32m    587\u001b[0m         \u001b[0mgraph\u001b[0m \u001b[0;34m=\u001b[0m \u001b[0mbackend\u001b[0m\u001b[0;34m.\u001b[0m\u001b[0mget_graph\u001b[0m\u001b[0;34m(\u001b[0m\u001b[0;34m)\u001b[0m\u001b[0;34m\u001b[0m\u001b[0;34m\u001b[0m\u001b[0m\n\u001b[1;32m    588\u001b[0m         \u001b[0;32mwith\u001b[0m \u001b[0mgraph\u001b[0m\u001b[0;34m.\u001b[0m\u001b[0mas_default\u001b[0m\u001b[0;34m(\u001b[0m\u001b[0;34m)\u001b[0m\u001b[0;34m,\u001b[0m \u001b[0mbackend\u001b[0m\u001b[0;34m.\u001b[0m\u001b[0mname_scope\u001b[0m\u001b[0;34m(\u001b[0m\u001b[0mself\u001b[0m\u001b[0;34m.\u001b[0m\u001b[0m_name_scope\u001b[0m\u001b[0;34m(\u001b[0m\u001b[0;34m)\u001b[0m\u001b[0;34m)\u001b[0m\u001b[0;34m:\u001b[0m\u001b[0;34m\u001b[0m\u001b[0;34m\u001b[0m\u001b[0m\n",
      "\u001b[0;32m~/anaconda3/envs/geo_env/lib/python3.7/site-packages/tensorflow/python/keras/engine/input_spec.py\u001b[0m in \u001b[0;36massert_input_compatibility\u001b[0;34m(input_spec, inputs, layer_name)\u001b[0m\n\u001b[1;32m    121\u001b[0m                          \u001b[0;34m'expected ndim='\u001b[0m \u001b[0;34m+\u001b[0m \u001b[0mstr\u001b[0m\u001b[0;34m(\u001b[0m\u001b[0mspec\u001b[0m\u001b[0;34m.\u001b[0m\u001b[0mndim\u001b[0m\u001b[0;34m)\u001b[0m \u001b[0;34m+\u001b[0m \u001b[0;34m', found ndim='\u001b[0m \u001b[0;34m+\u001b[0m\u001b[0;34m\u001b[0m\u001b[0;34m\u001b[0m\u001b[0m\n\u001b[1;32m    122\u001b[0m                          \u001b[0mstr\u001b[0m\u001b[0;34m(\u001b[0m\u001b[0mndim\u001b[0m\u001b[0;34m)\u001b[0m \u001b[0;34m+\u001b[0m \u001b[0;34m'. Full shape received: '\u001b[0m \u001b[0;34m+\u001b[0m\u001b[0;34m\u001b[0m\u001b[0;34m\u001b[0m\u001b[0m\n\u001b[0;32m--> 123\u001b[0;31m                          str(x.shape.as_list()))\n\u001b[0m\u001b[1;32m    124\u001b[0m     \u001b[0;32mif\u001b[0m \u001b[0mspec\u001b[0m\u001b[0;34m.\u001b[0m\u001b[0mmax_ndim\u001b[0m \u001b[0;32mis\u001b[0m \u001b[0;32mnot\u001b[0m \u001b[0;32mNone\u001b[0m\u001b[0;34m:\u001b[0m\u001b[0;34m\u001b[0m\u001b[0;34m\u001b[0m\u001b[0m\n\u001b[1;32m    125\u001b[0m       \u001b[0mndim\u001b[0m \u001b[0;34m=\u001b[0m \u001b[0mx\u001b[0m\u001b[0;34m.\u001b[0m\u001b[0mshape\u001b[0m\u001b[0;34m.\u001b[0m\u001b[0mndims\u001b[0m\u001b[0;34m\u001b[0m\u001b[0;34m\u001b[0m\u001b[0m\n",
      "\u001b[0;31mValueError\u001b[0m: Input 0 of layer lstm is incompatible with the layer: expected ndim=3, found ndim=2. Full shape received: [None, 15]"
     ]
    }
   ],
   "source": [
    "import tensorflow as tf\n",
    "\n",
    "from tensorflow.keras import layers, Model\n",
    "from tensorflow.keras.layers import Conv2D, MaxPooling2D, Flatten\n",
    "from tensorflow.python.keras.layers.core import Dense, Activation, Dropout\n",
    "from tensorflow.python.keras.layers.recurrent import LSTM\n",
    "inputA = layers.Input(shape=(4))\n",
    "inputB = layers.Input(shape=(60))\n",
    "\n",
    "x = Dense(15)(inputA)\n",
    "x = Dense(30, activation=\"relu\")(x)\n",
    "x = Model(inputs=inputA, outputs=x)\n",
    "y = Dense(62)(inputB)\n",
    "y = Dense(70, activation=\"relu\")(y)\n",
    "y = Model(inputs=inputB, outputs=y)\n",
    "\n",
    "combined = layers.concatenate([x.output, y.output])\n",
    "\n",
    "final = Dense(55)(combined)\n",
    "\n",
    "\n",
    "\n",
    "# inputMap = layers.Input(shape=(shape[0],shape[1],1))\n",
    "# mapx = Conv2D(filters=32, kernel_size=(4,4), input_shape=(shape[0],shape[1]), activation='relu',)(inputMap)\n",
    "# mapx = Flatten()(mapx)\n",
    "# mapx = Model(inputs=inputMap, outputs=mapx)\n",
    "\n",
    "\n",
    "image = Dense(map_end_n.shape[1])(final)\n",
    "\n",
    "# inputMap = tf.keras.layers.Reshape((map_end.shape[1], map_end.shape[2], 1))(image_n)\n",
    "# mapx = Conv2D(filters=32, kernel_size=(4,4), input_shape=(shape[0],shape[1]), activation='relu')(inputMap)\n",
    "# mapx = Flatten()(mapx)\n",
    "\n",
    "# image = Dense(map_end_n.shape[1], activation='relu')(mapx)\n",
    "\n",
    "# xx = Dense(15)(inputA)\n",
    "# xx = Dense(64, activation=\"relu\")(xx)\n",
    "# xx = Model(inputs=inputA, outputs=xx)\n",
    "\n",
    "# yy = Dense(62)(inputB)\n",
    "# yy = Dense(64, activation=\"relu\")(yy)\n",
    "# yy = Model(inputs=inputB, outputs=yy)\n",
    "\n",
    "\n",
    "# combined_twoa = layers.concatenate([xx.output, yy.output])\n",
    "\n",
    "\n",
    "# xi = Dense(29)(image)\n",
    "# xi = Dense(30, activation=\"relu\")(xi)\n",
    "# combined_twob = layers.concatenate([combined_twoa, image])\n",
    "# combinedb = layers.concatenate([combined, image])\n",
    "# final_two = Dense(55, activation=\"softmax\")(combined)\n",
    "a = Dense(2)(final)\n",
    "# rea = layers.concatenate([final, mapx.output])\n",
    "# a = Dense(2)(rea)\n",
    "\n",
    "model = Model(inputs=[x.input,y.input], outputs=[a,image])\n",
    "model.summary()"
   ]
  },
  {
   "cell_type": "code",
   "execution_count": 33,
   "metadata": {},
   "outputs": [
    {
     "name": "stdout",
     "output_type": "stream",
     "text": [
      "Epoch 1/50\n",
      "275686/275686 [==============================] - 18s 64us/sample - loss: 0.0242 - dense_18_loss: 0.0210 - dense_17_loss: 0.0033\n",
      "Epoch 2/50\n",
      "275686/275686 [==============================] - 14s 51us/sample - loss: 0.0225 - dense_18_loss: 0.0195 - dense_17_loss: 0.0030\n",
      "Epoch 3/50\n",
      "275686/275686 [==============================] - 13s 48us/sample - loss: 0.0222 - dense_18_loss: 0.0193 - dense_17_loss: 0.0029\n",
      "Epoch 4/50\n",
      "275686/275686 [==============================] - 13s 48us/sample - loss: 0.0220 - dense_18_loss: 0.0191 - dense_17_loss: 0.0029\n",
      "Epoch 5/50\n",
      "275686/275686 [==============================] - 14s 50us/sample - loss: 0.0219 - dense_18_loss: 0.0190 - dense_17_loss: 0.0029\n",
      "Epoch 6/50\n",
      "275686/275686 [==============================] - 13s 49us/sample - loss: 0.0217 - dense_18_loss: 0.0189 - dense_17_loss: 0.0028\n",
      "Epoch 7/50\n",
      "275686/275686 [==============================] - 13s 49us/sample - loss: 0.0217 - dense_18_loss: 0.0189 - dense_17_loss: 0.0028\n",
      "Epoch 8/50\n",
      "275686/275686 [==============================] - 13s 49us/sample - loss: 0.0216 - dense_18_loss: 0.0188 - dense_17_loss: 0.0028\n",
      "Epoch 9/50\n",
      "275686/275686 [==============================] - 14s 49us/sample - loss: 0.0215 - dense_18_loss: 0.0188 - dense_17_loss: 0.0028\n",
      "Epoch 10/50\n",
      "275686/275686 [==============================] - 14s 49us/sample - loss: 0.0215 - dense_18_loss: 0.0187 - dense_17_loss: 0.0028\n",
      "Epoch 11/50\n",
      "275686/275686 [==============================] - 13s 49us/sample - loss: 0.0214 - dense_18_loss: 0.0187 - dense_17_loss: 0.0027\n",
      "Epoch 12/50\n",
      "275686/275686 [==============================] - 13s 49us/sample - loss: 0.0214 - dense_18_loss: 0.0187 - dense_17_loss: 0.0027\n",
      "Epoch 13/50\n",
      "275686/275686 [==============================] - 14s 49us/sample - loss: 0.0214 - dense_18_loss: 0.0187 - dense_17_loss: 0.0027\n",
      "Epoch 14/50\n",
      "275686/275686 [==============================] - 14s 50us/sample - loss: 0.0214 - dense_18_loss: 0.0186 - dense_17_loss: 0.0027\n",
      "Epoch 15/50\n",
      "275686/275686 [==============================] - 14s 52us/sample - loss: 0.0214 - dense_18_loss: 0.0186 - dense_17_loss: 0.0027\n",
      "Epoch 16/50\n",
      "275686/275686 [==============================] - 14s 51us/sample - loss: 0.0213 - dense_18_loss: 0.0186 - dense_17_loss: 0.0027\n",
      "Epoch 17/50\n",
      "275686/275686 [==============================] - 14s 51us/sample - loss: 0.0213 - dense_18_loss: 0.0186 - dense_17_loss: 0.0027\n",
      "Epoch 18/50\n",
      "275686/275686 [==============================] - 14s 50us/sample - loss: 0.0213 - dense_18_loss: 0.0186 - dense_17_loss: 0.0027\n",
      "Epoch 19/50\n",
      "275686/275686 [==============================] - 14s 51us/sample - loss: 0.0212 - dense_18_loss: 0.0185 - dense_17_loss: 0.0027\n",
      "Epoch 20/50\n",
      "275686/275686 [==============================] - 14s 50us/sample - loss: 0.0212 - dense_18_loss: 0.0186 - dense_17_loss: 0.0027\n",
      "Epoch 21/50\n",
      "275686/275686 [==============================] - 14s 51us/sample - loss: 0.0212 - dense_18_loss: 0.0185 - dense_17_loss: 0.0027\n",
      "Epoch 22/50\n",
      "275686/275686 [==============================] - 14s 51us/sample - loss: 0.0212 - dense_18_loss: 0.0185 - dense_17_loss: 0.0027\n",
      "Epoch 23/50\n",
      "275686/275686 [==============================] - 14s 51us/sample - loss: 0.0212 - dense_18_loss: 0.0185 - dense_17_loss: 0.0027\n",
      "Epoch 24/50\n",
      "275686/275686 [==============================] - 14s 51us/sample - loss: 0.0212 - dense_18_loss: 0.0185 - dense_17_loss: 0.0027\n",
      "Epoch 25/50\n",
      "275686/275686 [==============================] - 14s 51us/sample - loss: 0.0212 - dense_18_loss: 0.0185 - dense_17_loss: 0.0027\n",
      "Epoch 26/50\n",
      "275686/275686 [==============================] - 14s 51us/sample - loss: 0.0212 - dense_18_loss: 0.0185 - dense_17_loss: 0.0027\n",
      "Epoch 27/50\n",
      "275686/275686 [==============================] - 14s 51us/sample - loss: 0.0212 - dense_18_loss: 0.0185 - dense_17_loss: 0.0027\n",
      "Epoch 28/50\n",
      "275686/275686 [==============================] - 14s 51us/sample - loss: 0.0212 - dense_18_loss: 0.0185 - dense_17_loss: 0.0027\n",
      "Epoch 29/50\n",
      "275686/275686 [==============================] - 14s 51us/sample - loss: 0.0212 - dense_18_loss: 0.0185 - dense_17_loss: 0.0027\n",
      "Epoch 30/50\n",
      "275686/275686 [==============================] - 14s 52us/sample - loss: 0.0211 - dense_18_loss: 0.0185 - dense_17_loss: 0.0027\n",
      "Epoch 31/50\n",
      "275686/275686 [==============================] - 14s 52us/sample - loss: 0.0211 - dense_18_loss: 0.0185 - dense_17_loss: 0.0027\n",
      "Epoch 32/50\n",
      "275686/275686 [==============================] - 14s 51us/sample - loss: 0.0211 - dense_18_loss: 0.0185 - dense_17_loss: 0.0026\n",
      "Epoch 33/50\n",
      "275686/275686 [==============================] - 14s 51us/sample - loss: 0.0211 - dense_18_loss: 0.0184 - dense_17_loss: 0.0026\n",
      "Epoch 34/50\n",
      "275686/275686 [==============================] - 14s 51us/sample - loss: 0.0211 - dense_18_loss: 0.0184 - dense_17_loss: 0.0026\n",
      "Epoch 35/50\n",
      "275686/275686 [==============================] - 14s 52us/sample - loss: 0.0211 - dense_18_loss: 0.0184 - dense_17_loss: 0.0026\n",
      "Epoch 36/50\n",
      "275686/275686 [==============================] - 14s 51us/sample - loss: 0.0211 - dense_18_loss: 0.0184 - dense_17_loss: 0.0026\n",
      "Epoch 37/50\n",
      "275686/275686 [==============================] - 14s 51us/sample - loss: 0.0211 - dense_18_loss: 0.0184 - dense_17_loss: 0.0026\n",
      "Epoch 38/50\n",
      "275686/275686 [==============================] - 14s 53us/sample - loss: 0.0211 - dense_18_loss: 0.0184 - dense_17_loss: 0.0026\n",
      "Epoch 39/50\n",
      "275686/275686 [==============================] - 15s 53us/sample - loss: 0.0211 - dense_18_loss: 0.0184 - dense_17_loss: 0.0026\n",
      "Epoch 40/50\n",
      "275686/275686 [==============================] - 14s 52us/sample - loss: 0.0210 - dense_18_loss: 0.0184 - dense_17_loss: 0.0026\n",
      "Epoch 41/50\n",
      "275686/275686 [==============================] - 14s 51us/sample - loss: 0.0210 - dense_18_loss: 0.0184 - dense_17_loss: 0.0026\n",
      "Epoch 42/50\n",
      "275686/275686 [==============================] - 14s 51us/sample - loss: 0.0210 - dense_18_loss: 0.0184 - dense_17_loss: 0.0026\n",
      "Epoch 43/50\n",
      "275686/275686 [==============================] - 14s 51us/sample - loss: 0.0210 - dense_18_loss: 0.0184 - dense_17_loss: 0.0026\n",
      "Epoch 44/50\n",
      "275686/275686 [==============================] - 14s 52us/sample - loss: 0.0210 - dense_18_loss: 0.0184 - dense_17_loss: 0.0026\n",
      "Epoch 45/50\n",
      "275686/275686 [==============================] - 15s 53us/sample - loss: 0.0210 - dense_18_loss: 0.0184 - dense_17_loss: 0.0026\n",
      "Epoch 46/50\n",
      "275686/275686 [==============================] - 15s 53us/sample - loss: 0.0210 - dense_18_loss: 0.0184 - dense_17_loss: 0.0026\n",
      "Epoch 47/50\n",
      "275686/275686 [==============================] - 14s 51us/sample - loss: 0.0210 - dense_18_loss: 0.0184 - dense_17_loss: 0.0026\n",
      "Epoch 48/50\n",
      "275686/275686 [==============================] - 14s 51us/sample - loss: 0.0210 - dense_18_loss: 0.0184 - dense_17_loss: 0.0026\n",
      "Epoch 49/50\n",
      "275686/275686 [==============================] - 14s 51us/sample - loss: 0.0210 - dense_18_loss: 0.0184 - dense_17_loss: 0.0026\n",
      "Epoch 50/50\n",
      "275686/275686 [==============================] - 15s 53us/sample - loss: 0.0210 - dense_18_loss: 0.0184 - dense_17_loss: 0.0026\n"
     ]
    }
   ],
   "source": [
    "from tensorflow.python.keras.callbacks import EarlyStopping\n",
    "\n",
    "model.compile(loss=\"mean_absolute_error\", optimizer=\"adam\")\n",
    "\n",
    "callback = EarlyStopping(monitor='loss', patience=5, mode=\"auto\")\n",
    "# history = model.fit([x_train[:,0:7],x_train[:,7:]], [y_train[:,0:2], y_train[:,2:4]], epochs=100, validation_data=([x_test[:,0:7],x_test[:,7:]], [y_test[:,0:2], y_test[:,2:4]]))\n",
    "\n",
    "history = model.fit([x_train[:,0:4],x_train[:,4:]], [y_train, map_end_train], epochs=50)"
   ]
  },
  {
   "cell_type": "code",
   "execution_count": 34,
   "metadata": {},
   "outputs": [
    {
     "data": {
      "image/png": "[encoded data removed]",
      "text/plain": [
       "<Figure size 432x288 with 1 Axes>"
      ]
     },
     "metadata": {
      "needs_background": "light"
     },
     "output_type": "display_data"
    }
   ],
   "source": [
    "import matplotlib.pyplot as plt\n",
    "plt.plot(history.history['loss'], color='r')\n",
    "plt.show()"
   ]
  },
  {
   "cell_type": "code",
   "execution_count": 36,
   "metadata": {},
   "outputs": [
    {
     "name": "stdout",
     "output_type": "stream",
     "text": [
      "183792/183792 [==============================] - 6s 33us/sample - loss: 0.0209 - dense_18_loss: 0.0183 - dense_17_loss: 0.0026\n"
     ]
    },
    {
     "data": {
      "text/plain": [
       "[0.020885017798838796, 0.018280221, 0.0026046133]"
      ]
     },
     "execution_count": 36,
     "metadata": {},
     "output_type": "execute_result"
    }
   ],
   "source": [
    "model.evaluate([x_test[:,0:4],x_test[:,4:]], [y_test, map_end_test])"
   ]
  },
  {
   "cell_type": "code",
   "execution_count": 18,
   "metadata": {},
   "outputs": [],
   "source": [
    "result = model.predict([x_test[:,0:4],x_test[:,4:]])"
   ]
  },
  {
   "cell_type": "code",
   "execution_count": 24,
   "metadata": {},
   "outputs": [
    {
     "data": {
      "text/plain": [
       "<matplotlib.collections.PathCollection at 0x7fb52c7d7cd0>"
      ]
     },
     "execution_count": 24,
     "metadata": {},
     "output_type": "execute_result"
    },
    {
     "data": {
      "image/png": "[encoded data removed]",
      "text/plain": [
       "<Figure size 432x288 with 1 Axes>"
      ]
     },
     "metadata": {
      "needs_background": "light"
     },
     "output_type": "display_data"
    }
   ],
   "source": [
    "import matplotlib.pyplot as plt\n",
    "import numpy as np\n",
    "result = model.predict([x_test[:,0:4],x_test[:,4:]])\n",
    "\n",
    "result_Y = result\n",
    "result_Y_plot = scy.inverse_transform(result_Y)\n",
    "y_test_plot = scy.inverse_transform(y_test)\n",
    "\n",
    "plt.scatter((y_test_plot[:,0]),(y_test_plot[:,1]), color='b', s= 1)\n",
    "plt.scatter((result_Y_plot[:,0]), (result_Y_plot[:,1]), color='r', s= 1)\n",
    "\n"
   ]
  },
  {
   "cell_type": "code",
   "execution_count": 25,
   "metadata": {},
   "outputs": [
    {
     "ename": "ValueError",
     "evalue": "Expected 2D array, got 1D array instead:\narray=[0.5785528 0.5798894].\nReshape your data either using array.reshape(-1, 1) if your data has a single feature or array.reshape(1, -1) if it contains a single sample.",
     "output_type": "error",
     "traceback": [
      "\u001b[0;31m---------------------------------------------------------------------------\u001b[0m",
      "\u001b[0;31mValueError\u001b[0m                                Traceback (most recent call last)",
      "\u001b[0;32m<ipython-input-25-74b02e79c92f>\u001b[0m in \u001b[0;36m<module>\u001b[0;34m\u001b[0m\n\u001b[1;32m      1\u001b[0m \u001b[0mresult_map\u001b[0m \u001b[0;34m=\u001b[0m \u001b[0mresult\u001b[0m\u001b[0;34m[\u001b[0m\u001b[0;36m1\u001b[0m\u001b[0;34m]\u001b[0m\u001b[0;34m\u001b[0m\u001b[0;34m\u001b[0m\u001b[0m\n\u001b[0;32m----> 2\u001b[0;31m \u001b[0mresult_map\u001b[0m \u001b[0;34m=\u001b[0m \u001b[0mscmap_end\u001b[0m\u001b[0;34m.\u001b[0m\u001b[0minverse_transform\u001b[0m\u001b[0;34m(\u001b[0m\u001b[0mresult_map\u001b[0m\u001b[0;34m)\u001b[0m\u001b[0;34m\u001b[0m\u001b[0;34m\u001b[0m\u001b[0m\n\u001b[0m\u001b[1;32m      3\u001b[0m \u001b[0mresult_map\u001b[0m \u001b[0;34m=\u001b[0m \u001b[0mresult_map\u001b[0m\u001b[0;34m.\u001b[0m\u001b[0mreshape\u001b[0m\u001b[0;34m(\u001b[0m\u001b[0;34m(\u001b[0m\u001b[0mlen\u001b[0m\u001b[0;34m(\u001b[0m\u001b[0mmap_end_test\u001b[0m\u001b[0;34m)\u001b[0m\u001b[0;34m,\u001b[0m \u001b[0mmap_end\u001b[0m\u001b[0;34m.\u001b[0m\u001b[0mshape\u001b[0m\u001b[0;34m[\u001b[0m\u001b[0;36m1\u001b[0m\u001b[0;34m]\u001b[0m\u001b[0;34m,\u001b[0m \u001b[0mmap_end\u001b[0m\u001b[0;34m.\u001b[0m\u001b[0mshape\u001b[0m\u001b[0;34m[\u001b[0m\u001b[0;36m2\u001b[0m\u001b[0;34m]\u001b[0m\u001b[0;34m)\u001b[0m\u001b[0;34m)\u001b[0m\u001b[0;34m\u001b[0m\u001b[0;34m\u001b[0m\u001b[0m\n\u001b[1;32m      4\u001b[0m \u001b[0;31m# result[1].reshape(map_end.shape)\u001b[0m\u001b[0;34m\u001b[0m\u001b[0;34m\u001b[0m\u001b[0;34m\u001b[0m\u001b[0m\n",
      "\u001b[0;32m~/anaconda3/envs/geo_env/lib/python3.7/site-packages/sklearn/preprocessing/_data.py\u001b[0m in \u001b[0;36minverse_transform\u001b[0;34m(self, X)\u001b[0m\n\u001b[1;32m    457\u001b[0m \u001b[0;34m\u001b[0m\u001b[0m\n\u001b[1;32m    458\u001b[0m         X = check_array(X, copy=self.copy, dtype=FLOAT_DTYPES,\n\u001b[0;32m--> 459\u001b[0;31m                         force_all_finite=\"allow-nan\")\n\u001b[0m\u001b[1;32m    460\u001b[0m \u001b[0;34m\u001b[0m\u001b[0m\n\u001b[1;32m    461\u001b[0m         \u001b[0mX\u001b[0m \u001b[0;34m-=\u001b[0m \u001b[0mself\u001b[0m\u001b[0;34m.\u001b[0m\u001b[0mmin_\u001b[0m\u001b[0;34m\u001b[0m\u001b[0;34m\u001b[0m\u001b[0m\n",
      "\u001b[0;32m~/anaconda3/envs/geo_env/lib/python3.7/site-packages/sklearn/utils/validation.py\u001b[0m in \u001b[0;36minner_f\u001b[0;34m(*args, **kwargs)\u001b[0m\n\u001b[1;32m     61\u001b[0m             \u001b[0mextra_args\u001b[0m \u001b[0;34m=\u001b[0m \u001b[0mlen\u001b[0m\u001b[0;34m(\u001b[0m\u001b[0margs\u001b[0m\u001b[0;34m)\u001b[0m \u001b[0;34m-\u001b[0m \u001b[0mlen\u001b[0m\u001b[0;34m(\u001b[0m\u001b[0mall_args\u001b[0m\u001b[0;34m)\u001b[0m\u001b[0;34m\u001b[0m\u001b[0;34m\u001b[0m\u001b[0m\n\u001b[1;32m     62\u001b[0m             \u001b[0;32mif\u001b[0m \u001b[0mextra_args\u001b[0m \u001b[0;34m<=\u001b[0m \u001b[0;36m0\u001b[0m\u001b[0;34m:\u001b[0m\u001b[0;34m\u001b[0m\u001b[0;34m\u001b[0m\u001b[0m\n\u001b[0;32m---> 63\u001b[0;31m                 \u001b[0;32mreturn\u001b[0m \u001b[0mf\u001b[0m\u001b[0;34m(\u001b[0m\u001b[0;34m*\u001b[0m\u001b[0margs\u001b[0m\u001b[0;34m,\u001b[0m \u001b[0;34m**\u001b[0m\u001b[0mkwargs\u001b[0m\u001b[0;34m)\u001b[0m\u001b[0;34m\u001b[0m\u001b[0;34m\u001b[0m\u001b[0m\n\u001b[0m\u001b[1;32m     64\u001b[0m \u001b[0;34m\u001b[0m\u001b[0m\n\u001b[1;32m     65\u001b[0m             \u001b[0;31m# extra_args > 0\u001b[0m\u001b[0;34m\u001b[0m\u001b[0;34m\u001b[0m\u001b[0;34m\u001b[0m\u001b[0m\n",
      "\u001b[0;32m~/anaconda3/envs/geo_env/lib/python3.7/site-packages/sklearn/utils/validation.py\u001b[0m in \u001b[0;36mcheck_array\u001b[0;34m(array, accept_sparse, accept_large_sparse, dtype, order, copy, force_all_finite, ensure_2d, allow_nd, ensure_min_samples, ensure_min_features, estimator)\u001b[0m\n\u001b[1;32m    639\u001b[0m                     \u001b[0;34m\"Reshape your data either using array.reshape(-1, 1) if \"\u001b[0m\u001b[0;34m\u001b[0m\u001b[0;34m\u001b[0m\u001b[0m\n\u001b[1;32m    640\u001b[0m                     \u001b[0;34m\"your data has a single feature or array.reshape(1, -1) \"\u001b[0m\u001b[0;34m\u001b[0m\u001b[0;34m\u001b[0m\u001b[0m\n\u001b[0;32m--> 641\u001b[0;31m                     \"if it contains a single sample.\".format(array))\n\u001b[0m\u001b[1;32m    642\u001b[0m \u001b[0;34m\u001b[0m\u001b[0m\n\u001b[1;32m    643\u001b[0m         \u001b[0;31m# make sure we actually converted to numeric:\u001b[0m\u001b[0;34m\u001b[0m\u001b[0;34m\u001b[0m\u001b[0;34m\u001b[0m\u001b[0m\n",
      "\u001b[0;31mValueError\u001b[0m: Expected 2D array, got 1D array instead:\narray=[0.5785528 0.5798894].\nReshape your data either using array.reshape(-1, 1) if your data has a single feature or array.reshape(1, -1) if it contains a single sample."
     ]
    }
   ],
   "source": [
    "result_map = result[1]\n",
    "result_map = scmap_end.inverse_transform(result_map)\n",
    "result_map = result_map.reshape((len(map_end_test), map_end.shape[1], map_end.shape[2]))\n",
    "# result[1].reshape(map_end.shape)\n"
   ]
  },
  {
   "cell_type": "code",
   "execution_count": 26,
   "metadata": {},
   "outputs": [
    {
     "ename": "IndexError",
     "evalue": "index 39950 is out of bounds for axis 0 with size 2",
     "output_type": "error",
     "traceback": [
      "\u001b[0;31m---------------------------------------------------------------------------\u001b[0m",
      "\u001b[0;31mIndexError\u001b[0m                                Traceback (most recent call last)",
      "\u001b[0;32m<ipython-input-26-4f64e687d890>\u001b[0m in \u001b[0;36m<module>\u001b[0;34m\u001b[0m\n\u001b[1;32m      1\u001b[0m \u001b[0;32mimport\u001b[0m \u001b[0mmatplotlib\u001b[0m\u001b[0;34m.\u001b[0m\u001b[0mpyplot\u001b[0m \u001b[0;32mas\u001b[0m \u001b[0mplt\u001b[0m\u001b[0;34m\u001b[0m\u001b[0;34m\u001b[0m\u001b[0m\n\u001b[1;32m      2\u001b[0m \u001b[0;31m# scmap_end.fit_transform(map_end_ascolumns)\u001b[0m\u001b[0;34m\u001b[0m\u001b[0;34m\u001b[0m\u001b[0;34m\u001b[0m\u001b[0m\n\u001b[0;32m----> 3\u001b[0;31m \u001b[0mplt\u001b[0m\u001b[0;34m.\u001b[0m\u001b[0mimshow\u001b[0m\u001b[0;34m(\u001b[0m\u001b[0mresult_map\u001b[0m\u001b[0;34m[\u001b[0m\u001b[0;36m39950\u001b[0m\u001b[0;34m]\u001b[0m\u001b[0;34m)\u001b[0m\u001b[0;34m\u001b[0m\u001b[0;34m\u001b[0m\u001b[0m\n\u001b[0m",
      "\u001b[0;31mIndexError\u001b[0m: index 39950 is out of bounds for axis 0 with size 2"
     ]
    }
   ],
   "source": [
    "import matplotlib.pyplot as plt\n",
    "# scmap_end.fit_transform(map_end_ascolumns)\n",
    "plt.imshow(result_map[39950])"
   ]
  },
  {
   "cell_type": "code",
   "execution_count": 27,
   "metadata": {},
   "outputs": [],
   "source": [
    "def haversine(coord1: object, coord2: object):\n",
    "    import math\n",
    "\n",
    "    # Coordinates in decimal degrees (e.g. 2.89078, 12.79797)\n",
    "    lon1, lat1 = coord1\n",
    "    lon2, lat2 = coord2\n",
    "\n",
    "    R = 6371000  # radius of Earth in meters\n",
    "    phi_1 = math.radians(lat1)\n",
    "    phi_2 = math.radians(lat2)\n",
    "\n",
    "    delta_phi = math.radians(lat2 - lat1)\n",
    "    delta_lambda = math.radians(lon2 - lon1)\n",
    "\n",
    "    a = math.sin(delta_phi / 2.0) ** 2 + math.cos(phi_1) * math.cos(phi_2) * math.sin(delta_lambda / 2.0) ** 2\n",
    "    \n",
    "    c = 2 * math.atan2(math.sqrt(a), math.sqrt(1 - a))\n",
    "\n",
    "    meters = R * c  # output distance in meters\n",
    "    km = meters / 1000.0  # output distance in kilometers\n",
    "\n",
    "    meters = round(meters, 5)\n",
    "    km = round(km, 5)\n",
    "    return km"
   ]
  },
  {
   "cell_type": "code",
   "execution_count": 28,
   "metadata": {},
   "outputs": [
    {
     "data": {
      "text/plain": [
       "<matplotlib.collections.PathCollection at 0x7fb52c7cc150>"
      ]
     },
     "execution_count": 28,
     "metadata": {},
     "output_type": "execute_result"
    },
    {
     "data": {
      "image/png": "[encoded data removed]",
      "text/plain": [
       "<Figure size 432x288 with 1 Axes>"
      ]
     },
     "metadata": {
      "needs_background": "light"
     },
     "output_type": "display_data"
    }
   ],
   "source": [
    "mae_rate_hour = []\n",
    "\n",
    "x_test_hour = scx.inverse_transform(x_test)\n",
    "\n",
    "result_Y_hour = scy.inverse_transform(result_Y)\n",
    "y_test_hour = scy.inverse_transform(y_test)\n",
    "for index in range(24):\n",
    "    mask = np.logical_and(x_test_hour[:,3] > (index)-0.2, x_test_hour[:,3] < (index+1)-0.2)\n",
    "    result_Y_d = result_Y_hour[mask]\n",
    "    Y_test_in = y_test_hour[mask]\n",
    "    error = 0\n",
    "    for i in range(len(Y_test_in)):\n",
    "        error = error + haversine(result_Y_d[i,0:2],Y_test_in[i,0:2])\n",
    "    end = error/len(Y_test_in)\n",
    "    error_average_distance = end\n",
    "\n",
    "    y_test[:,0] = y_test[:,0]\n",
    "    mae_rate_hour.append([float(error_average_distance), str(index)])\n",
    "\n",
    "mae_rate_hour = np.array(mae_rate_hour, dtype=np.object)\n",
    "plt.xlabel('hours')\n",
    "plt.ylabel('error_avg_distance(km)')\n",
    "plt.grid(color='black', linestyle='-', linewidth=0.3)\n",
    "plt.scatter(mae_rate_hour[:,1], mae_rate_hour[:,0], color='r', s= 1)\n"
   ]
  },
  {
   "cell_type": "code",
   "execution_count": 29,
   "metadata": {},
   "outputs": [
    {
     "data": {
      "text/plain": [
       "<matplotlib.collections.PathCollection at 0x7fb52c780710>"
      ]
     },
     "execution_count": 29,
     "metadata": {},
     "output_type": "execute_result"
    },
    {
     "data": {
      "image/png": "[encoded data removed]",
      "text/plain": [
       "<Figure size 432x288 with 1 Axes>"
      ]
     },
     "metadata": {
      "needs_background": "light"
     },
     "output_type": "display_data"
    }
   ],
   "source": [
    "mae_rate_day_of_week = []\n",
    "\n",
    "x_test_day = scx.inverse_transform(x_test)\n",
    "x\n",
    "result_Y_day = scy.inverse_transform(result_Y)\n",
    "y_test_day = scy.inverse_transform(y_test)\n",
    "for index in range(7):\n",
    "    mask = np.logical_and(x_test_day[:,4] > (index)-0.1, x_test_day[:,4] < (index+1)-0.1)\n",
    "    result_Y_d_day = result_Y_day[mask]\n",
    "    Y_test_in = y_test_day[mask]\n",
    "    error = 0\n",
    "    haverList = []\n",
    "    for i in (range(len(Y_test_in))):\n",
    "        error = error + haversine(result_Y_d_day[i,0:2],Y_test_in[i,0:2])\n",
    "    end = error/len(Y_test_in)\n",
    "    error_average_distance = end\n",
    "\n",
    "    y_test[:,0] = y_test[:,0]\n",
    "    mae_rate_day_of_week.append([error_average_distance, str(index+1)])\n",
    "\n",
    "mae_rate_day_of_week = np.array(mae_rate_day_of_week, dtype=np.object)\n",
    "plt.xlabel('days of week')\n",
    "plt.ylabel('error_avg_distance(km)')\n",
    "plt.grid(color='black', linestyle='-', linewidth=0.3)\n",
    "plt.scatter(mae_rate_day_of_week[:,1], mae_rate_day_of_week[:,0], color='r', s= 1)"
   ]
  },
  {
   "cell_type": "code",
   "execution_count": 30,
   "metadata": {},
   "outputs": [
    {
     "data": {
      "text/plain": [
       "0.8246943352811903"
      ]
     },
     "execution_count": 30,
     "metadata": {},
     "output_type": "execute_result"
    }
   ],
   "source": [
    "result_Y_all = scy.inverse_transform(result_Y)\n",
    "y_test_all = scy.inverse_transform(y_test)\n",
    "error_all = 0\n",
    "for i in (range(len(y_test_all))):\n",
    "    error_all = error_all + haversine(result_Y_all[i],y_test_all[i])\n",
    "    error_avg = error_all/len(y_test_all)\n",
    "error_avg"
   ]
  },
  {
   "cell_type": "code",
   "execution_count": null,
   "metadata": {},
   "outputs": [],
   "source": []
  }
 ],
 "metadata": {
  "kernelspec": {
   "display_name": "Python 3",
   "language": "python",
   "name": "python3"
  },
  "language_info": {
   "codemirror_mode": {
    "name": "ipython",
    "version": 3
   },
   "file_extension": ".py",
   "mimetype": "text/x-python",
   "name": "python",
   "nbconvert_exporter": "python",
   "pygments_lexer": "ipython3",
   "version": "3.7.8"
  }
 },
 "nbformat": 4,
 "nbformat_minor": 4
}
