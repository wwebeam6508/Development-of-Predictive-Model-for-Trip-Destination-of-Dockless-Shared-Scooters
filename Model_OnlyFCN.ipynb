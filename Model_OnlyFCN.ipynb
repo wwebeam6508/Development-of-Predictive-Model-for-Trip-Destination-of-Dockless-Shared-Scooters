{
 "cells": [
  {
   "cell_type": "code",
   "execution_count": 4,
   "metadata": {},
   "outputs": [],
   "source": [
    "import tensorflow as tf\n",
    "tf.enable_eager_execution()\n",
    "import numpy as np\n",
    "import pandas as pd\n",
    "\n",
    "coor_data = pd.read_csv('Data/coordata.csv')\n",
    "date_data = pd.read_csv('Data/datedata.csv')\n",
    "meta_data = pd.read_csv('Data/metadata.csv')\n",
    "bus_stop_data = pd.read_csv('Data/bus_stop.csv')\n",
    "# cluster_group_data = pd.read_csv('Data/cluster_group.csv')\n",
    "\n",
    "general = pd.read_csv('Data/ScooterData_July15_Sept27_2019.csv')\n",
    "\n",
    "data_set = coor_data.join((bus_stop_data.join(date_data.join(meta_data))))\n",
    "\n",
    "from scipy import stats\n",
    "# set_test = general[['trip_duration_min','trip_length_km']]\n",
    "# data_set = data_set[(np.abs(stats.zscore(set_test)) < 3).all(axis=1)]\n",
    "# general = general[(np.abs(stats.zscore(set_test)) < 3).all(axis=1)]\n",
    "\n",
    "\n",
    "\n",
    "\n",
    "general_np = general.to_numpy()\n",
    "\n",
    "# # filter\n",
    "# data_set = data_set[np.logical_not(general_np[:, 6] > 10)]\n",
    "# general_np = general_np[np.logical_not(general_np[:,6] > 10)]\n",
    "# data_set = data_set[np.logical_not(general_np[:,6] < 0.01)]\n",
    "# general_np = general_np[np.logical_not(general_np[:,6] < 0.01)]\n",
    "# data_set = data_set[np.logical_not(general_np[:,5] > 120)]\n",
    "# general_np = general_np[np.logical_not(general_np[:,5] > 120)]\n",
    "# data_set = data_set[np.logical_not(general_np[:,5] < 1)]\n",
    "# general_np = general_np[np.logical_not(general_np[:,5] < 1)]\n",
    "\n",
    "# data_set = data_set[np.logical_not(np.logical_and(general_np[:, 6] < 0.11, general_np[:, 5] > 20))]\n",
    "# general_np = general_np[np.logical_not(np.logical_and(general_np[:, 6] < 0.11, general_np[:, 5] > 20))]\n",
    "\n",
    "Y_data = data_set[['endx', 'endy']].to_numpy()\n",
    "X_data = data_set.drop(columns=['endx', 'endy','start_date', 'end_near_stop']).to_numpy()"
   ]
  },
  {
   "cell_type": "code",
   "execution_count": 139,
   "metadata": {},
   "outputs": [],
   "source": [
    "import pandas as pd\n",
    "import geopandas as gpd\n",
    "import numpy as np\n",
    "\n",
    "census_by_community = gpd.read_file('Data/census_by_community1.shp')\n",
    "grid_data = gpd.read_file('Data/ScooterGridId.shp')\n",
    "data = pd.read_csv('Data/ScooterData_July15_Sept27_2019.csv')\n",
    "\n",
    "centeroid_scale_grid = np.array([[x.centroid.x, x.centroid.y] for x in grid_data.geometry])\n",
    "centeroid_scale_grid[:,0] = centeroid_scale_grid[:,0] + 180\n",
    "lng_ltd = int(round(max(centeroid_scale_grid[:,0]) - min(centeroid_scale_grid[:,0]), 4) * 100)\n",
    "lat_ltd = int(round(max(centeroid_scale_grid[:,1]) - min(centeroid_scale_grid[:,1]), 4) * 100)\n",
    "\n",
    "map_mat = np.zeros((lat_ltd,lng_ltd))\n",
    "\n",
    "max_lng = max(centeroid_scale_grid[:,0])\n",
    "max_lat = max(centeroid_scale_grid[:,1])\n",
    "\n",
    "shape = map_mat.shape\n",
    "\n",
    "for pos in centeroid_scale_grid:\n",
    "    pos_lng = abs(int(  ((max_lng - pos[0]))*100  )) - 1\n",
    "    pos_lat = abs(int(  ((max_lat - pos[1]))*100  )) - 1\n",
    "    map_mat[pos_lat, pos_lng] = 50\n",
    "\n"
   ]
  },
  {
   "cell_type": "code",
   "execution_count": 140,
   "metadata": {},
   "outputs": [
    {
     "name": "stderr",
     "output_type": "stream",
     "text": [
      "| |                       #                      | 459477 Elapsed Time: 0:01:02\n"
     ]
    }
   ],
   "source": [
    "import progressbar \n",
    "\n",
    "# max_lng = max(data_set['endx'])\n",
    "# max_lat = max(data_set['endy'])\n",
    "\n",
    "map_end = []\n",
    "for index, row in progressbar.progressbar(data_set.iterrows()):\n",
    "    pos_lng = abs(int(  ((max_lng - (row['endx'] + 180) ))*100  )) - 1\n",
    "    pos_lat = abs(int(  ((max_lat - (row['endy']) ))*100  )) - 1\n",
    "    map_end.append(map_mat.copy())\n",
    "    map_end[index][pos_lat, pos_lng] = 255\n",
    "    map_end[index] = np.fliplr(map_end[index])\n",
    "    map_end[index] = np.resize(map_end[index], (32,32))\n",
    "    \n",
    "map_end = np.asarray(map_end)    "
   ]
  },
  {
   "cell_type": "code",
   "execution_count": 202,
   "metadata": {},
   "outputs": [
    {
     "data": {
      "text/plain": [
       "(459478, 32, 32)"
      ]
     },
     "execution_count": 202,
     "metadata": {},
     "output_type": "execute_result"
    }
   ],
   "source": []
  },
  {
   "cell_type": "code",
   "execution_count": 146,
   "metadata": {},
   "outputs": [
    {
     "data": {
      "text/plain": [
       "<matplotlib.image.AxesImage at 0x22d8208df88>"
      ]
     },
     "execution_count": 146,
     "metadata": {},
     "output_type": "execute_result"
    },
    {
     "data": {
      "image/png": "[encoded data removed]",
      "text/plain": [
       "<Figure size 432x288 with 1 Axes>"
      ]
     },
     "metadata": {
      "needs_background": "light"
     },
     "output_type": "display_data"
    }
   ],
   "source": [
    "import matplotlib.pyplot as plt\n",
    "\n",
    "plt.imshow(map_end[423])"
   ]
  },
  {
   "cell_type": "code",
   "execution_count": 316,
   "metadata": {},
   "outputs": [],
   "source": [
    "\n",
    "\n",
    "from sklearn.preprocessing import MinMaxScaler\n",
    "from sklearn.model_selection import train_test_split\n",
    "\n",
    "scx = MinMaxScaler(feature_range=(0,1))\n",
    "scy = MinMaxScaler(feature_range=(0,1))\n",
    "X_data_n = scx.fit_transform(X_data)\n",
    "Y_data_n = scy.fit_transform(Y_data)\n",
    "\n",
    "scmap_end = MinMaxScaler(feature_range=(0,1))\n",
    "map_end_ascolumns = map_end.reshape(len(map_end), -1)\n",
    "map_end_n = scmap_end.fit_transform(map_end_ascolumns)\n",
    "# map_end_n = tmap_end.reshape(map_end.shape)\n",
    "\n",
    "x_train, x_test, y_train, y_test = train_test_split(X_data_n, Y_data_n, test_size=0.4, shuffle=False)\n",
    "map_end_train = map_end_n[0:len(x_train)]\n",
    "map_end_test = map_end_n[len(x_train):]"
   ]
  },
  {
   "cell_type": "code",
   "execution_count": 283,
   "metadata": {},
   "outputs": [
    {
     "data": {
      "text/plain": [
       "(275686, 32, 32)"
      ]
     },
     "execution_count": 283,
     "metadata": {},
     "output_type": "execute_result"
    }
   ],
   "source": [
    "map_end_train.shape"
   ]
  },
  {
   "cell_type": "code",
   "execution_count": 356,
   "metadata": {},
   "outputs": [
    {
     "name": "stdout",
     "output_type": "stream",
     "text": [
      "Model: \"model_669\"\n",
      "__________________________________________________________________________________________________\n",
      "Layer (type)                    Output Shape         Param #     Connected to                     \n",
      "==================================================================================================\n",
      "input_396 (InputLayer)          [(None, 4)]          0                                            \n",
      "__________________________________________________________________________________________________\n",
      "input_397 (InputLayer)          [(None, 60)]         0                                            \n",
      "__________________________________________________________________________________________________\n",
      "dense_1762 (Dense)              (None, 15)           75          input_396[0][0]                  \n",
      "__________________________________________________________________________________________________\n",
      "dense_1764 (Dense)              (None, 62)           3782        input_397[0][0]                  \n",
      "__________________________________________________________________________________________________\n",
      "dense_1763 (Dense)              (None, 30)           480         dense_1762[0][0]                 \n",
      "__________________________________________________________________________________________________\n",
      "dense_1765 (Dense)              (None, 70)           4410        dense_1764[0][0]                 \n",
      "__________________________________________________________________________________________________\n",
      "dense_1768 (Dense)              (None, 15)           75          input_396[0][0]                  \n",
      "__________________________________________________________________________________________________\n",
      "dense_1770 (Dense)              (None, 62)           3782        input_397[0][0]                  \n",
      "__________________________________________________________________________________________________\n",
      "concatenate_394 (Concatenate)   (None, 100)          0           dense_1763[0][0]                 \n",
      "                                                                 dense_1765[0][0]                 \n",
      "__________________________________________________________________________________________________\n",
      "dense_1769 (Dense)              (None, 64)           1024        dense_1768[0][0]                 \n",
      "__________________________________________________________________________________________________\n",
      "dense_1771 (Dense)              (None, 64)           4032        dense_1770[0][0]                 \n",
      "__________________________________________________________________________________________________\n",
      "dense_1766 (Dense)              (None, 55)           5555        concatenate_394[0][0]            \n",
      "__________________________________________________________________________________________________\n",
      "concatenate_395 (Concatenate)   (None, 128)          0           dense_1769[0][0]                 \n",
      "                                                                 dense_1771[0][0]                 \n",
      "__________________________________________________________________________________________________\n",
      "dense_1767 (Dense)              (None, 1024)         57344       dense_1766[0][0]                 \n",
      "__________________________________________________________________________________________________\n",
      "concatenate_396 (Concatenate)   (None, 1152)         0           concatenate_395[0][0]            \n",
      "                                                                 dense_1767[0][0]                 \n",
      "__________________________________________________________________________________________________\n",
      "dense_1772 (Dense)              (None, 55)           63415       concatenate_396[0][0]            \n",
      "__________________________________________________________________________________________________\n",
      "dense_1773 (Dense)              (None, 2)            112         dense_1772[0][0]                 \n",
      "==================================================================================================\n",
      "Total params: 144,086\n",
      "Trainable params: 144,086\n",
      "Non-trainable params: 0\n",
      "__________________________________________________________________________________________________\n"
     ]
    }
   ],
   "source": [
    "import tensorflow as tf\n",
    "\n",
    "from tensorflow.keras import layers, Model\n",
    "from tensorflow.keras.layers import Conv2D, MaxPooling2D, Flatten\n",
    "from tensorflow.python.keras.layers.core import Dense, Activation, Dropout\n",
    "from tensorflow.python.keras.layers.recurrent import LSTM\n",
    "inputA = layers.Input(shape=(4))\n",
    "inputB = layers.Input(shape=(60))\n",
    "\n",
    "# x = Dense(50, activation=\"relu\")(inputA)\n",
    "x = Dense(15)(inputA)\n",
    "x = Dense(30, activation=\"relu\")(x)\n",
    "x = Model(inputs=inputA, outputs=x)\n",
    "y = Dense(62)(inputB)\n",
    "y = Dense(70, activation=\"relu\")(y)\n",
    "y = Model(inputs=inputB, outputs=y)\n",
    "\n",
    "combined = layers.concatenate([x.output, y.output])\n",
    "\n",
    "final = Dense(55, activation=\"relu\")(combined)\n",
    "image = Dense(map_end_n.shape[1])(final)\n",
    "\n",
    "# image_re = tf.reshape(image_col, (-1 ,map_end_n.shape[1], map_end_n.shape[2]))\n",
    "\n",
    "# image = Conv1D(32, 3, activation='relu')(image_re)\n",
    "# image = MaxPooling1D(2)(image)\n",
    "# image = Flatten()(image)\n",
    "\n",
    "# image = Flatten()(image_col)\n",
    "# combined = layers.concatenate([final, image])\n",
    "\n",
    "# imageInput = layers.Input(shape=image.shape)\n",
    "\n",
    "# xi = Model(inputs=xi, outputs=xi)\n",
    "\n",
    "xx = Dense(15)(inputA)\n",
    "xx = Dense(64, activation=\"relu\")(xx)\n",
    "xx = Model(inputs=inputA, outputs=xx)\n",
    "\n",
    "yy = Dense(62)(inputB)\n",
    "yy = Dense(64, activation=\"relu\")(yy)\n",
    "yy = Model(inputs=inputB, outputs=yy)\n",
    "\n",
    "\n",
    "combined_twoa = layers.concatenate([xx.output, yy.output])\n",
    "\n",
    "\n",
    "# xi = Dense(29)(image)\n",
    "# xi = Dense(30, activation=\"relu\")(xi)\n",
    "combined_twob = layers.concatenate([combined_twoa, image])\n",
    "\n",
    "final_two = Dense(55, activation=\"softmax\")(combined_twob)\n",
    "\n",
    "a = Dense(2)(final_two)\n",
    "\n",
    "model = Model(inputs=[x.input,y.input], outputs=[a, image])\n",
    "model.summary()"
   ]
  },
  {
   "cell_type": "code",
   "execution_count": null,
   "metadata": {},
   "outputs": [
    {
     "name": "stdout",
     "output_type": "stream",
     "text": [
      "Epoch 1/50\n",
      "275686/275686 [==============================] - 21s 75us/sample - loss: 0.0267 - dense_1773_loss: 0.0253 - dense_1767_loss: 0.0014\n",
      "Epoch 2/50\n",
      "275686/275686 [==============================] - 21s 76us/sample - loss: 0.0200 - dense_1773_loss: 0.0188 - dense_1767_loss: 0.0012\n",
      "Epoch 3/50\n",
      "275686/275686 [==============================] - 20s 72us/sample - loss: 0.0199 - dense_1773_loss: 0.0187 - dense_1767_loss: 0.0012\n",
      "Epoch 4/50\n",
      "275686/275686 [==============================] - 22s 79us/sample - loss: 0.0198 - dense_1773_loss: 0.0186 - dense_1767_loss: 0.0012\n",
      "Epoch 5/50\n",
      "275686/275686 [==============================] - 19s 68us/sample - loss: 0.0197 - dense_1773_loss: 0.0185 - dense_1767_loss: 0.0012\n",
      "Epoch 6/50\n",
      "275686/275686 [==============================] - 20s 72us/sample - loss: 0.0197 - dense_1773_loss: 0.0185 - dense_1767_loss: 0.0012\n",
      "Epoch 7/50\n",
      "  4672/275686 [..............................] - ETA: 18s - loss: 0.0197 - dense_1773_loss: 0.0185 - dense_1767_loss: 0.0013"
     ]
    }
   ],
   "source": [
    "# from tensorflow.python.keras.callbacks import EarlyStopping\n",
    "\n",
    "model.compile(loss=\"mean_absolute_error\", optimizer=\"adam\")\n",
    "\n",
    "# callback = EarlyStopping(monitor='loss', patience=5, mode=\"auto\")\n",
    "# history = model.fit([x_train[:,0:7],x_train[:,7:]], [y_train[:,0:2], y_train[:,2:4]], epochs=100, validation_data=([x_test[:,0:7],x_test[:,7:]], [y_test[:,0:2], y_test[:,2:4]]))\n",
    "\n",
    "history = model.fit([x_train[:,0:4],x_train[:,4:]], [y_train, map_end_train], epochs=50)"
   ]
  },
  {
   "cell_type": "code",
   "execution_count": 348,
   "metadata": {},
   "outputs": [
    {
     "data": {
      "image/png": "[encoded data removed]",
      "text/plain": [
       "<Figure size 432x288 with 1 Axes>"
      ]
     },
     "metadata": {
      "needs_background": "light"
     },
     "output_type": "display_data"
    }
   ],
   "source": [
    "import matplotlib.pyplot as plt\n",
    "plt.plot(history.history['loss'], color='r')\n",
    "plt.show()"
   ]
  },
  {
   "cell_type": "code",
   "execution_count": 349,
   "metadata": {},
   "outputs": [
    {
     "ename": "ValueError",
     "evalue": "Error when checking model target: the list of Numpy arrays that you are passing to your model is not the size the model expected. Expected to see 1 array(s), but instead got the following list of 2 arrays: [array([[0.59613727, 0.57843995],\n       [0.61602473, 0.53988563],\n       [0.57628952, 0.58099903],\n       ...,\n       [0.60277391, 0.56044666],\n       [0.66890574, 0.57075995],\n       [0.66890574, 0....",
     "output_type": "error",
     "traceback": [
      "\u001b[1;31m---------------------------------------------------------------------------\u001b[0m",
      "\u001b[1;31mValueError\u001b[0m                                Traceback (most recent call last)",
      "\u001b[1;32m<ipython-input-349-63741f9c8773>\u001b[0m in \u001b[0;36m<module>\u001b[1;34m\u001b[0m\n\u001b[1;32m----> 1\u001b[1;33m \u001b[0mmodel\u001b[0m\u001b[1;33m.\u001b[0m\u001b[0mevaluate\u001b[0m\u001b[1;33m(\u001b[0m\u001b[1;33m[\u001b[0m\u001b[0mx_test\u001b[0m\u001b[1;33m[\u001b[0m\u001b[1;33m:\u001b[0m\u001b[1;33m,\u001b[0m\u001b[1;36m0\u001b[0m\u001b[1;33m:\u001b[0m\u001b[1;36m4\u001b[0m\u001b[1;33m]\u001b[0m\u001b[1;33m,\u001b[0m\u001b[0mx_test\u001b[0m\u001b[1;33m[\u001b[0m\u001b[1;33m:\u001b[0m\u001b[1;33m,\u001b[0m\u001b[1;36m4\u001b[0m\u001b[1;33m:\u001b[0m\u001b[1;33m]\u001b[0m\u001b[1;33m]\u001b[0m\u001b[1;33m,\u001b[0m \u001b[1;33m[\u001b[0m\u001b[0my_test\u001b[0m\u001b[1;33m,\u001b[0m \u001b[0mmap_end_test\u001b[0m\u001b[1;33m]\u001b[0m\u001b[1;33m)\u001b[0m\u001b[1;33m\u001b[0m\u001b[1;33m\u001b[0m\u001b[0m\n\u001b[0m",
      "\u001b[1;32mI:\\Users\\PC\\anaconda3\\envs\\my_env\\lib\\site-packages\\tensorflow\\python\\keras\\engine\\training.py\u001b[0m in \u001b[0;36mevaluate\u001b[1;34m(self, x, y, batch_size, verbose, sample_weight, steps, callbacks, max_queue_size, workers, use_multiprocessing)\u001b[0m\n\u001b[0;32m    939\u001b[0m         \u001b[0mcheck_steps\u001b[0m\u001b[1;33m=\u001b[0m\u001b[1;32mTrue\u001b[0m\u001b[1;33m,\u001b[0m\u001b[1;33m\u001b[0m\u001b[1;33m\u001b[0m\u001b[0m\n\u001b[0;32m    940\u001b[0m         \u001b[0msteps_name\u001b[0m\u001b[1;33m=\u001b[0m\u001b[1;34m'steps'\u001b[0m\u001b[1;33m,\u001b[0m\u001b[1;33m\u001b[0m\u001b[1;33m\u001b[0m\u001b[0m\n\u001b[1;32m--> 941\u001b[1;33m         steps=steps)\n\u001b[0m\u001b[0;32m    942\u001b[0m \u001b[1;33m\u001b[0m\u001b[0m\n\u001b[0;32m    943\u001b[0m     \u001b[1;32mif\u001b[0m \u001b[0mself\u001b[0m\u001b[1;33m.\u001b[0m\u001b[0mrun_eagerly\u001b[0m\u001b[1;33m:\u001b[0m\u001b[1;33m\u001b[0m\u001b[1;33m\u001b[0m\u001b[0m\n",
      "\u001b[1;32mI:\\Users\\PC\\anaconda3\\envs\\my_env\\lib\\site-packages\\tensorflow\\python\\keras\\engine\\training.py\u001b[0m in \u001b[0;36m_standardize_user_data\u001b[1;34m(self, x, y, sample_weight, class_weight, batch_size, check_steps, steps_name, steps, validation_split, shuffle, extract_tensors_from_dataset)\u001b[0m\n\u001b[0;32m   2671\u001b[0m           \u001b[0mshapes\u001b[0m\u001b[1;33m=\u001b[0m\u001b[1;32mNone\u001b[0m\u001b[1;33m,\u001b[0m\u001b[1;33m\u001b[0m\u001b[1;33m\u001b[0m\u001b[0m\n\u001b[0;32m   2672\u001b[0m           \u001b[0mcheck_batch_axis\u001b[0m\u001b[1;33m=\u001b[0m\u001b[1;32mFalse\u001b[0m\u001b[1;33m,\u001b[0m  \u001b[1;31m# Don't enforce the batch size.\u001b[0m\u001b[1;33m\u001b[0m\u001b[1;33m\u001b[0m\u001b[0m\n\u001b[1;32m-> 2673\u001b[1;33m           exception_prefix='target')\n\u001b[0m\u001b[0;32m   2674\u001b[0m \u001b[1;33m\u001b[0m\u001b[0m\n\u001b[0;32m   2675\u001b[0m       \u001b[1;31m# Generate sample-wise weight values given the `sample_weight` and\u001b[0m\u001b[1;33m\u001b[0m\u001b[1;33m\u001b[0m\u001b[1;33m\u001b[0m\u001b[0m\n",
      "\u001b[1;32mI:\\Users\\PC\\anaconda3\\envs\\my_env\\lib\\site-packages\\tensorflow\\python\\keras\\engine\\training_utils.py\u001b[0m in \u001b[0;36mstandardize_input_data\u001b[1;34m(data, names, shapes, check_batch_axis, exception_prefix)\u001b[0m\n\u001b[0;32m    344\u001b[0m                        \u001b[1;34m'Expected to see '\u001b[0m \u001b[1;33m+\u001b[0m \u001b[0mstr\u001b[0m\u001b[1;33m(\u001b[0m\u001b[0mlen\u001b[0m\u001b[1;33m(\u001b[0m\u001b[0mnames\u001b[0m\u001b[1;33m)\u001b[0m\u001b[1;33m)\u001b[0m \u001b[1;33m+\u001b[0m \u001b[1;34m' array(s), '\u001b[0m\u001b[1;33m\u001b[0m\u001b[1;33m\u001b[0m\u001b[0m\n\u001b[0;32m    345\u001b[0m                        \u001b[1;34m'but instead got the following list of '\u001b[0m \u001b[1;33m+\u001b[0m\u001b[1;33m\u001b[0m\u001b[1;33m\u001b[0m\u001b[0m\n\u001b[1;32m--> 346\u001b[1;33m                        str(len(data)) + ' arrays: ' + str(data)[:200] + '...')\n\u001b[0m\u001b[0;32m    347\u001b[0m     \u001b[1;32melif\u001b[0m \u001b[0mlen\u001b[0m\u001b[1;33m(\u001b[0m\u001b[0mnames\u001b[0m\u001b[1;33m)\u001b[0m \u001b[1;33m>\u001b[0m \u001b[1;36m1\u001b[0m\u001b[1;33m:\u001b[0m\u001b[1;33m\u001b[0m\u001b[1;33m\u001b[0m\u001b[0m\n\u001b[0;32m    348\u001b[0m       raise ValueError('Error when checking model ' + exception_prefix +\n",
      "\u001b[1;31mValueError\u001b[0m: Error when checking model target: the list of Numpy arrays that you are passing to your model is not the size the model expected. Expected to see 1 array(s), but instead got the following list of 2 arrays: [array([[0.59613727, 0.57843995],\n       [0.61602473, 0.53988563],\n       [0.57628952, 0.58099903],\n       ...,\n       [0.60277391, 0.56044666],\n       [0.66890574, 0.57075995],\n       [0.66890574, 0...."
     ]
    }
   ],
   "source": [
    "model.evaluate([x_test[:,0:4],x_test[:,4:]], [y_test, map_end_test])"
   ]
  },
  {
   "cell_type": "code",
   "execution_count": 352,
   "metadata": {},
   "outputs": [
    {
     "data": {
      "text/plain": [
       "<matplotlib.collections.PathCollection at 0x22f70984188>"
      ]
     },
     "execution_count": 352,
     "metadata": {},
     "output_type": "execute_result"
    },
    {
     "data": {
      "image/png": "[encoded data removed]",
      "text/plain": [
       "<Figure size 432x288 with 1 Axes>"
      ]
     },
     "metadata": {
      "needs_background": "light"
     },
     "output_type": "display_data"
    }
   ],
   "source": [
    "import matplotlib.pyplot as plt\n",
    "import numpy as np\n",
    "result = model.predict([x_test[:,0:4],x_test[:,4:]])\n",
    "\n",
    "result_Y = result[0]\n",
    "result_Y_plot = scy.inverse_transform(result_Y)\n",
    "y_test_plot = scy.inverse_transform(y_test)\n",
    "\n",
    "plt.scatter((y_test_plot[:,0]),(y_test_plot[:,1]), color='b', s= 1)\n",
    "plt.scatter((result_Y_plot[:,0]), (result_Y_plot[:,1]), color='r', s= 1)\n",
    "\n"
   ]
  },
  {
   "cell_type": "code",
   "execution_count": null,
   "metadata": {},
   "outputs": [],
   "source": [
    "scmap_end.inverse_transform(result[1])\n",
    "# result[1].reshape(map_end.shape)"
   ]
  },
  {
   "cell_type": "code",
   "execution_count": 353,
   "metadata": {},
   "outputs": [],
   "source": [
    "def haversine(coord1: object, coord2: object):\n",
    "    import math\n",
    "\n",
    "    # Coordinates in decimal degrees (e.g. 2.89078, 12.79797)\n",
    "    lon1, lat1 = coord1\n",
    "    lon2, lat2 = coord2\n",
    "\n",
    "    R = 6371000  # radius of Earth in meters\n",
    "    phi_1 = math.radians(lat1)\n",
    "    phi_2 = math.radians(lat2)\n",
    "\n",
    "    delta_phi = math.radians(lat2 - lat1)\n",
    "    delta_lambda = math.radians(lon2 - lon1)\n",
    "\n",
    "    a = math.sin(delta_phi / 2.0) ** 2 + math.cos(phi_1) * math.cos(phi_2) * math.sin(delta_lambda / 2.0) ** 2\n",
    "    \n",
    "    c = 2 * math.atan2(math.sqrt(a), math.sqrt(1 - a))\n",
    "\n",
    "    meters = R * c  # output distance in meters\n",
    "    km = meters / 1000.0  # output distance in kilometers\n",
    "\n",
    "    meters = round(meters, 5)\n",
    "    km = round(km, 5)\n",
    "    return km"
   ]
  },
  {
   "cell_type": "code",
   "execution_count": 354,
   "metadata": {},
   "outputs": [
    {
     "data": {
      "text/plain": [
       "<matplotlib.collections.PathCollection at 0x22f502b4308>"
      ]
     },
     "execution_count": 354,
     "metadata": {},
     "output_type": "execute_result"
    },
    {
     "data": {
      "image/png": "[encoded data removed]",
      "text/plain": [
       "<Figure size 432x288 with 1 Axes>"
      ]
     },
     "metadata": {
      "needs_background": "light"
     },
     "output_type": "display_data"
    }
   ],
   "source": [
    "mae_rate_hour = []\n",
    "\n",
    "x_test_hour = scx.inverse_transform(x_test)\n",
    "\n",
    "result_Y_hour = scy.inverse_transform(result_Y)\n",
    "y_test_hour = scy.inverse_transform(y_test)\n",
    "for index in range(24):\n",
    "    mask = np.logical_and(x_test_hour[:,3] > (index)-0.2, x_test_hour[:,3] < (index+1)-0.2)\n",
    "    result_Y_d = result_Y_hour[mask]\n",
    "    Y_test_in = y_test_hour[mask]\n",
    "    error = 0\n",
    "    for i in range(len(Y_test_in)):\n",
    "        error = error + haversine(result_Y_d[i,0:2],Y_test_in[i,0:2])\n",
    "    end = error/len(Y_test_in)\n",
    "    error_average_distance = end\n",
    "\n",
    "    y_test[:,0] = y_test[:,0]\n",
    "    mae_rate_hour.append([float(error_average_distance), str(index)])\n",
    "\n",
    "mae_rate_hour = np.array(mae_rate_hour, dtype=np.object)\n",
    "plt.xlabel('hours')\n",
    "plt.ylabel('error_avg_distance(km)')\n",
    "plt.grid(color='black', linestyle='-', linewidth=0.3)\n",
    "plt.scatter(mae_rate_hour[:,1], mae_rate_hour[:,0], color='r', s= 1)\n"
   ]
  },
  {
   "cell_type": "code",
   "execution_count": 355,
   "metadata": {},
   "outputs": [
    {
     "data": {
      "text/plain": [
       "<matplotlib.collections.PathCollection at 0x22f5034d808>"
      ]
     },
     "execution_count": 355,
     "metadata": {},
     "output_type": "execute_result"
    },
    {
     "data": {
      "image/png": "[encoded data removed]",
      "text/plain": [
       "<Figure size 432x288 with 1 Axes>"
      ]
     },
     "metadata": {
      "needs_background": "light"
     },
     "output_type": "display_data"
    }
   ],
   "source": [
    "mae_rate_day_of_week = []\n",
    "\n",
    "x_test_day = scx.inverse_transform(x_test)\n",
    "x\n",
    "result_Y_day = scy.inverse_transform(result_Y)\n",
    "y_test_day = scy.inverse_transform(y_test)\n",
    "for index in range(7):\n",
    "    mask = np.logical_and(x_test_day[:,4] > (index)-0.1, x_test_day[:,4] < (index+1)-0.1)\n",
    "    result_Y_d_day = result_Y_day[mask]\n",
    "    Y_test_in = y_test_day[mask]\n",
    "    error = 0\n",
    "    haverList = []\n",
    "    for i in (range(len(Y_test_in))):\n",
    "        error = error + haversine(result_Y_d_day[i,0:2],Y_test_in[i,0:2])\n",
    "    end = error/len(Y_test_in)\n",
    "    error_average_distance = end\n",
    "\n",
    "    y_test[:,0] = y_test[:,0]\n",
    "    mae_rate_day_of_week.append([error_average_distance, str(index+1)])\n",
    "\n",
    "mae_rate_day_of_week = np.array(mae_rate_day_of_week, dtype=np.object)\n",
    "plt.xlabel('days of week')\n",
    "plt.ylabel('error_avg_distance(km)')\n",
    "plt.grid(color='black', linestyle='-', linewidth=0.3)\n",
    "plt.scatter(mae_rate_day_of_week[:,1], mae_rate_day_of_week[:,0], color='r', s= 1)"
   ]
  },
  {
   "cell_type": "code",
   "execution_count": 335,
   "metadata": {},
   "outputs": [
    {
     "data": {
      "text/plain": [
       "0.8291990844541772"
      ]
     },
     "execution_count": 335,
     "metadata": {},
     "output_type": "execute_result"
    }
   ],
   "source": [
    "result_Y_all = scy.inverse_transform(result_Y)\n",
    "y_test_all = scy.inverse_transform(y_test)\n",
    "error_all = 0\n",
    "for i in (range(len(y_test_all))):\n",
    "    error_all = error_all + haversine(result_Y_all[i],y_test_all[i])\n",
    "    error_avg = error_all/len(y_test_all)\n",
    "error_avg"
   ]
  },
  {
   "cell_type": "code",
   "execution_count": null,
   "metadata": {},
   "outputs": [],
   "source": []
  }
 ],
 "metadata": {
  "kernelspec": {
   "display_name": "Python 3",
   "language": "python",
   "name": "python3"
  },
  "language_info": {
   "codemirror_mode": {
    "name": "ipython",
    "version": 3
   },
   "file_extension": ".py",
   "mimetype": "text/x-python",
   "name": "python",
   "nbconvert_exporter": "python",
   "pygments_lexer": "ipython3",
   "version": "3.7.9"
  }
 },
 "nbformat": 4,
 "nbformat_minor": 4
}
