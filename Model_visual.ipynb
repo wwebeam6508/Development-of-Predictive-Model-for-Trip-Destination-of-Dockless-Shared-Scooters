{
 "cells": [
  {
   "cell_type": "code",
   "execution_count": 73,
   "metadata": {},
   "outputs": [],
   "source": [
    "import numpy as np\n",
    "import pandas as pd\n",
    "\n",
    "coor_data = pd.read_csv('Data/coordata.csv')\n",
    "date_data = pd.read_csv('Data/datedata.csv')\n",
    "meta_data = pd.read_csv('Data/metadata.csv')\n",
    "bus_stop_data = pd.read_csv('Data/bus_stop.csv')\n",
    "cluster_group_data = pd.read_csv('Data/cluster_group.csv')\n",
    "\n",
    "\n",
    "stop_data = pd.read_csv('Data/stops.csv')\n",
    "general = pd.read_csv('Data/ScooterData_July15_Sept27_2019.csv')\n",
    "\n",
    "data_set = coor_data.join(cluster_group_data.join(bus_stop_data.join(date_data.join(meta_data))))\n",
    "data_set['start_date'] = pd.to_datetime(data_set['start_date'], infer_datetime_format=True)\n",
    "data_set.set_index('start_date', inplace=True)\n",
    "from scipy import stats\n",
    "\n",
    "general_np = general.to_numpy()"
   ]
  },
  {
   "cell_type": "code",
   "execution_count": 74,
   "metadata": {},
   "outputs": [],
   "source": [
    "\n",
    "data_set.insert(2, 'year', data_set.index.year)\n",
    "data_set.insert(2, 'month', data_set.index.month)\n",
    "data_set.insert(2, 'day', data_set.index.day)"
   ]
  },
  {
   "cell_type": "code",
   "execution_count": 76,
   "metadata": {},
   "outputs": [],
   "source": [
    "Y_data = data_set[['endx', 'endy']].to_numpy()\n",
    "X_data = data_set.drop(columns=['endx', 'endy','start_cluster_group', 'end_cluster_group', 'end_near_stop']).to_numpy()"
   ]
  },
  {
   "cell_type": "code",
   "execution_count": 77,
   "metadata": {},
   "outputs": [
    {
     "name": "stderr",
     "output_type": "stream",
     "text": [
      "100% (459478 of 459478) |################| Elapsed Time: 0:00:05 Time:  0:00:05\n"
     ]
    }
   ],
   "source": [
    "import progressbar\n",
    "\n",
    "X_sets_by_day = []\n",
    "Y_sets_by_day = []\n",
    "\n",
    "hr = 0\n",
    "x = []\n",
    "y = []\n",
    "\n",
    "compare_hr_before = 0\n",
    "compare_hr_current = 0\n",
    "for i in progressbar.progressbar(range(len(X_data))):\n",
    "    compare_hr_current = data_set['start_hour'][i]\n",
    "    if (compare_hr_before == 23 and compare_hr_current == 0):\n",
    "        hr = 0\n",
    "        X_sets_by_day.append(x)\n",
    "        Y_sets_by_day.append(y)\n",
    "        x = []\n",
    "        y = []\n",
    "    compare_hr_before = data_set['start_hour'][i]\n",
    "    x.append(X_data[i])\n",
    "    y.append(Y_data[i])\n",
    "    if i == (len(X_data) - 1):\n",
    "        X_sets_by_day.append(x)\n",
    "        Y_sets_by_day.append(y)\n",
    "        \n"
   ]
  },
  {
   "cell_type": "code",
   "execution_count": 22,
   "metadata": {},
   "outputs": [
    {
     "data": {
      "text/plain": [
       "17"
      ]
     },
     "execution_count": 22,
     "metadata": {},
     "output_type": "execute_result"
    }
   ],
   "source": [
    "xn_tranform_y"
   ]
  },
  {
   "cell_type": "code",
   "execution_count": 108,
   "metadata": {},
   "outputs": [
    {
     "name": "stderr",
     "output_type": "stream",
     "text": [
      "100% (75 of 75) |########################| Elapsed Time: 0:04:42 Time:  0:04:42\n"
     ]
    }
   ],
   "source": [
    "W = 32\n",
    "H = 32\n",
    "map_mat = np.zeros((W,H))\n",
    "\n",
    "map_set_by_day = []\n",
    "\n",
    "for i in progressbar.progressbar(range(len(X_sets_by_day))):\n",
    "    map_set_by_day.append([])\n",
    "    x_now_day = np.asarray(X_sets_by_day[i])\n",
    "    for j in range(len(X_sets_by_day[i])):\n",
    "        X_day = X_sets_by_day[i][j][0]*100\n",
    "        Y_day = X_sets_by_day[i][j][1]*100\n",
    "        map_set_by_day[i].append(map_mat.copy())\n",
    "        left = X_day - 5\n",
    "        right = X_day + 5\n",
    "        top = Y_day + 5\n",
    "        bottom = Y_day - 5\n",
    "        X_near = x_now_day[0:(j+1)]\n",
    "        X_near = X_near[np.logical_and( X_near[:,6] == X_near[j,6] ,np.logical_and(np.logical_and(X_near[:,0]*100 >= left,  X_near[:,0]*100 <= right), np.logical_and(X_near[:,1]*100 >= bottom,  X_near[:,1]*100 <= top)))]\n",
    "        \n",
    "        for x_n in range(len(X_near)):\n",
    "            xn_tranform_x = int(W*((X_near[x_n][0]*100) - left)/(right - left))\n",
    "            xn_tranform_y = int(H*((X_near[x_n][1]*100) - bottom)/(top - bottom))\n",
    "            map_set_by_day[i][j][xn_tranform_x,xn_tranform_y] = 1\n",
    "            \n",
    "        tranform_x = int(W*(X_day - left)/(right - left))\n",
    "        tranform_y = int(H*(Y_day - bottom)/(top - bottom))\n",
    "        map_set_by_day[i][j][tranform_x, tranform_y] = 2"
   ]
  },
  {
   "cell_type": "code",
   "execution_count": 107,
   "metadata": {},
   "outputs": [
    {
     "data": {
      "text/plain": [
       "array([], shape=(0, 67), dtype=float64)"
      ]
     },
     "execution_count": 107,
     "metadata": {},
     "output_type": "execute_result"
    }
   ],
   "source": [
    "import matplotlib.pyplot as plt\n",
    "\n",
    "x_now_day[0:0]"
   ]
  },
  {
   "cell_type": "code",
   "execution_count": null,
   "metadata": {},
   "outputs": [],
   "source": []
  },
  {
   "cell_type": "code",
   "execution_count": 109,
   "metadata": {},
   "outputs": [
    {
     "name": "stderr",
     "output_type": "stream",
     "text": [
      "100% (48 of 48) |########################| Elapsed Time: 0:00:00 Time:  0:00:00\n",
      "100% (27 of 27) |########################| Elapsed Time: 0:00:00 Time:  0:00:00\n"
     ]
    }
   ],
   "source": [
    "X_train_set = []\n",
    "Y_train_set = []\n",
    "Map_X_train_set = []\n",
    "for i in progressbar.progressbar(range(48)):\n",
    "    for j in range(len(X_sets_by_day[i])):\n",
    "        X_train_set.append(X_sets_by_day[i][j])\n",
    "        Y_train_set.append(Y_sets_by_day[i][j])\n",
    "        Map_X_train_set.append(map_set_by_day[i][j])\n",
    "\n",
    "X_test_set = []\n",
    "Y_test_set = []\n",
    "Map_X_test_set = []\n",
    "for i in progressbar.progressbar(range(48,len(X_sets_by_day))):\n",
    "    for j in range(len(X_sets_by_day[i])):\n",
    "        X_test_set.append(X_sets_by_day[i][j])\n",
    "        Y_test_set.append(Y_sets_by_day[i][j])\n",
    "        Map_X_test_set.append(map_set_by_day[i][j])\n",
    "        \n",
    "from sklearn.preprocessing import MinMaxScaler\n",
    "from tensorflow.python.keras.callbacks import EarlyStopping\n",
    "\n",
    "X_train_set = np.asarray(X_train_set)\n",
    "X_test_set = np.asarray(X_test_set)\n",
    "scx = MinMaxScaler(feature_range=(0,1))\n",
    "X_train_set_fit = scx.fit_transform(X_train_set)\n",
    "X_test_set_fit = scx.transform(X_test_set)\n",
    "\n",
    "Y_train_set = np.asarray(Y_train_set)\n",
    "Y_test_set = np.asarray(Y_test_set)\n",
    "scy = MinMaxScaler(feature_range=(0,1))\n",
    "Y_train_set_fit = scy.fit_transform(Y_train_set)\n",
    "Y_test_set_fit = scy.transform(Y_test_set)\n",
    "\n",
    "Map_X_train_set = np.asarray(Map_X_train_set)\n",
    "Map_X_test_set = np.asarray(Map_X_test_set)\n",
    "\n",
    "Map_X_train_set = Map_X_train_set.reshape(len(Map_X_train_set), Map_X_train_set.shape[1], Map_X_train_set.shape[2], 1)\n",
    "Map_X_test_set = Map_X_test_set.reshape(len(Map_X_test_set), Map_X_test_set.shape[1], Map_X_test_set.shape[2], 1)\n",
    "\n"
   ]
  },
  {
   "cell_type": "code",
   "execution_count": 131,
   "metadata": {},
   "outputs": [],
   "source": [
    "from tensorflow.keras import layers, Model\n",
    "from tensorflow.keras.layers import Conv2D, MaxPooling2D, Flatten, LSTM, Embedding\n",
    "from tensorflow.python.keras.layers.core import Dense, Activation, Dropout\n",
    "from tensorflow.python.keras.layers.recurrent import LSTM\n",
    "from copy import copy\n",
    "\n",
    "\n",
    "inputA = layers.Input(shape=(8))\n",
    "inputB = layers.Input(shape=(59))\n",
    "\n",
    "shape = Map_X_train_set.shape\n",
    "inputMap = layers.Input(shape=(shape[1],shape[2],1))\n",
    "mapx = Conv2D(filters=32, kernel_size=(4,4), input_shape=(shape[1],shape[2]), activation='relu',)(inputMap)\n",
    "mapx = Flatten()(mapx)\n",
    "mapx = Model(inputs=inputMap, outputs=mapx)\n",
    "\n",
    "\n",
    "\n",
    "# x = Embedding(input_dim=5, output_dim=15)(inputA)\n",
    "x = Dense(50)(inputA)\n",
    "x = Dense(62, activation=\"relu\")(x)\n",
    "x = Model(inputs=inputA, outputs=x)\n",
    "\n",
    "y = Dense(62)(inputB)\n",
    "y = Dense(70, activation=\"relu\")(y)\n",
    "y = Model(inputs=inputB, outputs=y)\n",
    "\n",
    "combined = layers.concatenate([x.output, y.output])\n",
    "\n",
    "final = Dense(100)(combined)\n",
    "\n",
    "final_cnn = Dense(100)(layers.concatenate([combined, mapx.output]))\n",
    "\n",
    "c = Dense(2)(final_cnn)\n",
    "\n",
    "\n",
    "model = Model(inputs=[x.input,y.input, mapx.input], outputs=c)\n",
    "model.compile(loss=\"mean_absolute_error\", optimizer=\"adam\")"
   ]
  },
  {
   "cell_type": "code",
   "execution_count": 114,
   "metadata": {},
   "outputs": [
    {
     "data": {
      "text/plain": [
       "array([0.1292517, 0.       , 0.       , ..., 0.2675737, 0.2675737,\n",
       "       0.2675737])"
      ]
     },
     "execution_count": 114,
     "metadata": {},
     "output_type": "execute_result"
    }
   ],
   "source": [
    "X_train_set_fit[:,63]"
   ]
  },
  {
   "cell_type": "code",
   "execution_count": null,
   "metadata": {},
   "outputs": [
    {
     "name": "stdout",
     "output_type": "stream",
     "text": [
      "Epoch 1/100\n",
      "272446/272446 [==============================] - 121s 443us/sample - loss: 0.0245\n",
      "Epoch 2/100\n",
      "272446/272446 [==============================] - 132s 483us/sample - loss: 0.0198\n",
      "Epoch 3/100\n",
      "272446/272446 [==============================] - 127s 466us/sample - loss: 0.0196\n",
      "Epoch 4/100\n",
      "272446/272446 [==============================] - 128s 470us/sample - loss: 0.0194\n",
      "Epoch 5/100\n",
      "272446/272446 [==============================] - 129s 473us/sample - loss: 0.0192\n",
      "Epoch 6/100\n",
      "272446/272446 [==============================] - 129s 472us/sample - loss: 0.0191\n",
      "Epoch 7/100\n",
      "272446/272446 [==============================] - 130s 476us/sample - loss: 0.0191\n",
      "Epoch 8/100\n",
      "272446/272446 [==============================] - 130s 476us/sample - loss: 0.0190\n",
      "Epoch 9/100\n",
      "272446/272446 [==============================] - 132s 484us/sample - loss: 0.0189\n",
      "Epoch 10/100\n",
      "272446/272446 [==============================] - 132s 486us/sample - loss: 0.0189\n",
      "Epoch 11/100\n",
      "272446/272446 [==============================] - 132s 483us/sample - loss: 0.0189\n",
      "Epoch 12/100\n",
      "272446/272446 [==============================] - 131s 482us/sample - loss: 0.0188\n",
      "Epoch 13/100\n",
      "272446/272446 [==============================] - 132s 484us/sample - loss: 0.0188\n",
      "Epoch 14/100\n",
      "272446/272446 [==============================] - 132s 486us/sample - loss: 0.0188\n",
      "Epoch 15/100\n",
      "272446/272446 [==============================] - 133s 487us/sample - loss: 0.0187\n",
      "Epoch 16/100\n",
      "173632/272446 [==================>...........] - ETA: 49s - loss: 0.0188"
     ]
    }
   ],
   "source": [
    "from tensorflow.python.keras.callbacks import EarlyStopping\n",
    "\n",
    "model.compile(loss=\"mean_absolute_error\", optimizer=\"adam\")\n",
    "\n",
    "callback = EarlyStopping(monitor='loss', patience=5, mode=\"auto\")\n",
    "# history = model.fit([x_train[:,0:7],x_train[:,7:]], [y_train[:,0:2], y_train[:,2:4]], epochs=100, validation_data=([x_test[:,0:7],x_test[:,7:]], [y_test[:,0:2], y_test[:,2:4]]))\n",
    "\n",
    "history = model.fit([X_train_set_fit[:,0:8],X_train_set_fit[:,8:], Map_X_train_set], Y_train_set_fit, epochs=100)"
   ]
  },
  {
   "cell_type": "code",
   "execution_count": null,
   "metadata": {},
   "outputs": [],
   "source": [
    "import matplotlib.pyplot as plt\n",
    "import numpy as np\n",
    "result_Y = (model.predict([X_test_set_fit[:,0:4],X_test_set_fit[:,4:], Map_X_test_set]))\n",
    "\n",
    "result_Y_plot = scy.inverse_transform(result_Y)\n",
    "y_test_plot = scy.inverse_transform(Y_test_set_fit)\n",
    "\n",
    "plt.scatter((y_test_plot[:,0]),(y_test_plot[:,1]), color='b', s= 1)\n",
    "plt.scatter((result_Y_plot[:,0]), (result_Y_plot[:,1]), color='r', s= 1)\n",
    "\n"
   ]
  },
  {
   "cell_type": "code",
   "execution_count": null,
   "metadata": {},
   "outputs": [],
   "source": [
    "result = model.predict([X_test_set_fit[:,0:4],X_test_set_fit[:,4:], Map_X_test_set])"
   ]
  },
  {
   "cell_type": "code",
   "execution_count": null,
   "metadata": {},
   "outputs": [],
   "source": [
    "def haversine(coord1: object, coord2: object):\n",
    "    import math\n",
    "\n",
    "    # Coordinates in decimal degrees (e.g. 2.89078, 12.79797)\n",
    "    lon1, lat1 = coord1\n",
    "    lon2, lat2 = coord2\n",
    "\n",
    "    R = 6371000  # radius of Earth in meters\n",
    "    phi_1 = math.radians(lat1)\n",
    "    phi_2 = math.radians(lat2)\n",
    "\n",
    "    delta_phi = math.radians(lat2 - lat1)\n",
    "    delta_lambda = math.radians(lon2 - lon1)\n",
    "\n",
    "    a = math.sin(delta_phi / 2.0) ** 2 + math.cos(phi_1) * math.cos(phi_2) * math.sin(delta_lambda / 2.0) ** 2\n",
    "    \n",
    "    c = 2 * math.atan2(math.sqrt(a), math.sqrt(1 - a))\n",
    "\n",
    "    meters = R * c  # output distance in meters\n",
    "    km = meters / 1000.0  # output distance in kilometers\n",
    "\n",
    "    meters = round(meters, 5)\n",
    "    km = round(km, 5)\n",
    "    return km"
   ]
  },
  {
   "cell_type": "code",
   "execution_count": null,
   "metadata": {},
   "outputs": [],
   "source": [
    "mae_rate_day_of_week = []\n",
    "\n",
    "x_test_day = scx.inverse_transform(X_test_set_fit)\n",
    "result_Y_day = scy.inverse_transform(result)\n",
    "y_test_day = scy.inverse_transform(Y_test_set_fit)\n",
    "for index in range(7):\n",
    "    mask = np.logical_and(x_test_day[:,4] > (index)-0.1, x_test_day[:,4] < (index+1)-0.1)\n",
    "    result_Y_d_day = result_Y_day[mask]\n",
    "    Y_test_in = y_test_day[mask]\n",
    "    error = 0\n",
    "    haverList = []\n",
    "    for i in (range(len(Y_test_in))):\n",
    "        error = error + haversine(result_Y_d_day[i,0:2],Y_test_in[i,0:2])\n",
    "    end = error/len(Y_test_in)\n",
    "    error_average_distance = end\n",
    "\n",
    "    mae_rate_day_of_week.append([error_average_distance, str(index+1)])\n",
    "\n",
    "mae_rate_day_of_week = np.array(mae_rate_day_of_week, dtype=np.object)\n",
    "plt.xlabel('days of week')\n",
    "plt.ylabel('error_avg_distance(km)')\n",
    "plt.grid(color='black', linestyle='-', linewidth=0.3)\n",
    "plt.scatter(mae_rate_day_of_week[:,1], mae_rate_day_of_week[:,0], color='r', s= 1)"
   ]
  },
  {
   "cell_type": "code",
   "execution_count": null,
   "metadata": {},
   "outputs": [],
   "source": [
    "result_Y_all = scy.inverse_transform(result_Y)\n",
    "y_test_all = scy.inverse_transform(Y_test_set_fit)\n",
    "error_all = 0\n",
    "for i in (range(len(y_test_all))):\n",
    "    error_all = error_all + haversine(result_Y_all[i],y_test_all[i])\n",
    "    error_avg = error_all/len(y_test_all)\n",
    "error_avg"
   ]
  },
  {
   "cell_type": "code",
   "execution_count": null,
   "metadata": {},
   "outputs": [],
   "source": []
  },
  {
   "cell_type": "code",
   "execution_count": null,
   "metadata": {},
   "outputs": [],
   "source": []
  }
 ],
 "metadata": {
  "kernelspec": {
   "display_name": "Python 3",
   "language": "python",
   "name": "python3"
  },
  "language_info": {
   "codemirror_mode": {
    "name": "ipython",
    "version": 3
   },
   "file_extension": ".py",
   "mimetype": "text/x-python",
   "name": "python",
   "nbconvert_exporter": "python",
   "pygments_lexer": "ipython3",
   "version": "3.7.8"
  }
 },
 "nbformat": 4,
 "nbformat_minor": 4
}
