{
 "cells": [
  {
   "cell_type": "code",
   "execution_count": 3,
   "metadata": {},
   "outputs": [],
   "source": [
    "import pandas as pd\n",
    "import geopandas as gpd\n",
    "import numpy as np\n",
    "\n",
    "census_by_community = gpd.read_file('Data/census_by_community1.shp')\n",
    "grid_data = gpd.read_file('Data/ScooterGridId.shp')\n",
    "data = pd.read_csv('Data/ScooterData_July15_Sept27_2019.csv')\n",
    "\n",
    "data_point_start = data[['startx','starty']].to_numpy()\n",
    "data_point_end = data[['endx','endy']].to_numpy()"
   ]
  },
  {
   "cell_type": "code",
   "execution_count": 4,
   "metadata": {},
   "outputs": [
    {
     "name": "stderr",
     "output_type": "stream",
     "text": [
      "100% (459478 of 459478) |################| Elapsed Time: 0:47:13 Time:  0:47:13\n"
     ]
    }
   ],
   "source": [
    "import progressbar\n",
    "from shapely.geometry import Polygon, Point\n",
    "\n",
    "data_from_census_start = []\n",
    "for i in progressbar.progressbar(range(len(data_point_start))):\n",
    "    for census_i in range(len(census_by_community)):\n",
    "        if Point(data_point_start[i]).within(census_by_community.geometry[census_i]) == True :\n",
    "            cd = census_by_community\n",
    "            data_from_census_start.append([cd.apartment[census_i], cd.apt_na[census_i], cd.apt_no_res[census_i], cd.apt_occpd[census_i], cd.apt_owned[census_i], cd.apt_person[census_i]\n",
    "                                    , cd.apt_uc[census_i], cd.apt_vacant[census_i]\n",
    "                                    , cd['class'][census_i]\n",
    "                                    , cd.cnv_na[census_i], cd.cnv_no_res[census_i], cd.cnv_occpd[census_i], cd.cnv_owned[census_i], cd.cnv_person[census_i]\n",
    "                                    , cd.cnv_uc[census_i], cd.cnv_vacant[census_i]\n",
    "                                    , cd.comunl_hse[census_i]\n",
    "                                    , cd.conv_struc[census_i]\n",
    "                                    , cd.dog_cnt[census_i]\n",
    "                                    , cd.dup_na[census_i], cd.dup_no_res[census_i], cd.dup_occpd[census_i], cd.dup_owned[census_i], cd.dup_person[census_i]\n",
    "                                    , cd.dup_uc[census_i], cd.dup_vacant[census_i]\n",
    "                                    , cd.dwell_cnt[census_i]\n",
    "                                    , cd.fem_0_4[census_i], cd.fem_5_14[census_i], cd.fem_15_19[census_i], cd.fem_20_24[census_i], cd.fem_25_34[census_i], cd.fem_35_44[census_i]\n",
    "                                    , cd.fem_45_54[census_i], cd.fem_55_64[census_i], cd.fem_65_74[census_i], cd.fem_75[census_i], cd.female_cnt[census_i]\n",
    "                                    , cd.male_0_4[census_i], cd.male_5_14[census_i], cd.male_15_19[census_i], cd.male_20_24[census_i], cd.male_25_34[census_i], cd.male_35_44[census_i]\n",
    "                                    , cd.male_45_54[census_i], cd.male_55_64[census_i], cd.male_65_74[census_i], cd.male_75[census_i], cd.male_cnt[census_i]\n",
    "                                    , cd.nursing_hm[census_i]\n",
    "                                    , cd.sing_famly[census_i]\n",
    "                                    , cd.town_house[census_i], cd.twn_na[census_i], cd.twn_no_res[census_i], cd.twn_occpd[census_i], cd.twn_owned[census_i], cd.twn_person[census_i]\n",
    "                                    , cd.twn_uc[census_i], cd.twn_vacant[census_i]])\n",
    "            break\n",
    "            "
   ]
  },
  {
   "cell_type": "code",
   "execution_count": 6,
   "metadata": {},
   "outputs": [],
   "source": [
    "data_from_census_numpy_s = np.array(data_from_census_start)"
   ]
  },
  {
   "cell_type": "code",
   "execution_count": 7,
   "metadata": {},
   "outputs": [],
   "source": [
    "np.savetxt(\"Data/metadata.csv\", data_from_census_numpy_s , delimiter='  ', comments='', fmt='%s')"
   ]
  },
  {
   "cell_type": "code",
   "execution_count": 2,
   "metadata": {},
   "outputs": [],
   "source": [
    "date_data = data[['start_date', 'start_hour', 'start_day_of_week']].to_numpy()\n"
   ]
  },
  {
   "cell_type": "code",
   "execution_count": 7,
   "metadata": {},
   "outputs": [],
   "source": [
    "np.savetxt(\"datedata.csv\", date_data , delimiter='  ', comments='', fmt='%s') "
   ]
  },
  {
   "cell_type": "code",
   "execution_count": 1,
   "metadata": {},
   "outputs": [
    {
     "name": "stderr",
     "output_type": "stream",
     "text": [
      "ERROR:root:Internal Python error in the inspect module.\n",
      "Below is the traceback from this internal error.\n",
      "\n"
     ]
    },
    {
     "name": "stdout",
     "output_type": "stream",
     "text": [
      "Traceback (most recent call last):\n",
      "  File \"/Users/norma/anaconda3/envs/geo_env/lib/python3.7/site-packages/IPython/core/interactiveshell.py\", line 3418, in run_code\n",
      "    exec(code_obj, self.user_global_ns, self.user_ns)\n",
      "  File \"<ipython-input-1-b4509cbd40d3>\", line 7, in <module>\n",
      "    data = pd.read_csv('Data/ScooterData_July15_Sept27_2019.csv')\n",
      "  File \"/Users/norma/anaconda3/envs/geo_env/lib/python3.7/site-packages/pandas/io/parsers.py\", line 688, in read_csv\n",
      "    return _read(filepath_or_buffer, kwds)\n",
      "  File \"/Users/norma/anaconda3/envs/geo_env/lib/python3.7/site-packages/pandas/io/parsers.py\", line 460, in _read\n",
      "    data = parser.read(nrows)\n",
      "  File \"/Users/norma/anaconda3/envs/geo_env/lib/python3.7/site-packages/pandas/io/parsers.py\", line 1198, in read\n",
      "    ret = self._engine.read(nrows)\n",
      "  File \"/Users/norma/anaconda3/envs/geo_env/lib/python3.7/site-packages/pandas/io/parsers.py\", line 2157, in read\n",
      "    data = self._reader.read(nrows)\n",
      "  File \"pandas/_libs/parsers.pyx\", line 847, in pandas._libs.parsers.TextReader.read\n",
      "  File \"pandas/_libs/parsers.pyx\", line 862, in pandas._libs.parsers.TextReader._read_low_memory\n",
      "  File \"pandas/_libs/parsers.pyx\", line 941, in pandas._libs.parsers.TextReader._read_rows\n",
      "  File \"pandas/_libs/parsers.pyx\", line 1073, in pandas._libs.parsers.TextReader._convert_column_data\n",
      "  File \"pandas/_libs/parsers.pyx\", line 1119, in pandas._libs.parsers.TextReader._convert_tokens\n",
      "  File \"pandas/_libs/parsers.pyx\", line 1162, in pandas._libs.parsers.TextReader._convert_with_dtype\n",
      "  File \"/Users/norma/anaconda3/envs/geo_env/lib/python3.7/site-packages/pandas/core/dtypes/common.py\", line 530, in is_categorical_dtype\n",
      "    def is_categorical_dtype(arr_or_dtype) -> bool:\n",
      "KeyboardInterrupt\n",
      "\n",
      "During handling of the above exception, another exception occurred:\n",
      "\n",
      "Traceback (most recent call last):\n",
      "  File \"/Users/norma/anaconda3/envs/geo_env/lib/python3.7/site-packages/IPython/core/interactiveshell.py\", line 2045, in showtraceback\n",
      "    stb = value._render_traceback_()\n",
      "AttributeError: 'KeyboardInterrupt' object has no attribute '_render_traceback_'\n",
      "\n",
      "During handling of the above exception, another exception occurred:\n",
      "\n",
      "Traceback (most recent call last):\n",
      "  File \"/Users/norma/anaconda3/envs/geo_env/lib/python3.7/site-packages/IPython/core/ultratb.py\", line 1170, in get_records\n",
      "    return _fixed_getinnerframes(etb, number_of_lines_of_context, tb_offset)\n",
      "  File \"/Users/norma/anaconda3/envs/geo_env/lib/python3.7/site-packages/IPython/core/ultratb.py\", line 316, in wrapped\n",
      "    return f(*args, **kwargs)\n",
      "  File \"/Users/norma/anaconda3/envs/geo_env/lib/python3.7/site-packages/IPython/core/ultratb.py\", line 350, in _fixed_getinnerframes\n",
      "    records = fix_frame_records_filenames(inspect.getinnerframes(etb, context))\n",
      "  File \"/Users/norma/anaconda3/envs/geo_env/lib/python3.7/inspect.py\", line 1502, in getinnerframes\n",
      "    frameinfo = (tb.tb_frame,) + getframeinfo(tb, context)\n",
      "  File \"/Users/norma/anaconda3/envs/geo_env/lib/python3.7/inspect.py\", line 1460, in getframeinfo\n",
      "    filename = getsourcefile(frame) or getfile(frame)\n",
      "  File \"/Users/norma/anaconda3/envs/geo_env/lib/python3.7/inspect.py\", line 696, in getsourcefile\n",
      "    if getattr(getmodule(object, filename), '__loader__', None) is not None:\n",
      "  File \"/Users/norma/anaconda3/envs/geo_env/lib/python3.7/inspect.py\", line 742, in getmodule\n",
      "    os.path.realpath(f)] = module.__name__\n",
      "  File \"/Users/norma/anaconda3/envs/geo_env/lib/python3.7/posixpath.py\", line 395, in realpath\n",
      "    path, ok = _joinrealpath(filename[:0], filename, {})\n",
      "  File \"/Users/norma/anaconda3/envs/geo_env/lib/python3.7/posixpath.py\", line 429, in _joinrealpath\n",
      "    if not islink(newpath):\n",
      "  File \"/Users/norma/anaconda3/envs/geo_env/lib/python3.7/posixpath.py\", line 171, in islink\n",
      "    st = os.lstat(path)\n",
      "KeyboardInterrupt\n"
     ]
    },
    {
     "ename": "TypeError",
     "evalue": "object of type 'NoneType' has no len()",
     "output_type": "error",
     "traceback": [
      "\u001b[0;31m---------------------------------------------------------------------------\u001b[0m",
      "\u001b[0;31mKeyboardInterrupt\u001b[0m                         Traceback (most recent call last)",
      "    \u001b[0;31m[... skipping hidden 1 frame]\u001b[0m\n",
      "\u001b[0;32m<ipython-input-1-b4509cbd40d3>\u001b[0m in \u001b[0;36m<module>\u001b[0;34m\u001b[0m\n\u001b[1;32m      6\u001b[0m \u001b[0mgrid_data\u001b[0m \u001b[0;34m=\u001b[0m \u001b[0mgpd\u001b[0m\u001b[0;34m.\u001b[0m\u001b[0mread_file\u001b[0m\u001b[0;34m(\u001b[0m\u001b[0;34m'Data/ScooterGridId.shp'\u001b[0m\u001b[0;34m)\u001b[0m\u001b[0;34m\u001b[0m\u001b[0;34m\u001b[0m\u001b[0m\n\u001b[0;32m----> 7\u001b[0;31m \u001b[0mdata\u001b[0m \u001b[0;34m=\u001b[0m \u001b[0mpd\u001b[0m\u001b[0;34m.\u001b[0m\u001b[0mread_csv\u001b[0m\u001b[0;34m(\u001b[0m\u001b[0;34m'Data/ScooterData_July15_Sept27_2019.csv'\u001b[0m\u001b[0;34m)\u001b[0m\u001b[0;34m\u001b[0m\u001b[0;34m\u001b[0m\u001b[0m\n\u001b[0m\u001b[1;32m      8\u001b[0m \u001b[0;34m\u001b[0m\u001b[0m\n",
      "\u001b[0;32m~/anaconda3/envs/geo_env/lib/python3.7/site-packages/pandas/io/parsers.py\u001b[0m in \u001b[0;36mread_csv\u001b[0;34m(filepath_or_buffer, sep, delimiter, header, names, index_col, usecols, squeeze, prefix, mangle_dupe_cols, dtype, engine, converters, true_values, false_values, skipinitialspace, skiprows, skipfooter, nrows, na_values, keep_default_na, na_filter, verbose, skip_blank_lines, parse_dates, infer_datetime_format, keep_date_col, date_parser, dayfirst, cache_dates, iterator, chunksize, compression, thousands, decimal, lineterminator, quotechar, quoting, doublequote, escapechar, comment, encoding, dialect, error_bad_lines, warn_bad_lines, delim_whitespace, low_memory, memory_map, float_precision)\u001b[0m\n\u001b[1;32m    687\u001b[0m \u001b[0;34m\u001b[0m\u001b[0m\n\u001b[0;32m--> 688\u001b[0;31m     \u001b[0;32mreturn\u001b[0m \u001b[0m_read\u001b[0m\u001b[0;34m(\u001b[0m\u001b[0mfilepath_or_buffer\u001b[0m\u001b[0;34m,\u001b[0m \u001b[0mkwds\u001b[0m\u001b[0;34m)\u001b[0m\u001b[0;34m\u001b[0m\u001b[0;34m\u001b[0m\u001b[0m\n\u001b[0m\u001b[1;32m    689\u001b[0m \u001b[0;34m\u001b[0m\u001b[0m\n",
      "\u001b[0;32m~/anaconda3/envs/geo_env/lib/python3.7/site-packages/pandas/io/parsers.py\u001b[0m in \u001b[0;36m_read\u001b[0;34m(filepath_or_buffer, kwds)\u001b[0m\n\u001b[1;32m    459\u001b[0m     \u001b[0;32mtry\u001b[0m\u001b[0;34m:\u001b[0m\u001b[0;34m\u001b[0m\u001b[0;34m\u001b[0m\u001b[0m\n\u001b[0;32m--> 460\u001b[0;31m         \u001b[0mdata\u001b[0m \u001b[0;34m=\u001b[0m \u001b[0mparser\u001b[0m\u001b[0;34m.\u001b[0m\u001b[0mread\u001b[0m\u001b[0;34m(\u001b[0m\u001b[0mnrows\u001b[0m\u001b[0;34m)\u001b[0m\u001b[0;34m\u001b[0m\u001b[0;34m\u001b[0m\u001b[0m\n\u001b[0m\u001b[1;32m    461\u001b[0m     \u001b[0;32mfinally\u001b[0m\u001b[0;34m:\u001b[0m\u001b[0;34m\u001b[0m\u001b[0;34m\u001b[0m\u001b[0m\n",
      "\u001b[0;32m~/anaconda3/envs/geo_env/lib/python3.7/site-packages/pandas/io/parsers.py\u001b[0m in \u001b[0;36mread\u001b[0;34m(self, nrows)\u001b[0m\n\u001b[1;32m   1197\u001b[0m         \u001b[0mnrows\u001b[0m \u001b[0;34m=\u001b[0m \u001b[0m_validate_integer\u001b[0m\u001b[0;34m(\u001b[0m\u001b[0;34m\"nrows\"\u001b[0m\u001b[0;34m,\u001b[0m \u001b[0mnrows\u001b[0m\u001b[0;34m)\u001b[0m\u001b[0;34m\u001b[0m\u001b[0;34m\u001b[0m\u001b[0m\n\u001b[0;32m-> 1198\u001b[0;31m         \u001b[0mret\u001b[0m \u001b[0;34m=\u001b[0m \u001b[0mself\u001b[0m\u001b[0;34m.\u001b[0m\u001b[0m_engine\u001b[0m\u001b[0;34m.\u001b[0m\u001b[0mread\u001b[0m\u001b[0;34m(\u001b[0m\u001b[0mnrows\u001b[0m\u001b[0;34m)\u001b[0m\u001b[0;34m\u001b[0m\u001b[0;34m\u001b[0m\u001b[0m\n\u001b[0m\u001b[1;32m   1199\u001b[0m \u001b[0;34m\u001b[0m\u001b[0m\n",
      "\u001b[0;32m~/anaconda3/envs/geo_env/lib/python3.7/site-packages/pandas/io/parsers.py\u001b[0m in \u001b[0;36mread\u001b[0;34m(self, nrows)\u001b[0m\n\u001b[1;32m   2156\u001b[0m         \u001b[0;32mtry\u001b[0m\u001b[0;34m:\u001b[0m\u001b[0;34m\u001b[0m\u001b[0;34m\u001b[0m\u001b[0m\n\u001b[0;32m-> 2157\u001b[0;31m             \u001b[0mdata\u001b[0m \u001b[0;34m=\u001b[0m \u001b[0mself\u001b[0m\u001b[0;34m.\u001b[0m\u001b[0m_reader\u001b[0m\u001b[0;34m.\u001b[0m\u001b[0mread\u001b[0m\u001b[0;34m(\u001b[0m\u001b[0mnrows\u001b[0m\u001b[0;34m)\u001b[0m\u001b[0;34m\u001b[0m\u001b[0;34m\u001b[0m\u001b[0m\n\u001b[0m\u001b[1;32m   2158\u001b[0m         \u001b[0;32mexcept\u001b[0m \u001b[0mStopIteration\u001b[0m\u001b[0;34m:\u001b[0m\u001b[0;34m\u001b[0m\u001b[0;34m\u001b[0m\u001b[0m\n",
      "\u001b[0;32mpandas/_libs/parsers.pyx\u001b[0m in \u001b[0;36mpandas._libs.parsers.TextReader.read\u001b[0;34m()\u001b[0m\n",
      "\u001b[0;32mpandas/_libs/parsers.pyx\u001b[0m in \u001b[0;36mpandas._libs.parsers.TextReader._read_low_memory\u001b[0;34m()\u001b[0m\n",
      "\u001b[0;32mpandas/_libs/parsers.pyx\u001b[0m in \u001b[0;36mpandas._libs.parsers.TextReader._read_rows\u001b[0;34m()\u001b[0m\n",
      "\u001b[0;32mpandas/_libs/parsers.pyx\u001b[0m in \u001b[0;36mpandas._libs.parsers.TextReader._convert_column_data\u001b[0;34m()\u001b[0m\n",
      "\u001b[0;32mpandas/_libs/parsers.pyx\u001b[0m in \u001b[0;36mpandas._libs.parsers.TextReader._convert_tokens\u001b[0;34m()\u001b[0m\n",
      "\u001b[0;32mpandas/_libs/parsers.pyx\u001b[0m in \u001b[0;36mpandas._libs.parsers.TextReader._convert_with_dtype\u001b[0;34m()\u001b[0m\n",
      "\u001b[0;32m~/anaconda3/envs/geo_env/lib/python3.7/site-packages/pandas/core/dtypes/common.py\u001b[0m in \u001b[0;36mis_categorical_dtype\u001b[0;34m(arr_or_dtype)\u001b[0m\n\u001b[1;32m    529\u001b[0m \u001b[0;34m\u001b[0m\u001b[0m\n\u001b[0;32m--> 530\u001b[0;31m \u001b[0;32mdef\u001b[0m \u001b[0mis_categorical_dtype\u001b[0m\u001b[0;34m(\u001b[0m\u001b[0marr_or_dtype\u001b[0m\u001b[0;34m)\u001b[0m \u001b[0;34m->\u001b[0m \u001b[0mbool\u001b[0m\u001b[0;34m:\u001b[0m\u001b[0;34m\u001b[0m\u001b[0;34m\u001b[0m\u001b[0m\n\u001b[0m\u001b[1;32m    531\u001b[0m     \"\"\"\n",
      "\u001b[0;31mKeyboardInterrupt\u001b[0m: ",
      "\nDuring handling of the above exception, another exception occurred:\n",
      "\u001b[0;31mAttributeError\u001b[0m                            Traceback (most recent call last)",
      "\u001b[0;32m~/anaconda3/envs/geo_env/lib/python3.7/site-packages/IPython/core/interactiveshell.py\u001b[0m in \u001b[0;36mshowtraceback\u001b[0;34m(self, exc_tuple, filename, tb_offset, exception_only, running_compiled_code)\u001b[0m\n\u001b[1;32m   2044\u001b[0m                         \u001b[0;31m# in the engines. This should return a list of strings.\u001b[0m\u001b[0;34m\u001b[0m\u001b[0;34m\u001b[0m\u001b[0;34m\u001b[0m\u001b[0m\n\u001b[0;32m-> 2045\u001b[0;31m                         \u001b[0mstb\u001b[0m \u001b[0;34m=\u001b[0m \u001b[0mvalue\u001b[0m\u001b[0;34m.\u001b[0m\u001b[0m_render_traceback_\u001b[0m\u001b[0;34m(\u001b[0m\u001b[0;34m)\u001b[0m\u001b[0;34m\u001b[0m\u001b[0;34m\u001b[0m\u001b[0m\n\u001b[0m\u001b[1;32m   2046\u001b[0m                     \u001b[0;32mexcept\u001b[0m \u001b[0mException\u001b[0m\u001b[0;34m:\u001b[0m\u001b[0;34m\u001b[0m\u001b[0;34m\u001b[0m\u001b[0m\n",
      "\u001b[0;31mAttributeError\u001b[0m: 'KeyboardInterrupt' object has no attribute '_render_traceback_'",
      "\nDuring handling of the above exception, another exception occurred:\n",
      "\u001b[0;31mTypeError\u001b[0m                                 Traceback (most recent call last)",
      "    \u001b[0;31m[... skipping hidden 1 frame]\u001b[0m\n",
      "\u001b[0;32m~/anaconda3/envs/geo_env/lib/python3.7/site-packages/IPython/core/interactiveshell.py\u001b[0m in \u001b[0;36mshowtraceback\u001b[0;34m(self, exc_tuple, filename, tb_offset, exception_only, running_compiled_code)\u001b[0m\n\u001b[1;32m   2046\u001b[0m                     \u001b[0;32mexcept\u001b[0m \u001b[0mException\u001b[0m\u001b[0;34m:\u001b[0m\u001b[0;34m\u001b[0m\u001b[0;34m\u001b[0m\u001b[0m\n\u001b[1;32m   2047\u001b[0m                         stb = self.InteractiveTB.structured_traceback(etype,\n\u001b[0;32m-> 2048\u001b[0;31m                                             value, tb, tb_offset=tb_offset)\n\u001b[0m\u001b[1;32m   2049\u001b[0m \u001b[0;34m\u001b[0m\u001b[0m\n\u001b[1;32m   2050\u001b[0m                     \u001b[0mself\u001b[0m\u001b[0;34m.\u001b[0m\u001b[0m_showtraceback\u001b[0m\u001b[0;34m(\u001b[0m\u001b[0metype\u001b[0m\u001b[0;34m,\u001b[0m \u001b[0mvalue\u001b[0m\u001b[0;34m,\u001b[0m \u001b[0mstb\u001b[0m\u001b[0;34m)\u001b[0m\u001b[0;34m\u001b[0m\u001b[0;34m\u001b[0m\u001b[0m\n",
      "\u001b[0;32m~/anaconda3/envs/geo_env/lib/python3.7/site-packages/IPython/core/ultratb.py\u001b[0m in \u001b[0;36mstructured_traceback\u001b[0;34m(self, etype, value, tb, tb_offset, number_of_lines_of_context)\u001b[0m\n\u001b[1;32m   1435\u001b[0m             \u001b[0mself\u001b[0m\u001b[0;34m.\u001b[0m\u001b[0mtb\u001b[0m \u001b[0;34m=\u001b[0m \u001b[0mtb\u001b[0m\u001b[0;34m\u001b[0m\u001b[0;34m\u001b[0m\u001b[0m\n\u001b[1;32m   1436\u001b[0m         return FormattedTB.structured_traceback(\n\u001b[0;32m-> 1437\u001b[0;31m             self, etype, value, tb, tb_offset, number_of_lines_of_context)\n\u001b[0m\u001b[1;32m   1438\u001b[0m \u001b[0;34m\u001b[0m\u001b[0m\n\u001b[1;32m   1439\u001b[0m \u001b[0;34m\u001b[0m\u001b[0m\n",
      "\u001b[0;32m~/anaconda3/envs/geo_env/lib/python3.7/site-packages/IPython/core/ultratb.py\u001b[0m in \u001b[0;36mstructured_traceback\u001b[0;34m(self, etype, value, tb, tb_offset, number_of_lines_of_context)\u001b[0m\n\u001b[1;32m   1335\u001b[0m             \u001b[0;31m# Verbose modes need a full traceback\u001b[0m\u001b[0;34m\u001b[0m\u001b[0;34m\u001b[0m\u001b[0;34m\u001b[0m\u001b[0m\n\u001b[1;32m   1336\u001b[0m             return VerboseTB.structured_traceback(\n\u001b[0;32m-> 1337\u001b[0;31m                 \u001b[0mself\u001b[0m\u001b[0;34m,\u001b[0m \u001b[0metype\u001b[0m\u001b[0;34m,\u001b[0m \u001b[0mvalue\u001b[0m\u001b[0;34m,\u001b[0m \u001b[0mtb\u001b[0m\u001b[0;34m,\u001b[0m \u001b[0mtb_offset\u001b[0m\u001b[0;34m,\u001b[0m \u001b[0mnumber_of_lines_of_context\u001b[0m\u001b[0;34m\u001b[0m\u001b[0;34m\u001b[0m\u001b[0m\n\u001b[0m\u001b[1;32m   1338\u001b[0m             )\n\u001b[1;32m   1339\u001b[0m         \u001b[0;32melif\u001b[0m \u001b[0mmode\u001b[0m \u001b[0;34m==\u001b[0m \u001b[0;34m'Minimal'\u001b[0m\u001b[0;34m:\u001b[0m\u001b[0;34m\u001b[0m\u001b[0;34m\u001b[0m\u001b[0m\n",
      "\u001b[0;32m~/anaconda3/envs/geo_env/lib/python3.7/site-packages/IPython/core/ultratb.py\u001b[0m in \u001b[0;36mstructured_traceback\u001b[0;34m(self, etype, evalue, etb, tb_offset, number_of_lines_of_context)\u001b[0m\n\u001b[1;32m   1192\u001b[0m \u001b[0;34m\u001b[0m\u001b[0m\n\u001b[1;32m   1193\u001b[0m         formatted_exception = self.format_exception_as_a_whole(etype, evalue, etb, number_of_lines_of_context,\n\u001b[0;32m-> 1194\u001b[0;31m                                                                tb_offset)\n\u001b[0m\u001b[1;32m   1195\u001b[0m \u001b[0;34m\u001b[0m\u001b[0m\n\u001b[1;32m   1196\u001b[0m         \u001b[0mcolors\u001b[0m \u001b[0;34m=\u001b[0m \u001b[0mself\u001b[0m\u001b[0;34m.\u001b[0m\u001b[0mColors\u001b[0m  \u001b[0;31m# just a shorthand + quicker name lookup\u001b[0m\u001b[0;34m\u001b[0m\u001b[0;34m\u001b[0m\u001b[0m\n",
      "\u001b[0;32m~/anaconda3/envs/geo_env/lib/python3.7/site-packages/IPython/core/ultratb.py\u001b[0m in \u001b[0;36mformat_exception_as_a_whole\u001b[0;34m(self, etype, evalue, etb, number_of_lines_of_context, tb_offset)\u001b[0m\n\u001b[1;32m   1149\u001b[0m \u001b[0;34m\u001b[0m\u001b[0m\n\u001b[1;32m   1150\u001b[0m \u001b[0;34m\u001b[0m\u001b[0m\n\u001b[0;32m-> 1151\u001b[0;31m         \u001b[0mlast_unique\u001b[0m\u001b[0;34m,\u001b[0m \u001b[0mrecursion_repeat\u001b[0m \u001b[0;34m=\u001b[0m \u001b[0mfind_recursion\u001b[0m\u001b[0;34m(\u001b[0m\u001b[0morig_etype\u001b[0m\u001b[0;34m,\u001b[0m \u001b[0mevalue\u001b[0m\u001b[0;34m,\u001b[0m \u001b[0mrecords\u001b[0m\u001b[0;34m)\u001b[0m\u001b[0;34m\u001b[0m\u001b[0;34m\u001b[0m\u001b[0m\n\u001b[0m\u001b[1;32m   1152\u001b[0m \u001b[0;34m\u001b[0m\u001b[0m\n\u001b[1;32m   1153\u001b[0m         \u001b[0mframes\u001b[0m \u001b[0;34m=\u001b[0m \u001b[0mself\u001b[0m\u001b[0;34m.\u001b[0m\u001b[0mformat_records\u001b[0m\u001b[0;34m(\u001b[0m\u001b[0mrecords\u001b[0m\u001b[0;34m,\u001b[0m \u001b[0mlast_unique\u001b[0m\u001b[0;34m,\u001b[0m \u001b[0mrecursion_repeat\u001b[0m\u001b[0;34m)\u001b[0m\u001b[0;34m\u001b[0m\u001b[0;34m\u001b[0m\u001b[0m\n",
      "\u001b[0;32m~/anaconda3/envs/geo_env/lib/python3.7/site-packages/IPython/core/ultratb.py\u001b[0m in \u001b[0;36mfind_recursion\u001b[0;34m(etype, value, records)\u001b[0m\n\u001b[1;32m    449\u001b[0m     \u001b[0;31m# first frame (from in to out) that looks different.\u001b[0m\u001b[0;34m\u001b[0m\u001b[0;34m\u001b[0m\u001b[0;34m\u001b[0m\u001b[0m\n\u001b[1;32m    450\u001b[0m     \u001b[0;32mif\u001b[0m \u001b[0;32mnot\u001b[0m \u001b[0mis_recursion_error\u001b[0m\u001b[0;34m(\u001b[0m\u001b[0metype\u001b[0m\u001b[0;34m,\u001b[0m \u001b[0mvalue\u001b[0m\u001b[0;34m,\u001b[0m \u001b[0mrecords\u001b[0m\u001b[0;34m)\u001b[0m\u001b[0;34m:\u001b[0m\u001b[0;34m\u001b[0m\u001b[0;34m\u001b[0m\u001b[0m\n\u001b[0;32m--> 451\u001b[0;31m         \u001b[0;32mreturn\u001b[0m \u001b[0mlen\u001b[0m\u001b[0;34m(\u001b[0m\u001b[0mrecords\u001b[0m\u001b[0;34m)\u001b[0m\u001b[0;34m,\u001b[0m \u001b[0;36m0\u001b[0m\u001b[0;34m\u001b[0m\u001b[0;34m\u001b[0m\u001b[0m\n\u001b[0m\u001b[1;32m    452\u001b[0m \u001b[0;34m\u001b[0m\u001b[0m\n\u001b[1;32m    453\u001b[0m     \u001b[0;31m# Select filename, lineno, func_name to track frames with\u001b[0m\u001b[0;34m\u001b[0m\u001b[0;34m\u001b[0m\u001b[0;34m\u001b[0m\u001b[0m\n",
      "\u001b[0;31mTypeError\u001b[0m: object of type 'NoneType' has no len()"
     ]
    }
   ],
   "source": [
    "import pandas as pd\n",
    "import geopandas as gpd\n",
    "import numpy as np\n",
    "\n",
    "census_by_community = gpd.read_file('Data/census_by_community1.shp')\n",
    "grid_data = gpd.read_file('Data/ScooterGridId.shp')\n",
    "data = pd.read_csv('Data/ScooterData_July15_Sept27_2019.csv')\n",
    "\n",
    "data_point = data[['startx','starty']].to_numpy()\n",
    "\n",
    "import progressbar\n",
    "from shapely.geometry import shape, Polygon, Point\n",
    "grid_start_coor = []\n",
    "centeroid_grid = [[round(x.centroid.x,4), round(x.centroid.y,4)] for x in grid_data.geometry]\n",
    "centeroid_scale_grid = [[x.centroid.x, x.centroid.y] for x in grid_data.geometry]\n",
    "start_coor = [[round(x.startx,4), round(x.starty,4)] for x in data.itertuples()]\n",
    "end_coor = [[round(x.endx,4), round(x.endy,4)] for x in data.itertuples()]\n",
    "dataplot = pd.DataFrame(np.array(centeroid_scale_grid),columns=['x', 'y'])\n",
    "\n",
    "from sklearn.cluster import KMeans\n",
    "\n",
    "kmeans = KMeans(n_clusters = 150, max_iter=1000, init ='k-means++')\n",
    "\n",
    "lat_long = np.array(centeroid_scale_grid)\n",
    "lot_size = len(centeroid_scale_grid)\n",
    "weighted_kmeans_clusters = kmeans.fit(lat_long, sample_weight = lot_size) # Compute k-means clustering.\n",
    "c_group = kmeans.predict(lat_long, sample_weight = lot_size)\n",
    "\n",
    "start_c_group = []\n",
    "end_c_group = []\n",
    "\n",
    "for i in progressbar.progressbar(range(len(start_coor))):\n",
    "    start = 0\n",
    "    end = 0\n",
    "    for j in range(len(centeroid_grid)):\n",
    "        if start_coor[i][0] == centeroid_grid[j][0] and start_coor[i][1] == centeroid_grid[j][1]:\n",
    "            start_c_group.append(c_group[j])\n",
    "            start = 1\n",
    "        if end_coor[i][0] == centeroid_grid[j][0] and end_coor[i][1] == centeroid_grid[j][1]:\n",
    "            end_c_group.append(c_group[j])\n",
    "            end = 1\n",
    "        if start == 1 and end == 1:\n",
    "            break\n",
    "\n",
    "import matplotlib.pyplot as plt\n",
    "\n",
    "centers = kmeans.cluster_centers_ # Coordinates of cluster centers.\n",
    "labels = c_group # Labels of each point\n",
    "\n",
    "dataplot.plot.scatter(x = 'x', y = 'y', c=labels, s=50, cmap='viridis')\n",
    "# plt.scatter(centers[:, 0], centers[:, 1], c='black', s=200, alpha=0.5)\n",
    "plt.title('Clustering GPS Co-ordinates to Form Regions - Weighted',fontsize=10, fontweight='bold')"
   ]
  },
  {
   "cell_type": "code",
   "execution_count": 21,
   "metadata": {},
   "outputs": [],
   "source": [
    "start_cluster_group_np = np.asarray(start_c_group)\n",
    "start_cluster_group_np = start_cluster_group_np.reshape(len(start_c_group), 1)\n",
    "end_cluster_group_np = np.asarray(end_c_group)\n",
    "end_cluster_group_np = end_cluster_group_np.reshape(len(end_c_group), 1)\n",
    "cluster_group = np.concatenate((start_cluster_group_np, end_cluster_group_np), axis=1)\n",
    "np.savetxt(\"Data/cluster_group.csv\", cluster_group , delimiter='  ', comments='', fmt='%s') "
   ]
  },
  {
   "cell_type": "code",
   "execution_count": 27,
   "metadata": {},
   "outputs": [
    {
     "data": {
      "text/plain": [
       "array([[ 65, 138],\n",
       "       [ 65, 138],\n",
       "       [ 65, 138],\n",
       "       ...,\n",
       "       [ 62,   1],\n",
       "       [ 62,  62],\n",
       "       [ 62,  62]])"
      ]
     },
     "execution_count": 27,
     "metadata": {},
     "output_type": "execute_result"
    }
   ],
   "source": [
    "cluster_group"
   ]
  },
  {
   "cell_type": "code",
   "execution_count": 24,
   "metadata": {},
   "outputs": [
    {
     "name": "stderr",
     "output_type": "stream",
     "text": [
      "100% (459478 of 459478) |################| Elapsed Time: 2:13:10 Time:  2:13:10\n"
     ]
    }
   ],
   "source": [
    "from haversine import haversine\n",
    "import progressbar\n",
    "stop_data = pd.read_csv('Data/stops.csv')\n",
    "\n",
    "start_coor = [[x.startx, x.starty] for x in data.itertuples()]\n",
    "end_coor = [[x.endx, x.endy] for x in data.itertuples()]\n",
    "stop_coor = [[x.stop_lon, x.stop_lat] for x in stop_data.itertuples()]\n",
    "\n",
    "start_isnearbus_c = []\n",
    "end_isnearbus_c = []\n",
    "for i in progressbar.progressbar(range(len(start_coor))):\n",
    "    scount = 0\n",
    "    ecount = 0\n",
    "    for j in range(len(stop_coor)):\n",
    "        haver = haversine([start_coor[i][0], start_coor[i][1]], [stop_coor[j][0], stop_coor[j][1]])\n",
    "        if haver < 0.100 and scount == 0:\n",
    "#           start_haver_list.append([haver, j])\n",
    "            start_isnearbus_c.append(1)\n",
    "            scount = 1\n",
    "        haver = haversine([end_coor[i][0], end_coor[i][1]], [stop_coor[j][0], stop_coor[j][1]])\n",
    "        if haver < 0.100 and ecount == 0:\n",
    "#           end_haver_list.append([haver, j])\n",
    "            end_isnearbus_c.append(1)\n",
    "            ecount = 1\n",
    "        if scount == 1 and ecount == 1:\n",
    "            break\n",
    "    if scount == 0:\n",
    "        start_isnearbus_c.append(0)\n",
    "    if ecount == 0:\n",
    "        end_isnearbus_c.append(0)\n",
    "#     start_haver_list = np.asarray(start_haver_list)\n",
    "#     start_haver_list = start_haver_list.reshape(len(start_haver_list),2)\n",
    "#     end_haver_list = np.asarray(end_haver_list)\n",
    "#     end_haver_list = end_haver_list.reshape(len(end_haver_list),2)\n",
    "#     if len(start_haver_list) > 0 :\n",
    "#         start_isnearbus_c.append(start_haver_list[np.argmin(start_haver_list[:,0]), 1])\n",
    "#     else:\n",
    "#         start_isnearbus_c.append(-1)\n",
    "#     if len(end_haver_list) > 0 :\n",
    "#         end_isnearbus_c.append(end_haver_list[np.argmin(end_haver_list[:,0]), 1])\n",
    "#     else:\n",
    "#         end_isnearbus_c.append(-1)"
   ]
  },
  {
   "cell_type": "code",
   "execution_count": 27,
   "metadata": {},
   "outputs": [],
   "source": [
    "coor_data = data[['startx', 'starty', 'endx', 'endy']].to_numpy()\n",
    "# start_c_group = np.asarray(start_c_group)\n",
    "# start_c_group = start_c_group.reshape(len(start_c_group), 1)\n",
    "start_isnearbus_c_np = np.asarray(start_isnearbus_c)\n",
    "start_isnearbus_c_np = start_isnearbus_c_np.reshape(len(start_isnearbus_c), 1)\n",
    "end_isnearbus_c_np = np.asarray(end_isnearbus_c)\n",
    "end_isnearbus_c_np = end_isnearbus_c_np.reshape(len(end_isnearbus_c), 1)\n",
    "# coor_data = np.concatenate((coor_data, start_c_group), axis=1)\n",
    "# coor_data = np.concatenate((coor_data, start_isnearbus_c_np), axis=1)\n",
    "bus_stop = np.concatenate((start_isnearbus_c_np, end_isnearbus_c_np), axis=1)\n",
    "np.savetxt(\"Data/bus_stop.csv\", bus_stop , delimiter='  ', comments='', fmt='%s') "
   ]
  },
  {
   "cell_type": "code",
   "execution_count": 5,
   "metadata": {},
   "outputs": [
    {
     "data": {
      "text/plain": [
       "<matplotlib.collections.PathCollection at 0x7fa2eadad110>"
      ]
     },
     "execution_count": 5,
     "metadata": {},
     "output_type": "execute_result"
    },
    {
     "data": {
      "image/png": "[encoded data removed]",
      "text/plain": [
       "<Figure size 432x288 with 1 Axes>"
      ]
     },
     "metadata": {
      "needs_background": "light"
     },
     "output_type": "display_data"
    }
   ],
   "source": [
    "from haversine import haversine\n",
    "import progressbar\n",
    "stop_data = pd.read_csv('Data/stops.csv')\n",
    "\n",
    "import matplotlib.pyplot as plt\n",
    "plt.scatter(stop_data['stop_lon'], stop_data['stop_lat'], color='r', s= 1)"
   ]
  },
  {
   "cell_type": "code",
   "execution_count": 65,
   "metadata": {},
   "outputs": [],
   "source": [
    "from haversine import haversine\n",
    "import progressbar\n",
    "Scooter_trip_segments = gpd.read_file('Data/Scooter_trip_segments.shp')\n",
    "# Scooter_trip_segments = Scooter_trip_segments.dropna()\n",
    "trips_point = [[x.centroid.x, x.centroid.y] for x in Scooter_trip_segments['geometry']]\n",
    "\n",
    "trips_point = np.array(trips_point)"
   ]
  },
  {
   "cell_type": "code",
   "execution_count": 66,
   "metadata": {},
   "outputs": [
    {
     "data": {
      "text/plain": [
       "<matplotlib.collections.PathCollection at 0x7fa2d125fc90>"
      ]
     },
     "execution_count": 66,
     "metadata": {},
     "output_type": "execute_result"
    },
    {
     "data": {
      "image/png": "[encoded data removed]",
      "text/plain": [
       "<Figure size 432x288 with 1 Axes>"
      ]
     },
     "metadata": {
      "needs_background": "light"
     },
     "output_type": "display_data"
    }
   ],
   "source": [
    "import matplotlib.pyplot as plt\n",
    "plt.scatter(trips_point[:,0], trips_point[:,1], color='r', s= 1)"
   ]
  },
  {
   "cell_type": "code",
   "execution_count": 64,
   "metadata": {},
   "outputs": [
    {
     "data": {
      "text/html": [
       "<div>\n",
       "<style scoped>\n",
       "    .dataframe tbody tr th:only-of-type {\n",
       "        vertical-align: middle;\n",
       "    }\n",
       "\n",
       "    .dataframe tbody tr th {\n",
       "        vertical-align: top;\n",
       "    }\n",
       "\n",
       "    .dataframe thead th {\n",
       "        text-align: right;\n",
       "    }\n",
       "</style>\n",
       "<table border=\"1\" class=\"dataframe\">\n",
       "  <thead>\n",
       "    <tr style=\"text-align: right;\">\n",
       "      <th></th>\n",
       "      <th>frequency</th>\n",
       "      <th>full_name</th>\n",
       "      <th>int1000</th>\n",
       "      <th>int500</th>\n",
       "      <th>segment_id</th>\n",
       "      <th>geometry</th>\n",
       "    </tr>\n",
       "  </thead>\n",
       "  <tbody>\n",
       "    <tr>\n",
       "      <th>0</th>\n",
       "      <td>3108.0</td>\n",
       "      <td>1 ST SE</td>\n",
       "      <td>3k-4k</td>\n",
       "      <td>3000+</td>\n",
       "      <td>17331.0</td>\n",
       "      <td>POLYGON ((-114.06060 51.04277, -114.06060 51.0...</td>\n",
       "    </tr>\n",
       "    <tr>\n",
       "      <th>1</th>\n",
       "      <td>1948.0</td>\n",
       "      <td>5 AV SE</td>\n",
       "      <td>1k-2k</td>\n",
       "      <td>1500-2000</td>\n",
       "      <td>17316.0</td>\n",
       "      <td>POLYGON ((-114.06070 51.04844, -114.06070 51.0...</td>\n",
       "    </tr>\n",
       "    <tr>\n",
       "      <th>2</th>\n",
       "      <td>2011.0</td>\n",
       "      <td>6 AV SW</td>\n",
       "      <td>2k-3k</td>\n",
       "      <td>2000-2500</td>\n",
       "      <td>17306.0</td>\n",
       "      <td>POLYGON ((-114.06570 51.04765, -114.06570 51.0...</td>\n",
       "    </tr>\n",
       "    <tr>\n",
       "      <th>3</th>\n",
       "      <td>57.0</td>\n",
       "      <td>BOWNESS RD NW</td>\n",
       "      <td>0-1k</td>\n",
       "      <td>0-500</td>\n",
       "      <td>19983.0</td>\n",
       "      <td>POLYGON ((-114.17313 51.08092, -114.17313 51.0...</td>\n",
       "    </tr>\n",
       "    <tr>\n",
       "      <th>4</th>\n",
       "      <td>133.0</td>\n",
       "      <td>10 ST NW</td>\n",
       "      <td>0-1k</td>\n",
       "      <td>0-500</td>\n",
       "      <td>19982.0</td>\n",
       "      <td>POLYGON ((-114.08440 51.07344, -114.08475 51.0...</td>\n",
       "    </tr>\n",
       "    <tr>\n",
       "      <th>...</th>\n",
       "      <td>...</td>\n",
       "      <td>...</td>\n",
       "      <td>...</td>\n",
       "      <td>...</td>\n",
       "      <td>...</td>\n",
       "      <td>...</td>\n",
       "    </tr>\n",
       "    <tr>\n",
       "      <th>26079</th>\n",
       "      <td>1.0</td>\n",
       "      <td>53 ST NE</td>\n",
       "      <td>0-1k</td>\n",
       "      <td>0-500</td>\n",
       "      <td>49759.0</td>\n",
       "      <td>POLYGON ((-113.95568 51.09094, -113.95586 51.0...</td>\n",
       "    </tr>\n",
       "    <tr>\n",
       "      <th>26080</th>\n",
       "      <td>50.0</td>\n",
       "      <td>20 ST SW</td>\n",
       "      <td>0-1k</td>\n",
       "      <td>0-500</td>\n",
       "      <td>48899.0</td>\n",
       "      <td>POLYGON ((-114.10903 51.00161, -114.10937 51.0...</td>\n",
       "    </tr>\n",
       "    <tr>\n",
       "      <th>26081</th>\n",
       "      <td>7.0</td>\n",
       "      <td>LISSINGTON DR SW</td>\n",
       "      <td>0-1k</td>\n",
       "      <td>0-500</td>\n",
       "      <td>48896.0</td>\n",
       "      <td>POLYGON ((-114.11472 51.00454, -114.11475 51.0...</td>\n",
       "    </tr>\n",
       "    <tr>\n",
       "      <th>26082</th>\n",
       "      <td>7.0</td>\n",
       "      <td>CHILCOTIN RD NW</td>\n",
       "      <td>0-1k</td>\n",
       "      <td>0-500</td>\n",
       "      <td>48844.0</td>\n",
       "      <td>POLYGON ((-114.11456 51.08825, -114.11470 51.0...</td>\n",
       "    </tr>\n",
       "    <tr>\n",
       "      <th>26083</th>\n",
       "      <td>2.0</td>\n",
       "      <td>CAWDER DR NW</td>\n",
       "      <td>0-1k</td>\n",
       "      <td>0-500</td>\n",
       "      <td>48808.0</td>\n",
       "      <td>POLYGON ((-114.09613 51.08554, -114.09636 51.0...</td>\n",
       "    </tr>\n",
       "  </tbody>\n",
       "</table>\n",
       "<p>26058 rows × 6 columns</p>\n",
       "</div>"
      ],
      "text/plain": [
       "       frequency         full_name int1000     int500  segment_id  \\\n",
       "0         3108.0           1 ST SE   3k-4k      3000+     17331.0   \n",
       "1         1948.0           5 AV SE   1k-2k  1500-2000     17316.0   \n",
       "2         2011.0           6 AV SW   2k-3k  2000-2500     17306.0   \n",
       "3           57.0     BOWNESS RD NW    0-1k      0-500     19983.0   \n",
       "4          133.0          10 ST NW    0-1k      0-500     19982.0   \n",
       "...          ...               ...     ...        ...         ...   \n",
       "26079        1.0          53 ST NE    0-1k      0-500     49759.0   \n",
       "26080       50.0          20 ST SW    0-1k      0-500     48899.0   \n",
       "26081        7.0  LISSINGTON DR SW    0-1k      0-500     48896.0   \n",
       "26082        7.0   CHILCOTIN RD NW    0-1k      0-500     48844.0   \n",
       "26083        2.0      CAWDER DR NW    0-1k      0-500     48808.0   \n",
       "\n",
       "                                                geometry  \n",
       "0      POLYGON ((-114.06060 51.04277, -114.06060 51.0...  \n",
       "1      POLYGON ((-114.06070 51.04844, -114.06070 51.0...  \n",
       "2      POLYGON ((-114.06570 51.04765, -114.06570 51.0...  \n",
       "3      POLYGON ((-114.17313 51.08092, -114.17313 51.0...  \n",
       "4      POLYGON ((-114.08440 51.07344, -114.08475 51.0...  \n",
       "...                                                  ...  \n",
       "26079  POLYGON ((-113.95568 51.09094, -113.95586 51.0...  \n",
       "26080  POLYGON ((-114.10903 51.00161, -114.10937 51.0...  \n",
       "26081  POLYGON ((-114.11472 51.00454, -114.11475 51.0...  \n",
       "26082  POLYGON ((-114.11456 51.08825, -114.11470 51.0...  \n",
       "26083  POLYGON ((-114.09613 51.08554, -114.09636 51.0...  \n",
       "\n",
       "[26058 rows x 6 columns]"
      ]
     },
     "execution_count": 64,
     "metadata": {},
     "output_type": "execute_result"
    }
   ],
   "source": [
    "Scooter_trip_segments"
   ]
  },
  {
   "cell_type": "code",
   "execution_count": null,
   "metadata": {},
   "outputs": [],
   "source": []
  }
 ],
 "metadata": {
  "kernelspec": {
   "display_name": "Python 3",
   "language": "python",
   "name": "python3"
  },
  "language_info": {
   "codemirror_mode": {
    "name": "ipython",
    "version": 3
   },
   "file_extension": ".py",
   "mimetype": "text/x-python",
   "name": "python",
   "nbconvert_exporter": "python",
   "pygments_lexer": "ipython3",
   "version": "3.7.9"
  }
 },
 "nbformat": 4,
 "nbformat_minor": 4
}
